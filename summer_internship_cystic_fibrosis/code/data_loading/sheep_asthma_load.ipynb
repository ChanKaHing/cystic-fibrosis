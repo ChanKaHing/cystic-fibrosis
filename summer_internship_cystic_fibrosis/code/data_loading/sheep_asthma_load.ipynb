{
 "cells": [
  {
   "cell_type": "markdown",
   "metadata": {},
   "source": [
    "## Sheep Asthma Study Data Loading & Preprocessing"
   ]
  },
  {
   "cell_type": "markdown",
   "metadata": {},
   "source": [
    "The script is designed to handle the preprocessing of data in the Sheep Asthma Study. Its primary purpose is to reorganize the data format for improved usability, without removing any data.\n",
    "\n",
    "This script will only get the data needed and process them in the data folder."
   ]
  },
  {
   "cell_type": "code",
   "execution_count": 1,
   "metadata": {},
   "outputs": [],
   "source": [
    "import data_loading\n",
    "import os\n",
    "import pandas as pd\n",
    "\n",
    "# the path of the raw dataset folder\n",
    "source_folder = \"../../../University of Adelaide/Sheep Asthma Study/\"\n",
    "\n",
    "# the path of the destination dataset folder\n",
    "destination_folder = \"../../data/Sleep Asthma/\"\n",
    "\n",
    "# create destination folder if not exists\n",
    "os.makedirs(destination_folder, exist_ok=True)"
   ]
  },
  {
   "cell_type": "markdown",
   "metadata": {},
   "source": [
    "## 1. Generating report summary"
   ]
  },
  {
   "cell_type": "markdown",
   "metadata": {},
   "source": [
    "We will firstly get the summary of the dataset in one spreadsheet, which includes all the data from the study and the 6 parameters (VDP, MSV, TV, VH, VHSS, VHLS).\n",
    "\n",
    "We will do that by scraping the data from the reports.\n",
    "\n",
    "Also, we will add the column `FileName` of that animal to extract additional data."
   ]
  },
  {
   "cell_type": "code",
   "execution_count": 2,
   "metadata": {},
   "outputs": [
    {
     "data": {
      "text/html": [
       "<div>\n",
       "<style scoped>\n",
       "    .dataframe tbody tr th:only-of-type {\n",
       "        vertical-align: middle;\n",
       "    }\n",
       "\n",
       "    .dataframe tbody tr th {\n",
       "        vertical-align: top;\n",
       "    }\n",
       "\n",
       "    .dataframe thead th {\n",
       "        text-align: right;\n",
       "    }\n",
       "</style>\n",
       "<table border=\"1\" class=\"dataframe\">\n",
       "  <thead>\n",
       "    <tr style=\"text-align: right;\">\n",
       "      <th></th>\n",
       "      <th>ScanName</th>\n",
       "      <th>DatePrepared</th>\n",
       "      <th>VDP(%)</th>\n",
       "      <th>MSV(mL/mL)</th>\n",
       "      <th>TV(L)</th>\n",
       "      <th>VH(%)</th>\n",
       "      <th>VHSS(%)</th>\n",
       "      <th>VHLS(%)</th>\n",
       "      <th>FileName</th>\n",
       "    </tr>\n",
       "  </thead>\n",
       "  <tbody>\n",
       "    <tr>\n",
       "      <th>0</th>\n",
       "      <td>KG_55_A</td>\n",
       "      <td>2021-03-22-17:05:57.713915</td>\n",
       "      <td>21.4</td>\n",
       "      <td>0.12</td>\n",
       "      <td>285.918</td>\n",
       "      <td>68.44</td>\n",
       "      <td>37.68</td>\n",
       "      <td>36.43</td>\n",
       "      <td>KG_55_A.ventilationReport.pdf</td>\n",
       "    </tr>\n",
       "    <tr>\n",
       "      <th>1</th>\n",
       "      <td>KG_14_B</td>\n",
       "      <td>2021-03-17-19:05:11.346516</td>\n",
       "      <td>20.0</td>\n",
       "      <td>0.12</td>\n",
       "      <td>302.865</td>\n",
       "      <td>70.81</td>\n",
       "      <td>40.26</td>\n",
       "      <td>48.16</td>\n",
       "      <td>KG_14_B.ventilationReport.pdf</td>\n",
       "    </tr>\n",
       "    <tr>\n",
       "      <th>2</th>\n",
       "      <td>KG_27_B</td>\n",
       "      <td>2021-03-17-19:04:47.532855</td>\n",
       "      <td>14.6</td>\n",
       "      <td>0.13</td>\n",
       "      <td>386.701</td>\n",
       "      <td>49.58</td>\n",
       "      <td>31.02</td>\n",
       "      <td>29.53</td>\n",
       "      <td>KG_27_B.ventilationReport.pdf</td>\n",
       "    </tr>\n",
       "    <tr>\n",
       "      <th>3</th>\n",
       "      <td>KG_01_A</td>\n",
       "      <td>2021-03-17-19:03:38.319948</td>\n",
       "      <td>21.5</td>\n",
       "      <td>0.15</td>\n",
       "      <td>253.233</td>\n",
       "      <td>71.34</td>\n",
       "      <td>33.05</td>\n",
       "      <td>39.59</td>\n",
       "      <td>KG_01_A.ventilationReport.pdf</td>\n",
       "    </tr>\n",
       "    <tr>\n",
       "      <th>4</th>\n",
       "      <td>KG_56_A</td>\n",
       "      <td>2021-03-22-17:07:06.870849</td>\n",
       "      <td>24.8</td>\n",
       "      <td>0.13</td>\n",
       "      <td>358.385</td>\n",
       "      <td>87.73</td>\n",
       "      <td>43.84</td>\n",
       "      <td>60.38</td>\n",
       "      <td>KG_56_A.ventilationReport.pdf</td>\n",
       "    </tr>\n",
       "  </tbody>\n",
       "</table>\n",
       "</div>"
      ],
      "text/plain": [
       "  ScanName                DatePrepared  VDP(%)  MSV(mL/mL)    TV(L)  VH(%)  \\\n",
       "0  KG_55_A  2021-03-22-17:05:57.713915    21.4        0.12  285.918  68.44   \n",
       "1  KG_14_B  2021-03-17-19:05:11.346516    20.0        0.12  302.865  70.81   \n",
       "2  KG_27_B  2021-03-17-19:04:47.532855    14.6        0.13  386.701  49.58   \n",
       "3  KG_01_A  2021-03-17-19:03:38.319948    21.5        0.15  253.233  71.34   \n",
       "4  KG_56_A  2021-03-22-17:07:06.870849    24.8        0.13  358.385  87.73   \n",
       "\n",
       "   VHSS(%)  VHLS(%)                       FileName  \n",
       "0    37.68    36.43  KG_55_A.ventilationReport.pdf  \n",
       "1    40.26    48.16  KG_14_B.ventilationReport.pdf  \n",
       "2    31.02    29.53  KG_27_B.ventilationReport.pdf  \n",
       "3    33.05    39.59  KG_01_A.ventilationReport.pdf  \n",
       "4    43.84    60.38  KG_56_A.ventilationReport.pdf  "
      ]
     },
     "execution_count": 2,
     "metadata": {},
     "output_type": "execute_result"
    }
   ],
   "source": [
    "df = data_loading.create_report_summary(source_folder+\"Asthma/Output/XV reports/\")\n",
    "df[:5]"
   ]
  },
  {
   "cell_type": "markdown",
   "metadata": {},
   "source": [
    "Now we will rename the file name, and extract another column `State`, which will contain `Pre` or `Post`."
   ]
  },
  {
   "cell_type": "code",
   "execution_count": 3,
   "metadata": {},
   "outputs": [],
   "source": [
    "#rename scan name\n",
    "new_scan_name = []\n",
    "for scan_name in df.ScanName:\n",
    "    if len(scan_name) == 7:\n",
    "        new_scan_name.append(scan_name[:5])\n",
    "    else:\n",
    "        if len(scan_name.split(\"-\")) >=2:\n",
    "            if len(scan_name.split(\"-\")[-2].split(\"_\")) == 2:\n",
    "                new_scan_name.append(scan_name.split(\"-\")[-2])\n",
    "            else:\n",
    "                t = scan_name.split(\"-\")[-2].split(\"_\")\n",
    "                new_scan_name.append(t[-2]+\"_\"+t[-1])\n",
    "        else:\n",
    "            new_scan_name.append(\"N/A\")\n",
    "df.ScanName = new_scan_name\n",
    "\n",
    "\n",
    "#add state\n",
    "state = []\n",
    "for file in df.FileName:\n",
    "    if \"POST\" in file:\n",
    "        state.append(\"Post\")\n",
    "    elif \"PRE\" in file:\n",
    "        state.append(\"Pre\")\n",
    "    elif \"A\" in file:\n",
    "        state.append(\"Pre\")\n",
    "    elif \"B\" in file:\n",
    "        state.append(\"Post\")\n",
    "\n",
    "df[\"State\"] = state"
   ]
  },
  {
   "cell_type": "markdown",
   "metadata": {},
   "source": [
    "We will drop the column `FileName`, and save this Dataframe as a csv file and store it in the data folder"
   ]
  },
  {
   "cell_type": "code",
   "execution_count": 4,
   "metadata": {},
   "outputs": [],
   "source": [
    "df = df.drop('FileName', axis=1)\n",
    "df.to_csv(destination_folder+\"report_summary.csv\", index=False)"
   ]
  },
  {
   "cell_type": "markdown",
   "metadata": {},
   "source": [
    "### 2. Updating from metadata"
   ]
  },
  {
   "cell_type": "markdown",
   "metadata": {},
   "source": [
    "We will now update the report summary with the new information from the `sheep_ids_types.csv` (Challenge, U/S pregnancy, Weight)"
   ]
  },
  {
   "cell_type": "code",
   "execution_count": 5,
   "metadata": {},
   "outputs": [],
   "source": [
    "# create dict from sheep ids types csv file\n",
    "df = pd.read_csv(source_folder+\"sheep_ids_types.csv\")\n",
    "sheeps = {}\n",
    "for i, id in enumerate(df.ID):\n",
    "    sheep_dict = {}\n",
    "    sheep_dict[\"Challenge\"] = df[\"Challenge\"][i]\n",
    "    sheep_dict[\"U/S pregnancy\"] = df[\"U/S pregnancy\"][i]\n",
    "    sheep_dict[\"Weight (kg)\"] = df[\"Weight (kg)\"][i]\n",
    "    sheeps[id] = sheep_dict\n",
    "\n",
    "\n",
    "# add new info to report summary\n",
    "df = pd.read_csv(destination_folder+\"report_summary.csv\")\n",
    "df.head()\n",
    "challenge = []\n",
    "pregnancy = []\n",
    "weight = []\n",
    "for id in df[\"ScanName\"]:\n",
    "    challenge.append(sheeps[id][\"Challenge\"])\n",
    "    pregnancy.append(sheeps[id][\"U/S pregnancy\"])\n",
    "    weight.append(sheeps[id][\"Weight (kg)\"])\n",
    "\n",
    "df[\"Challenge\"] = challenge\n",
    "df[\"Pregnancy\"] = pregnancy\n",
    "df[\"Weight (kg)\"] = weight\n",
    "\n",
    "#save csv\n",
    "df.to_csv(destination_folder+\"report_summary.csv\", index=False)"
   ]
  },
  {
   "cell_type": "markdown",
   "metadata": {},
   "source": [
    "### 3. Copying all csv data"
   ]
  },
  {
   "cell_type": "markdown",
   "metadata": {},
   "source": [
    "Now we will copy the folder containing all the csv data to the destination folder"
   ]
  },
  {
   "cell_type": "code",
   "execution_count": 6,
   "metadata": {},
   "outputs": [
    {
     "name": "stdout",
     "output_type": "stream",
     "text": [
      "Folder '../../../University of Adelaide/Sheep Asthma Study/Asthma/Output/Specific Ventilation' successfully copied to '../../data/Sleep Asthma/Specific Ventilation'.\n"
     ]
    }
   ],
   "source": [
    "data_loading.copy_folder(source_folder+\"Asthma/Output/Specific Ventilation\", destination_folder+\"Specific Ventilation\")"
   ]
  }
 ],
 "metadata": {
  "kernelspec": {
   "display_name": "Python 3",
   "language": "python",
   "name": "python3"
  },
  "language_info": {
   "codemirror_mode": {
    "name": "ipython",
    "version": 3
   },
   "file_extension": ".py",
   "mimetype": "text/x-python",
   "name": "python",
   "nbconvert_exporter": "python",
   "pygments_lexer": "ipython3",
   "version": "3.11.0"
  }
 },
 "nbformat": 4,
 "nbformat_minor": 2
}
