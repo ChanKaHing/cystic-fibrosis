{
 "cells": [
  {
   "cell_type": "markdown",
   "metadata": {},
   "source": [
    "## Mouse MPS Study Data Loading & Preprocessing"
   ]
  },
  {
   "cell_type": "markdown",
   "metadata": {},
   "source": [
    "The script is designed to handle the preprocessing of data in the Mouse MPS Study. Its primary purpose is to reorganize the data format for improved usability, without removing any data.\n",
    "\n",
    "This script will only get the data needed and process them in the data folder."
   ]
  },
  {
   "cell_type": "code",
   "execution_count": 1,
   "metadata": {},
   "outputs": [],
   "source": [
    "import data_loading\n",
    "import os\n",
    "import pandas as pd\n",
    "\n",
    "# the path of the raw dataset folder\n",
    "source_folder = \"../../../University of Adelaide/Mouse MPS Study/\"\n",
    "\n",
    "# the path of the destination dataset folder\n",
    "destination_folder = \"../../data/Mouse MPS Study/\"\n",
    "\n",
    "# create destination folder if not exists\n",
    "os.makedirs(destination_folder, exist_ok=True)"
   ]
  },
  {
   "cell_type": "markdown",
   "metadata": {},
   "source": [
    "### 1. Generating report summary"
   ]
  },
  {
   "cell_type": "markdown",
   "metadata": {},
   "source": [
    "We will firstly get the summary of the dataset in one spreadsheet, which includes all the data from the study and the 6 parameters (VDP, MSV, TV, VH, VHSS, VHLS).\n",
    "\n",
    "We will do that by scraping the data from the reports.\n",
    "\n",
    "Also, we will add the column `FileName` of that animal to extract additional data."
   ]
  },
  {
   "cell_type": "code",
   "execution_count": 2,
   "metadata": {},
   "outputs": [
    {
     "data": {
      "text/html": [
       "<div>\n",
       "<style scoped>\n",
       "    .dataframe tbody tr th:only-of-type {\n",
       "        vertical-align: middle;\n",
       "    }\n",
       "\n",
       "    .dataframe tbody tr th {\n",
       "        vertical-align: top;\n",
       "    }\n",
       "\n",
       "    .dataframe thead th {\n",
       "        text-align: right;\n",
       "    }\n",
       "</style>\n",
       "<table border=\"1\" class=\"dataframe\">\n",
       "  <thead>\n",
       "    <tr style=\"text-align: right;\">\n",
       "      <th></th>\n",
       "      <th>ScanName</th>\n",
       "      <th>DatePrepared</th>\n",
       "      <th>VDP(%)</th>\n",
       "      <th>MSV(mL/mL)</th>\n",
       "      <th>TV(L)</th>\n",
       "      <th>VH(%)</th>\n",
       "      <th>VHSS(%)</th>\n",
       "      <th>VHLS(%)</th>\n",
       "      <th>FileName</th>\n",
       "    </tr>\n",
       "  </thead>\n",
       "  <tbody>\n",
       "    <tr>\n",
       "      <th>0</th>\n",
       "      <td>474</td>\n",
       "      <td>2023-02-08-22:46:57.616572</td>\n",
       "      <td>10.5</td>\n",
       "      <td>0.32</td>\n",
       "      <td>0.144</td>\n",
       "      <td>38.94</td>\n",
       "      <td>14.35</td>\n",
       "      <td>29.99</td>\n",
       "      <td>474.ventilationReport.pdf</td>\n",
       "    </tr>\n",
       "    <tr>\n",
       "      <th>1</th>\n",
       "      <td>479</td>\n",
       "      <td>2023-02-08-22:10:00.609384</td>\n",
       "      <td>11.2</td>\n",
       "      <td>0.36</td>\n",
       "      <td>0.157</td>\n",
       "      <td>40.55</td>\n",
       "      <td>18.53</td>\n",
       "      <td>24.87</td>\n",
       "      <td>479.ventilationReport.pdf</td>\n",
       "    </tr>\n",
       "    <tr>\n",
       "      <th>2</th>\n",
       "      <td>448</td>\n",
       "      <td>2023-02-01-02:38:00.518173</td>\n",
       "      <td>11.2</td>\n",
       "      <td>0.34</td>\n",
       "      <td>0.163</td>\n",
       "      <td>40.40</td>\n",
       "      <td>16.35</td>\n",
       "      <td>26.45</td>\n",
       "      <td>448.ventilationReport.pdf</td>\n",
       "    </tr>\n",
       "    <tr>\n",
       "      <th>3</th>\n",
       "      <td>415</td>\n",
       "      <td>2023-01-19-22:53:53.501797</td>\n",
       "      <td>10.5</td>\n",
       "      <td>0.38</td>\n",
       "      <td>0.196</td>\n",
       "      <td>32.83</td>\n",
       "      <td>14.64</td>\n",
       "      <td>21.68</td>\n",
       "      <td>415.ventilationReport.pdf</td>\n",
       "    </tr>\n",
       "    <tr>\n",
       "      <th>4</th>\n",
       "      <td>496</td>\n",
       "      <td>2023-02-06-22:50:55.357456</td>\n",
       "      <td>12.1</td>\n",
       "      <td>0.34</td>\n",
       "      <td>0.155</td>\n",
       "      <td>41.64</td>\n",
       "      <td>16.84</td>\n",
       "      <td>29.73</td>\n",
       "      <td>496.ventilationReport.pdf</td>\n",
       "    </tr>\n",
       "  </tbody>\n",
       "</table>\n",
       "</div>"
      ],
      "text/plain": [
       "  ScanName                DatePrepared  VDP(%)  MSV(mL/mL)  TV(L)  VH(%)  \\\n",
       "0      474  2023-02-08-22:46:57.616572    10.5        0.32  0.144  38.94   \n",
       "1      479  2023-02-08-22:10:00.609384    11.2        0.36  0.157  40.55   \n",
       "2      448  2023-02-01-02:38:00.518173    11.2        0.34  0.163  40.40   \n",
       "3      415  2023-01-19-22:53:53.501797    10.5        0.38  0.196  32.83   \n",
       "4      496  2023-02-06-22:50:55.357456    12.1        0.34  0.155  41.64   \n",
       "\n",
       "   VHSS(%)  VHLS(%)                   FileName  \n",
       "0    14.35    29.99  474.ventilationReport.pdf  \n",
       "1    18.53    24.87  479.ventilationReport.pdf  \n",
       "2    16.35    26.45  448.ventilationReport.pdf  \n",
       "3    14.64    21.68  415.ventilationReport.pdf  \n",
       "4    16.84    29.73  496.ventilationReport.pdf  "
      ]
     },
     "execution_count": 2,
     "metadata": {},
     "output_type": "execute_result"
    }
   ],
   "source": [
    "df = data_loading.create_report_summary(source_folder+\"PDF_reports/\")\n",
    "df[:5]"
   ]
  },
  {
   "cell_type": "markdown",
   "metadata": {},
   "source": [
    "Now we will add a column `Genotype` according to `genotypes.csv`"
   ]
  },
  {
   "cell_type": "code",
   "execution_count": 3,
   "metadata": {},
   "outputs": [],
   "source": [
    "genotypes_df = pd.read_csv(source_folder+\"genotypes.csv\")\n",
    "genotypes = [genotypes_df[genotypes_df.Rat_ID==int(id)][\"Genotype\"].iloc[0] for id in df.ScanName]\n",
    "df[\"Genotype\"] = genotypes"
   ]
  },
  {
   "cell_type": "markdown",
   "metadata": {},
   "source": [
    "Because `Het` in this study will be treated the same as `WT`, we will replace the values accordingly"
   ]
  },
  {
   "cell_type": "code",
   "execution_count": 4,
   "metadata": {},
   "outputs": [],
   "source": [
    "df['Genotype'] = df['Genotype'].replace('Het', 'WT')"
   ]
  },
  {
   "cell_type": "markdown",
   "metadata": {},
   "source": [
    "We will drop the column `FileName`, and save this Dataframe as a csv file and store it in the data folder"
   ]
  },
  {
   "cell_type": "code",
   "execution_count": 5,
   "metadata": {},
   "outputs": [],
   "source": [
    "df = df.drop('FileName', axis=1)\n",
    "df.to_csv(destination_folder+\"report_summary.csv\", index=False)"
   ]
  },
  {
   "cell_type": "markdown",
   "metadata": {},
   "source": [
    "### 2. Copying 3D csv files"
   ]
  },
  {
   "cell_type": "markdown",
   "metadata": {},
   "source": [
    "Now we will move all the csv data from the raw dataset to the destination dataset as well"
   ]
  },
  {
   "cell_type": "code",
   "execution_count": 6,
   "metadata": {},
   "outputs": [],
   "source": [
    "data_loading.copy_3d_csvs(source_folder+\"csv/\", destination_folder+\"csv/\")"
   ]
  }
 ],
 "metadata": {
  "kernelspec": {
   "display_name": "Python 3",
   "language": "python",
   "name": "python3"
  },
  "language_info": {
   "codemirror_mode": {
    "name": "ipython",
    "version": 3
   },
   "file_extension": ".py",
   "mimetype": "text/x-python",
   "name": "python",
   "nbconvert_exporter": "python",
   "pygments_lexer": "ipython3",
   "version": "3.11.0"
  }
 },
 "nbformat": 4,
 "nbformat_minor": 2
}
