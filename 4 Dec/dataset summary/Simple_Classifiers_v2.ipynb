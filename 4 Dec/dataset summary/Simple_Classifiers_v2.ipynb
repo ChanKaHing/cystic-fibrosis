{
 "cells": [
  {
   "cell_type": "code",
   "execution_count": 1,
   "id": "6af420d8",
   "metadata": {},
   "outputs": [],
   "source": [
    "import matplotlib.pyplot as plt\n",
    "import numpy as np\n",
    "import pandas as pd\n",
    "from sklearn.model_selection import train_test_split\n",
    "from sklearn.pipeline import Pipeline\n",
    "from sklearn.impute import SimpleImputer\n",
    "from sklearn.preprocessing import StandardScaler\n",
    "from sklearn.metrics import accuracy_score\n",
    "from sklearn.svm import SVC"
   ]
  },
  {
   "cell_type": "code",
   "execution_count": 2,
   "id": "e3aa8058",
   "metadata": {
    "scrolled": true
   },
   "outputs": [
    {
     "data": {
      "text/plain": [
       "(28, 8)"
      ]
     },
     "execution_count": 2,
     "metadata": {},
     "output_type": "execute_result"
    }
   ],
   "source": [
    "df_mouse_b_enac = pd.read_csv('mouse_b_enac_summary_new.csv')\n",
    "df_mouse_b_enac = df_mouse_b_enac.drop('Genotype', axis=1)\n",
    "df_mouse_b_enac.shape"
   ]
  },
  {
   "cell_type": "code",
   "execution_count": 3,
   "id": "a6cd4f6d",
   "metadata": {},
   "outputs": [
    {
     "data": {
      "text/plain": [
       "(33, 8)"
      ]
     },
     "execution_count": 3,
     "metadata": {},
     "output_type": "execute_result"
    }
   ],
   "source": [
    "# One more column for genotype\n",
    "df_mouse_mps = pd.read_csv('mouse_mps_summary.csv')\n",
    "df_mouse_mps = df_mouse_mps.drop('Genotype', axis=1)\n",
    "df_mouse_mps.shape"
   ]
  },
  {
   "cell_type": "code",
   "execution_count": 4,
   "id": "28fd8bc7",
   "metadata": {},
   "outputs": [
    {
     "data": {
      "text/plain": [
       "(83, 8)"
      ]
     },
     "execution_count": 4,
     "metadata": {},
     "output_type": "execute_result"
    }
   ],
   "source": [
    "df_rat_pa = pd.read_csv('rat_pa_summary.csv')\n",
    "df_rat_pa = df_rat_pa.drop('Genotype', axis=1)\n",
    "df_rat_pa.shape"
   ]
  },
  {
   "cell_type": "code",
   "execution_count": 5,
   "id": "9286d046",
   "metadata": {},
   "outputs": [
    {
     "data": {
      "text/plain": [
       "(51, 8)"
      ]
     },
     "execution_count": 5,
     "metadata": {},
     "output_type": "execute_result"
    }
   ],
   "source": [
    "df_rat_sterile_baseline = pd.read_csv('rat_sterile_baseline_summary.csv')\n",
    "df_rat_sterile_baseline.shape"
   ]
  },
  {
   "cell_type": "code",
   "execution_count": 6,
   "id": "ec3915fe",
   "metadata": {},
   "outputs": [
    {
     "data": {
      "text/plain": [
       "(53, 8)"
      ]
     },
     "execution_count": 6,
     "metadata": {},
     "output_type": "execute_result"
    }
   ],
   "source": [
    "df_rat_sterile_post_beads = pd.read_csv('rat_sterile_post_beads_summary.csv')\n",
    "df_rat_sterile_post_beads.shape"
   ]
  },
  {
   "cell_type": "code",
   "execution_count": 7,
   "id": "3e5ef843",
   "metadata": {},
   "outputs": [
    {
     "data": {
      "text/plain": [
       "(62, 8)"
      ]
     },
     "execution_count": 7,
     "metadata": {},
     "output_type": "execute_result"
    }
   ],
   "source": [
    "df_sheep_01_60 = pd.read_csv('sheep_01_60_summary.csv')\n",
    "df_sheep_01_60.shape"
   ]
  },
  {
   "cell_type": "markdown",
   "id": "7f04fe1b",
   "metadata": {},
   "source": [
    "# SVM"
   ]
  },
  {
   "cell_type": "markdown",
   "id": "5b137a16",
   "metadata": {},
   "source": [
    "# Rat bead study (baseline vs post beads)"
   ]
  },
  {
   "cell_type": "code",
   "execution_count": 30,
   "id": "96bea762",
   "metadata": {},
   "outputs": [],
   "source": [
    "df_rat_sterile_baseline['target'] = 'baseline'\n",
    "df_rat_sterile_post_beads['target'] = 'post_beads'\n",
    "df_rat_combine = pd.concat([df_rat_sterile_baseline, df_rat_sterile_post_beads], ignore_index=True)"
   ]
  },
  {
   "cell_type": "code",
   "execution_count": 31,
   "id": "26210892",
   "metadata": {},
   "outputs": [
    {
     "data": {
      "text/plain": [
       "(104, 4)"
      ]
     },
     "execution_count": 31,
     "metadata": {},
     "output_type": "execute_result"
    }
   ],
   "source": [
    "def features(df):\n",
    "    df = df.drop('ScanName', axis=1)\n",
    "    df = df.drop('Date Prepared', axis=1)\n",
    "    df = df.drop('VDP(%)', axis=1)\n",
    "    df = df.drop('VHSS(%)', axis=1)\n",
    "    df = df.drop('VHLS(%)', axis=1)\n",
    "    if 'Genotype' in df.columns:\n",
    "        df['target'] = df['Genotype']   # copy 'Genotype' column at the end with coolumn name target\n",
    "        df = df.drop(columns=['Genotype']) # remove 'Genotype' column\n",
    "    return df\n",
    "\n",
    "df_rat_combine = features(df_rat_combine) \n",
    "df_rat_combine.shape"
   ]
  },
  {
   "cell_type": "code",
   "execution_count": 32,
   "id": "a6098588",
   "metadata": {},
   "outputs": [
    {
     "name": "stdout",
     "output_type": "stream",
     "text": [
      "Shapes are [(83, 3), (83,), (21, 3), (21,)]\n"
     ]
    }
   ],
   "source": [
    "def data_split(df, test_size):\n",
    "    np_df = df.values\n",
    "\n",
    "    train_set, test_set = train_test_split(np_df, test_size=test_size, random_state=42, stratify=np_df[:,-1])\n",
    "\n",
    "    # Get the X and y for train, val and test\n",
    "    X_train = train_set[:,:-1]\n",
    "    y_train = train_set[:,-1]\n",
    "    X_test = test_set[:,:-1]\n",
    "    y_test = test_set[:,-1]\n",
    "    \n",
    "    print(f'Shapes are {[X_train.shape,y_train.shape,X_test.shape,y_test.shape]}')\n",
    "    \n",
    "    return X_train,y_train,X_test,y_test\n",
    "\n",
    "X_train,y_train,X_test,y_test = data_split(df_rat_combine,0.2)\n",
    "\n"
   ]
  },
  {
   "cell_type": "code",
   "execution_count": 33,
   "id": "200f57c1",
   "metadata": {},
   "outputs": [],
   "source": [
    "preproc_pl = Pipeline([ ('imputer', SimpleImputer(strategy=\"median\")),\n",
    "                        ('std_scaler', StandardScaler())])"
   ]
  },
  {
   "cell_type": "code",
   "execution_count": 34,
   "id": "b54bbecc",
   "metadata": {},
   "outputs": [
    {
     "name": "stdout",
     "output_type": "stream",
     "text": [
      "\u001b[1mRat bead study (baseline vs post beads)\u001b[0m\n",
      "\n",
      "Training accuracy score = 0.8795180722891566\n",
      "Testing accuracy score = 0.8571428571428571\n"
     ]
    }
   ],
   "source": [
    "# Rat bead study (baseline vs post beads)\n",
    "def svm(X_train,y_train,X_test,y_test,name,kernel,c):\n",
    "    \n",
    "    svm_pl = Pipeline([('preproc',preproc_pl),\n",
    "                       ('svc',SVC(kernel=kernel, C=c, random_state=42))])\n",
    "    svm_pl.fit(X_train,y_train)\n",
    "\n",
    "    y_train_pred_svm = svm_pl.predict(X_train)\n",
    "    y_test_pred_svm = svm_pl.predict(X_test)\n",
    "\n",
    "    acc_train = accuracy_score(y_train,y_train_pred_svm)\n",
    "    acc_test = accuracy_score(y_test,y_test_pred_svm)\n",
    "    \n",
    "    print('\\033[1m' + name + '\\033[0m')\n",
    "    print()\n",
    "    print(f'Training accuracy score = {acc_train}')\n",
    "    print(f'Testing accuracy score = {acc_test}')\n",
    "    \n",
    "svm(X_train,y_train,X_test,y_test,'Rat bead study (baseline vs post beads)','linear',1)"
   ]
  },
  {
   "cell_type": "markdown",
   "id": "2d75a6ed",
   "metadata": {},
   "source": [
    "# Rat_PA study (WT, KO, CF)"
   ]
  },
  {
   "cell_type": "code",
   "execution_count": 35,
   "id": "b9972c31",
   "metadata": {},
   "outputs": [
    {
     "data": {
      "text/plain": [
       "(82, 4)"
      ]
     },
     "execution_count": 35,
     "metadata": {},
     "output_type": "execute_result"
    }
   ],
   "source": [
    "df_rat_pa = pd.read_csv('rat_pa_summary.csv')\n",
    "df_rat_WT = df_rat_pa[df_rat_pa['Genotype'] == 'WT']\n",
    "df_rat_KO = df_rat_pa[df_rat_pa['Genotype'] == 'KO']\n",
    "df_rat_CF = df_rat_pa[df_rat_pa['Genotype'] == 'CF']\n",
    "\n",
    "df_rat_combine = pd.concat([df_rat_WT, df_rat_KO, df_rat_CF], ignore_index=True)\n",
    "df_rat_combine = features(df_rat_combine) \n",
    "df_rat_combine.shape"
   ]
  },
  {
   "cell_type": "code",
   "execution_count": 36,
   "id": "59fc0c1a",
   "metadata": {},
   "outputs": [
    {
     "name": "stdout",
     "output_type": "stream",
     "text": [
      "Shapes are [(65, 3), (65,), (17, 3), (17,)]\n"
     ]
    }
   ],
   "source": [
    "X_train,y_train,X_test,y_test = data_split(df_rat_combine,0.2)"
   ]
  },
  {
   "cell_type": "code",
   "execution_count": 37,
   "id": "af04a5cf",
   "metadata": {},
   "outputs": [
    {
     "name": "stdout",
     "output_type": "stream",
     "text": [
      "\u001b[1mRat_PA study (WT, KO, CF)\u001b[0m\n",
      "\n",
      "Training accuracy score = 0.6153846153846154\n",
      "Testing accuracy score = 0.4117647058823529\n"
     ]
    }
   ],
   "source": [
    "svm(X_train,y_train,X_test,y_test,'Rat_PA study (WT, KO, CF)','poly',1)"
   ]
  },
  {
   "cell_type": "markdown",
   "id": "00aa2cc3",
   "metadata": {},
   "source": [
    "# Mouse B-Enac study (B-Enac vs WT)"
   ]
  },
  {
   "cell_type": "code",
   "execution_count": 129,
   "id": "edb107f0",
   "metadata": {},
   "outputs": [
    {
     "data": {
      "text/plain": [
       "(28, 4)"
      ]
     },
     "execution_count": 129,
     "metadata": {},
     "output_type": "execute_result"
    }
   ],
   "source": [
    "df_mouse_b_enac = pd.read_csv('mouse_b_enac_summary_new.csv')\n",
    "df_WT = df_mouse_b_enac[df_mouse_b_enac['Genotype'] == 'WT']\n",
    "df_b_enac = df_mouse_b_enac[df_mouse_b_enac['Genotype'] == 'B_Enac']\n",
    "\n",
    "df_mouse_combine = pd.concat([df_WT, df_b_enac], ignore_index=True)\n",
    "df_mouse_combine = features(df_mouse_combine) \n",
    "\n",
    "df_mouse_combine.shape"
   ]
  },
  {
   "cell_type": "code",
   "execution_count": 130,
   "id": "37ef3971",
   "metadata": {},
   "outputs": [
    {
     "name": "stdout",
     "output_type": "stream",
     "text": [
      "Shapes are [(19, 3), (19,), (9, 3), (9,)]\n"
     ]
    }
   ],
   "source": [
    "X_train,y_train,X_test,y_test = data_split(df_mouse_combine,0.3)"
   ]
  },
  {
   "cell_type": "code",
   "execution_count": 132,
   "id": "6744e1c4",
   "metadata": {},
   "outputs": [
    {
     "name": "stdout",
     "output_type": "stream",
     "text": [
      "\u001b[1mMouse B-Enac study (B-Enac vs WT)\u001b[0m\n",
      "\n",
      "Training accuracy score = 1.0\n",
      "Testing accuracy score = 0.8888888888888888\n"
     ]
    }
   ],
   "source": [
    "svm(X_train,y_train,X_test,y_test,'Mouse B-Enac study (B-Enac vs WT)','linear',1)"
   ]
  },
  {
   "cell_type": "markdown",
   "id": "e66c643f",
   "metadata": {},
   "source": [
    "# Mouse MPS study (MPS_I vs WT vs Het)"
   ]
  },
  {
   "cell_type": "code",
   "execution_count": 133,
   "id": "46a779ff",
   "metadata": {},
   "outputs": [
    {
     "data": {
      "text/plain": [
       "(33, 4)"
      ]
     },
     "execution_count": 133,
     "metadata": {},
     "output_type": "execute_result"
    }
   ],
   "source": [
    "df_mouse_mps = pd.read_csv('mouse_mps_summary.csv')\n",
    "df_WT = df_mouse_mps[df_mouse_mps['Genotype'] == 'WT']\n",
    "df_MPS_I = df_mouse_mps[df_mouse_mps['Genotype'] == 'MPS I']\n",
    "df_Het = df_mouse_mps[df_mouse_mps['Genotype'] == 'Het']\n",
    "\n",
    "df_mouse_combine = pd.concat([df_WT, df_MPS_I, df_Het], ignore_index=True)\n",
    "df_mouse_combine = features(df_mouse_combine) \n",
    "df_mouse_combine.shape"
   ]
  },
  {
   "cell_type": "code",
   "execution_count": 134,
   "id": "a18121b0",
   "metadata": {},
   "outputs": [
    {
     "name": "stdout",
     "output_type": "stream",
     "text": [
      "Shapes are [(23, 3), (23,), (10, 3), (10,)]\n"
     ]
    }
   ],
   "source": [
    "X_train,y_train,X_test,y_test = data_split(df_mouse_combine,0.3)"
   ]
  },
  {
   "cell_type": "code",
   "execution_count": 135,
   "id": "e6ef5689",
   "metadata": {},
   "outputs": [
    {
     "name": "stdout",
     "output_type": "stream",
     "text": [
      "\u001b[1mMouse MPS study (MPS_I vs WT vs Het)\u001b[0m\n",
      "\n",
      "Training accuracy score = 0.6086956521739131\n",
      "Testing accuracy score = 0.4\n"
     ]
    }
   ],
   "source": [
    "svm(X_train,y_train,X_test,y_test,'Mouse MPS study (MPS_I vs WT vs Het)','linear',1)"
   ]
  },
  {
   "cell_type": "code",
   "execution_count": null,
   "id": "cf57e4ea",
   "metadata": {},
   "outputs": [],
   "source": []
  }
 ],
 "metadata": {
  "kernelspec": {
   "display_name": "Python 3 (ipykernel)",
   "language": "python",
   "name": "python3"
  },
  "language_info": {
   "codemirror_mode": {
    "name": "ipython",
    "version": 3
   },
   "file_extension": ".py",
   "mimetype": "text/x-python",
   "name": "python",
   "nbconvert_exporter": "python",
   "pygments_lexer": "ipython3",
   "version": "3.9.12"
  }
 },
 "nbformat": 4,
 "nbformat_minor": 5
}
