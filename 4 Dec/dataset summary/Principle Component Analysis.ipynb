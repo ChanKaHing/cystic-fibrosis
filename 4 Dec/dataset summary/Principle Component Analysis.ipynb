{
 "cells": [
  {
   "cell_type": "code",
   "execution_count": 17,
   "id": "f1743e00",
   "metadata": {},
   "outputs": [],
   "source": [
    "import matplotlib.pyplot as plt\n",
    "import numpy as np\n",
    "import pandas as pd\n",
    "import matplotlib.dates as mdates\n",
    "import seaborn as sns\n",
    "from sklearn.decomposition import PCA\n",
    "from sklearn.preprocessing import StandardScaler"
   ]
  },
  {
   "cell_type": "code",
   "execution_count": 18,
   "id": "e3aa8058",
   "metadata": {
    "scrolled": true
   },
   "outputs": [
    {
     "data": {
      "text/plain": [
       "(28, 8)"
      ]
     },
     "execution_count": 18,
     "metadata": {},
     "output_type": "execute_result"
    }
   ],
   "source": [
    "df_mouse_b_enac = pd.read_csv('mouse_b_enac_summary_new.csv')\n",
    "df_mouse_b_enac = df_mouse_b_enac.drop('Genotype', axis=1)\n",
    "df_mouse_b_enac.shape"
   ]
  },
  {
   "cell_type": "code",
   "execution_count": 19,
   "id": "a6cd4f6d",
   "metadata": {},
   "outputs": [
    {
     "data": {
      "text/plain": [
       "(33, 8)"
      ]
     },
     "execution_count": 19,
     "metadata": {},
     "output_type": "execute_result"
    }
   ],
   "source": [
    "# One more column for genotype\n",
    "df_mouse_mps = pd.read_csv('mouse_mps_summary.csv')\n",
    "df_mouse_mps = df_mouse_mps.drop('Genotype', axis=1)\n",
    "df_mouse_mps.shape"
   ]
  },
  {
   "cell_type": "code",
   "execution_count": 20,
   "id": "28fd8bc7",
   "metadata": {},
   "outputs": [
    {
     "data": {
      "text/plain": [
       "(83, 8)"
      ]
     },
     "execution_count": 20,
     "metadata": {},
     "output_type": "execute_result"
    }
   ],
   "source": [
    "df_rat_pa = pd.read_csv('rat_pa_summary.csv')\n",
    "df_rat_pa = df_rat_pa.drop('Genotype', axis=1)\n",
    "df_rat_pa.shape"
   ]
  },
  {
   "cell_type": "code",
   "execution_count": 21,
   "id": "9286d046",
   "metadata": {},
   "outputs": [
    {
     "data": {
      "text/plain": [
       "(51, 8)"
      ]
     },
     "execution_count": 21,
     "metadata": {},
     "output_type": "execute_result"
    }
   ],
   "source": [
    "df_rat_sterile_baseline = pd.read_csv('rat_sterile_baseline_summary.csv')\n",
    "df_rat_sterile_baseline.shape"
   ]
  },
  {
   "cell_type": "code",
   "execution_count": 22,
   "id": "ec3915fe",
   "metadata": {},
   "outputs": [
    {
     "data": {
      "text/plain": [
       "(53, 8)"
      ]
     },
     "execution_count": 22,
     "metadata": {},
     "output_type": "execute_result"
    }
   ],
   "source": [
    "df_rat_sterile_post_beads = pd.read_csv('rat_sterile_post_beads_summary.csv')\n",
    "df_rat_sterile_post_beads.shape"
   ]
  },
  {
   "cell_type": "code",
   "execution_count": 23,
   "id": "3e5ef843",
   "metadata": {},
   "outputs": [
    {
     "data": {
      "text/plain": [
       "(62, 8)"
      ]
     },
     "execution_count": 23,
     "metadata": {},
     "output_type": "execute_result"
    }
   ],
   "source": [
    "df_sheep_01_60 = pd.read_csv('sheep_01_60_summary.csv')\n",
    "df_sheep_01_60.shape"
   ]
  },
  {
   "cell_type": "markdown",
   "id": "70e056ae",
   "metadata": {},
   "source": [
    "# PCA"
   ]
  },
  {
   "cell_type": "markdown",
   "id": "ae9b5bf2",
   "metadata": {},
   "source": [
    "# Rat bead study  (baseline vs post beads)"
   ]
  },
  {
   "cell_type": "code",
   "execution_count": 24,
   "id": "1ea6106e",
   "metadata": {},
   "outputs": [],
   "source": [
    "def pca(features, labels, title):\n",
    "\n",
    "    # Standardize the features\n",
    "    scaler = StandardScaler()\n",
    "    features_standardized = scaler.fit_transform(features)\n",
    "\n",
    "    # Apply PCA with two components\n",
    "    pca = PCA(n_components=2)\n",
    "    principal_components = pca.fit_transform(features_standardized)\n",
    "\n",
    "    # Create a new DataFrame with the principal components and class labels\n",
    "    pca_df = pd.DataFrame(data=principal_components, columns=['PC1', 'PC2'])\n",
    "    pca_df['target'] = labels\n",
    "\n",
    "    # Plot the PCA results\n",
    "    plt.figure(figsize=(8, 6))\n",
    "    classes = pca_df['target'].unique()\n",
    "\n",
    "    for c in classes:\n",
    "        subset = pca_df[pca_df['target'] == c]\n",
    "        plt.scatter(subset['PC1'], subset['PC2'], label=c)\n",
    "\n",
    "    plt.title(title)\n",
    "    plt.xlabel('PC1')\n",
    "    plt.ylabel('PC2')\n",
    "    plt.legend()\n",
    "    plt.show()"
   ]
  },
  {
   "cell_type": "code",
   "execution_count": 25,
   "id": "f299d54a",
   "metadata": {},
   "outputs": [
    {
     "data": {
      "image/png": "[encoded data removed]",
      "text/plain": [
       "<Figure size 576x432 with 1 Axes>"
      ]
     },
     "metadata": {
      "needs_background": "light"
     },
     "output_type": "display_data"
    }
   ],
   "source": [
    "# label the dataframe\n",
    "df_rat_sterile_baseline['target'] = 'baseline'\n",
    "df_rat_sterile_post_beads['target'] = 'post_beads'\n",
    "\n",
    "# combine the dataframe\n",
    "df_rat_combine = pd.concat([df_rat_sterile_baseline, df_rat_sterile_post_beads], ignore_index=True)\n",
    "\n",
    "# features and labels\n",
    "features = df_rat_combine.iloc[:,2:8]\n",
    "labels = df_rat_combine['target']\n",
    "\n",
    "pca(features, labels, 'PCA of rat baseline vs post beads')"
   ]
  },
  {
   "cell_type": "markdown",
   "id": "cd2a6910",
   "metadata": {},
   "source": [
    "# Rat_PA study (WT, KO, CF)"
   ]
  },
  {
   "cell_type": "code",
   "execution_count": 26,
   "id": "5f3265fa",
   "metadata": {},
   "outputs": [],
   "source": [
    "df_rat_pa = pd.read_csv('rat_pa_summary.csv')\n",
    "df_rat_WT = df_rat_pa[df_rat_pa['Genotype'] == 'WT']\n",
    "df_rat_KO = df_rat_pa[df_rat_pa['Genotype'] == 'KO']\n",
    "df_rat_CF = df_rat_pa[df_rat_pa['Genotype'] == 'CF']"
   ]
  },
  {
   "cell_type": "code",
   "execution_count": 27,
   "id": "dfd0e104",
   "metadata": {},
   "outputs": [
    {
     "data": {
      "image/png": "[encoded data removed]",
      "text/plain": [
       "<Figure size 576x432 with 1 Axes>"
      ]
     },
     "metadata": {
      "needs_background": "light"
     },
     "output_type": "display_data"
    }
   ],
   "source": [
    "# combine the dataframe\n",
    "df_rat_combine = pd.concat([df_rat_WT, df_rat_KO, df_rat_CF], ignore_index=True)\n",
    "\n",
    "# features and labels\n",
    "features = df_rat_combine.iloc[:,3:9]\n",
    "labels = df_rat_combine['Genotype']\n",
    "\n",
    "pca(features, labels, 'PCA of Rat_pa WT vs KO vs CF')"
   ]
  },
  {
   "cell_type": "markdown",
   "id": "3f44559c",
   "metadata": {},
   "source": [
    "# Mouse B-Enac study (B-Enac vs WT)"
   ]
  },
  {
   "cell_type": "code",
   "execution_count": 28,
   "id": "f13209a2",
   "metadata": {},
   "outputs": [],
   "source": [
    "df_mouse_b_enac = pd.read_csv('mouse_b_enac_summary_new.csv')\n",
    "df_WT = df_mouse_b_enac[df_mouse_b_enac['Genotype'] == 'WT']\n",
    "df_b_enac = df_mouse_b_enac[df_mouse_b_enac['Genotype'] == 'B_Enac']"
   ]
  },
  {
   "cell_type": "code",
   "execution_count": 29,
   "id": "b83ada05",
   "metadata": {},
   "outputs": [
    {
     "data": {
      "image/png": "[encoded data removed]",
      "text/plain": [
       "<Figure size 576x432 with 1 Axes>"
      ]
     },
     "metadata": {
      "needs_background": "light"
     },
     "output_type": "display_data"
    }
   ],
   "source": [
    "# combine the dataframe\n",
    "df_mouse_combine = pd.concat([df_WT, df_b_enac], ignore_index=True)\n",
    "\n",
    "# features and labels\n",
    "features = df_mouse_combine.iloc[:,3:9]\n",
    "labels = df_mouse_combine['Genotype']\n",
    "\n",
    "pca(features, labels, 'PCA of mouse B-Enac vs WT')"
   ]
  },
  {
   "cell_type": "markdown",
   "id": "e40f690c",
   "metadata": {},
   "source": [
    "# Mouse MPS study (MPS_I vs WT vs Het)"
   ]
  },
  {
   "cell_type": "code",
   "execution_count": 30,
   "id": "449ec561",
   "metadata": {},
   "outputs": [
    {
     "data": {
      "image/png": "[encoded data removed]",
      "text/plain": [
       "<Figure size 576x432 with 1 Axes>"
      ]
     },
     "metadata": {
      "needs_background": "light"
     },
     "output_type": "display_data"
    }
   ],
   "source": [
    "df_mouse_mps = pd.read_csv('mouse_mps_summary.csv')\n",
    "df_WT = df_mouse_mps[df_mouse_mps['Genotype'] == 'WT']\n",
    "df_MPS_I = df_mouse_mps[df_mouse_mps['Genotype'] == 'MPS I']\n",
    "df_Het = df_mouse_mps[df_mouse_mps['Genotype'] == 'Het']\n",
    "\n",
    "# combine the dataframe\n",
    "df_mouse_combine = pd.concat([df_WT, df_MPS_I, df_Het], ignore_index=True)\n",
    "\n",
    "# features and labels\n",
    "features = df_mouse_combine.iloc[:,3:9]\n",
    "labels = df_mouse_combine['Genotype']\n",
    "\n",
    "pca(features, labels, 'PCA of mouse MPS_I vs WT vs Het')"
   ]
  },
  {
   "cell_type": "code",
   "execution_count": null,
   "id": "3c8b04dc",
   "metadata": {},
   "outputs": [],
   "source": []
  }
 ],
 "metadata": {
  "kernelspec": {
   "display_name": "Python 3 (ipykernel)",
   "language": "python",
   "name": "python3"
  },
  "language_info": {
   "codemirror_mode": {
    "name": "ipython",
    "version": 3
   },
   "file_extension": ".py",
   "mimetype": "text/x-python",
   "name": "python",
   "nbconvert_exporter": "python",
   "pygments_lexer": "ipython3",
   "version": "3.9.12"
  }
 },
 "nbformat": 4,
 "nbformat_minor": 5
}
