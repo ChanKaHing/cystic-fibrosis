{
 "cells": [
  {
   "cell_type": "code",
   "execution_count": null,
   "id": "08ec6c42",
   "metadata": {},
   "outputs": [],
   "source": [
    "import os\n",
    "file_list  = os.listdir(\"./temp\")\n",
    "file_list_norm = [file for file in file_list if 'non-norm' not in file]\n"
   ]
  },
  {
   "cell_type": "code",
   "execution_count": null,
   "id": "7e61ac70",
   "metadata": {},
   "outputs": [],
   "source": [
    "import csv\n",
    "with open(\"temp.csv\", mode='w', newline='') as file:\n",
    "    writer = csv.writer(file)\n",
    "    writer.writerow([\"File Name\"])  # Writing header\n",
    "    writer.writerows([[item] for item in file_list_norm]) "
   ]
  },
  {
   "cell_type": "code",
   "execution_count": null,
   "id": "c00e24f2",
   "metadata": {},
   "outputs": [],
   "source": [
    "def data_split(df):\n",
    "    np_df = df.values\n",
    "\n",
    "    bigtrain_set, test_set = train_test_split(np_df, test_size=0.15, random_state=42, stratify=np_df[:,-1])\n",
    "    train_set, val_set = train_test_split(bigtrain_set, test_size=0.176, random_state=42, stratify=bigtrain_set[:,-1])\n",
    "\n",
    "    # Get the X and y for train, val and test\n",
    "    X_train = train_set[:,:-1]\n",
    "    y_train = train_set[:,-1]\n",
    "    X_test = test_set[:,:-1]\n",
    "    y_test = test_set[:,-1]\n",
    "    X_val = val_set[:,:-1]\n",
    "    y_val = val_set[:,-1]\n",
    "    print(f'Shapes are {[X_train.shape,y_train.shape,X_test.shape,y_test.shape,X_val.shape,y_val.shape]}')\n",
    "    \n",
    "    return X_train,y_train,X_test,y_test,X_val,y_val\n",
    "\n",
    "X_train,y_train,X_test,y_test,X_val,y_val = data_split(df_rat_combine)"
   ]
  }
 ],
 "metadata": {
  "kernelspec": {
   "display_name": "Python 3 (ipykernel)",
   "language": "python",
   "name": "python3"
  },
  "language_info": {
   "codemirror_mode": {
    "name": "ipython",
    "version": 3
   },
   "file_extension": ".py",
   "mimetype": "text/x-python",
   "name": "python",
   "nbconvert_exporter": "python",
   "pygments_lexer": "ipython3",
   "version": "3.9.12"
  }
 },
 "nbformat": 4,
 "nbformat_minor": 5
}
