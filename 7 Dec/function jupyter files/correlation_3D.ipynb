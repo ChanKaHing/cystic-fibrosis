{
 "cells": [
  {
   "cell_type": "code",
   "execution_count": 9,
   "id": "8a455ef2",
   "metadata": {},
   "outputs": [],
   "source": [
    "import matplotlib.pyplot as plt\n",
    "import numpy as np\n",
    "import pandas as pd\n",
    "import matplotlib.dates as mdates\n",
    "import seaborn as sns\n",
    "from sklearn.decomposition import PCA\n",
    "from sklearn.preprocessing import StandardScaler\n",
    "import pandas as pd\n",
    "import plotly.express as px\n",
    "from plotly.subplots import make_subplots"
   ]
  },
  {
   "cell_type": "code",
   "execution_count": 70,
   "id": "93332b0b",
   "metadata": {},
   "outputs": [],
   "source": [
    "def corr_3D(df, labels):\n",
    "    df_1 = df[['MSV(mL/mL)','TV(L)','VH(%)']]\n",
    "    df_2 = df[['MSV(mL/mL)','TV(L)','VDP(%)']]\n",
    "    \n",
    "    # Create 3D scatter plots\n",
    "    fig1 = px.scatter_3d(df_1, x='MSV(mL/mL)', y='TV(L)', z='VH(%)', color=labels, title='MSV vs TV vs VH')\n",
    "    fig2 = px.scatter_3d(df_2, x='MSV(mL/mL)', y='TV(L)', z='VDP(%)', color=labels, title='MSV vs TV vs VDP')\n",
    "\n",
    "    # Combine figures side by side\n",
    "    fig = make_subplots(rows=1, cols=2, subplot_titles=['MSV vs TV vs VH', 'MSV vs TV vs VDP'], specs=[[{'type': 'scatter3d'}, {'type': 'scatter3d'}]])\n",
    "\n",
    "    # Add subplots to the combined figure\n",
    "    for trace in fig1['data']:\n",
    "        fig.add_trace(trace, row=1, col=1)\n",
    "\n",
    "    for trace in fig2['data']:\n",
    "        fig.add_trace(trace, row=1, col=2)\n",
    "\n",
    "    # Update layout for better visualization\n",
    "    fig.update_traces(marker=dict(size=4))\n",
    "    fig.update_layout(scene=dict(aspectmode=\"cube\"))\n",
    "    fig.update_layout(scene=dict(xaxis_title='MSV', yaxis_title='TV', zaxis_title='VH'), \n",
    "                      scene2=dict(xaxis_title='MSV', yaxis_title='TV', zaxis_title='VDP'))\n",
    "\n",
    "    # Show the figure\n",
    "    fig.show()\n"
   ]
  },
  {
   "cell_type": "code",
   "execution_count": 71,
   "id": "82d18679",
   "metadata": {},
   "outputs": [],
   "source": [
    "def rat_bead_study_data(df_rat_sterile_baseline,df_rat_sterile_post_beads):\n",
    "    df_rat_combine = pd.concat([df_rat_sterile_baseline, df_rat_sterile_post_beads], ignore_index=True)\n",
    "    labels = df_rat_combine['Beads']\n",
    "    return df_rat_combine, labels"
   ]
  },
  {
   "cell_type": "code",
   "execution_count": 73,
   "id": "ef2f7333",
   "metadata": {},
   "outputs": [],
   "source": [
    "def rat_pa_study_data(df_rat_pa):\n",
    "    df_rat_WT = df_rat_pa[df_rat_pa['Genotype'] == 'WT']\n",
    "    df_rat_KO = df_rat_pa[df_rat_pa['Genotype'] == 'KO']\n",
    "    df_rat_CF = df_rat_pa[df_rat_pa['Genotype'] == 'CF']\n",
    "    df_rat_pa_combine = pd.concat([df_rat_WT, df_rat_KO, df_rat_CF], ignore_index=True)\n",
    "    labels = df_rat_pa_combine['Genotype']\n",
    "    return df_rat_pa_combine, labels"
   ]
  },
  {
   "cell_type": "code",
   "execution_count": 75,
   "id": "b4d16daa",
   "metadata": {},
   "outputs": [],
   "source": [
    "def mouse_b_enac_study_data(df_mouse_b_enac):\n",
    "    df_WT = df_mouse_b_enac[df_mouse_b_enac['Genotype'] == 'WT']\n",
    "    df_b_enac = df_mouse_b_enac[df_mouse_b_enac['Genotype'] == 'B_Enac']\n",
    "    df_mouse_enac_combine = pd.concat([df_WT, df_b_enac], ignore_index=True)\n",
    "    labels = df_mouse_enac_combine['Genotype']\n",
    "    return df_mouse_enac_combine, labels"
   ]
  },
  {
   "cell_type": "code",
   "execution_count": 84,
   "id": "1de79067",
   "metadata": {},
   "outputs": [],
   "source": [
    "def mouse_mps_study_data(df_mouse_mps):\n",
    "    df_WT = df_mouse_mps[df_mouse_mps['Genotype'] == 'WT']\n",
    "    df_MPS_I = df_mouse_mps[df_mouse_mps['Genotype'] == 'MPS I']\n",
    "    df_Het = df_mouse_mps[df_mouse_mps['Genotype'] == 'Het']\n",
    "    df_mouse_mps_combine = pd.concat([df_WT, df_MPS_I, df_Het], ignore_index=True)\n",
    "    labels = df_mouse_mps_combine['Genotype']\n",
    "    return df_mouse_mps_combine, labels"
   ]
  },
  {
   "cell_type": "code",
   "execution_count": null,
   "id": "08136ceb",
   "metadata": {},
   "outputs": [],
   "source": []
  }
 ],
 "metadata": {
  "kernelspec": {
   "display_name": "Python 3 (ipykernel)",
   "language": "python",
   "name": "python3"
  },
  "language_info": {
   "codemirror_mode": {
    "name": "ipython",
    "version": 3
   },
   "file_extension": ".py",
   "mimetype": "text/x-python",
   "name": "python",
   "nbconvert_exporter": "python",
   "pygments_lexer": "ipython3",
   "version": "3.9.13"
  }
 },
 "nbformat": 4,
 "nbformat_minor": 5
}
