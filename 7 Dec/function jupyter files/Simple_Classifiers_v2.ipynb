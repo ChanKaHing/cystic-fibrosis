{
 "cells": [
  {
   "cell_type": "code",
   "execution_count": 90,
   "id": "6af420d8",
   "metadata": {},
   "outputs": [],
   "source": [
    "import matplotlib.pyplot as plt\n",
    "import numpy as np\n",
    "import pandas as pd\n",
    "from sklearn.model_selection import train_test_split\n",
    "from sklearn.pipeline import Pipeline\n",
    "from sklearn.impute import SimpleImputer\n",
    "from sklearn.preprocessing import StandardScaler\n",
    "from sklearn.metrics import accuracy_score\n",
    "from sklearn.svm import SVC"
   ]
  },
  {
   "cell_type": "markdown",
   "id": "7f04fe1b",
   "metadata": {},
   "source": [
    "# SVM"
   ]
  },
  {
   "cell_type": "code",
   "execution_count": 91,
   "id": "a6098588",
   "metadata": {},
   "outputs": [],
   "source": [
    "def data_split(df, test_size):\n",
    "    np_df = df.values\n",
    "\n",
    "    train_set, test_set = train_test_split(np_df, test_size=test_size, random_state=42, stratify=np_df[:,-1])\n",
    "\n",
    "    # Get the X and y for train, val and test\n",
    "    X_train = train_set[:,:-1]\n",
    "    y_train = train_set[:,-1]\n",
    "    X_test = test_set[:,:-1]\n",
    "    y_test = test_set[:,-1]\n",
    "    \n",
    "    print(f'Shapes are {[X_train.shape,y_train.shape,X_test.shape,y_test.shape]}')\n",
    "    \n",
    "    return X_train,y_train,X_test,y_test"
   ]
  },
  {
   "cell_type": "code",
   "execution_count": 92,
   "id": "b54bbecc",
   "metadata": {},
   "outputs": [],
   "source": [
    "# Rat bead study (baseline vs post beads)\n",
    "def svm(X_train,y_train,X_test,y_test,name,kernel,c):\n",
    "    preproc_pl = Pipeline([ ('imputer', SimpleImputer(strategy=\"median\")),\n",
    "                        ('std_scaler', StandardScaler())])\n",
    "    \n",
    "    svm_pl = Pipeline([('preproc',preproc_pl),\n",
    "                       ('svc',SVC(kernel=kernel, C=c, random_state=42))])\n",
    "    svm_pl.fit(X_train,y_train)\n",
    "\n",
    "    y_train_pred_svm = svm_pl.predict(X_train)\n",
    "    y_test_pred_svm = svm_pl.predict(X_test)\n",
    "\n",
    "    acc_train = accuracy_score(y_train,y_train_pred_svm)\n",
    "    acc_test = accuracy_score(y_test,y_test_pred_svm)\n",
    "    \n",
    "    print('\\033[1m' + name + '\\033[0m')\n",
    "    print()\n",
    "    print(f'Training accuracy score = {acc_train}')\n",
    "    print(f'Testing accuracy score = {acc_test}')"
   ]
  },
  {
   "cell_type": "code",
   "execution_count": null,
   "id": "cf57e4ea",
   "metadata": {},
   "outputs": [],
   "source": []
  }
 ],
 "metadata": {
  "kernelspec": {
   "display_name": "Python 3 (ipykernel)",
   "language": "python",
   "name": "python3"
  },
  "language_info": {
   "codemirror_mode": {
    "name": "ipython",
    "version": 3
   },
   "file_extension": ".py",
   "mimetype": "text/x-python",
   "name": "python",
   "nbconvert_exporter": "python",
   "pygments_lexer": "ipython3",
   "version": "3.9.13"
  }
 },
 "nbformat": 4,
 "nbformat_minor": 5
}
