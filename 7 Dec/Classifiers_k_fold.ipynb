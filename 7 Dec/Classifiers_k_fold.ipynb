{
 "cells": [
  {
   "cell_type": "code",
   "execution_count": 389,
   "id": "f343143c",
   "metadata": {},
   "outputs": [],
   "source": [
    "import matplotlib.pyplot as plt\n",
    "import numpy as np\n",
    "import pandas as pd\n",
    "from sklearn.model_selection import train_test_split\n",
    "from sklearn.pipeline import Pipeline\n",
    "from sklearn.impute import SimpleImputer\n",
    "from sklearn.preprocessing import StandardScaler\n",
    "from sklearn.metrics import accuracy_score\n",
    "from sklearn.svm import SVC\n",
    "import pandas as pd\n",
    "from correlation_map import corr_map\n",
    "from correlation_3D import corr_3D, rat_bead_study_data, rat_pa_study_data, mouse_b_enac_study_data, mouse_mps_study_data\n",
    "from Principle_Component_Analysis import pca_2D, pca_3D\n",
    "from sklearn.tree import DecisionTreeClassifier, plot_tree\n",
    "from sklearn.neighbors import KNeighborsClassifier\n",
    "from sklearn.ensemble import RandomForestClassifier\n",
    "from sklearn.ensemble import GradientBoostingClassifier\n",
    "from sklearn.linear_model import SGDClassifier\n",
    "from sklearn.model_selection import cross_validate, GridSearchCV\n",
    "\n",
    "#     for fold_idx in range(grid_search.cv):\n",
    "#         fold_key = f\"split{fold_idx}_test_score\"\n",
    "#         fold_scores = grid_results[fold_key]\n",
    "#         print(f\"Valid accuracy scores for Fold {fold_idx + 1}: {np.round(fold_scores, decimals=3)}\")\n",
    "       \n",
    "    \n",
    "# #     for fold_idx in range(grid_search.cv):\n",
    "# #         fold_key = f\"split{fold_idx}_test_score\"\n",
    "# #         fold_scores = grid_results[fold_key]\n",
    "# #         print(f\"Valid accuracy scores for Fold {fold_idx + 1}: {np.round(fold_scores, decimals=3)}\")\n",
    "        \n",
    "    \n",
    "#     print()\n",
    "#     mean_test_scores = np.round(grid_results['mean_test_score'], decimals=3)\n",
    "#     std_test_scores = np.round(grid_results['std_test_score'], decimals=3)\n",
    "\n",
    "#     for params, mean_score, std_score in zip(grid_results['params'], mean_test_scores, std_test_scores):\n",
    "#         print(f\"Hyperparameters: {params}, Valid Mean Accuracy: {mean_score}, Valid Std: {std_score}\")\n",
    "#         print()\n",
    "\n"
   ]
  },
  {
   "cell_type": "code",
   "execution_count": 390,
   "id": "a4a2cbc6",
   "metadata": {},
   "outputs": [],
   "source": [
    "df_mouse_b_enac = pd.read_csv('mouse_b_enac_summary.csv')\n",
    "df_mouse_enac_combine, b_enac_labels = mouse_b_enac_study_data(df_mouse_b_enac)\n",
    "\n",
    "df_mouse_mps = pd.read_csv('mouse_mps_summary.csv')\n",
    "df_mouse_mps_combine, mps_labels = mouse_mps_study_data(df_mouse_mps)\n",
    "\n",
    "df_mouse_enac_combine_sel = df_mouse_enac_combine[['VDP(%)','MSV(mL/mL)','TV(L)','VH(%)','VHSS(%)','VHLS(%)','Genotype','IQR','HD']]\n",
    "df_mouse_mps_combine_sel = df_mouse_mps_combine[['VDP(%)','MSV(mL/mL)','TV(L)','VH(%)','VHSS(%)','VHLS(%)','Genotype','IQR','HD']]\n",
    "df_mouse_all = pd.concat([df_mouse_enac_combine_sel, df_mouse_mps_combine_sel], ignore_index=True)\n"
   ]
  },
  {
   "cell_type": "code",
   "execution_count": 391,
   "id": "252a6864",
   "metadata": {},
   "outputs": [],
   "source": [
    "def data_split(df, test_size):\n",
    "    np_df = df.values\n",
    "\n",
    "    train_set, test_set = train_test_split(np_df, test_size=test_size, random_state=42, stratify=np_df[:,-1])\n",
    "\n",
    "    # Get the X and y for train, val and test\n",
    "    X_train = train_set[:,:-1]\n",
    "    y_train = train_set[:,-1]\n",
    "    X_test = test_set[:,:-1]\n",
    "    y_test = test_set[:,-1]\n",
    "    \n",
    "    print(f'Shapes are {[X_train.shape,y_train.shape,X_test.shape,y_test.shape]}')\n",
    "    \n",
    "    return X_train,y_train,X_test,y_test"
   ]
  },
  {
   "cell_type": "code",
   "execution_count": 392,
   "id": "95b51b84",
   "metadata": {},
   "outputs": [],
   "source": [
    "def grid(clr, X_train, y_train):\n",
    "    \n",
    "    preproc_pl = Pipeline([ ('imputer', SimpleImputer(strategy=\"median\")),\n",
    "                        ('std_scaler', StandardScaler())])\n",
    "    \n",
    "    if clr == 'svm':\n",
    "        model = Pipeline([('preproc',preproc_pl), ('svc', SVC(decision_function_shape='ovr'))])\n",
    "        param_grid = {'kernel': ['linear', 'rbf', 'poly'], 'C': [1, 10, 100],}\n",
    "        grid_search = GridSearchCV(model['svc'], param_grid, cv=3, scoring='accuracy')\n",
    "        \n",
    "    elif clr == 'decision tree':\n",
    "        model = Pipeline([('preproc',preproc_pl), ('dt', DecisionTreeClassifier(random_state=42))])\n",
    "        param_grid = {'criterion': ['gini', 'entropy'], 'max_depth': [5, 10, 15],}\n",
    "        grid_search = GridSearchCV(model['dt'], param_grid, cv=3, scoring='accuracy')\n",
    "        \n",
    "    elif clr == 'knn':\n",
    "        model = Pipeline([('preproc',preproc_pl), ('knn', KNeighborsClassifier())])\n",
    "        param_grid = {'n_neighbors': [3, 5, 7, 9], 'weights': ['uniform', 'distance'],}\n",
    "        grid_search = GridSearchCV(model['knn'], param_grid, cv=3, scoring='accuracy')\n",
    "        \n",
    "    elif clr == 'rf':\n",
    "        model = Pipeline([('preproc',preproc_pl), ('rf', RandomForestClassifier(random_state=42))])\n",
    "        param_grid = {'criterion': ['gini', 'entropy'], 'max_depth': [5, 15, 20],}\n",
    "        grid_search = GridSearchCV(model['rf'], param_grid, cv=3, scoring='accuracy')\n",
    "        \n",
    "    elif clr == 'gbc':\n",
    "        model = Pipeline([('preproc',preproc_pl), ('gbc', GradientBoostingClassifier(random_state=42))])\n",
    "        param_grid = {'max_depth': [3, 5, 7, 9, 11], 'learning_rate': [0.01, 0.1, 1],}\n",
    "        grid_search = GridSearchCV(model['gbc'], param_grid, cv=3, scoring='accuracy')\n",
    "        \n",
    "    elif clr == 'sgd':\n",
    "        model = Pipeline([('preproc',preproc_pl), ('sgd', SGDClassifier(random_state=42))])\n",
    "        param_grid = {'loss': ['hinge','squared_hinge','perceptron'], 'penalty': ['l2', 'l1', 'elasticnet'],}\n",
    "        grid_search = GridSearchCV(model['sgd'], param_grid, cv=3, scoring='accuracy')\n",
    "    \n",
    "        \n",
    "        \n",
    "    grid_search.fit(X_train, y_train)\n",
    "    best_params = grid_search.best_params_\n",
    "    print(\"Best Hyperparameters:\", best_params)\n",
    "     \n",
    "    "
   ]
  },
  {
   "cell_type": "code",
   "execution_count": 393,
   "id": "7a7d508b",
   "metadata": {},
   "outputs": [],
   "source": [
    "def cross_valid(clr, X_train, y_train):\n",
    "    \n",
    "    preproc_pl = Pipeline([ ('imputer', SimpleImputer(strategy=\"median\")),\n",
    "                        ('std_scaler', StandardScaler())])\n",
    "    \n",
    "    if clr == 'svm':\n",
    "        model = Pipeline([('preproc',preproc_pl), ('svc', SVC(decision_function_shape='ovr'))])\n",
    "        param_grid = {'kernel': ['linear', 'rbf', 'poly'], 'C': [1, 10, 100],}\n",
    "        grid_search = GridSearchCV(model['svc'], param_grid, cv=3, scoring='accuracy')\n",
    "        \n",
    "    elif clr == 'decision tree':\n",
    "        model = Pipeline([('preproc',preproc_pl), ('dt', DecisionTreeClassifier(random_state=42))])\n",
    "        param_grid = {'criterion': ['gini', 'entropy'], 'max_depth': [5, 10, 15],}\n",
    "        grid_search = GridSearchCV(model['dt'], param_grid, cv=3, scoring='accuracy')\n",
    "        \n",
    "    elif clr == 'knn':\n",
    "        model = Pipeline([('preproc',preproc_pl), ('knn', KNeighborsClassifier())])\n",
    "        param_grid = {'n_neighbors': [3, 5, 7, 9], 'weights': ['uniform', 'distance'],}\n",
    "        grid_search = GridSearchCV(model['knn'], param_grid, cv=3, scoring='accuracy')\n",
    "        \n",
    "    elif clr == 'rf':\n",
    "        model = Pipeline([('preproc',preproc_pl), ('rf', RandomForestClassifier(random_state=42))])\n",
    "        param_grid = {'criterion': ['gini', 'entropy'], 'max_depth': [5, 15, 20],}\n",
    "        grid_search = GridSearchCV(model['rf'], param_grid, cv=3, scoring='accuracy')\n",
    "        \n",
    "    elif clr == 'gbc':\n",
    "        model = Pipeline([('preproc',preproc_pl), ('gbc', GradientBoostingClassifier(random_state=42))])\n",
    "        param_grid = {'max_depth': [3, 5, 7, 9, 11], 'learning_rate': [0.01, 0.1, 1],}\n",
    "        grid_search = GridSearchCV(model['gbc'], param_grid, cv=3, scoring='accuracy')\n",
    "        \n",
    "    elif clr == 'sgd':\n",
    "        model = Pipeline([('preproc',preproc_pl), ('sgd', SGDClassifier(random_state=42))])\n",
    "        param_grid = {'loss': ['hinge','squared_hinge','perceptron'], 'penalty': ['l2', 'l1', 'elasticnet'],}\n",
    "        grid_search = GridSearchCV(model['sgd'], param_grid, cv=3, scoring='accuracy')\n",
    "        \n",
    "         \n",
    "    model.fit(X_train, y_train)\n",
    "    \n",
    "    cv_scores = cross_validate(model, X_train, y_train, cv=3, scoring='accuracy', return_train_score=True)\n",
    "    \n",
    "    print(\"Validation Accuracy:\", np.round(cv_scores['test_score'], decimals=3))\n",
    "    print()\n",
    "    \n",
    "    average_valid_accuracy = cv_scores['test_score'].mean()\n",
    "    print(\"Average Validation Accuracy:\", round(average_valid_accuracy,3))\n",
    "    print()\n",
    "    \n",
    "    std_valid_accuracy = cv_scores['test_score'].std()\n",
    "    print(\"Standard Deviation of Validation Accuracy:\", round(std_valid_accuracy, 3))\n",
    "    print()\n",
    "    \n",
    "    print(\"Training Accuracy:\", np.round(cv_scores['train_score'], decimals=3))\n",
    "    print()\n",
    "\n",
    "    average_train_accuracy = cv_scores['train_score'].mean()\n",
    "    print(\"Average Training Accuracy:\", round(average_train_accuracy,3))\n",
    "    print()\n",
    "    \n",
    "    std_train_accuracy = cv_scores['train_score'].std()\n",
    "    print(\"Standard Deviation of Training Accuracy:\", round(std_train_accuracy, 3))\n",
    "        "
   ]
  },
  {
   "cell_type": "code",
   "execution_count": 394,
   "id": "4f18e44a",
   "metadata": {},
   "outputs": [],
   "source": [
    "# Create SVM classifier and optimize the hyperparameters\n",
    "def classier(clr, X_train, y_train, p1, p2):\n",
    "    \n",
    "    preproc_pl = Pipeline([ ('imputer', SimpleImputer(strategy=\"median\")),\n",
    "                        ('std_scaler', StandardScaler())])\n",
    "    \n",
    "    if clr == 'svm':\n",
    "        model = Pipeline([('preproc',preproc_pl),\n",
    "                           ('svc',SVC(kernel=p1, C=p2, random_state=42, decision_function_shape='ovr'))])\n",
    "        \n",
    "    elif clr == 'decision tree':\n",
    "        model = Pipeline([('preproc',preproc_pl),\n",
    "                           ('dt',DecisionTreeClassifier(criterion=p1, max_depth=p2, random_state=42))])\n",
    "        \n",
    "    elif clr == 'knn':\n",
    "        model = Pipeline([('preproc',preproc_pl),\n",
    "                           ('knn', KNeighborsClassifier(n_neighbors=p1,weights=p2))])\n",
    "        \n",
    "    elif clr == 'rf':\n",
    "        model = Pipeline([('preproc',preproc_pl),\n",
    "                           ('rf', RandomForestClassifier(criterion=p1,max_depth=p2,random_state=42))])\n",
    "        \n",
    "    elif clr == 'gbc':\n",
    "        model = Pipeline([('preproc',preproc_pl),\n",
    "                           ('gbc', GradientBoostingClassifier(learning_rate=p1,max_depth=p2,random_state=42))])\n",
    "        \n",
    "    elif clr == 'sgd':\n",
    "        model = Pipeline([('preproc',preproc_pl),\n",
    "                           ('sgd', SGDClassifier(loss=p1,penalty=p2,random_state=42))])\n",
    "         \n",
    "    model.fit(X_train,y_train)\n",
    "    \n",
    "    y_train_pred_svm = model.predict(X_train)\n",
    "    y_test_pred_svm = model.predict(X_test)\n",
    "\n",
    "    acc_train = accuracy_score(y_train,y_train_pred_svm)\n",
    "    acc_test = accuracy_score(y_test,y_test_pred_svm)\n",
    "    \n",
    "    print('\\033[1m' + clr + '\\033[0m')\n",
    "    print()\n",
    "    print(f'Testing accuracy score = {acc_test}')\n",
    "\n",
    "            "
   ]
  },
  {
   "cell_type": "code",
   "execution_count": 395,
   "id": "fa2023fb",
   "metadata": {
    "scrolled": false
   },
   "outputs": [
    {
     "name": "stdout",
     "output_type": "stream",
     "text": [
      "Shapes are [(45, 7), (45,), (16, 7), (16,)]\n",
      "\n",
      "Best Hyperparameters: {'C': 10, 'kernel': 'linear'}\n",
      "\n",
      "Validation Accuracy: [0.733 0.667 0.667]\n",
      "\n",
      "Average Validation Accuracy: 0.689\n",
      "\n",
      "Standard Deviation of Validation Accuracy: 0.031\n",
      "\n",
      "Training Accuracy: [0.767 0.767 0.833]\n",
      "\n",
      "Average Training Accuracy: 0.789\n",
      "\n",
      "Standard Deviation of Training Accuracy: 0.031\n"
     ]
    }
   ],
   "source": [
    "# SVM\n",
    "df_mouse_features = df_mouse_all[['VDP(%)','MSV(mL/mL)','TV(L)','VH(%)','VHSS(%)','VHLS(%)','HD','Genotype']]\n",
    "X_train,y_train,X_test,y_test = data_split(df_mouse_features,0.25)\n",
    "print()\n",
    "grid_results = grid('svm',X_train, y_train)\n",
    "print()\n",
    "cross_valid('svm',X_train, y_train)"
   ]
  },
  {
   "cell_type": "code",
   "execution_count": 396,
   "id": "af3cab2c",
   "metadata": {},
   "outputs": [
    {
     "name": "stdout",
     "output_type": "stream",
     "text": [
      "\u001b[1msvm\u001b[0m\n",
      "\n",
      "Testing accuracy score = 0.75\n"
     ]
    }
   ],
   "source": [
    "classier('svm', X_train, y_train, 'linear', 10)"
   ]
  },
  {
   "cell_type": "code",
   "execution_count": 397,
   "id": "92fd9caf",
   "metadata": {},
   "outputs": [
    {
     "name": "stdout",
     "output_type": "stream",
     "text": [
      "Best Hyperparameters: {'criterion': 'entropy', 'max_depth': 5}\n",
      "\n",
      "Validation Accuracy: [0.6   0.533 0.6  ]\n",
      "\n",
      "Average Validation Accuracy: 0.578\n",
      "\n",
      "Standard Deviation of Validation Accuracy: 0.031\n",
      "\n",
      "Training Accuracy: [1. 1. 1.]\n",
      "\n",
      "Average Training Accuracy: 1.0\n",
      "\n",
      "Standard Deviation of Training Accuracy: 0.0\n"
     ]
    }
   ],
   "source": [
    "# decision tree\n",
    "grid('decision tree',X_train, y_train)\n",
    "print()\n",
    "cross_valid('decision tree',X_train, y_train)"
   ]
  },
  {
   "cell_type": "code",
   "execution_count": 398,
   "id": "da26b47b",
   "metadata": {},
   "outputs": [
    {
     "name": "stdout",
     "output_type": "stream",
     "text": [
      "\u001b[1mdecision tree\u001b[0m\n",
      "\n",
      "Testing accuracy score = 0.6875\n"
     ]
    }
   ],
   "source": [
    "classier('decision tree', X_train, y_train, 'entropy', 5)"
   ]
  },
  {
   "cell_type": "code",
   "execution_count": 399,
   "id": "95cfa2aa",
   "metadata": {
    "scrolled": true
   },
   "outputs": [
    {
     "name": "stdout",
     "output_type": "stream",
     "text": [
      "Best Hyperparameters: {'n_neighbors': 3, 'weights': 'distance'}\n",
      "\n",
      "Validation Accuracy: [0.733 0.6   0.6  ]\n",
      "\n",
      "Average Validation Accuracy: 0.644\n",
      "\n",
      "Standard Deviation of Validation Accuracy: 0.063\n",
      "\n",
      "Training Accuracy: [0.7 0.7 0.8]\n",
      "\n",
      "Average Training Accuracy: 0.733\n",
      "\n",
      "Standard Deviation of Training Accuracy: 0.047\n"
     ]
    }
   ],
   "source": [
    "# KNN\n",
    "grid('knn',X_train, y_train)\n",
    "print()\n",
    "cross_valid('knn',X_train, y_train)"
   ]
  },
  {
   "cell_type": "code",
   "execution_count": 400,
   "id": "4512a369",
   "metadata": {},
   "outputs": [
    {
     "name": "stdout",
     "output_type": "stream",
     "text": [
      "\u001b[1mknn\u001b[0m\n",
      "\n",
      "Testing accuracy score = 0.625\n"
     ]
    }
   ],
   "source": [
    "classier('knn', X_train, y_train, 3, 'distance')"
   ]
  },
  {
   "cell_type": "code",
   "execution_count": 401,
   "id": "98ef2932",
   "metadata": {
    "scrolled": true
   },
   "outputs": [
    {
     "name": "stdout",
     "output_type": "stream",
     "text": [
      "Best Hyperparameters: {'criterion': 'gini', 'max_depth': 15}\n",
      "\n",
      "Validation Accuracy: [0.733 0.6   0.667]\n",
      "\n",
      "Average Validation Accuracy: 0.667\n",
      "\n",
      "Standard Deviation of Validation Accuracy: 0.054\n",
      "\n",
      "Training Accuracy: [1. 1. 1.]\n",
      "\n",
      "Average Training Accuracy: 1.0\n",
      "\n",
      "Standard Deviation of Training Accuracy: 0.0\n"
     ]
    }
   ],
   "source": [
    "# Random Forest\n",
    "grid('rf',X_train, y_train)\n",
    "print()\n",
    "cross_valid('rf',X_train, y_train)"
   ]
  },
  {
   "cell_type": "code",
   "execution_count": 402,
   "id": "c8f5e612",
   "metadata": {},
   "outputs": [
    {
     "name": "stdout",
     "output_type": "stream",
     "text": [
      "\u001b[1mrf\u001b[0m\n",
      "\n",
      "Testing accuracy score = 0.625\n"
     ]
    }
   ],
   "source": [
    "classier('rf', X_train, y_train, 'gini', 15)"
   ]
  },
  {
   "cell_type": "code",
   "execution_count": 403,
   "id": "bbbe29a1",
   "metadata": {},
   "outputs": [
    {
     "name": "stdout",
     "output_type": "stream",
     "text": [
      "Best Hyperparameters: {'learning_rate': 0.1, 'max_depth': 3}\n",
      "\n",
      "Validation Accuracy: [0.733 0.667 0.733]\n",
      "\n",
      "Average Validation Accuracy: 0.711\n",
      "\n",
      "Standard Deviation of Validation Accuracy: 0.031\n",
      "\n",
      "Training Accuracy: [1. 1. 1.]\n",
      "\n",
      "Average Training Accuracy: 1.0\n",
      "\n",
      "Standard Deviation of Training Accuracy: 0.0\n"
     ]
    }
   ],
   "source": [
    "# Gradient Boost Classifier\n",
    "grid('gbc',X_train, y_train)\n",
    "print()\n",
    "cross_valid('gbc',X_train, y_train)"
   ]
  },
  {
   "cell_type": "code",
   "execution_count": 404,
   "id": "e89424d1",
   "metadata": {},
   "outputs": [
    {
     "name": "stdout",
     "output_type": "stream",
     "text": [
      "\u001b[1mgbc\u001b[0m\n",
      "\n",
      "Testing accuracy score = 0.6875\n"
     ]
    }
   ],
   "source": [
    "classier('gbc', X_train, y_train, 0.1, 3)"
   ]
  },
  {
   "cell_type": "code",
   "execution_count": 405,
   "id": "73a03f56",
   "metadata": {},
   "outputs": [
    {
     "name": "stdout",
     "output_type": "stream",
     "text": [
      "Best Hyperparameters: {'loss': 'hinge', 'penalty': 'l2'}\n",
      "\n",
      "Validation Accuracy: [0.667 0.8   0.667]\n",
      "\n",
      "Average Validation Accuracy: 0.711\n",
      "\n",
      "Standard Deviation of Validation Accuracy: 0.063\n",
      "\n",
      "Training Accuracy: [0.8   0.967 0.9  ]\n",
      "\n",
      "Average Training Accuracy: 0.889\n",
      "\n",
      "Standard Deviation of Training Accuracy: 0.068\n"
     ]
    }
   ],
   "source": [
    "# SGD\n",
    "grid('sgd',X_train, y_train)\n",
    "print()\n",
    "cross_valid('sgd',X_train, y_train)"
   ]
  },
  {
   "cell_type": "code",
   "execution_count": 406,
   "id": "88636937",
   "metadata": {},
   "outputs": [
    {
     "name": "stdout",
     "output_type": "stream",
     "text": [
      "\u001b[1msgd\u001b[0m\n",
      "\n",
      "Testing accuracy score = 0.5\n"
     ]
    }
   ],
   "source": [
    "classier('sgd', X_train, y_train, \"hinge\", \"l2\")"
   ]
  },
  {
   "cell_type": "code",
   "execution_count": null,
   "id": "49689fc9",
   "metadata": {},
   "outputs": [],
   "source": []
  },
  {
   "cell_type": "code",
   "execution_count": null,
   "id": "1654221e",
   "metadata": {},
   "outputs": [],
   "source": []
  },
  {
   "cell_type": "code",
   "execution_count": null,
   "id": "91b37205",
   "metadata": {},
   "outputs": [],
   "source": []
  }
 ],
 "metadata": {
  "kernelspec": {
   "display_name": "Python 3 (ipykernel)",
   "language": "python",
   "name": "python3"
  },
  "language_info": {
   "codemirror_mode": {
    "name": "ipython",
    "version": 3
   },
   "file_extension": ".py",
   "mimetype": "text/x-python",
   "name": "python",
   "nbconvert_exporter": "python",
   "pygments_lexer": "ipython3",
   "version": "3.9.12"
  }
 },
 "nbformat": 4,
 "nbformat_minor": 5
}
