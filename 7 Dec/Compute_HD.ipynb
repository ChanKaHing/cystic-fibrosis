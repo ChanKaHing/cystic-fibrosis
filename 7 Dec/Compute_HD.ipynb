{
 "cells": [
  {
   "cell_type": "code",
   "execution_count": 92,
   "id": "77b20e80",
   "metadata": {},
   "outputs": [],
   "source": [
    "import os\n",
    "import pandas as pd\n",
    "import numpy as np\n",
    "from matplotlib import pyplot as plt"
   ]
  },
  {
   "cell_type": "code",
   "execution_count": 136,
   "id": "dba90dcf",
   "metadata": {},
   "outputs": [],
   "source": [
    "def IQR_HD_cal(path):\n",
    "\n",
    "    files = os.listdir(path)\n",
    "    \n",
    "    if 'B-ENaC' in path:\n",
    "        healthy_files = [file for file in files if 'wt' in file]\n",
    "        \n",
    "    elif 'MPS' in path:\n",
    "        df_mps = pd.read_csv('mouse_mps_summary.csv')\n",
    "        df_mps_wt = df_mps[df_mps['Genotype'] == 'WT']\n",
    "        scan_name = list(df_mps_wt['ScanName'].values)\n",
    "        healthy_files = [str(name) + '.specificVentilation.csv' for name in scan_name]\n",
    "        \n",
    "    elif 'PA' in path:\n",
    "        healthy_files = [file for file in files if 'WT' in file]\n",
    "        \n",
    "    elif 'Bead' in path:\n",
    "        healthy_files = [file for file in files if 'WT' in file and 'beads' not in file]\n",
    "        \n",
    "\n",
    "    # calculate the average IQR for healthy littermate\n",
    "    healthy_iqr_list = []\n",
    "\n",
    "    for file in healthy_files:\n",
    "\n",
    "        data = pd.read_csv(path + file, encoding=\"utf-8\")\n",
    "\n",
    "        data = data.to_numpy()\n",
    "\n",
    "        sv_data = data[:,0]\n",
    "\n",
    "        q1 = np.percentile(sv_data, 25)\n",
    "\n",
    "        q3 = np.percentile(sv_data, 75)\n",
    "\n",
    "        iqr = q3 - q1\n",
    "\n",
    "        healthy_iqr_list.append(iqr)\n",
    "\n",
    "    average_healthy_iqr = sum(healthy_iqr_list)/len(healthy_iqr_list)\n",
    "\n",
    "\n",
    "    dic = dict()\n",
    "\n",
    "    for file in files:\n",
    "\n",
    "        data = pd.read_csv(path + file, encoding=\"utf-8\")\n",
    "\n",
    "        data = data.to_numpy()\n",
    "\n",
    "        sv_data = data[:,0]\n",
    "\n",
    "        q1 = np.percentile(sv_data, 25)\n",
    "\n",
    "        q3 = np.percentile(sv_data, 75)\n",
    "\n",
    "        iqr = q3 - q1\n",
    "\n",
    "        dic[file] = [iqr, iqr/average_healthy_iqr]\n",
    "\n",
    "    df = pd.DataFrame.from_dict(dic, orient='index', columns=['IQR', 'HD'])\n",
    "\n",
    "    return df"
   ]
  },
  {
   "cell_type": "code",
   "execution_count": 128,
   "id": "bc2cd64d",
   "metadata": {},
   "outputs": [],
   "source": [
    "df_b_enac = IQR_HD_cal(\"./Mouse B-ENaC Study/csv/\")\n",
    "df_b_enac.to_csv('IQR_HD_summary/Mouse_B-ENaC_HD.csv', index=True)"
   ]
  },
  {
   "cell_type": "code",
   "execution_count": 129,
   "id": "c25c7c6a",
   "metadata": {},
   "outputs": [],
   "source": [
    "df_mps = IQR_HD_cal(\"./Mouse MPS Study/csv/\")\n",
    "df_mps.to_csv('IQR_HD_summary/Mouse_MPS_HD.csv', index=True)"
   ]
  },
  {
   "cell_type": "code",
   "execution_count": 130,
   "id": "573b3e8a",
   "metadata": {},
   "outputs": [],
   "source": [
    "df_pa = IQR_HD_cal(\"./Rat PA Study/csv/\")\n",
    "df_pa.to_csv('IQR_HD_summary/Rat_PA_HD.csv', index=True)"
   ]
  },
  {
   "cell_type": "code",
   "execution_count": 137,
   "id": "cbd2131c",
   "metadata": {},
   "outputs": [],
   "source": [
    "df_bead = IQR_HD_cal(\"./Rat Sterile Bead Study/csv/baseline_and_post_beads/\")\n",
    "df_bead.to_csv('IQR_HD_summary/Rat_Sterile_Bead_HD.csv', index=True)"
   ]
  },
  {
   "cell_type": "code",
   "execution_count": null,
   "id": "a66866b7",
   "metadata": {},
   "outputs": [],
   "source": []
  }
 ],
 "metadata": {
  "kernelspec": {
   "display_name": "Python 3 (ipykernel)",
   "language": "python",
   "name": "python3"
  },
  "language_info": {
   "codemirror_mode": {
    "name": "ipython",
    "version": 3
   },
   "file_extension": ".py",
   "mimetype": "text/x-python",
   "name": "python",
   "nbconvert_exporter": "python",
   "pygments_lexer": "ipython3",
   "version": "3.9.13"
  }
 },
 "nbformat": 4,
 "nbformat_minor": 5
}
