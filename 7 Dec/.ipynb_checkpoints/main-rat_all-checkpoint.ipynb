{
 "cells": [
  {
   "cell_type": "code",
   "execution_count": 1,
   "id": "de67824e",
   "metadata": {},
   "outputs": [],
   "source": [
    "import pandas as pd\n",
    "from correlation_map import corr_map\n",
    "from correlation_3D import corr_3D, rat_bead_study_data, rat_pa_study_data, mouse_b_enac_study_data, mouse_mps_study_data\n",
    "from Principle_Component_Analysis import pca_2D, pca_3D\n",
    "from Simple_Classifiers import data_split, svm"
   ]
  },
  {
   "cell_type": "code",
   "execution_count": 2,
   "id": "d04f1060",
   "metadata": {},
   "outputs": [],
   "source": [
    "# Loading the data\n",
    "df_rat_sterile_baseline = pd.read_csv('rat_sterile_baseline_summary.csv')\n",
    "df_rat_sterile_post_beads = pd.read_csv('rat_sterile_post_beads_summary.csv')\n",
    "df_rat_bead_combine, bead_labels = rat_bead_study_data(df_rat_sterile_baseline, df_rat_sterile_post_beads)\n",
    "\n",
    "df_rat_pa = pd.read_csv('rat_pa_summary.csv')\n",
    "df_rat_pa_combine, pa_labels = rat_pa_study_data(df_rat_pa)\n",
    "\n",
    "df_mouse_b_enac = pd.read_csv('mouse_b_enac_summary.csv')\n",
    "df_mouse_enac_combine, b_enac_labels = mouse_b_enac_study_data(df_mouse_b_enac)\n",
    "\n",
    "df_mouse_mps = pd.read_csv('mouse_mps_summary.csv')\n",
    "df_mouse_mps_combine, mps_labels = mouse_mps_study_data(df_mouse_mps)\n",
    "\n",
    "df_rat_sterile_baseline_hd = pd.read_csv('rat_sterile_baseline_summary_HD.csv')\n",
    "df_rat_sterile_post_beads_hd = pd.read_csv('rat_sterile_post_beads_summary_HD.csv')\n",
    "df_rat_bead_combine_hd, bead_hd_labels = rat_bead_study_data(df_rat_sterile_baseline_hd, df_rat_sterile_post_beads_hd)\n",
    "\n",
    "df_rat_pa_hd = pd.read_csv('rat_pa_summary_HD.csv')\n",
    "df_rat_pa_combine_hd, pa_hd_labels = rat_pa_study_data(df_rat_pa_hd)\n",
    "\n"
   ]
  },
  {
   "cell_type": "code",
   "execution_count": 3,
   "id": "491076d2",
   "metadata": {
    "scrolled": false
   },
   "outputs": [
    {
     "data": {
      "text/html": [
       "<div>\n",
       "<style scoped>\n",
       "    .dataframe tbody tr th:only-of-type {\n",
       "        vertical-align: middle;\n",
       "    }\n",
       "\n",
       "    .dataframe tbody tr th {\n",
       "        vertical-align: top;\n",
       "    }\n",
       "\n",
       "    .dataframe thead th {\n",
       "        text-align: right;\n",
       "    }\n",
       "</style>\n",
       "<table border=\"1\" class=\"dataframe\">\n",
       "  <thead>\n",
       "    <tr style=\"text-align: right;\">\n",
       "      <th></th>\n",
       "      <th>VDP(%)</th>\n",
       "      <th>MSV(mL/mL)</th>\n",
       "      <th>TV(L)</th>\n",
       "      <th>VH(%)</th>\n",
       "      <th>VHSS(%)</th>\n",
       "      <th>VHLS(%)</th>\n",
       "      <th>Genotype</th>\n",
       "      <th>IQR</th>\n",
       "      <th>HD</th>\n",
       "    </tr>\n",
       "  </thead>\n",
       "  <tbody>\n",
       "    <tr>\n",
       "      <th>0</th>\n",
       "      <td>15.2</td>\n",
       "      <td>0.155</td>\n",
       "      <td>1.248</td>\n",
       "      <td>46.57</td>\n",
       "      <td>18.56</td>\n",
       "      <td>33.36</td>\n",
       "      <td>WT</td>\n",
       "      <td>0.071684</td>\n",
       "      <td>0.939062</td>\n",
       "    </tr>\n",
       "    <tr>\n",
       "      <th>1</th>\n",
       "      <td>11.0</td>\n",
       "      <td>0.123</td>\n",
       "      <td>1.265</td>\n",
       "      <td>40.82</td>\n",
       "      <td>15.98</td>\n",
       "      <td>32.78</td>\n",
       "      <td>WT</td>\n",
       "      <td>0.050086</td>\n",
       "      <td>0.656118</td>\n",
       "    </tr>\n",
       "    <tr>\n",
       "      <th>2</th>\n",
       "      <td>17.1</td>\n",
       "      <td>0.121</td>\n",
       "      <td>1.304</td>\n",
       "      <td>52.22</td>\n",
       "      <td>22.77</td>\n",
       "      <td>34.79</td>\n",
       "      <td>WT</td>\n",
       "      <td>0.062760</td>\n",
       "      <td>0.822151</td>\n",
       "    </tr>\n",
       "    <tr>\n",
       "      <th>3</th>\n",
       "      <td>15.7</td>\n",
       "      <td>0.120</td>\n",
       "      <td>0.987</td>\n",
       "      <td>46.89</td>\n",
       "      <td>23.52</td>\n",
       "      <td>30.41</td>\n",
       "      <td>WT</td>\n",
       "      <td>0.057541</td>\n",
       "      <td>0.753788</td>\n",
       "    </tr>\n",
       "    <tr>\n",
       "      <th>4</th>\n",
       "      <td>19.8</td>\n",
       "      <td>0.170</td>\n",
       "      <td>0.130</td>\n",
       "      <td>55.57</td>\n",
       "      <td>25.40</td>\n",
       "      <td>37.11</td>\n",
       "      <td>WT</td>\n",
       "      <td>0.097475</td>\n",
       "      <td>1.276915</td>\n",
       "    </tr>\n",
       "    <tr>\n",
       "      <th>...</th>\n",
       "      <td>...</td>\n",
       "      <td>...</td>\n",
       "      <td>...</td>\n",
       "      <td>...</td>\n",
       "      <td>...</td>\n",
       "      <td>...</td>\n",
       "      <td>...</td>\n",
       "      <td>...</td>\n",
       "      <td>...</td>\n",
       "    </tr>\n",
       "    <tr>\n",
       "      <th>89</th>\n",
       "      <td>19.5</td>\n",
       "      <td>0.160</td>\n",
       "      <td>1.112</td>\n",
       "      <td>55.36</td>\n",
       "      <td>20.67</td>\n",
       "      <td>37.91</td>\n",
       "      <td>Phe508</td>\n",
       "      <td>0.087698</td>\n",
       "      <td>0.962382</td>\n",
       "    </tr>\n",
       "    <tr>\n",
       "      <th>90</th>\n",
       "      <td>31.1</td>\n",
       "      <td>0.186</td>\n",
       "      <td>0.958</td>\n",
       "      <td>98.96</td>\n",
       "      <td>24.81</td>\n",
       "      <td>80.42</td>\n",
       "      <td>Phe508</td>\n",
       "      <td>0.181889</td>\n",
       "      <td>1.996014</td>\n",
       "    </tr>\n",
       "    <tr>\n",
       "      <th>91</th>\n",
       "      <td>44.6</td>\n",
       "      <td>0.138</td>\n",
       "      <td>1.005</td>\n",
       "      <td>125.16</td>\n",
       "      <td>33.09</td>\n",
       "      <td>108.61</td>\n",
       "      <td>WT</td>\n",
       "      <td>0.171775</td>\n",
       "      <td>1.885019</td>\n",
       "    </tr>\n",
       "    <tr>\n",
       "      <th>92</th>\n",
       "      <td>13.5</td>\n",
       "      <td>0.243</td>\n",
       "      <td>1.136</td>\n",
       "      <td>43.77</td>\n",
       "      <td>15.24</td>\n",
       "      <td>35.84</td>\n",
       "      <td>KO</td>\n",
       "      <td>0.105581</td>\n",
       "      <td>1.158623</td>\n",
       "    </tr>\n",
       "    <tr>\n",
       "      <th>93</th>\n",
       "      <td>24.2</td>\n",
       "      <td>0.188</td>\n",
       "      <td>1.096</td>\n",
       "      <td>72.26</td>\n",
       "      <td>21.46</td>\n",
       "      <td>53.65</td>\n",
       "      <td>KO</td>\n",
       "      <td>0.135043</td>\n",
       "      <td>1.481936</td>\n",
       "    </tr>\n",
       "  </tbody>\n",
       "</table>\n",
       "<p>94 rows × 9 columns</p>\n",
       "</div>"
      ],
      "text/plain": [
       "    VDP(%)  MSV(mL/mL)  TV(L)   VH(%)  VHSS(%)  VHLS(%) Genotype       IQR  \\\n",
       "0     15.2       0.155  1.248   46.57    18.56    33.36       WT  0.071684   \n",
       "1     11.0       0.123  1.265   40.82    15.98    32.78       WT  0.050086   \n",
       "2     17.1       0.121  1.304   52.22    22.77    34.79       WT  0.062760   \n",
       "3     15.7       0.120  0.987   46.89    23.52    30.41       WT  0.057541   \n",
       "4     19.8       0.170  0.130   55.57    25.40    37.11       WT  0.097475   \n",
       "..     ...         ...    ...     ...      ...      ...      ...       ...   \n",
       "89    19.5       0.160  1.112   55.36    20.67    37.91   Phe508  0.087698   \n",
       "90    31.1       0.186  0.958   98.96    24.81    80.42   Phe508  0.181889   \n",
       "91    44.6       0.138  1.005  125.16    33.09   108.61       WT  0.171775   \n",
       "92    13.5       0.243  1.136   43.77    15.24    35.84       KO  0.105581   \n",
       "93    24.2       0.188  1.096   72.26    21.46    53.65       KO  0.135043   \n",
       "\n",
       "          HD  \n",
       "0   0.939062  \n",
       "1   0.656118  \n",
       "2   0.822151  \n",
       "3   0.753788  \n",
       "4   1.276915  \n",
       "..       ...  \n",
       "89  0.962382  \n",
       "90  1.996014  \n",
       "91  1.885019  \n",
       "92  1.158623  \n",
       "93  1.481936  \n",
       "\n",
       "[94 rows x 9 columns]"
      ]
     },
     "execution_count": 3,
     "metadata": {},
     "output_type": "execute_result"
    }
   ],
   "source": [
    "df_rat_pa_combine_hd_sel = df_rat_pa_combine_hd[['VDP(%)','MSV(mL/mL)','TV(L)','VH(%)','VHSS(%)','VHLS(%)','Genotype','IQR','HD']]\n",
    "df_rat_sterile_baseline_hd_sel = df_rat_sterile_baseline_hd[['VDP(%)','MSV(mL/mL)','TV(L)','VH(%)','VHSS(%)','VHLS(%)','Genotype','IQR','HD']]\n",
    "df_rat_sterile_post_beads_hd_sel = df_rat_sterile_post_beads_hd[['VDP(%)','MSV(mL/mL)','TV(L)','VH(%)','VHSS(%)','VHLS(%)','Genotype','IQR','HD']]\n",
    "df_rat_all = pd.concat([df_rat_pa_combine_hd_sel, df_rat_sterile_baseline_hd_sel, df_rat_sterile_post_beads_hd_sel], ignore_index=True)\n",
    "df_rat_all\n"
   ]
  },
  {
   "cell_type": "markdown",
   "id": "8dbdaa35",
   "metadata": {},
   "source": [
    "# Rat all"
   ]
  },
  {
   "cell_type": "code",
   "execution_count": 13,
   "id": "1f21616c",
   "metadata": {},
   "outputs": [
    {
     "data": {
      "application/vnd.plotly.v1+json": {
       "config": {
        "plotlyServerURL": "https://plot.ly"
       },
       "data": [
        {
         "hovertemplate": "color=WT<br>MSV(mL/mL)=%{x}<br>VDP(%)=%{y}<br>HD=%{z}<extra></extra>",
         "legendgroup": "WT",
         "marker": {
          "color": "#636efa",
          "size": 4,
          "symbol": "circle"
         },
         "mode": "markers",
         "name": "WT",
         "scene": "scene",
         "showlegend": true,
         "type": "scatter3d",
         "x": [
          0.155,
          0.123,
          0.121,
          0.12,
          0.17,
          0.16,
          0.125,
          0.139,
          0.162,
          0.153,
          0.16,
          0.18,
          0.17,
          0.17,
          0.14,
          0.15,
          0.2,
          0.128,
          0.119,
          0.16,
          0.14,
          0.19,
          0.145,
          0.141,
          0.158,
          0.182,
          0.16,
          0.14,
          0.15,
          0.132,
          0.139,
          0.147,
          0.138
         ],
         "y": [
          15.2,
          11,
          17.1,
          15.7,
          19.8,
          19,
          22.1,
          17.7,
          15.9,
          17.3,
          14.7,
          20.3,
          14.2,
          15.1,
          22.6,
          20.2,
          15.1,
          15.1,
          16.7,
          22,
          17.9,
          13.8,
          13.8,
          17.7,
          19.8,
          13.8,
          21.5,
          25.7,
          45.5,
          24,
          22.3,
          25.8,
          44.6
         ],
         "z": [
          0.939061579,
          0.656117607,
          0.82215097,
          0.753788029,
          1.276915197,
          1.129285591,
          1.057035247,
          0.925721925,
          1.033610288,
          1.004708578,
          0.882279954,
          1.463933002,
          0.939716575,
          1.026611653,
          1.201402971,
          1.198043823,
          1.135187107,
          0.760181447,
          0.794248457,
          1.017127477,
          0.763915552,
          0.830394759,
          0.676983948,
          0.724582753,
          0.918100015,
          0.90623735,
          1.011234553,
          1.085150695,
          2.162658148,
          1.022659363,
          1.001039904,
          1.257898967,
          1.885018571
         ]
        },
        {
         "hovertemplate": "color=KO<br>MSV(mL/mL)=%{x}<br>VDP(%)=%{y}<br>HD=%{z}<extra></extra>",
         "legendgroup": "KO",
         "marker": {
          "color": "#EF553B",
          "size": 4,
          "symbol": "circle"
         },
         "mode": "markers",
         "name": "KO",
         "scene": "scene",
         "showlegend": true,
         "type": "scatter3d",
         "x": [
          0.2,
          0.209,
          0.195,
          0.15,
          0.16,
          0.14,
          0.19,
          0.19,
          0.19,
          0.16,
          0.15,
          0.17,
          0.177,
          0.169,
          0.134,
          0.146,
          0.175,
          0.17,
          0.18,
          0.209,
          0.204,
          0.208,
          0.252,
          0.21,
          0.17,
          0.17,
          0.201,
          0.188,
          0.199,
          0.243,
          0.188
         ],
         "y": [
          13.4,
          13.5,
          15.3,
          18.3,
          17.6,
          15.1,
          13.1,
          18.5,
          16.5,
          11.5,
          16.1,
          18.2,
          13.3,
          14.1,
          13.7,
          12.3,
          13.7,
          17.3,
          20.2,
          13.8,
          16.4,
          13,
          14,
          14.5,
          23.5,
          23.5,
          23.9,
          18.4,
          16.4,
          13.5,
          24.2
         ],
         "z": [
          1.081896612,
          1.133398967,
          1.129855438,
          0.956818527,
          1.14605677,
          0.936048596,
          1.195109439,
          1.322647035,
          1.194349644,
          0.764550927,
          0.892373446,
          1.185854342,
          0.863854909,
          0.900534699,
          0.749224015,
          0.749754562,
          0.901025946,
          0.932626567,
          1.196441914,
          1.031338532,
          1.090920713,
          0.928228821,
          1.167759176,
          0.942966618,
          1.40567364,
          1.387421488,
          1.569910093,
          1.116909386,
          1.074608177,
          1.158623497,
          1.481935979
         ]
        },
        {
         "hovertemplate": "color=CF<br>MSV(mL/mL)=%{x}<br>VDP(%)=%{y}<br>HD=%{z}<extra></extra>",
         "legendgroup": "CF",
         "marker": {
          "color": "#00cc96",
          "size": 4,
          "symbol": "circle"
         },
         "mode": "markers",
         "name": "CF",
         "scene": "scene",
         "showlegend": true,
         "type": "scatter3d",
         "x": [
          0.159,
          0.16,
          0.18,
          0.18,
          0.18,
          0.15,
          0.2,
          0.187,
          0.179,
          0.205,
          0.14,
          0.17,
          0.15,
          0.211,
          0.177,
          0.128
         ],
         "y": [
          17,
          14.8,
          14,
          11.8,
          12,
          12.6,
          12.6,
          21.4,
          15.4,
          17.8,
          14.4,
          13.4,
          12.9,
          12.7,
          17.7,
          17.4
         ],
         "z": [
          1.00881213,
          0.92228385,
          1.011641714,
          0.932112069,
          0.911898884,
          0.809162722,
          1.019599918,
          1.391487141,
          1.053813648,
          1.45288649,
          0.736228889,
          0.869612326,
          0.7343425,
          1.099463612,
          1.16962681,
          0.868788341
         ]
        },
        {
         "hovertemplate": "color=Phe508<br>MSV(mL/mL)=%{x}<br>VDP(%)=%{y}<br>HD=%{z}<extra></extra>",
         "legendgroup": "Phe508",
         "marker": {
          "color": "#ab63fa",
          "size": 4,
          "symbol": "circle"
         },
         "mode": "markers",
         "name": "Phe508",
         "scene": "scene",
         "showlegend": true,
         "type": "scatter3d",
         "x": [
          0.2,
          0.2,
          0.18,
          0.2,
          0.2,
          0.167,
          0.212,
          0.2,
          0.19,
          0.17,
          0.19,
          0.18,
          0.16,
          0.186
         ],
         "y": [
          15.8,
          19.2,
          15.2,
          17.1,
          19.3,
          16.2,
          14.8,
          30.3,
          27.8,
          28.2,
          29,
          30.1,
          19.5,
          31.1
         ],
         "z": [
          1.073080078,
          1.181295343,
          0.857011681,
          1.192389843,
          1.182170503,
          0.870545105,
          1.074136305,
          1.808414399,
          1.589372106,
          1.605659951,
          1.631281002,
          1.798779413,
          0.962381992,
          1.996013772
         ]
        },
        {
         "hovertemplate": "color=WT<br>MSV(mL/mL)=%{x}<br>VDP(%)=%{y}<br>VH(%)=%{z}<extra></extra>",
         "legendgroup": "WT",
         "marker": {
          "color": "#636efa",
          "size": 4,
          "symbol": "circle"
         },
         "mode": "markers",
         "name": "WT",
         "scene": "scene2",
         "showlegend": true,
         "type": "scatter3d",
         "x": [
          0.155,
          0.123,
          0.121,
          0.12,
          0.17,
          0.16,
          0.125,
          0.139,
          0.162,
          0.153,
          0.16,
          0.18,
          0.17,
          0.17,
          0.14,
          0.15,
          0.2,
          0.128,
          0.119,
          0.16,
          0.14,
          0.19,
          0.145,
          0.141,
          0.158,
          0.182,
          0.16,
          0.14,
          0.15,
          0.132,
          0.139,
          0.147,
          0.138
         ],
         "y": [
          15.2,
          11,
          17.1,
          15.7,
          19.8,
          19,
          22.1,
          17.7,
          15.9,
          17.3,
          14.7,
          20.3,
          14.2,
          15.1,
          22.6,
          20.2,
          15.1,
          15.1,
          16.7,
          22,
          17.9,
          13.8,
          13.8,
          17.7,
          19.8,
          13.8,
          21.5,
          25.7,
          45.5,
          24,
          22.3,
          25.8,
          44.6
         ],
         "z": [
          46.57,
          40.82,
          52.22,
          46.89,
          55.57,
          52.99,
          64.91,
          51.18,
          49.02,
          50.34,
          43.32,
          61.03,
          41.54,
          45.15,
          64.33,
          59.89,
          43.52,
          45.73,
          51.44,
          57.89,
          49.52,
          39.89,
          42.85,
          47.54,
          53.12,
          45.52,
          58.4,
          72.94,
          131.25,
          70.86,
          66.04,
          78.32,
          125.16
         ]
        },
        {
         "hovertemplate": "color=KO<br>MSV(mL/mL)=%{x}<br>VDP(%)=%{y}<br>VH(%)=%{z}<extra></extra>",
         "legendgroup": "KO",
         "marker": {
          "color": "#EF553B",
          "size": 4,
          "symbol": "circle"
         },
         "mode": "markers",
         "name": "KO",
         "scene": "scene2",
         "showlegend": true,
         "type": "scatter3d",
         "x": [
          0.2,
          0.209,
          0.195,
          0.15,
          0.16,
          0.14,
          0.19,
          0.19,
          0.19,
          0.16,
          0.15,
          0.17,
          0.177,
          0.169,
          0.134,
          0.146,
          0.175,
          0.17,
          0.18,
          0.209,
          0.204,
          0.208,
          0.252,
          0.21,
          0.17,
          0.17,
          0.201,
          0.188,
          0.199,
          0.243,
          0.188
         ],
         "y": [
          13.4,
          13.5,
          15.3,
          18.3,
          17.6,
          15.1,
          13.1,
          18.5,
          16.5,
          11.5,
          16.1,
          18.2,
          13.3,
          14.1,
          13.7,
          12.3,
          13.7,
          17.3,
          20.2,
          13.8,
          16.4,
          13,
          14,
          14.5,
          23.5,
          23.5,
          23.9,
          18.4,
          16.4,
          13.5,
          24.2
         ],
         "z": [
          41.6,
          41.5,
          44.62,
          52.87,
          53.08,
          51.22,
          47.71,
          54.63,
          50.38,
          37.05,
          47.91,
          53.78,
          37.7,
          40.9,
          42.96,
          39.26,
          39.53,
          49.89,
          61.38,
          44.95,
          48.98,
          40.72,
          42.6,
          41.13,
          72.33,
          71.43,
          71.28,
          54.35,
          49.53,
          43.77,
          72.26
         ]
        },
        {
         "hovertemplate": "color=CF<br>MSV(mL/mL)=%{x}<br>VDP(%)=%{y}<br>VH(%)=%{z}<extra></extra>",
         "legendgroup": "CF",
         "marker": {
          "color": "#00cc96",
          "size": 4,
          "symbol": "circle"
         },
         "mode": "markers",
         "name": "CF",
         "scene": "scene2",
         "showlegend": true,
         "type": "scatter3d",
         "x": [
          0.159,
          0.16,
          0.18,
          0.18,
          0.18,
          0.15,
          0.2,
          0.187,
          0.179,
          0.205,
          0.14,
          0.17,
          0.15,
          0.211,
          0.177,
          0.128
         ],
         "y": [
          17,
          14.8,
          14,
          11.8,
          12,
          12.6,
          12.6,
          21.4,
          15.4,
          17.8,
          14.4,
          13.4,
          12.9,
          12.7,
          17.7,
          17.4
         ],
         "z": [
          48.77,
          45.4,
          43.24,
          40.05,
          38.54,
          42.73,
          41.34,
          57.48,
          45.02,
          54.06,
          43.57,
          39.99,
          38.97,
          40.15,
          50.73,
          52.27
         ]
        },
        {
         "hovertemplate": "color=Phe508<br>MSV(mL/mL)=%{x}<br>VDP(%)=%{y}<br>VH(%)=%{z}<extra></extra>",
         "legendgroup": "Phe508",
         "marker": {
          "color": "#ab63fa",
          "size": 4,
          "symbol": "circle"
         },
         "mode": "markers",
         "name": "Phe508",
         "scene": "scene2",
         "showlegend": true,
         "type": "scatter3d",
         "x": [
          0.2,
          0.2,
          0.18,
          0.2,
          0.2,
          0.167,
          0.212,
          0.2,
          0.19,
          0.17,
          0.19,
          0.18,
          0.16,
          0.186
         ],
         "y": [
          15.8,
          19.2,
          15.2,
          17.1,
          19.3,
          16.2,
          14.8,
          30.3,
          27.8,
          28.2,
          29,
          30.1,
          19.5,
          31.1
         ],
         "z": [
          47.7,
          51.35,
          44.54,
          51.64,
          54.22,
          48.18,
          46.75,
          82.34,
          76.13,
          81.49,
          77.71,
          84.97,
          55.36,
          98.96
         ]
        }
       ],
       "layout": {
        "annotations": [
         {
          "font": {
           "size": 16
          },
          "showarrow": false,
          "text": "MSV(mL/mL) vs VDP(%) vs HD",
          "x": 0.225,
          "xanchor": "center",
          "xref": "paper",
          "y": 1,
          "yanchor": "bottom",
          "yref": "paper"
         },
         {
          "font": {
           "size": 16
          },
          "showarrow": false,
          "text": "MSV(mL/mL) vs VDP(%) vs VH(%)",
          "x": 0.775,
          "xanchor": "center",
          "xref": "paper",
          "y": 1,
          "yanchor": "bottom",
          "yref": "paper"
         }
        ],
        "scene": {
         "aspectmode": "cube",
         "domain": {
          "x": [
           0,
           0.45
          ],
          "y": [
           0,
           1
          ]
         },
         "xaxis": {
          "title": {
           "text": "MSV(mL/mL)"
          }
         },
         "yaxis": {
          "title": {
           "text": "VDP(%)"
          }
         },
         "zaxis": {
          "title": {
           "text": "HD"
          }
         }
        },
        "scene2": {
         "domain": {
          "x": [
           0.55,
           1
          ],
          "y": [
           0,
           1
          ]
         },
         "xaxis": {
          "title": {
           "text": "MSV(mL/mL)"
          }
         },
         "yaxis": {
          "title": {
           "text": "VDP(%)"
          }
         },
         "zaxis": {
          "title": {
           "text": "VH(%)"
          }
         }
        },
        "template": {
         "data": {
          "bar": [
           {
            "error_x": {
             "color": "#2a3f5f"
            },
            "error_y": {
             "color": "#2a3f5f"
            },
            "marker": {
             "line": {
              "color": "#E5ECF6",
              "width": 0.5
             },
             "pattern": {
              "fillmode": "overlay",
              "size": 10,
              "solidity": 0.2
             }
            },
            "type": "bar"
           }
          ],
          "barpolar": [
           {
            "marker": {
             "line": {
              "color": "#E5ECF6",
              "width": 0.5
             },
             "pattern": {
              "fillmode": "overlay",
              "size": 10,
              "solidity": 0.2
             }
            },
            "type": "barpolar"
           }
          ],
          "carpet": [
           {
            "aaxis": {
             "endlinecolor": "#2a3f5f",
             "gridcolor": "white",
             "linecolor": "white",
             "minorgridcolor": "white",
             "startlinecolor": "#2a3f5f"
            },
            "baxis": {
             "endlinecolor": "#2a3f5f",
             "gridcolor": "white",
             "linecolor": "white",
             "minorgridcolor": "white",
             "startlinecolor": "#2a3f5f"
            },
            "type": "carpet"
           }
          ],
          "choropleth": [
           {
            "colorbar": {
             "outlinewidth": 0,
             "ticks": ""
            },
            "type": "choropleth"
           }
          ],
          "contour": [
           {
            "colorbar": {
             "outlinewidth": 0,
             "ticks": ""
            },
            "colorscale": [
             [
              0,
              "#0d0887"
             ],
             [
              0.1111111111111111,
              "#46039f"
             ],
             [
              0.2222222222222222,
              "#7201a8"
             ],
             [
              0.3333333333333333,
              "#9c179e"
             ],
             [
              0.4444444444444444,
              "#bd3786"
             ],
             [
              0.5555555555555556,
              "#d8576b"
             ],
             [
              0.6666666666666666,
              "#ed7953"
             ],
             [
              0.7777777777777778,
              "#fb9f3a"
             ],
             [
              0.8888888888888888,
              "#fdca26"
             ],
             [
              1,
              "#f0f921"
             ]
            ],
            "type": "contour"
           }
          ],
          "contourcarpet": [
           {
            "colorbar": {
             "outlinewidth": 0,
             "ticks": ""
            },
            "type": "contourcarpet"
           }
          ],
          "heatmap": [
           {
            "colorbar": {
             "outlinewidth": 0,
             "ticks": ""
            },
            "colorscale": [
             [
              0,
              "#0d0887"
             ],
             [
              0.1111111111111111,
              "#46039f"
             ],
             [
              0.2222222222222222,
              "#7201a8"
             ],
             [
              0.3333333333333333,
              "#9c179e"
             ],
             [
              0.4444444444444444,
              "#bd3786"
             ],
             [
              0.5555555555555556,
              "#d8576b"
             ],
             [
              0.6666666666666666,
              "#ed7953"
             ],
             [
              0.7777777777777778,
              "#fb9f3a"
             ],
             [
              0.8888888888888888,
              "#fdca26"
             ],
             [
              1,
              "#f0f921"
             ]
            ],
            "type": "heatmap"
           }
          ],
          "heatmapgl": [
           {
            "colorbar": {
             "outlinewidth": 0,
             "ticks": ""
            },
            "colorscale": [
             [
              0,
              "#0d0887"
             ],
             [
              0.1111111111111111,
              "#46039f"
             ],
             [
              0.2222222222222222,
              "#7201a8"
             ],
             [
              0.3333333333333333,
              "#9c179e"
             ],
             [
              0.4444444444444444,
              "#bd3786"
             ],
             [
              0.5555555555555556,
              "#d8576b"
             ],
             [
              0.6666666666666666,
              "#ed7953"
             ],
             [
              0.7777777777777778,
              "#fb9f3a"
             ],
             [
              0.8888888888888888,
              "#fdca26"
             ],
             [
              1,
              "#f0f921"
             ]
            ],
            "type": "heatmapgl"
           }
          ],
          "histogram": [
           {
            "marker": {
             "pattern": {
              "fillmode": "overlay",
              "size": 10,
              "solidity": 0.2
             }
            },
            "type": "histogram"
           }
          ],
          "histogram2d": [
           {
            "colorbar": {
             "outlinewidth": 0,
             "ticks": ""
            },
            "colorscale": [
             [
              0,
              "#0d0887"
             ],
             [
              0.1111111111111111,
              "#46039f"
             ],
             [
              0.2222222222222222,
              "#7201a8"
             ],
             [
              0.3333333333333333,
              "#9c179e"
             ],
             [
              0.4444444444444444,
              "#bd3786"
             ],
             [
              0.5555555555555556,
              "#d8576b"
             ],
             [
              0.6666666666666666,
              "#ed7953"
             ],
             [
              0.7777777777777778,
              "#fb9f3a"
             ],
             [
              0.8888888888888888,
              "#fdca26"
             ],
             [
              1,
              "#f0f921"
             ]
            ],
            "type": "histogram2d"
           }
          ],
          "histogram2dcontour": [
           {
            "colorbar": {
             "outlinewidth": 0,
             "ticks": ""
            },
            "colorscale": [
             [
              0,
              "#0d0887"
             ],
             [
              0.1111111111111111,
              "#46039f"
             ],
             [
              0.2222222222222222,
              "#7201a8"
             ],
             [
              0.3333333333333333,
              "#9c179e"
             ],
             [
              0.4444444444444444,
              "#bd3786"
             ],
             [
              0.5555555555555556,
              "#d8576b"
             ],
             [
              0.6666666666666666,
              "#ed7953"
             ],
             [
              0.7777777777777778,
              "#fb9f3a"
             ],
             [
              0.8888888888888888,
              "#fdca26"
             ],
             [
              1,
              "#f0f921"
             ]
            ],
            "type": "histogram2dcontour"
           }
          ],
          "mesh3d": [
           {
            "colorbar": {
             "outlinewidth": 0,
             "ticks": ""
            },
            "type": "mesh3d"
           }
          ],
          "parcoords": [
           {
            "line": {
             "colorbar": {
              "outlinewidth": 0,
              "ticks": ""
             }
            },
            "type": "parcoords"
           }
          ],
          "pie": [
           {
            "automargin": true,
            "type": "pie"
           }
          ],
          "scatter": [
           {
            "marker": {
             "colorbar": {
              "outlinewidth": 0,
              "ticks": ""
             }
            },
            "type": "scatter"
           }
          ],
          "scatter3d": [
           {
            "line": {
             "colorbar": {
              "outlinewidth": 0,
              "ticks": ""
             }
            },
            "marker": {
             "colorbar": {
              "outlinewidth": 0,
              "ticks": ""
             }
            },
            "type": "scatter3d"
           }
          ],
          "scattercarpet": [
           {
            "marker": {
             "colorbar": {
              "outlinewidth": 0,
              "ticks": ""
             }
            },
            "type": "scattercarpet"
           }
          ],
          "scattergeo": [
           {
            "marker": {
             "colorbar": {
              "outlinewidth": 0,
              "ticks": ""
             }
            },
            "type": "scattergeo"
           }
          ],
          "scattergl": [
           {
            "marker": {
             "colorbar": {
              "outlinewidth": 0,
              "ticks": ""
             }
            },
            "type": "scattergl"
           }
          ],
          "scattermapbox": [
           {
            "marker": {
             "colorbar": {
              "outlinewidth": 0,
              "ticks": ""
             }
            },
            "type": "scattermapbox"
           }
          ],
          "scatterpolar": [
           {
            "marker": {
             "colorbar": {
              "outlinewidth": 0,
              "ticks": ""
             }
            },
            "type": "scatterpolar"
           }
          ],
          "scatterpolargl": [
           {
            "marker": {
             "colorbar": {
              "outlinewidth": 0,
              "ticks": ""
             }
            },
            "type": "scatterpolargl"
           }
          ],
          "scatterternary": [
           {
            "marker": {
             "colorbar": {
              "outlinewidth": 0,
              "ticks": ""
             }
            },
            "type": "scatterternary"
           }
          ],
          "surface": [
           {
            "colorbar": {
             "outlinewidth": 0,
             "ticks": ""
            },
            "colorscale": [
             [
              0,
              "#0d0887"
             ],
             [
              0.1111111111111111,
              "#46039f"
             ],
             [
              0.2222222222222222,
              "#7201a8"
             ],
             [
              0.3333333333333333,
              "#9c179e"
             ],
             [
              0.4444444444444444,
              "#bd3786"
             ],
             [
              0.5555555555555556,
              "#d8576b"
             ],
             [
              0.6666666666666666,
              "#ed7953"
             ],
             [
              0.7777777777777778,
              "#fb9f3a"
             ],
             [
              0.8888888888888888,
              "#fdca26"
             ],
             [
              1,
              "#f0f921"
             ]
            ],
            "type": "surface"
           }
          ],
          "table": [
           {
            "cells": {
             "fill": {
              "color": "#EBF0F8"
             },
             "line": {
              "color": "white"
             }
            },
            "header": {
             "fill": {
              "color": "#C8D4E3"
             },
             "line": {
              "color": "white"
             }
            },
            "type": "table"
           }
          ]
         },
         "layout": {
          "annotationdefaults": {
           "arrowcolor": "#2a3f5f",
           "arrowhead": 0,
           "arrowwidth": 1
          },
          "autotypenumbers": "strict",
          "coloraxis": {
           "colorbar": {
            "outlinewidth": 0,
            "ticks": ""
           }
          },
          "colorscale": {
           "diverging": [
            [
             0,
             "#8e0152"
            ],
            [
             0.1,
             "#c51b7d"
            ],
            [
             0.2,
             "#de77ae"
            ],
            [
             0.3,
             "#f1b6da"
            ],
            [
             0.4,
             "#fde0ef"
            ],
            [
             0.5,
             "#f7f7f7"
            ],
            [
             0.6,
             "#e6f5d0"
            ],
            [
             0.7,
             "#b8e186"
            ],
            [
             0.8,
             "#7fbc41"
            ],
            [
             0.9,
             "#4d9221"
            ],
            [
             1,
             "#276419"
            ]
           ],
           "sequential": [
            [
             0,
             "#0d0887"
            ],
            [
             0.1111111111111111,
             "#46039f"
            ],
            [
             0.2222222222222222,
             "#7201a8"
            ],
            [
             0.3333333333333333,
             "#9c179e"
            ],
            [
             0.4444444444444444,
             "#bd3786"
            ],
            [
             0.5555555555555556,
             "#d8576b"
            ],
            [
             0.6666666666666666,
             "#ed7953"
            ],
            [
             0.7777777777777778,
             "#fb9f3a"
            ],
            [
             0.8888888888888888,
             "#fdca26"
            ],
            [
             1,
             "#f0f921"
            ]
           ],
           "sequentialminus": [
            [
             0,
             "#0d0887"
            ],
            [
             0.1111111111111111,
             "#46039f"
            ],
            [
             0.2222222222222222,
             "#7201a8"
            ],
            [
             0.3333333333333333,
             "#9c179e"
            ],
            [
             0.4444444444444444,
             "#bd3786"
            ],
            [
             0.5555555555555556,
             "#d8576b"
            ],
            [
             0.6666666666666666,
             "#ed7953"
            ],
            [
             0.7777777777777778,
             "#fb9f3a"
            ],
            [
             0.8888888888888888,
             "#fdca26"
            ],
            [
             1,
             "#f0f921"
            ]
           ]
          },
          "colorway": [
           "#636efa",
           "#EF553B",
           "#00cc96",
           "#ab63fa",
           "#FFA15A",
           "#19d3f3",
           "#FF6692",
           "#B6E880",
           "#FF97FF",
           "#FECB52"
          ],
          "font": {
           "color": "#2a3f5f"
          },
          "geo": {
           "bgcolor": "white",
           "lakecolor": "white",
           "landcolor": "#E5ECF6",
           "showlakes": true,
           "showland": true,
           "subunitcolor": "white"
          },
          "hoverlabel": {
           "align": "left"
          },
          "hovermode": "closest",
          "mapbox": {
           "style": "light"
          },
          "paper_bgcolor": "white",
          "plot_bgcolor": "#E5ECF6",
          "polar": {
           "angularaxis": {
            "gridcolor": "white",
            "linecolor": "white",
            "ticks": ""
           },
           "bgcolor": "#E5ECF6",
           "radialaxis": {
            "gridcolor": "white",
            "linecolor": "white",
            "ticks": ""
           }
          },
          "scene": {
           "xaxis": {
            "backgroundcolor": "#E5ECF6",
            "gridcolor": "white",
            "gridwidth": 2,
            "linecolor": "white",
            "showbackground": true,
            "ticks": "",
            "zerolinecolor": "white"
           },
           "yaxis": {
            "backgroundcolor": "#E5ECF6",
            "gridcolor": "white",
            "gridwidth": 2,
            "linecolor": "white",
            "showbackground": true,
            "ticks": "",
            "zerolinecolor": "white"
           },
           "zaxis": {
            "backgroundcolor": "#E5ECF6",
            "gridcolor": "white",
            "gridwidth": 2,
            "linecolor": "white",
            "showbackground": true,
            "ticks": "",
            "zerolinecolor": "white"
           }
          },
          "shapedefaults": {
           "line": {
            "color": "#2a3f5f"
           }
          },
          "ternary": {
           "aaxis": {
            "gridcolor": "white",
            "linecolor": "white",
            "ticks": ""
           },
           "baxis": {
            "gridcolor": "white",
            "linecolor": "white",
            "ticks": ""
           },
           "bgcolor": "#E5ECF6",
           "caxis": {
            "gridcolor": "white",
            "linecolor": "white",
            "ticks": ""
           }
          },
          "title": {
           "x": 0.05
          },
          "xaxis": {
           "automargin": true,
           "gridcolor": "white",
           "linecolor": "white",
           "ticks": "",
           "title": {
            "standoff": 15
           },
           "zerolinecolor": "white",
           "zerolinewidth": 2
          },
          "yaxis": {
           "automargin": true,
           "gridcolor": "white",
           "linecolor": "white",
           "ticks": "",
           "title": {
            "standoff": 15
           },
           "zerolinecolor": "white",
           "zerolinewidth": 2
          }
         }
        }
       }
      },
      "text/html": [
       "<div>                            <div id=\"8dec68a3-86ed-4c46-84c8-97bec66dbd9c\" class=\"plotly-graph-div\" style=\"height:525px; width:100%;\"></div>            <script type=\"text/javascript\">                require([\"plotly\"], function(Plotly) {                    window.PLOTLYENV=window.PLOTLYENV || {};                                    if (document.getElementById(\"8dec68a3-86ed-4c46-84c8-97bec66dbd9c\")) {                    Plotly.newPlot(                        \"8dec68a3-86ed-4c46-84c8-97bec66dbd9c\",                        [{\"hovertemplate\":\"color=WT<br>MSV(mL/mL)=%{x}<br>VDP(%)=%{y}<br>HD=%{z}<extra></extra>\",\"legendgroup\":\"WT\",\"marker\":{\"color\":\"#636efa\",\"symbol\":\"circle\",\"size\":4},\"mode\":\"markers\",\"name\":\"WT\",\"scene\":\"scene\",\"showlegend\":true,\"x\":[0.155,0.123,0.121,0.12,0.17,0.16,0.125,0.139,0.162,0.153,0.16,0.18,0.17,0.17,0.14,0.15,0.2,0.128,0.119,0.16,0.14,0.19,0.145,0.141,0.158,0.182,0.16,0.14,0.15,0.132,0.139,0.147,0.138],\"y\":[15.2,11.0,17.1,15.7,19.8,19.0,22.1,17.7,15.9,17.3,14.7,20.3,14.2,15.1,22.6,20.2,15.1,15.1,16.7,22.0,17.9,13.8,13.8,17.7,19.8,13.8,21.5,25.7,45.5,24.0,22.3,25.8,44.6],\"z\":[0.939061579,0.656117607,0.82215097,0.753788029,1.276915197,1.129285591,1.057035247,0.925721925,1.033610288,1.004708578,0.882279954,1.463933002,0.939716575,1.026611653,1.201402971,1.198043823,1.135187107,0.760181447,0.794248457,1.017127477,0.763915552,0.830394759,0.676983948,0.724582753,0.918100015,0.90623735,1.011234553,1.085150695,2.162658148,1.022659363,1.001039904,1.257898967,1.885018571],\"type\":\"scatter3d\"},{\"hovertemplate\":\"color=KO<br>MSV(mL/mL)=%{x}<br>VDP(%)=%{y}<br>HD=%{z}<extra></extra>\",\"legendgroup\":\"KO\",\"marker\":{\"color\":\"#EF553B\",\"symbol\":\"circle\",\"size\":4},\"mode\":\"markers\",\"name\":\"KO\",\"scene\":\"scene\",\"showlegend\":true,\"x\":[0.2,0.209,0.195,0.15,0.16,0.14,0.19,0.19,0.19,0.16,0.15,0.17,0.177,0.169,0.134,0.146,0.175,0.17,0.18,0.209,0.204,0.208,0.252,0.21,0.17,0.17,0.201,0.188,0.199,0.243,0.188],\"y\":[13.4,13.5,15.3,18.3,17.6,15.1,13.1,18.5,16.5,11.5,16.1,18.2,13.3,14.1,13.7,12.3,13.7,17.3,20.2,13.8,16.4,13.0,14.0,14.5,23.5,23.5,23.9,18.4,16.4,13.5,24.2],\"z\":[1.081896612,1.133398967,1.129855438,0.956818527,1.14605677,0.936048596,1.195109439,1.322647035,1.194349644,0.764550927,0.892373446,1.185854342,0.863854909,0.900534699,0.749224015,0.749754562,0.901025946,0.932626567,1.196441914,1.031338532,1.090920713,0.928228821,1.167759176,0.942966618,1.40567364,1.387421488,1.569910093,1.116909386,1.074608177,1.158623497,1.481935979],\"type\":\"scatter3d\"},{\"hovertemplate\":\"color=CF<br>MSV(mL/mL)=%{x}<br>VDP(%)=%{y}<br>HD=%{z}<extra></extra>\",\"legendgroup\":\"CF\",\"marker\":{\"color\":\"#00cc96\",\"symbol\":\"circle\",\"size\":4},\"mode\":\"markers\",\"name\":\"CF\",\"scene\":\"scene\",\"showlegend\":true,\"x\":[0.159,0.16,0.18,0.18,0.18,0.15,0.2,0.187,0.179,0.205,0.14,0.17,0.15,0.211,0.177,0.128],\"y\":[17.0,14.8,14.0,11.8,12.0,12.6,12.6,21.4,15.4,17.8,14.4,13.4,12.9,12.7,17.7,17.4],\"z\":[1.00881213,0.92228385,1.011641714,0.932112069,0.911898884,0.809162722,1.019599918,1.391487141,1.053813648,1.45288649,0.736228889,0.869612326,0.7343425,1.099463612,1.16962681,0.868788341],\"type\":\"scatter3d\"},{\"hovertemplate\":\"color=Phe508<br>MSV(mL/mL)=%{x}<br>VDP(%)=%{y}<br>HD=%{z}<extra></extra>\",\"legendgroup\":\"Phe508\",\"marker\":{\"color\":\"#ab63fa\",\"symbol\":\"circle\",\"size\":4},\"mode\":\"markers\",\"name\":\"Phe508\",\"scene\":\"scene\",\"showlegend\":true,\"x\":[0.2,0.2,0.18,0.2,0.2,0.167,0.212,0.2,0.19,0.17,0.19,0.18,0.16,0.186],\"y\":[15.8,19.2,15.2,17.1,19.3,16.2,14.8,30.3,27.8,28.2,29.0,30.1,19.5,31.1],\"z\":[1.073080078,1.181295343,0.857011681,1.192389843,1.182170503,0.870545105,1.074136305,1.808414399,1.589372106,1.605659951,1.631281002,1.798779413,0.962381992,1.996013772],\"type\":\"scatter3d\"},{\"hovertemplate\":\"color=WT<br>MSV(mL/mL)=%{x}<br>VDP(%)=%{y}<br>VH(%)=%{z}<extra></extra>\",\"legendgroup\":\"WT\",\"marker\":{\"color\":\"#636efa\",\"symbol\":\"circle\",\"size\":4},\"mode\":\"markers\",\"name\":\"WT\",\"scene\":\"scene2\",\"showlegend\":true,\"x\":[0.155,0.123,0.121,0.12,0.17,0.16,0.125,0.139,0.162,0.153,0.16,0.18,0.17,0.17,0.14,0.15,0.2,0.128,0.119,0.16,0.14,0.19,0.145,0.141,0.158,0.182,0.16,0.14,0.15,0.132,0.139,0.147,0.138],\"y\":[15.2,11.0,17.1,15.7,19.8,19.0,22.1,17.7,15.9,17.3,14.7,20.3,14.2,15.1,22.6,20.2,15.1,15.1,16.7,22.0,17.9,13.8,13.8,17.7,19.8,13.8,21.5,25.7,45.5,24.0,22.3,25.8,44.6],\"z\":[46.57,40.82,52.22,46.89,55.57,52.99,64.91,51.18,49.02,50.34,43.32,61.03,41.54,45.15,64.33,59.89,43.52,45.73,51.44,57.89,49.52,39.89,42.85,47.54,53.12,45.52,58.4,72.94,131.25,70.86,66.04,78.32,125.16],\"type\":\"scatter3d\"},{\"hovertemplate\":\"color=KO<br>MSV(mL/mL)=%{x}<br>VDP(%)=%{y}<br>VH(%)=%{z}<extra></extra>\",\"legendgroup\":\"KO\",\"marker\":{\"color\":\"#EF553B\",\"symbol\":\"circle\",\"size\":4},\"mode\":\"markers\",\"name\":\"KO\",\"scene\":\"scene2\",\"showlegend\":true,\"x\":[0.2,0.209,0.195,0.15,0.16,0.14,0.19,0.19,0.19,0.16,0.15,0.17,0.177,0.169,0.134,0.146,0.175,0.17,0.18,0.209,0.204,0.208,0.252,0.21,0.17,0.17,0.201,0.188,0.199,0.243,0.188],\"y\":[13.4,13.5,15.3,18.3,17.6,15.1,13.1,18.5,16.5,11.5,16.1,18.2,13.3,14.1,13.7,12.3,13.7,17.3,20.2,13.8,16.4,13.0,14.0,14.5,23.5,23.5,23.9,18.4,16.4,13.5,24.2],\"z\":[41.6,41.5,44.62,52.87,53.08,51.22,47.71,54.63,50.38,37.05,47.91,53.78,37.7,40.9,42.96,39.26,39.53,49.89,61.38,44.95,48.98,40.72,42.6,41.13,72.33,71.43,71.28,54.35,49.53,43.77,72.26],\"type\":\"scatter3d\"},{\"hovertemplate\":\"color=CF<br>MSV(mL/mL)=%{x}<br>VDP(%)=%{y}<br>VH(%)=%{z}<extra></extra>\",\"legendgroup\":\"CF\",\"marker\":{\"color\":\"#00cc96\",\"symbol\":\"circle\",\"size\":4},\"mode\":\"markers\",\"name\":\"CF\",\"scene\":\"scene2\",\"showlegend\":true,\"x\":[0.159,0.16,0.18,0.18,0.18,0.15,0.2,0.187,0.179,0.205,0.14,0.17,0.15,0.211,0.177,0.128],\"y\":[17.0,14.8,14.0,11.8,12.0,12.6,12.6,21.4,15.4,17.8,14.4,13.4,12.9,12.7,17.7,17.4],\"z\":[48.77,45.4,43.24,40.05,38.54,42.73,41.34,57.48,45.02,54.06,43.57,39.99,38.97,40.15,50.73,52.27],\"type\":\"scatter3d\"},{\"hovertemplate\":\"color=Phe508<br>MSV(mL/mL)=%{x}<br>VDP(%)=%{y}<br>VH(%)=%{z}<extra></extra>\",\"legendgroup\":\"Phe508\",\"marker\":{\"color\":\"#ab63fa\",\"symbol\":\"circle\",\"size\":4},\"mode\":\"markers\",\"name\":\"Phe508\",\"scene\":\"scene2\",\"showlegend\":true,\"x\":[0.2,0.2,0.18,0.2,0.2,0.167,0.212,0.2,0.19,0.17,0.19,0.18,0.16,0.186],\"y\":[15.8,19.2,15.2,17.1,19.3,16.2,14.8,30.3,27.8,28.2,29.0,30.1,19.5,31.1],\"z\":[47.7,51.35,44.54,51.64,54.22,48.18,46.75,82.34,76.13,81.49,77.71,84.97,55.36,98.96],\"type\":\"scatter3d\"}],                        {\"template\":{\"data\":{\"bar\":[{\"error_x\":{\"color\":\"#2a3f5f\"},\"error_y\":{\"color\":\"#2a3f5f\"},\"marker\":{\"line\":{\"color\":\"#E5ECF6\",\"width\":0.5},\"pattern\":{\"fillmode\":\"overlay\",\"size\":10,\"solidity\":0.2}},\"type\":\"bar\"}],\"barpolar\":[{\"marker\":{\"line\":{\"color\":\"#E5ECF6\",\"width\":0.5},\"pattern\":{\"fillmode\":\"overlay\",\"size\":10,\"solidity\":0.2}},\"type\":\"barpolar\"}],\"carpet\":[{\"aaxis\":{\"endlinecolor\":\"#2a3f5f\",\"gridcolor\":\"white\",\"linecolor\":\"white\",\"minorgridcolor\":\"white\",\"startlinecolor\":\"#2a3f5f\"},\"baxis\":{\"endlinecolor\":\"#2a3f5f\",\"gridcolor\":\"white\",\"linecolor\":\"white\",\"minorgridcolor\":\"white\",\"startlinecolor\":\"#2a3f5f\"},\"type\":\"carpet\"}],\"choropleth\":[{\"colorbar\":{\"outlinewidth\":0,\"ticks\":\"\"},\"type\":\"choropleth\"}],\"contour\":[{\"colorbar\":{\"outlinewidth\":0,\"ticks\":\"\"},\"colorscale\":[[0.0,\"#0d0887\"],[0.1111111111111111,\"#46039f\"],[0.2222222222222222,\"#7201a8\"],[0.3333333333333333,\"#9c179e\"],[0.4444444444444444,\"#bd3786\"],[0.5555555555555556,\"#d8576b\"],[0.6666666666666666,\"#ed7953\"],[0.7777777777777778,\"#fb9f3a\"],[0.8888888888888888,\"#fdca26\"],[1.0,\"#f0f921\"]],\"type\":\"contour\"}],\"contourcarpet\":[{\"colorbar\":{\"outlinewidth\":0,\"ticks\":\"\"},\"type\":\"contourcarpet\"}],\"heatmap\":[{\"colorbar\":{\"outlinewidth\":0,\"ticks\":\"\"},\"colorscale\":[[0.0,\"#0d0887\"],[0.1111111111111111,\"#46039f\"],[0.2222222222222222,\"#7201a8\"],[0.3333333333333333,\"#9c179e\"],[0.4444444444444444,\"#bd3786\"],[0.5555555555555556,\"#d8576b\"],[0.6666666666666666,\"#ed7953\"],[0.7777777777777778,\"#fb9f3a\"],[0.8888888888888888,\"#fdca26\"],[1.0,\"#f0f921\"]],\"type\":\"heatmap\"}],\"heatmapgl\":[{\"colorbar\":{\"outlinewidth\":0,\"ticks\":\"\"},\"colorscale\":[[0.0,\"#0d0887\"],[0.1111111111111111,\"#46039f\"],[0.2222222222222222,\"#7201a8\"],[0.3333333333333333,\"#9c179e\"],[0.4444444444444444,\"#bd3786\"],[0.5555555555555556,\"#d8576b\"],[0.6666666666666666,\"#ed7953\"],[0.7777777777777778,\"#fb9f3a\"],[0.8888888888888888,\"#fdca26\"],[1.0,\"#f0f921\"]],\"type\":\"heatmapgl\"}],\"histogram\":[{\"marker\":{\"pattern\":{\"fillmode\":\"overlay\",\"size\":10,\"solidity\":0.2}},\"type\":\"histogram\"}],\"histogram2d\":[{\"colorbar\":{\"outlinewidth\":0,\"ticks\":\"\"},\"colorscale\":[[0.0,\"#0d0887\"],[0.1111111111111111,\"#46039f\"],[0.2222222222222222,\"#7201a8\"],[0.3333333333333333,\"#9c179e\"],[0.4444444444444444,\"#bd3786\"],[0.5555555555555556,\"#d8576b\"],[0.6666666666666666,\"#ed7953\"],[0.7777777777777778,\"#fb9f3a\"],[0.8888888888888888,\"#fdca26\"],[1.0,\"#f0f921\"]],\"type\":\"histogram2d\"}],\"histogram2dcontour\":[{\"colorbar\":{\"outlinewidth\":0,\"ticks\":\"\"},\"colorscale\":[[0.0,\"#0d0887\"],[0.1111111111111111,\"#46039f\"],[0.2222222222222222,\"#7201a8\"],[0.3333333333333333,\"#9c179e\"],[0.4444444444444444,\"#bd3786\"],[0.5555555555555556,\"#d8576b\"],[0.6666666666666666,\"#ed7953\"],[0.7777777777777778,\"#fb9f3a\"],[0.8888888888888888,\"#fdca26\"],[1.0,\"#f0f921\"]],\"type\":\"histogram2dcontour\"}],\"mesh3d\":[{\"colorbar\":{\"outlinewidth\":0,\"ticks\":\"\"},\"type\":\"mesh3d\"}],\"parcoords\":[{\"line\":{\"colorbar\":{\"outlinewidth\":0,\"ticks\":\"\"}},\"type\":\"parcoords\"}],\"pie\":[{\"automargin\":true,\"type\":\"pie\"}],\"scatter\":[{\"marker\":{\"colorbar\":{\"outlinewidth\":0,\"ticks\":\"\"}},\"type\":\"scatter\"}],\"scatter3d\":[{\"line\":{\"colorbar\":{\"outlinewidth\":0,\"ticks\":\"\"}},\"marker\":{\"colorbar\":{\"outlinewidth\":0,\"ticks\":\"\"}},\"type\":\"scatter3d\"}],\"scattercarpet\":[{\"marker\":{\"colorbar\":{\"outlinewidth\":0,\"ticks\":\"\"}},\"type\":\"scattercarpet\"}],\"scattergeo\":[{\"marker\":{\"colorbar\":{\"outlinewidth\":0,\"ticks\":\"\"}},\"type\":\"scattergeo\"}],\"scattergl\":[{\"marker\":{\"colorbar\":{\"outlinewidth\":0,\"ticks\":\"\"}},\"type\":\"scattergl\"}],\"scattermapbox\":[{\"marker\":{\"colorbar\":{\"outlinewidth\":0,\"ticks\":\"\"}},\"type\":\"scattermapbox\"}],\"scatterpolar\":[{\"marker\":{\"colorbar\":{\"outlinewidth\":0,\"ticks\":\"\"}},\"type\":\"scatterpolar\"}],\"scatterpolargl\":[{\"marker\":{\"colorbar\":{\"outlinewidth\":0,\"ticks\":\"\"}},\"type\":\"scatterpolargl\"}],\"scatterternary\":[{\"marker\":{\"colorbar\":{\"outlinewidth\":0,\"ticks\":\"\"}},\"type\":\"scatterternary\"}],\"surface\":[{\"colorbar\":{\"outlinewidth\":0,\"ticks\":\"\"},\"colorscale\":[[0.0,\"#0d0887\"],[0.1111111111111111,\"#46039f\"],[0.2222222222222222,\"#7201a8\"],[0.3333333333333333,\"#9c179e\"],[0.4444444444444444,\"#bd3786\"],[0.5555555555555556,\"#d8576b\"],[0.6666666666666666,\"#ed7953\"],[0.7777777777777778,\"#fb9f3a\"],[0.8888888888888888,\"#fdca26\"],[1.0,\"#f0f921\"]],\"type\":\"surface\"}],\"table\":[{\"cells\":{\"fill\":{\"color\":\"#EBF0F8\"},\"line\":{\"color\":\"white\"}},\"header\":{\"fill\":{\"color\":\"#C8D4E3\"},\"line\":{\"color\":\"white\"}},\"type\":\"table\"}]},\"layout\":{\"annotationdefaults\":{\"arrowcolor\":\"#2a3f5f\",\"arrowhead\":0,\"arrowwidth\":1},\"autotypenumbers\":\"strict\",\"coloraxis\":{\"colorbar\":{\"outlinewidth\":0,\"ticks\":\"\"}},\"colorscale\":{\"diverging\":[[0,\"#8e0152\"],[0.1,\"#c51b7d\"],[0.2,\"#de77ae\"],[0.3,\"#f1b6da\"],[0.4,\"#fde0ef\"],[0.5,\"#f7f7f7\"],[0.6,\"#e6f5d0\"],[0.7,\"#b8e186\"],[0.8,\"#7fbc41\"],[0.9,\"#4d9221\"],[1,\"#276419\"]],\"sequential\":[[0.0,\"#0d0887\"],[0.1111111111111111,\"#46039f\"],[0.2222222222222222,\"#7201a8\"],[0.3333333333333333,\"#9c179e\"],[0.4444444444444444,\"#bd3786\"],[0.5555555555555556,\"#d8576b\"],[0.6666666666666666,\"#ed7953\"],[0.7777777777777778,\"#fb9f3a\"],[0.8888888888888888,\"#fdca26\"],[1.0,\"#f0f921\"]],\"sequentialminus\":[[0.0,\"#0d0887\"],[0.1111111111111111,\"#46039f\"],[0.2222222222222222,\"#7201a8\"],[0.3333333333333333,\"#9c179e\"],[0.4444444444444444,\"#bd3786\"],[0.5555555555555556,\"#d8576b\"],[0.6666666666666666,\"#ed7953\"],[0.7777777777777778,\"#fb9f3a\"],[0.8888888888888888,\"#fdca26\"],[1.0,\"#f0f921\"]]},\"colorway\":[\"#636efa\",\"#EF553B\",\"#00cc96\",\"#ab63fa\",\"#FFA15A\",\"#19d3f3\",\"#FF6692\",\"#B6E880\",\"#FF97FF\",\"#FECB52\"],\"font\":{\"color\":\"#2a3f5f\"},\"geo\":{\"bgcolor\":\"white\",\"lakecolor\":\"white\",\"landcolor\":\"#E5ECF6\",\"showlakes\":true,\"showland\":true,\"subunitcolor\":\"white\"},\"hoverlabel\":{\"align\":\"left\"},\"hovermode\":\"closest\",\"mapbox\":{\"style\":\"light\"},\"paper_bgcolor\":\"white\",\"plot_bgcolor\":\"#E5ECF6\",\"polar\":{\"angularaxis\":{\"gridcolor\":\"white\",\"linecolor\":\"white\",\"ticks\":\"\"},\"bgcolor\":\"#E5ECF6\",\"radialaxis\":{\"gridcolor\":\"white\",\"linecolor\":\"white\",\"ticks\":\"\"}},\"scene\":{\"xaxis\":{\"backgroundcolor\":\"#E5ECF6\",\"gridcolor\":\"white\",\"gridwidth\":2,\"linecolor\":\"white\",\"showbackground\":true,\"ticks\":\"\",\"zerolinecolor\":\"white\"},\"yaxis\":{\"backgroundcolor\":\"#E5ECF6\",\"gridcolor\":\"white\",\"gridwidth\":2,\"linecolor\":\"white\",\"showbackground\":true,\"ticks\":\"\",\"zerolinecolor\":\"white\"},\"zaxis\":{\"backgroundcolor\":\"#E5ECF6\",\"gridcolor\":\"white\",\"gridwidth\":2,\"linecolor\":\"white\",\"showbackground\":true,\"ticks\":\"\",\"zerolinecolor\":\"white\"}},\"shapedefaults\":{\"line\":{\"color\":\"#2a3f5f\"}},\"ternary\":{\"aaxis\":{\"gridcolor\":\"white\",\"linecolor\":\"white\",\"ticks\":\"\"},\"baxis\":{\"gridcolor\":\"white\",\"linecolor\":\"white\",\"ticks\":\"\"},\"bgcolor\":\"#E5ECF6\",\"caxis\":{\"gridcolor\":\"white\",\"linecolor\":\"white\",\"ticks\":\"\"}},\"title\":{\"x\":0.05},\"xaxis\":{\"automargin\":true,\"gridcolor\":\"white\",\"linecolor\":\"white\",\"ticks\":\"\",\"title\":{\"standoff\":15},\"zerolinecolor\":\"white\",\"zerolinewidth\":2},\"yaxis\":{\"automargin\":true,\"gridcolor\":\"white\",\"linecolor\":\"white\",\"ticks\":\"\",\"title\":{\"standoff\":15},\"zerolinecolor\":\"white\",\"zerolinewidth\":2}}},\"scene\":{\"domain\":{\"x\":[0.0,0.45],\"y\":[0.0,1.0]},\"aspectmode\":\"cube\",\"xaxis\":{\"title\":{\"text\":\"MSV(mL/mL)\"}},\"yaxis\":{\"title\":{\"text\":\"VDP(%)\"}},\"zaxis\":{\"title\":{\"text\":\"HD\"}}},\"scene2\":{\"domain\":{\"x\":[0.55,1.0],\"y\":[0.0,1.0]},\"xaxis\":{\"title\":{\"text\":\"MSV(mL/mL)\"}},\"yaxis\":{\"title\":{\"text\":\"VDP(%)\"}},\"zaxis\":{\"title\":{\"text\":\"VH(%)\"}}},\"annotations\":[{\"font\":{\"size\":16},\"showarrow\":false,\"text\":\"MSV(mL/mL) vs VDP(%) vs HD\",\"x\":0.225,\"xanchor\":\"center\",\"xref\":\"paper\",\"y\":1.0,\"yanchor\":\"bottom\",\"yref\":\"paper\"},{\"font\":{\"size\":16},\"showarrow\":false,\"text\":\"MSV(mL/mL) vs VDP(%) vs VH(%)\",\"x\":0.775,\"xanchor\":\"center\",\"xref\":\"paper\",\"y\":1.0,\"yanchor\":\"bottom\",\"yref\":\"paper\"}]},                        {\"responsive\": true}                    ).then(function(){\n",
       "                            \n",
       "var gd = document.getElementById('8dec68a3-86ed-4c46-84c8-97bec66dbd9c');\n",
       "var x = new MutationObserver(function (mutations, observer) {{\n",
       "        var display = window.getComputedStyle(gd).display;\n",
       "        if (!display || display === 'none') {{\n",
       "            console.log([gd, 'removed!']);\n",
       "            Plotly.purge(gd);\n",
       "            observer.disconnect();\n",
       "        }}\n",
       "}});\n",
       "\n",
       "// Listen for the removal of the full notebook cells\n",
       "var notebookContainer = gd.closest('#notebook-container');\n",
       "if (notebookContainer) {{\n",
       "    x.observe(notebookContainer, {childList: true});\n",
       "}}\n",
       "\n",
       "// Listen for the clearing of the current output cell\n",
       "var outputEl = gd.closest('.output');\n",
       "if (outputEl) {{\n",
       "    x.observe(outputEl, {childList: true});\n",
       "}}\n",
       "\n",
       "                        })                };                });            </script>        </div>"
      ]
     },
     "metadata": {},
     "output_type": "display_data"
    }
   ],
   "source": [
    "corr_3D(df_rat_all, df_rat_all['Genotype'], ['MSV(mL/mL)','VDP(%)','HD'], ['MSV(mL/mL)','VDP(%)','VH(%)'])"
   ]
  },
  {
   "cell_type": "code",
   "execution_count": 5,
   "id": "2f430925",
   "metadata": {},
   "outputs": [
    {
     "name": "stdout",
     "output_type": "stream",
     "text": [
      "The amount of variance explained by [PC1 PC2] = [0.62693099 0.18227828]\n"
     ]
    },
    {
     "data": {
      "image/png": "[encoded data removed]",
      "text/plain": [
       "<Figure size 504x360 with 1 Axes>"
      ]
     },
     "metadata": {
      "needs_background": "light"
     },
     "output_type": "display_data"
    }
   ],
   "source": [
    "pca_2D(df_rat_all, 'PCA of rat all')"
   ]
  },
  {
   "cell_type": "code",
   "execution_count": 6,
   "id": "974dc381",
   "metadata": {},
   "outputs": [
    {
     "name": "stdout",
     "output_type": "stream",
     "text": [
      "The amount of variance explained by [PC1 PC2 PC3] = [0.62693099 0.18227828 0.13677593]\n"
     ]
    },
    {
     "data": {
      "application/vnd.plotly.v1+json": {
       "config": {
        "plotlyServerURL": "https://plot.ly"
       },
       "data": [
        {
         "hovertemplate": "Label=WT<br>PC1=%{x}<br>PC2=%{y}<br>PC3=%{z}<extra></extra>",
         "legendgroup": "WT",
         "marker": {
          "color": "#636efa",
          "symbol": "circle"
         },
         "mode": "markers",
         "name": "WT",
         "scene": "scene",
         "showlegend": true,
         "type": "scatter3d",
         "x": [
          -1.2562690115059632,
          -2.416592824883989,
          -0.5565679364422207,
          -0.8846125341901551,
          0.9889238288469855,
          0.3332013173834731,
          0.893802169541216,
          -0.39968566926657534,
          -0.8906813711222893,
          -0.3083657278037531,
          -1.2007867487357649,
          1.2683277977016032,
          -1.1560189106785024,
          -1.0591422073619605,
          1.7992683100040734,
          0.7396226175570003,
          -1.078723956902929,
          -1.5963028860657604,
          -0.8341839346671542,
          0.7687853689390709,
          -0.10824468378582892,
          -1.714819294429729,
          -1.9817631452953248,
          -0.48110346284764977,
          -0.052957994737868726,
          -1.6568636209424445,
          0.6203695317360455,
          2.2834716076320185,
          9.28741009016879,
          1.2522606459085606,
          0.9598794587546121,
          2.3564514394112375,
          8.694459320808681
         ],
         "y": [
          -0.5185600289045913,
          -1.6322537122335152,
          -2.146138790493368,
          -2.296567483185971,
          -0.138723362001149,
          -0.2990235550456641,
          -1.7868440571842885,
          -1.3521033410032466,
          -0.09302436840843491,
          -0.7758397968457434,
          -0.5884438175801562,
          0.8936597475124743,
          -0.08745965427835518,
          0.2598146990857422,
          -1.2621022396782595,
          -0.38068257584902315,
          1.1080453069343816,
          -1.7023157468625567,
          -2.139687014033785,
          -0.5073732777923667,
          -1.7251020692548278,
          0.3037827201152224,
          -1.174334929911885,
          -1.9892933676195135,
          -0.9239289300800458,
          0.36332621775202,
          -0.4643870224338821,
          -1.5471898707997882,
          -0.43600331297026595,
          -1.6590737400797813,
          -1.4854734806198107,
          -1.002076302108477,
          -1.2080401639474752
         ],
         "z": [
          0.911453133879462,
          0.8429679693833299,
          0.9681575210749805,
          0.24259505947384555,
          -1.1929619884662601,
          -1.1308525327913825,
          1.1467991391305232,
          1.0650216674098252,
          0.9256533230710643,
          0.7144819193108704,
          0.36721179573270607,
          -0.9261007770687542,
          -1.33580321924878,
          -1.229251523255132,
          -1.079916573250386,
          -1.0020995200346499,
          0.8125524907501169,
          0.8777867262270206,
          0.7780833852433683,
          -1.0455263326855169,
          -1.349368014248944,
          0.9394018173539052,
          0.41393984088058466,
          0.12447323703873002,
          0.47974059161837457,
          1.0029304008379938,
          -1.0318681383795438,
          -0.9851206907669606,
          1.7960731975813378,
          0.8275375844603851,
          0.8373765387423849,
          0.9476849738594278,
          1.6774228661427157
         ]
        },
        {
         "hovertemplate": "Label=KO<br>PC1=%{x}<br>PC2=%{y}<br>PC3=%{z}<extra></extra>",
         "legendgroup": "KO",
         "marker": {
          "color": "#EF553B",
          "symbol": "circle"
         },
         "mode": "markers",
         "name": "KO",
         "scene": "scene",
         "showlegend": true,
         "type": "scatter3d",
         "x": [
          -1.7584823447641724,
          -1.501733971361953,
          -0.9340130697174107,
          0.16238300145834947,
          0.23036183363763657,
          -0.36526494306094015,
          -0.6377046297543041,
          0.4565420206725983,
          -0.26751907290056004,
          -2.3116852855961274,
          -0.7461043511080862,
          0.3170757212024622,
          -2.2124152371253074,
          -1.938512055244577,
          -2.110131519632778,
          -2.3152079765210103,
          -1.917096138706164,
          -0.6055974764221796,
          0.8935453500218487,
          -1.449570698179818,
          -0.7009844069726635,
          -2.0336270556339033,
          -1.4821956181344629,
          -1.7945893127693853,
          2.261896958692696,
          2.4593777296293027,
          1.8484035332550686,
          -0.09008404527201963,
          -0.9661782766875845,
          -1.5514257735614485,
          1.898441848076766
         ],
         "y": [
          1.2259369696294893,
          1.5870024270188123,
          0.8871800010095009,
          -0.97413955119391,
          -0.15651509305828612,
          -1.1529347072699605,
          1.0013127411772054,
          1.048554803875249,
          1.0583320221585621,
          -0.24787663698194676,
          -0.7006375773693301,
          0.1382292210184599,
          0.18565820623120943,
          0.07278709145141819,
          -1.1932099343901885,
          -0.9326738057316187,
          0.11956368029233892,
          -0.0017791974302087759,
          0.530065361104117,
          1.400475068587845,
          1.1810908307331314,
          1.4705529262279324,
          3.0686626321774595,
          1.4249585995039034,
          0.2793849174393761,
          0.17493038353931828,
          1.544311463638133,
          0.4914687107623688,
          1.215812649537311,
          2.8831911938007524,
          0.9410740245788912
         ],
         "z": [
          1.0380799272211962,
          0.7510167731520401,
          0.7713709072762246,
          -1.2400452372269661,
          -1.137460837007637,
          -1.293817036524457,
          -1.2469977905539253,
          -1.080704247620415,
          -1.1087525826144342,
          -1.3778382987073445,
          -1.2397383469426073,
          -1.1284758898416716,
          0.8589290635915604,
          0.9141637773979079,
          1.0338664690375183,
          0.8386539060045235,
          0.7964026037773639,
          -1.197213309412351,
          -0.9771416659215096,
          0.5354711064831021,
          0.5839091823851785,
          0.5688713705426106,
          0.6996406005714834,
          0.7849591030609969,
          -0.8252159398641613,
          -0.846198254050303,
          1.1104176933794838,
          0.8064976907517782,
          0.7912419715577773,
          0.7972297432261,
          1.0819636513381274
         ]
        },
        {
         "hovertemplate": "Label=CF<br>PC1=%{x}<br>PC2=%{y}<br>PC3=%{z}<extra></extra>",
         "legendgroup": "CF",
         "marker": {
          "color": "#00cc96",
          "symbol": "circle"
         },
         "mode": "markers",
         "name": "CF",
         "scene": "scene",
         "showlegend": true,
         "type": "scatter3d",
         "x": [
          -0.539447905417037,
          -1.1315490392271008,
          -0.9703966298725261,
          -1.903886222340457,
          -2.0554086689014706,
          -1.670097113350273,
          -1.4760790249505324,
          0.7698532120563084,
          -1.2010895666273849,
          0.13907220913885868,
          -1.3105644513575108,
          -1.4340893425886203,
          -2.00871050276036,
          -1.5364375459344983,
          0.011868290824785079,
          -0.4804047977850427
         ],
         "y": [
          -0.6038085904061117,
          -0.5089270530119131,
          0.19652597915593323,
          0.25652194516249843,
          0.34116724753383426,
          -0.6508308244760886,
          1.170492191852847,
          1.007471046527403,
          0.4719769139467806,
          1.8292263655453929,
          -1.2577864048698209,
          -0.06615958642615918,
          -0.7815516453956476,
          1.4580982951208872,
          -0.06058397934883427,
          -1.887759898705242
         ],
         "z": [
          0.980125929541381,
          0.11815869590618198,
          0.3024251519733071,
          0.4439913869515862,
          0.6183472459272985,
          -1.3186555645131863,
          -1.3112159307077484,
          0.9935119232218051,
          0.9684511497088681,
          0.7320784802206045,
          -1.3404171600295647,
          -1.3474649467408475,
          -1.3895458148533932,
          0.8377085611662214,
          0.8270391632504652,
          0.5803536578973186
         ]
        },
        {
         "hovertemplate": "Label=Phe508<br>PC1=%{x}<br>PC2=%{y}<br>PC3=%{z}<extra></extra>",
         "legendgroup": "Phe508",
         "marker": {
          "color": "#ab63fa",
          "symbol": "circle"
         },
         "mode": "markers",
         "name": "Phe508",
         "scene": "scene",
         "showlegend": true,
         "type": "scatter3d",
         "x": [
          -0.12906760826293281,
          0.901507635513911,
          -0.848197050725202,
          0.3401303664627575,
          0.5370399584901558,
          -0.664370274335613,
          -0.8157732257688178,
          4.289606991801792,
          3.276956945349498,
          3.5937883261132146,
          3.62359824051858,
          4.29362591948182,
          -0.229524006318092,
          5.177592560524416
         ],
         "y": [
          0.770727753167386,
          0.6688613041236664,
          0.04726711379617057,
          0.9443686103989828,
          0.8080718095841031,
          -0.6885661253967313,
          1.1986869860521994,
          1.4134983822764682,
          0.8746270215204177,
          0.42710516067129894,
          0.8797733392534509,
          0.8493251800907067,
          -0.5466067241081881,
          1.2614360841033592
         ],
         "z": [
          -1.300519454565259,
          -1.2194816190535,
          -1.3349516732897602,
          -1.2188546812007104,
          -1.2118057796707935,
          0.27528987460753535,
          0.19675037503985063,
          -0.6188500149570009,
          -0.7430105458491452,
          -0.645065308787731,
          -0.7696528467406913,
          -0.5836213265201902,
          0.7538944803770491,
          1.2714246182162174
         ]
        }
       ],
       "layout": {
        "legend": {
         "title": {
          "text": "Label"
         },
         "tracegroupgap": 0
        },
        "scene": {
         "domain": {
          "x": [
           0,
           1
          ],
          "y": [
           0,
           1
          ]
         },
         "xaxis": {
          "title": {
           "text": "PC1"
          }
         },
         "yaxis": {
          "title": {
           "text": "PC2"
          }
         },
         "zaxis": {
          "title": {
           "text": "PC3"
          }
         }
        },
        "template": {
         "data": {
          "bar": [
           {
            "error_x": {
             "color": "#2a3f5f"
            },
            "error_y": {
             "color": "#2a3f5f"
            },
            "marker": {
             "line": {
              "color": "#E5ECF6",
              "width": 0.5
             },
             "pattern": {
              "fillmode": "overlay",
              "size": 10,
              "solidity": 0.2
             }
            },
            "type": "bar"
           }
          ],
          "barpolar": [
           {
            "marker": {
             "line": {
              "color": "#E5ECF6",
              "width": 0.5
             },
             "pattern": {
              "fillmode": "overlay",
              "size": 10,
              "solidity": 0.2
             }
            },
            "type": "barpolar"
           }
          ],
          "carpet": [
           {
            "aaxis": {
             "endlinecolor": "#2a3f5f",
             "gridcolor": "white",
             "linecolor": "white",
             "minorgridcolor": "white",
             "startlinecolor": "#2a3f5f"
            },
            "baxis": {
             "endlinecolor": "#2a3f5f",
             "gridcolor": "white",
             "linecolor": "white",
             "minorgridcolor": "white",
             "startlinecolor": "#2a3f5f"
            },
            "type": "carpet"
           }
          ],
          "choropleth": [
           {
            "colorbar": {
             "outlinewidth": 0,
             "ticks": ""
            },
            "type": "choropleth"
           }
          ],
          "contour": [
           {
            "colorbar": {
             "outlinewidth": 0,
             "ticks": ""
            },
            "colorscale": [
             [
              0,
              "#0d0887"
             ],
             [
              0.1111111111111111,
              "#46039f"
             ],
             [
              0.2222222222222222,
              "#7201a8"
             ],
             [
              0.3333333333333333,
              "#9c179e"
             ],
             [
              0.4444444444444444,
              "#bd3786"
             ],
             [
              0.5555555555555556,
              "#d8576b"
             ],
             [
              0.6666666666666666,
              "#ed7953"
             ],
             [
              0.7777777777777778,
              "#fb9f3a"
             ],
             [
              0.8888888888888888,
              "#fdca26"
             ],
             [
              1,
              "#f0f921"
             ]
            ],
            "type": "contour"
           }
          ],
          "contourcarpet": [
           {
            "colorbar": {
             "outlinewidth": 0,
             "ticks": ""
            },
            "type": "contourcarpet"
           }
          ],
          "heatmap": [
           {
            "colorbar": {
             "outlinewidth": 0,
             "ticks": ""
            },
            "colorscale": [
             [
              0,
              "#0d0887"
             ],
             [
              0.1111111111111111,
              "#46039f"
             ],
             [
              0.2222222222222222,
              "#7201a8"
             ],
             [
              0.3333333333333333,
              "#9c179e"
             ],
             [
              0.4444444444444444,
              "#bd3786"
             ],
             [
              0.5555555555555556,
              "#d8576b"
             ],
             [
              0.6666666666666666,
              "#ed7953"
             ],
             [
              0.7777777777777778,
              "#fb9f3a"
             ],
             [
              0.8888888888888888,
              "#fdca26"
             ],
             [
              1,
              "#f0f921"
             ]
            ],
            "type": "heatmap"
           }
          ],
          "heatmapgl": [
           {
            "colorbar": {
             "outlinewidth": 0,
             "ticks": ""
            },
            "colorscale": [
             [
              0,
              "#0d0887"
             ],
             [
              0.1111111111111111,
              "#46039f"
             ],
             [
              0.2222222222222222,
              "#7201a8"
             ],
             [
              0.3333333333333333,
              "#9c179e"
             ],
             [
              0.4444444444444444,
              "#bd3786"
             ],
             [
              0.5555555555555556,
              "#d8576b"
             ],
             [
              0.6666666666666666,
              "#ed7953"
             ],
             [
              0.7777777777777778,
              "#fb9f3a"
             ],
             [
              0.8888888888888888,
              "#fdca26"
             ],
             [
              1,
              "#f0f921"
             ]
            ],
            "type": "heatmapgl"
           }
          ],
          "histogram": [
           {
            "marker": {
             "pattern": {
              "fillmode": "overlay",
              "size": 10,
              "solidity": 0.2
             }
            },
            "type": "histogram"
           }
          ],
          "histogram2d": [
           {
            "colorbar": {
             "outlinewidth": 0,
             "ticks": ""
            },
            "colorscale": [
             [
              0,
              "#0d0887"
             ],
             [
              0.1111111111111111,
              "#46039f"
             ],
             [
              0.2222222222222222,
              "#7201a8"
             ],
             [
              0.3333333333333333,
              "#9c179e"
             ],
             [
              0.4444444444444444,
              "#bd3786"
             ],
             [
              0.5555555555555556,
              "#d8576b"
             ],
             [
              0.6666666666666666,
              "#ed7953"
             ],
             [
              0.7777777777777778,
              "#fb9f3a"
             ],
             [
              0.8888888888888888,
              "#fdca26"
             ],
             [
              1,
              "#f0f921"
             ]
            ],
            "type": "histogram2d"
           }
          ],
          "histogram2dcontour": [
           {
            "colorbar": {
             "outlinewidth": 0,
             "ticks": ""
            },
            "colorscale": [
             [
              0,
              "#0d0887"
             ],
             [
              0.1111111111111111,
              "#46039f"
             ],
             [
              0.2222222222222222,
              "#7201a8"
             ],
             [
              0.3333333333333333,
              "#9c179e"
             ],
             [
              0.4444444444444444,
              "#bd3786"
             ],
             [
              0.5555555555555556,
              "#d8576b"
             ],
             [
              0.6666666666666666,
              "#ed7953"
             ],
             [
              0.7777777777777778,
              "#fb9f3a"
             ],
             [
              0.8888888888888888,
              "#fdca26"
             ],
             [
              1,
              "#f0f921"
             ]
            ],
            "type": "histogram2dcontour"
           }
          ],
          "mesh3d": [
           {
            "colorbar": {
             "outlinewidth": 0,
             "ticks": ""
            },
            "type": "mesh3d"
           }
          ],
          "parcoords": [
           {
            "line": {
             "colorbar": {
              "outlinewidth": 0,
              "ticks": ""
             }
            },
            "type": "parcoords"
           }
          ],
          "pie": [
           {
            "automargin": true,
            "type": "pie"
           }
          ],
          "scatter": [
           {
            "marker": {
             "colorbar": {
              "outlinewidth": 0,
              "ticks": ""
             }
            },
            "type": "scatter"
           }
          ],
          "scatter3d": [
           {
            "line": {
             "colorbar": {
              "outlinewidth": 0,
              "ticks": ""
             }
            },
            "marker": {
             "colorbar": {
              "outlinewidth": 0,
              "ticks": ""
             }
            },
            "type": "scatter3d"
           }
          ],
          "scattercarpet": [
           {
            "marker": {
             "colorbar": {
              "outlinewidth": 0,
              "ticks": ""
             }
            },
            "type": "scattercarpet"
           }
          ],
          "scattergeo": [
           {
            "marker": {
             "colorbar": {
              "outlinewidth": 0,
              "ticks": ""
             }
            },
            "type": "scattergeo"
           }
          ],
          "scattergl": [
           {
            "marker": {
             "colorbar": {
              "outlinewidth": 0,
              "ticks": ""
             }
            },
            "type": "scattergl"
           }
          ],
          "scattermapbox": [
           {
            "marker": {
             "colorbar": {
              "outlinewidth": 0,
              "ticks": ""
             }
            },
            "type": "scattermapbox"
           }
          ],
          "scatterpolar": [
           {
            "marker": {
             "colorbar": {
              "outlinewidth": 0,
              "ticks": ""
             }
            },
            "type": "scatterpolar"
           }
          ],
          "scatterpolargl": [
           {
            "marker": {
             "colorbar": {
              "outlinewidth": 0,
              "ticks": ""
             }
            },
            "type": "scatterpolargl"
           }
          ],
          "scatterternary": [
           {
            "marker": {
             "colorbar": {
              "outlinewidth": 0,
              "ticks": ""
             }
            },
            "type": "scatterternary"
           }
          ],
          "surface": [
           {
            "colorbar": {
             "outlinewidth": 0,
             "ticks": ""
            },
            "colorscale": [
             [
              0,
              "#0d0887"
             ],
             [
              0.1111111111111111,
              "#46039f"
             ],
             [
              0.2222222222222222,
              "#7201a8"
             ],
             [
              0.3333333333333333,
              "#9c179e"
             ],
             [
              0.4444444444444444,
              "#bd3786"
             ],
             [
              0.5555555555555556,
              "#d8576b"
             ],
             [
              0.6666666666666666,
              "#ed7953"
             ],
             [
              0.7777777777777778,
              "#fb9f3a"
             ],
             [
              0.8888888888888888,
              "#fdca26"
             ],
             [
              1,
              "#f0f921"
             ]
            ],
            "type": "surface"
           }
          ],
          "table": [
           {
            "cells": {
             "fill": {
              "color": "#EBF0F8"
             },
             "line": {
              "color": "white"
             }
            },
            "header": {
             "fill": {
              "color": "#C8D4E3"
             },
             "line": {
              "color": "white"
             }
            },
            "type": "table"
           }
          ]
         },
         "layout": {
          "annotationdefaults": {
           "arrowcolor": "#2a3f5f",
           "arrowhead": 0,
           "arrowwidth": 1
          },
          "autotypenumbers": "strict",
          "coloraxis": {
           "colorbar": {
            "outlinewidth": 0,
            "ticks": ""
           }
          },
          "colorscale": {
           "diverging": [
            [
             0,
             "#8e0152"
            ],
            [
             0.1,
             "#c51b7d"
            ],
            [
             0.2,
             "#de77ae"
            ],
            [
             0.3,
             "#f1b6da"
            ],
            [
             0.4,
             "#fde0ef"
            ],
            [
             0.5,
             "#f7f7f7"
            ],
            [
             0.6,
             "#e6f5d0"
            ],
            [
             0.7,
             "#b8e186"
            ],
            [
             0.8,
             "#7fbc41"
            ],
            [
             0.9,
             "#4d9221"
            ],
            [
             1,
             "#276419"
            ]
           ],
           "sequential": [
            [
             0,
             "#0d0887"
            ],
            [
             0.1111111111111111,
             "#46039f"
            ],
            [
             0.2222222222222222,
             "#7201a8"
            ],
            [
             0.3333333333333333,
             "#9c179e"
            ],
            [
             0.4444444444444444,
             "#bd3786"
            ],
            [
             0.5555555555555556,
             "#d8576b"
            ],
            [
             0.6666666666666666,
             "#ed7953"
            ],
            [
             0.7777777777777778,
             "#fb9f3a"
            ],
            [
             0.8888888888888888,
             "#fdca26"
            ],
            [
             1,
             "#f0f921"
            ]
           ],
           "sequentialminus": [
            [
             0,
             "#0d0887"
            ],
            [
             0.1111111111111111,
             "#46039f"
            ],
            [
             0.2222222222222222,
             "#7201a8"
            ],
            [
             0.3333333333333333,
             "#9c179e"
            ],
            [
             0.4444444444444444,
             "#bd3786"
            ],
            [
             0.5555555555555556,
             "#d8576b"
            ],
            [
             0.6666666666666666,
             "#ed7953"
            ],
            [
             0.7777777777777778,
             "#fb9f3a"
            ],
            [
             0.8888888888888888,
             "#fdca26"
            ],
            [
             1,
             "#f0f921"
            ]
           ]
          },
          "colorway": [
           "#636efa",
           "#EF553B",
           "#00cc96",
           "#ab63fa",
           "#FFA15A",
           "#19d3f3",
           "#FF6692",
           "#B6E880",
           "#FF97FF",
           "#FECB52"
          ],
          "font": {
           "color": "#2a3f5f"
          },
          "geo": {
           "bgcolor": "white",
           "lakecolor": "white",
           "landcolor": "#E5ECF6",
           "showlakes": true,
           "showland": true,
           "subunitcolor": "white"
          },
          "hoverlabel": {
           "align": "left"
          },
          "hovermode": "closest",
          "mapbox": {
           "style": "light"
          },
          "paper_bgcolor": "white",
          "plot_bgcolor": "#E5ECF6",
          "polar": {
           "angularaxis": {
            "gridcolor": "white",
            "linecolor": "white",
            "ticks": ""
           },
           "bgcolor": "#E5ECF6",
           "radialaxis": {
            "gridcolor": "white",
            "linecolor": "white",
            "ticks": ""
           }
          },
          "scene": {
           "xaxis": {
            "backgroundcolor": "#E5ECF6",
            "gridcolor": "white",
            "gridwidth": 2,
            "linecolor": "white",
            "showbackground": true,
            "ticks": "",
            "zerolinecolor": "white"
           },
           "yaxis": {
            "backgroundcolor": "#E5ECF6",
            "gridcolor": "white",
            "gridwidth": 2,
            "linecolor": "white",
            "showbackground": true,
            "ticks": "",
            "zerolinecolor": "white"
           },
           "zaxis": {
            "backgroundcolor": "#E5ECF6",
            "gridcolor": "white",
            "gridwidth": 2,
            "linecolor": "white",
            "showbackground": true,
            "ticks": "",
            "zerolinecolor": "white"
           }
          },
          "shapedefaults": {
           "line": {
            "color": "#2a3f5f"
           }
          },
          "ternary": {
           "aaxis": {
            "gridcolor": "white",
            "linecolor": "white",
            "ticks": ""
           },
           "baxis": {
            "gridcolor": "white",
            "linecolor": "white",
            "ticks": ""
           },
           "bgcolor": "#E5ECF6",
           "caxis": {
            "gridcolor": "white",
            "linecolor": "white",
            "ticks": ""
           }
          },
          "title": {
           "x": 0.05
          },
          "xaxis": {
           "automargin": true,
           "gridcolor": "white",
           "linecolor": "white",
           "ticks": "",
           "title": {
            "standoff": 15
           },
           "zerolinecolor": "white",
           "zerolinewidth": 2
          },
          "yaxis": {
           "automargin": true,
           "gridcolor": "white",
           "linecolor": "white",
           "ticks": "",
           "title": {
            "standoff": 15
           },
           "zerolinecolor": "white",
           "zerolinewidth": 2
          }
         }
        },
        "title": {
         "text": "PCA of rat all"
        }
       }
      },
      "text/html": [
       "<div>                            <div id=\"b147fe96-cbda-40d9-b458-8362e5b19b40\" class=\"plotly-graph-div\" style=\"height:525px; width:100%;\"></div>            <script type=\"text/javascript\">                require([\"plotly\"], function(Plotly) {                    window.PLOTLYENV=window.PLOTLYENV || {};                                    if (document.getElementById(\"b147fe96-cbda-40d9-b458-8362e5b19b40\")) {                    Plotly.newPlot(                        \"b147fe96-cbda-40d9-b458-8362e5b19b40\",                        [{\"hovertemplate\":\"Label=WT<br>PC1=%{x}<br>PC2=%{y}<br>PC3=%{z}<extra></extra>\",\"legendgroup\":\"WT\",\"marker\":{\"color\":\"#636efa\",\"symbol\":\"circle\"},\"mode\":\"markers\",\"name\":\"WT\",\"scene\":\"scene\",\"showlegend\":true,\"x\":[-1.2562690115059632,-2.416592824883989,-0.5565679364422207,-0.8846125341901551,0.9889238288469855,0.3332013173834731,0.893802169541216,-0.39968566926657534,-0.8906813711222893,-0.3083657278037531,-1.2007867487357649,1.2683277977016032,-1.1560189106785024,-1.0591422073619605,1.7992683100040734,0.7396226175570003,-1.078723956902929,-1.5963028860657604,-0.8341839346671542,0.7687853689390709,-0.10824468378582892,-1.714819294429729,-1.9817631452953248,-0.48110346284764977,-0.052957994737868726,-1.6568636209424445,0.6203695317360455,2.2834716076320185,9.28741009016879,1.2522606459085606,0.9598794587546121,2.3564514394112375,8.694459320808681],\"y\":[-0.5185600289045913,-1.6322537122335152,-2.146138790493368,-2.296567483185971,-0.138723362001149,-0.2990235550456641,-1.7868440571842885,-1.3521033410032466,-0.09302436840843491,-0.7758397968457434,-0.5884438175801562,0.8936597475124743,-0.08745965427835518,0.2598146990857422,-1.2621022396782595,-0.38068257584902315,1.1080453069343816,-1.7023157468625567,-2.139687014033785,-0.5073732777923667,-1.7251020692548278,0.3037827201152224,-1.174334929911885,-1.9892933676195135,-0.9239289300800458,0.36332621775202,-0.4643870224338821,-1.5471898707997882,-0.43600331297026595,-1.6590737400797813,-1.4854734806198107,-1.002076302108477,-1.2080401639474752],\"z\":[0.911453133879462,0.8429679693833299,0.9681575210749805,0.24259505947384555,-1.1929619884662601,-1.1308525327913825,1.1467991391305232,1.0650216674098252,0.9256533230710643,0.7144819193108704,0.36721179573270607,-0.9261007770687542,-1.33580321924878,-1.229251523255132,-1.079916573250386,-1.0020995200346499,0.8125524907501169,0.8777867262270206,0.7780833852433683,-1.0455263326855169,-1.349368014248944,0.9394018173539052,0.41393984088058466,0.12447323703873002,0.47974059161837457,1.0029304008379938,-1.0318681383795438,-0.9851206907669606,1.7960731975813378,0.8275375844603851,0.8373765387423849,0.9476849738594278,1.6774228661427157],\"type\":\"scatter3d\"},{\"hovertemplate\":\"Label=KO<br>PC1=%{x}<br>PC2=%{y}<br>PC3=%{z}<extra></extra>\",\"legendgroup\":\"KO\",\"marker\":{\"color\":\"#EF553B\",\"symbol\":\"circle\"},\"mode\":\"markers\",\"name\":\"KO\",\"scene\":\"scene\",\"showlegend\":true,\"x\":[-1.7584823447641724,-1.501733971361953,-0.9340130697174107,0.16238300145834947,0.23036183363763657,-0.36526494306094015,-0.6377046297543041,0.4565420206725983,-0.26751907290056004,-2.3116852855961274,-0.7461043511080862,0.3170757212024622,-2.2124152371253074,-1.938512055244577,-2.110131519632778,-2.3152079765210103,-1.917096138706164,-0.6055974764221796,0.8935453500218487,-1.449570698179818,-0.7009844069726635,-2.0336270556339033,-1.4821956181344629,-1.7945893127693853,2.261896958692696,2.4593777296293027,1.8484035332550686,-0.09008404527201963,-0.9661782766875845,-1.5514257735614485,1.898441848076766],\"y\":[1.2259369696294893,1.5870024270188123,0.8871800010095009,-0.97413955119391,-0.15651509305828612,-1.1529347072699605,1.0013127411772054,1.048554803875249,1.0583320221585621,-0.24787663698194676,-0.7006375773693301,0.1382292210184599,0.18565820623120943,0.07278709145141819,-1.1932099343901885,-0.9326738057316187,0.11956368029233892,-0.0017791974302087759,0.530065361104117,1.400475068587845,1.1810908307331314,1.4705529262279324,3.0686626321774595,1.4249585995039034,0.2793849174393761,0.17493038353931828,1.544311463638133,0.4914687107623688,1.215812649537311,2.8831911938007524,0.9410740245788912],\"z\":[1.0380799272211962,0.7510167731520401,0.7713709072762246,-1.2400452372269661,-1.137460837007637,-1.293817036524457,-1.2469977905539253,-1.080704247620415,-1.1087525826144342,-1.3778382987073445,-1.2397383469426073,-1.1284758898416716,0.8589290635915604,0.9141637773979079,1.0338664690375183,0.8386539060045235,0.7964026037773639,-1.197213309412351,-0.9771416659215096,0.5354711064831021,0.5839091823851785,0.5688713705426106,0.6996406005714834,0.7849591030609969,-0.8252159398641613,-0.846198254050303,1.1104176933794838,0.8064976907517782,0.7912419715577773,0.7972297432261,1.0819636513381274],\"type\":\"scatter3d\"},{\"hovertemplate\":\"Label=CF<br>PC1=%{x}<br>PC2=%{y}<br>PC3=%{z}<extra></extra>\",\"legendgroup\":\"CF\",\"marker\":{\"color\":\"#00cc96\",\"symbol\":\"circle\"},\"mode\":\"markers\",\"name\":\"CF\",\"scene\":\"scene\",\"showlegend\":true,\"x\":[-0.539447905417037,-1.1315490392271008,-0.9703966298725261,-1.903886222340457,-2.0554086689014706,-1.670097113350273,-1.4760790249505324,0.7698532120563084,-1.2010895666273849,0.13907220913885868,-1.3105644513575108,-1.4340893425886203,-2.00871050276036,-1.5364375459344983,0.011868290824785079,-0.4804047977850427],\"y\":[-0.6038085904061117,-0.5089270530119131,0.19652597915593323,0.25652194516249843,0.34116724753383426,-0.6508308244760886,1.170492191852847,1.007471046527403,0.4719769139467806,1.8292263655453929,-1.2577864048698209,-0.06615958642615918,-0.7815516453956476,1.4580982951208872,-0.06058397934883427,-1.887759898705242],\"z\":[0.980125929541381,0.11815869590618198,0.3024251519733071,0.4439913869515862,0.6183472459272985,-1.3186555645131863,-1.3112159307077484,0.9935119232218051,0.9684511497088681,0.7320784802206045,-1.3404171600295647,-1.3474649467408475,-1.3895458148533932,0.8377085611662214,0.8270391632504652,0.5803536578973186],\"type\":\"scatter3d\"},{\"hovertemplate\":\"Label=Phe508<br>PC1=%{x}<br>PC2=%{y}<br>PC3=%{z}<extra></extra>\",\"legendgroup\":\"Phe508\",\"marker\":{\"color\":\"#ab63fa\",\"symbol\":\"circle\"},\"mode\":\"markers\",\"name\":\"Phe508\",\"scene\":\"scene\",\"showlegend\":true,\"x\":[-0.12906760826293281,0.901507635513911,-0.848197050725202,0.3401303664627575,0.5370399584901558,-0.664370274335613,-0.8157732257688178,4.289606991801792,3.276956945349498,3.5937883261132146,3.62359824051858,4.29362591948182,-0.229524006318092,5.177592560524416],\"y\":[0.770727753167386,0.6688613041236664,0.04726711379617057,0.9443686103989828,0.8080718095841031,-0.6885661253967313,1.1986869860521994,1.4134983822764682,0.8746270215204177,0.42710516067129894,0.8797733392534509,0.8493251800907067,-0.5466067241081881,1.2614360841033592],\"z\":[-1.300519454565259,-1.2194816190535,-1.3349516732897602,-1.2188546812007104,-1.2118057796707935,0.27528987460753535,0.19675037503985063,-0.6188500149570009,-0.7430105458491452,-0.645065308787731,-0.7696528467406913,-0.5836213265201902,0.7538944803770491,1.2714246182162174],\"type\":\"scatter3d\"}],                        {\"template\":{\"data\":{\"bar\":[{\"error_x\":{\"color\":\"#2a3f5f\"},\"error_y\":{\"color\":\"#2a3f5f\"},\"marker\":{\"line\":{\"color\":\"#E5ECF6\",\"width\":0.5},\"pattern\":{\"fillmode\":\"overlay\",\"size\":10,\"solidity\":0.2}},\"type\":\"bar\"}],\"barpolar\":[{\"marker\":{\"line\":{\"color\":\"#E5ECF6\",\"width\":0.5},\"pattern\":{\"fillmode\":\"overlay\",\"size\":10,\"solidity\":0.2}},\"type\":\"barpolar\"}],\"carpet\":[{\"aaxis\":{\"endlinecolor\":\"#2a3f5f\",\"gridcolor\":\"white\",\"linecolor\":\"white\",\"minorgridcolor\":\"white\",\"startlinecolor\":\"#2a3f5f\"},\"baxis\":{\"endlinecolor\":\"#2a3f5f\",\"gridcolor\":\"white\",\"linecolor\":\"white\",\"minorgridcolor\":\"white\",\"startlinecolor\":\"#2a3f5f\"},\"type\":\"carpet\"}],\"choropleth\":[{\"colorbar\":{\"outlinewidth\":0,\"ticks\":\"\"},\"type\":\"choropleth\"}],\"contour\":[{\"colorbar\":{\"outlinewidth\":0,\"ticks\":\"\"},\"colorscale\":[[0.0,\"#0d0887\"],[0.1111111111111111,\"#46039f\"],[0.2222222222222222,\"#7201a8\"],[0.3333333333333333,\"#9c179e\"],[0.4444444444444444,\"#bd3786\"],[0.5555555555555556,\"#d8576b\"],[0.6666666666666666,\"#ed7953\"],[0.7777777777777778,\"#fb9f3a\"],[0.8888888888888888,\"#fdca26\"],[1.0,\"#f0f921\"]],\"type\":\"contour\"}],\"contourcarpet\":[{\"colorbar\":{\"outlinewidth\":0,\"ticks\":\"\"},\"type\":\"contourcarpet\"}],\"heatmap\":[{\"colorbar\":{\"outlinewidth\":0,\"ticks\":\"\"},\"colorscale\":[[0.0,\"#0d0887\"],[0.1111111111111111,\"#46039f\"],[0.2222222222222222,\"#7201a8\"],[0.3333333333333333,\"#9c179e\"],[0.4444444444444444,\"#bd3786\"],[0.5555555555555556,\"#d8576b\"],[0.6666666666666666,\"#ed7953\"],[0.7777777777777778,\"#fb9f3a\"],[0.8888888888888888,\"#fdca26\"],[1.0,\"#f0f921\"]],\"type\":\"heatmap\"}],\"heatmapgl\":[{\"colorbar\":{\"outlinewidth\":0,\"ticks\":\"\"},\"colorscale\":[[0.0,\"#0d0887\"],[0.1111111111111111,\"#46039f\"],[0.2222222222222222,\"#7201a8\"],[0.3333333333333333,\"#9c179e\"],[0.4444444444444444,\"#bd3786\"],[0.5555555555555556,\"#d8576b\"],[0.6666666666666666,\"#ed7953\"],[0.7777777777777778,\"#fb9f3a\"],[0.8888888888888888,\"#fdca26\"],[1.0,\"#f0f921\"]],\"type\":\"heatmapgl\"}],\"histogram\":[{\"marker\":{\"pattern\":{\"fillmode\":\"overlay\",\"size\":10,\"solidity\":0.2}},\"type\":\"histogram\"}],\"histogram2d\":[{\"colorbar\":{\"outlinewidth\":0,\"ticks\":\"\"},\"colorscale\":[[0.0,\"#0d0887\"],[0.1111111111111111,\"#46039f\"],[0.2222222222222222,\"#7201a8\"],[0.3333333333333333,\"#9c179e\"],[0.4444444444444444,\"#bd3786\"],[0.5555555555555556,\"#d8576b\"],[0.6666666666666666,\"#ed7953\"],[0.7777777777777778,\"#fb9f3a\"],[0.8888888888888888,\"#fdca26\"],[1.0,\"#f0f921\"]],\"type\":\"histogram2d\"}],\"histogram2dcontour\":[{\"colorbar\":{\"outlinewidth\":0,\"ticks\":\"\"},\"colorscale\":[[0.0,\"#0d0887\"],[0.1111111111111111,\"#46039f\"],[0.2222222222222222,\"#7201a8\"],[0.3333333333333333,\"#9c179e\"],[0.4444444444444444,\"#bd3786\"],[0.5555555555555556,\"#d8576b\"],[0.6666666666666666,\"#ed7953\"],[0.7777777777777778,\"#fb9f3a\"],[0.8888888888888888,\"#fdca26\"],[1.0,\"#f0f921\"]],\"type\":\"histogram2dcontour\"}],\"mesh3d\":[{\"colorbar\":{\"outlinewidth\":0,\"ticks\":\"\"},\"type\":\"mesh3d\"}],\"parcoords\":[{\"line\":{\"colorbar\":{\"outlinewidth\":0,\"ticks\":\"\"}},\"type\":\"parcoords\"}],\"pie\":[{\"automargin\":true,\"type\":\"pie\"}],\"scatter\":[{\"marker\":{\"colorbar\":{\"outlinewidth\":0,\"ticks\":\"\"}},\"type\":\"scatter\"}],\"scatter3d\":[{\"line\":{\"colorbar\":{\"outlinewidth\":0,\"ticks\":\"\"}},\"marker\":{\"colorbar\":{\"outlinewidth\":0,\"ticks\":\"\"}},\"type\":\"scatter3d\"}],\"scattercarpet\":[{\"marker\":{\"colorbar\":{\"outlinewidth\":0,\"ticks\":\"\"}},\"type\":\"scattercarpet\"}],\"scattergeo\":[{\"marker\":{\"colorbar\":{\"outlinewidth\":0,\"ticks\":\"\"}},\"type\":\"scattergeo\"}],\"scattergl\":[{\"marker\":{\"colorbar\":{\"outlinewidth\":0,\"ticks\":\"\"}},\"type\":\"scattergl\"}],\"scattermapbox\":[{\"marker\":{\"colorbar\":{\"outlinewidth\":0,\"ticks\":\"\"}},\"type\":\"scattermapbox\"}],\"scatterpolar\":[{\"marker\":{\"colorbar\":{\"outlinewidth\":0,\"ticks\":\"\"}},\"type\":\"scatterpolar\"}],\"scatterpolargl\":[{\"marker\":{\"colorbar\":{\"outlinewidth\":0,\"ticks\":\"\"}},\"type\":\"scatterpolargl\"}],\"scatterternary\":[{\"marker\":{\"colorbar\":{\"outlinewidth\":0,\"ticks\":\"\"}},\"type\":\"scatterternary\"}],\"surface\":[{\"colorbar\":{\"outlinewidth\":0,\"ticks\":\"\"},\"colorscale\":[[0.0,\"#0d0887\"],[0.1111111111111111,\"#46039f\"],[0.2222222222222222,\"#7201a8\"],[0.3333333333333333,\"#9c179e\"],[0.4444444444444444,\"#bd3786\"],[0.5555555555555556,\"#d8576b\"],[0.6666666666666666,\"#ed7953\"],[0.7777777777777778,\"#fb9f3a\"],[0.8888888888888888,\"#fdca26\"],[1.0,\"#f0f921\"]],\"type\":\"surface\"}],\"table\":[{\"cells\":{\"fill\":{\"color\":\"#EBF0F8\"},\"line\":{\"color\":\"white\"}},\"header\":{\"fill\":{\"color\":\"#C8D4E3\"},\"line\":{\"color\":\"white\"}},\"type\":\"table\"}]},\"layout\":{\"annotationdefaults\":{\"arrowcolor\":\"#2a3f5f\",\"arrowhead\":0,\"arrowwidth\":1},\"autotypenumbers\":\"strict\",\"coloraxis\":{\"colorbar\":{\"outlinewidth\":0,\"ticks\":\"\"}},\"colorscale\":{\"diverging\":[[0,\"#8e0152\"],[0.1,\"#c51b7d\"],[0.2,\"#de77ae\"],[0.3,\"#f1b6da\"],[0.4,\"#fde0ef\"],[0.5,\"#f7f7f7\"],[0.6,\"#e6f5d0\"],[0.7,\"#b8e186\"],[0.8,\"#7fbc41\"],[0.9,\"#4d9221\"],[1,\"#276419\"]],\"sequential\":[[0.0,\"#0d0887\"],[0.1111111111111111,\"#46039f\"],[0.2222222222222222,\"#7201a8\"],[0.3333333333333333,\"#9c179e\"],[0.4444444444444444,\"#bd3786\"],[0.5555555555555556,\"#d8576b\"],[0.6666666666666666,\"#ed7953\"],[0.7777777777777778,\"#fb9f3a\"],[0.8888888888888888,\"#fdca26\"],[1.0,\"#f0f921\"]],\"sequentialminus\":[[0.0,\"#0d0887\"],[0.1111111111111111,\"#46039f\"],[0.2222222222222222,\"#7201a8\"],[0.3333333333333333,\"#9c179e\"],[0.4444444444444444,\"#bd3786\"],[0.5555555555555556,\"#d8576b\"],[0.6666666666666666,\"#ed7953\"],[0.7777777777777778,\"#fb9f3a\"],[0.8888888888888888,\"#fdca26\"],[1.0,\"#f0f921\"]]},\"colorway\":[\"#636efa\",\"#EF553B\",\"#00cc96\",\"#ab63fa\",\"#FFA15A\",\"#19d3f3\",\"#FF6692\",\"#B6E880\",\"#FF97FF\",\"#FECB52\"],\"font\":{\"color\":\"#2a3f5f\"},\"geo\":{\"bgcolor\":\"white\",\"lakecolor\":\"white\",\"landcolor\":\"#E5ECF6\",\"showlakes\":true,\"showland\":true,\"subunitcolor\":\"white\"},\"hoverlabel\":{\"align\":\"left\"},\"hovermode\":\"closest\",\"mapbox\":{\"style\":\"light\"},\"paper_bgcolor\":\"white\",\"plot_bgcolor\":\"#E5ECF6\",\"polar\":{\"angularaxis\":{\"gridcolor\":\"white\",\"linecolor\":\"white\",\"ticks\":\"\"},\"bgcolor\":\"#E5ECF6\",\"radialaxis\":{\"gridcolor\":\"white\",\"linecolor\":\"white\",\"ticks\":\"\"}},\"scene\":{\"xaxis\":{\"backgroundcolor\":\"#E5ECF6\",\"gridcolor\":\"white\",\"gridwidth\":2,\"linecolor\":\"white\",\"showbackground\":true,\"ticks\":\"\",\"zerolinecolor\":\"white\"},\"yaxis\":{\"backgroundcolor\":\"#E5ECF6\",\"gridcolor\":\"white\",\"gridwidth\":2,\"linecolor\":\"white\",\"showbackground\":true,\"ticks\":\"\",\"zerolinecolor\":\"white\"},\"zaxis\":{\"backgroundcolor\":\"#E5ECF6\",\"gridcolor\":\"white\",\"gridwidth\":2,\"linecolor\":\"white\",\"showbackground\":true,\"ticks\":\"\",\"zerolinecolor\":\"white\"}},\"shapedefaults\":{\"line\":{\"color\":\"#2a3f5f\"}},\"ternary\":{\"aaxis\":{\"gridcolor\":\"white\",\"linecolor\":\"white\",\"ticks\":\"\"},\"baxis\":{\"gridcolor\":\"white\",\"linecolor\":\"white\",\"ticks\":\"\"},\"bgcolor\":\"#E5ECF6\",\"caxis\":{\"gridcolor\":\"white\",\"linecolor\":\"white\",\"ticks\":\"\"}},\"title\":{\"x\":0.05},\"xaxis\":{\"automargin\":true,\"gridcolor\":\"white\",\"linecolor\":\"white\",\"ticks\":\"\",\"title\":{\"standoff\":15},\"zerolinecolor\":\"white\",\"zerolinewidth\":2},\"yaxis\":{\"automargin\":true,\"gridcolor\":\"white\",\"linecolor\":\"white\",\"ticks\":\"\",\"title\":{\"standoff\":15},\"zerolinecolor\":\"white\",\"zerolinewidth\":2}}},\"scene\":{\"domain\":{\"x\":[0.0,1.0],\"y\":[0.0,1.0]},\"xaxis\":{\"title\":{\"text\":\"PC1\"}},\"yaxis\":{\"title\":{\"text\":\"PC2\"}},\"zaxis\":{\"title\":{\"text\":\"PC3\"}}},\"legend\":{\"title\":{\"text\":\"Label\"},\"tracegroupgap\":0},\"title\":{\"text\":\"PCA of rat all\"}},                        {\"responsive\": true}                    ).then(function(){\n",
       "                            \n",
       "var gd = document.getElementById('b147fe96-cbda-40d9-b458-8362e5b19b40');\n",
       "var x = new MutationObserver(function (mutations, observer) {{\n",
       "        var display = window.getComputedStyle(gd).display;\n",
       "        if (!display || display === 'none') {{\n",
       "            console.log([gd, 'removed!']);\n",
       "            Plotly.purge(gd);\n",
       "            observer.disconnect();\n",
       "        }}\n",
       "}});\n",
       "\n",
       "// Listen for the removal of the full notebook cells\n",
       "var notebookContainer = gd.closest('#notebook-container');\n",
       "if (notebookContainer) {{\n",
       "    x.observe(notebookContainer, {childList: true});\n",
       "}}\n",
       "\n",
       "// Listen for the clearing of the current output cell\n",
       "var outputEl = gd.closest('.output');\n",
       "if (outputEl) {{\n",
       "    x.observe(outputEl, {childList: true});\n",
       "}}\n",
       "\n",
       "                        })                };                });            </script>        </div>"
      ]
     },
     "metadata": {},
     "output_type": "display_data"
    }
   ],
   "source": [
    "pca_3D(df_rat_all, 'PCA of rat all')"
   ]
  },
  {
   "cell_type": "markdown",
   "id": "f119bde9",
   "metadata": {},
   "source": [
    "# Rat PA"
   ]
  },
  {
   "cell_type": "code",
   "execution_count": 7,
   "id": "aafe1dee",
   "metadata": {},
   "outputs": [
    {
     "data": {
      "application/vnd.plotly.v1+json": {
       "config": {
        "plotlyServerURL": "https://plot.ly"
       },
       "data": [
        {
         "hovertemplate": "color=WT<br>MSV(mL/mL)=%{x}<br>VDP(%)=%{y}<br>HD=%{z}<extra></extra>",
         "legendgroup": "WT",
         "marker": {
          "color": "#636efa",
          "size": 4,
          "symbol": "circle"
         },
         "mode": "markers",
         "name": "WT",
         "scene": "scene",
         "showlegend": true,
         "type": "scatter3d",
         "x": [
          0.155,
          0.123,
          0.121,
          0.12,
          0.17,
          0.16,
          0.125,
          0.139,
          0.162,
          0.153,
          0.16,
          0.18,
          0.17,
          0.17,
          0.14,
          0.15,
          0.2,
          0.128,
          0.119
         ],
         "y": [
          15.2,
          11,
          17.1,
          15.7,
          19.8,
          19,
          22.1,
          17.7,
          15.9,
          17.3,
          14.7,
          20.3,
          14.2,
          15.1,
          22.6,
          20.2,
          15.1,
          15.1,
          16.7
         ],
         "z": [
          0.939061579,
          0.656117607,
          0.82215097,
          0.753788029,
          1.276915197,
          1.129285591,
          1.057035247,
          0.925721925,
          1.033610288,
          1.004708578,
          0.882279954,
          1.463933002,
          0.939716575,
          1.026611653,
          1.201402971,
          1.198043823,
          1.135187107,
          0.760181447,
          0.794248457
         ]
        },
        {
         "hovertemplate": "color=KO<br>MSV(mL/mL)=%{x}<br>VDP(%)=%{y}<br>HD=%{z}<extra></extra>",
         "legendgroup": "KO",
         "marker": {
          "color": "#EF553B",
          "size": 4,
          "symbol": "circle"
         },
         "mode": "markers",
         "name": "KO",
         "scene": "scene",
         "showlegend": true,
         "type": "scatter3d",
         "x": [
          0.2,
          0.209,
          0.195,
          0.15,
          0.16,
          0.14,
          0.19,
          0.19,
          0.19,
          0.16,
          0.15,
          0.17,
          0.177,
          0.169,
          0.134,
          0.146,
          0.175
         ],
         "y": [
          13.4,
          13.5,
          15.3,
          18.3,
          17.6,
          15.1,
          13.1,
          18.5,
          16.5,
          11.5,
          16.1,
          18.2,
          13.3,
          14.1,
          13.7,
          12.3,
          13.7
         ],
         "z": [
          1.081896612,
          1.133398967,
          1.129855438,
          0.956818527,
          1.14605677,
          0.936048596,
          1.195109439,
          1.322647035,
          1.194349644,
          0.764550927,
          0.892373446,
          1.185854342,
          0.863854909,
          0.900534699,
          0.749224015,
          0.749754562,
          0.901025946
         ]
        },
        {
         "hovertemplate": "color=CF<br>MSV(mL/mL)=%{x}<br>VDP(%)=%{y}<br>HD=%{z}<extra></extra>",
         "legendgroup": "CF",
         "marker": {
          "color": "#00cc96",
          "size": 4,
          "symbol": "circle"
         },
         "mode": "markers",
         "name": "CF",
         "scene": "scene",
         "showlegend": true,
         "type": "scatter3d",
         "x": [
          0.159,
          0.16,
          0.18,
          0.18,
          0.18,
          0.15,
          0.2,
          0.187,
          0.179,
          0.205,
          0.14,
          0.17,
          0.15,
          0.211,
          0.177,
          0.128
         ],
         "y": [
          17,
          14.8,
          14,
          11.8,
          12,
          12.6,
          12.6,
          21.4,
          15.4,
          17.8,
          14.4,
          13.4,
          12.9,
          12.7,
          17.7,
          17.4
         ],
         "z": [
          1.00881213,
          0.92228385,
          1.011641714,
          0.932112069,
          0.911898884,
          0.809162722,
          1.019599918,
          1.391487141,
          1.053813648,
          1.45288649,
          0.736228889,
          0.869612326,
          0.7343425,
          1.099463612,
          1.16962681,
          0.868788341
         ]
        },
        {
         "hovertemplate": "color=WT<br>MSV(mL/mL)=%{x}<br>VDP(%)=%{y}<br>VH(%)=%{z}<extra></extra>",
         "legendgroup": "WT",
         "marker": {
          "color": "#636efa",
          "size": 4,
          "symbol": "circle"
         },
         "mode": "markers",
         "name": "WT",
         "scene": "scene2",
         "showlegend": true,
         "type": "scatter3d",
         "x": [
          0.155,
          0.123,
          0.121,
          0.12,
          0.17,
          0.16,
          0.125,
          0.139,
          0.162,
          0.153,
          0.16,
          0.18,
          0.17,
          0.17,
          0.14,
          0.15,
          0.2,
          0.128,
          0.119
         ],
         "y": [
          15.2,
          11,
          17.1,
          15.7,
          19.8,
          19,
          22.1,
          17.7,
          15.9,
          17.3,
          14.7,
          20.3,
          14.2,
          15.1,
          22.6,
          20.2,
          15.1,
          15.1,
          16.7
         ],
         "z": [
          46.57,
          40.82,
          52.22,
          46.89,
          55.57,
          52.99,
          64.91,
          51.18,
          49.02,
          50.34,
          43.32,
          61.03,
          41.54,
          45.15,
          64.33,
          59.89,
          43.52,
          45.73,
          51.44
         ]
        },
        {
         "hovertemplate": "color=KO<br>MSV(mL/mL)=%{x}<br>VDP(%)=%{y}<br>VH(%)=%{z}<extra></extra>",
         "legendgroup": "KO",
         "marker": {
          "color": "#EF553B",
          "size": 4,
          "symbol": "circle"
         },
         "mode": "markers",
         "name": "KO",
         "scene": "scene2",
         "showlegend": true,
         "type": "scatter3d",
         "x": [
          0.2,
          0.209,
          0.195,
          0.15,
          0.16,
          0.14,
          0.19,
          0.19,
          0.19,
          0.16,
          0.15,
          0.17,
          0.177,
          0.169,
          0.134,
          0.146,
          0.175
         ],
         "y": [
          13.4,
          13.5,
          15.3,
          18.3,
          17.6,
          15.1,
          13.1,
          18.5,
          16.5,
          11.5,
          16.1,
          18.2,
          13.3,
          14.1,
          13.7,
          12.3,
          13.7
         ],
         "z": [
          41.6,
          41.5,
          44.62,
          52.87,
          53.08,
          51.22,
          47.71,
          54.63,
          50.38,
          37.05,
          47.91,
          53.78,
          37.7,
          40.9,
          42.96,
          39.26,
          39.53
         ]
        },
        {
         "hovertemplate": "color=CF<br>MSV(mL/mL)=%{x}<br>VDP(%)=%{y}<br>VH(%)=%{z}<extra></extra>",
         "legendgroup": "CF",
         "marker": {
          "color": "#00cc96",
          "size": 4,
          "symbol": "circle"
         },
         "mode": "markers",
         "name": "CF",
         "scene": "scene2",
         "showlegend": true,
         "type": "scatter3d",
         "x": [
          0.159,
          0.16,
          0.18,
          0.18,
          0.18,
          0.15,
          0.2,
          0.187,
          0.179,
          0.205,
          0.14,
          0.17,
          0.15,
          0.211,
          0.177,
          0.128
         ],
         "y": [
          17,
          14.8,
          14,
          11.8,
          12,
          12.6,
          12.6,
          21.4,
          15.4,
          17.8,
          14.4,
          13.4,
          12.9,
          12.7,
          17.7,
          17.4
         ],
         "z": [
          48.77,
          45.4,
          43.24,
          40.05,
          38.54,
          42.73,
          41.34,
          57.48,
          45.02,
          54.06,
          43.57,
          39.99,
          38.97,
          40.15,
          50.73,
          52.27
         ]
        }
       ],
       "layout": {
        "annotations": [
         {
          "font": {
           "size": 16
          },
          "showarrow": false,
          "text": "MSV(mL/mL) vs VDP(%) vs HD",
          "x": 0.225,
          "xanchor": "center",
          "xref": "paper",
          "y": 1,
          "yanchor": "bottom",
          "yref": "paper"
         },
         {
          "font": {
           "size": 16
          },
          "showarrow": false,
          "text": "MSV(mL/mL) vs VDP(%) vs VH(%)",
          "x": 0.775,
          "xanchor": "center",
          "xref": "paper",
          "y": 1,
          "yanchor": "bottom",
          "yref": "paper"
         }
        ],
        "scene": {
         "aspectmode": "cube",
         "domain": {
          "x": [
           0,
           0.45
          ],
          "y": [
           0,
           1
          ]
         },
         "xaxis": {
          "title": {
           "text": "MSV(mL/mL)"
          }
         },
         "yaxis": {
          "title": {
           "text": "VDP(%)"
          }
         },
         "zaxis": {
          "title": {
           "text": "HD"
          }
         }
        },
        "scene2": {
         "domain": {
          "x": [
           0.55,
           1
          ],
          "y": [
           0,
           1
          ]
         },
         "xaxis": {
          "title": {
           "text": "MSV(mL/mL)"
          }
         },
         "yaxis": {
          "title": {
           "text": "VDP(%)"
          }
         },
         "zaxis": {
          "title": {
           "text": "VH(%)"
          }
         }
        },
        "template": {
         "data": {
          "bar": [
           {
            "error_x": {
             "color": "#2a3f5f"
            },
            "error_y": {
             "color": "#2a3f5f"
            },
            "marker": {
             "line": {
              "color": "#E5ECF6",
              "width": 0.5
             },
             "pattern": {
              "fillmode": "overlay",
              "size": 10,
              "solidity": 0.2
             }
            },
            "type": "bar"
           }
          ],
          "barpolar": [
           {
            "marker": {
             "line": {
              "color": "#E5ECF6",
              "width": 0.5
             },
             "pattern": {
              "fillmode": "overlay",
              "size": 10,
              "solidity": 0.2
             }
            },
            "type": "barpolar"
           }
          ],
          "carpet": [
           {
            "aaxis": {
             "endlinecolor": "#2a3f5f",
             "gridcolor": "white",
             "linecolor": "white",
             "minorgridcolor": "white",
             "startlinecolor": "#2a3f5f"
            },
            "baxis": {
             "endlinecolor": "#2a3f5f",
             "gridcolor": "white",
             "linecolor": "white",
             "minorgridcolor": "white",
             "startlinecolor": "#2a3f5f"
            },
            "type": "carpet"
           }
          ],
          "choropleth": [
           {
            "colorbar": {
             "outlinewidth": 0,
             "ticks": ""
            },
            "type": "choropleth"
           }
          ],
          "contour": [
           {
            "colorbar": {
             "outlinewidth": 0,
             "ticks": ""
            },
            "colorscale": [
             [
              0,
              "#0d0887"
             ],
             [
              0.1111111111111111,
              "#46039f"
             ],
             [
              0.2222222222222222,
              "#7201a8"
             ],
             [
              0.3333333333333333,
              "#9c179e"
             ],
             [
              0.4444444444444444,
              "#bd3786"
             ],
             [
              0.5555555555555556,
              "#d8576b"
             ],
             [
              0.6666666666666666,
              "#ed7953"
             ],
             [
              0.7777777777777778,
              "#fb9f3a"
             ],
             [
              0.8888888888888888,
              "#fdca26"
             ],
             [
              1,
              "#f0f921"
             ]
            ],
            "type": "contour"
           }
          ],
          "contourcarpet": [
           {
            "colorbar": {
             "outlinewidth": 0,
             "ticks": ""
            },
            "type": "contourcarpet"
           }
          ],
          "heatmap": [
           {
            "colorbar": {
             "outlinewidth": 0,
             "ticks": ""
            },
            "colorscale": [
             [
              0,
              "#0d0887"
             ],
             [
              0.1111111111111111,
              "#46039f"
             ],
             [
              0.2222222222222222,
              "#7201a8"
             ],
             [
              0.3333333333333333,
              "#9c179e"
             ],
             [
              0.4444444444444444,
              "#bd3786"
             ],
             [
              0.5555555555555556,
              "#d8576b"
             ],
             [
              0.6666666666666666,
              "#ed7953"
             ],
             [
              0.7777777777777778,
              "#fb9f3a"
             ],
             [
              0.8888888888888888,
              "#fdca26"
             ],
             [
              1,
              "#f0f921"
             ]
            ],
            "type": "heatmap"
           }
          ],
          "heatmapgl": [
           {
            "colorbar": {
             "outlinewidth": 0,
             "ticks": ""
            },
            "colorscale": [
             [
              0,
              "#0d0887"
             ],
             [
              0.1111111111111111,
              "#46039f"
             ],
             [
              0.2222222222222222,
              "#7201a8"
             ],
             [
              0.3333333333333333,
              "#9c179e"
             ],
             [
              0.4444444444444444,
              "#bd3786"
             ],
             [
              0.5555555555555556,
              "#d8576b"
             ],
             [
              0.6666666666666666,
              "#ed7953"
             ],
             [
              0.7777777777777778,
              "#fb9f3a"
             ],
             [
              0.8888888888888888,
              "#fdca26"
             ],
             [
              1,
              "#f0f921"
             ]
            ],
            "type": "heatmapgl"
           }
          ],
          "histogram": [
           {
            "marker": {
             "pattern": {
              "fillmode": "overlay",
              "size": 10,
              "solidity": 0.2
             }
            },
            "type": "histogram"
           }
          ],
          "histogram2d": [
           {
            "colorbar": {
             "outlinewidth": 0,
             "ticks": ""
            },
            "colorscale": [
             [
              0,
              "#0d0887"
             ],
             [
              0.1111111111111111,
              "#46039f"
             ],
             [
              0.2222222222222222,
              "#7201a8"
             ],
             [
              0.3333333333333333,
              "#9c179e"
             ],
             [
              0.4444444444444444,
              "#bd3786"
             ],
             [
              0.5555555555555556,
              "#d8576b"
             ],
             [
              0.6666666666666666,
              "#ed7953"
             ],
             [
              0.7777777777777778,
              "#fb9f3a"
             ],
             [
              0.8888888888888888,
              "#fdca26"
             ],
             [
              1,
              "#f0f921"
             ]
            ],
            "type": "histogram2d"
           }
          ],
          "histogram2dcontour": [
           {
            "colorbar": {
             "outlinewidth": 0,
             "ticks": ""
            },
            "colorscale": [
             [
              0,
              "#0d0887"
             ],
             [
              0.1111111111111111,
              "#46039f"
             ],
             [
              0.2222222222222222,
              "#7201a8"
             ],
             [
              0.3333333333333333,
              "#9c179e"
             ],
             [
              0.4444444444444444,
              "#bd3786"
             ],
             [
              0.5555555555555556,
              "#d8576b"
             ],
             [
              0.6666666666666666,
              "#ed7953"
             ],
             [
              0.7777777777777778,
              "#fb9f3a"
             ],
             [
              0.8888888888888888,
              "#fdca26"
             ],
             [
              1,
              "#f0f921"
             ]
            ],
            "type": "histogram2dcontour"
           }
          ],
          "mesh3d": [
           {
            "colorbar": {
             "outlinewidth": 0,
             "ticks": ""
            },
            "type": "mesh3d"
           }
          ],
          "parcoords": [
           {
            "line": {
             "colorbar": {
              "outlinewidth": 0,
              "ticks": ""
             }
            },
            "type": "parcoords"
           }
          ],
          "pie": [
           {
            "automargin": true,
            "type": "pie"
           }
          ],
          "scatter": [
           {
            "marker": {
             "colorbar": {
              "outlinewidth": 0,
              "ticks": ""
             }
            },
            "type": "scatter"
           }
          ],
          "scatter3d": [
           {
            "line": {
             "colorbar": {
              "outlinewidth": 0,
              "ticks": ""
             }
            },
            "marker": {
             "colorbar": {
              "outlinewidth": 0,
              "ticks": ""
             }
            },
            "type": "scatter3d"
           }
          ],
          "scattercarpet": [
           {
            "marker": {
             "colorbar": {
              "outlinewidth": 0,
              "ticks": ""
             }
            },
            "type": "scattercarpet"
           }
          ],
          "scattergeo": [
           {
            "marker": {
             "colorbar": {
              "outlinewidth": 0,
              "ticks": ""
             }
            },
            "type": "scattergeo"
           }
          ],
          "scattergl": [
           {
            "marker": {
             "colorbar": {
              "outlinewidth": 0,
              "ticks": ""
             }
            },
            "type": "scattergl"
           }
          ],
          "scattermapbox": [
           {
            "marker": {
             "colorbar": {
              "outlinewidth": 0,
              "ticks": ""
             }
            },
            "type": "scattermapbox"
           }
          ],
          "scatterpolar": [
           {
            "marker": {
             "colorbar": {
              "outlinewidth": 0,
              "ticks": ""
             }
            },
            "type": "scatterpolar"
           }
          ],
          "scatterpolargl": [
           {
            "marker": {
             "colorbar": {
              "outlinewidth": 0,
              "ticks": ""
             }
            },
            "type": "scatterpolargl"
           }
          ],
          "scatterternary": [
           {
            "marker": {
             "colorbar": {
              "outlinewidth": 0,
              "ticks": ""
             }
            },
            "type": "scatterternary"
           }
          ],
          "surface": [
           {
            "colorbar": {
             "outlinewidth": 0,
             "ticks": ""
            },
            "colorscale": [
             [
              0,
              "#0d0887"
             ],
             [
              0.1111111111111111,
              "#46039f"
             ],
             [
              0.2222222222222222,
              "#7201a8"
             ],
             [
              0.3333333333333333,
              "#9c179e"
             ],
             [
              0.4444444444444444,
              "#bd3786"
             ],
             [
              0.5555555555555556,
              "#d8576b"
             ],
             [
              0.6666666666666666,
              "#ed7953"
             ],
             [
              0.7777777777777778,
              "#fb9f3a"
             ],
             [
              0.8888888888888888,
              "#fdca26"
             ],
             [
              1,
              "#f0f921"
             ]
            ],
            "type": "surface"
           }
          ],
          "table": [
           {
            "cells": {
             "fill": {
              "color": "#EBF0F8"
             },
             "line": {
              "color": "white"
             }
            },
            "header": {
             "fill": {
              "color": "#C8D4E3"
             },
             "line": {
              "color": "white"
             }
            },
            "type": "table"
           }
          ]
         },
         "layout": {
          "annotationdefaults": {
           "arrowcolor": "#2a3f5f",
           "arrowhead": 0,
           "arrowwidth": 1
          },
          "autotypenumbers": "strict",
          "coloraxis": {
           "colorbar": {
            "outlinewidth": 0,
            "ticks": ""
           }
          },
          "colorscale": {
           "diverging": [
            [
             0,
             "#8e0152"
            ],
            [
             0.1,
             "#c51b7d"
            ],
            [
             0.2,
             "#de77ae"
            ],
            [
             0.3,
             "#f1b6da"
            ],
            [
             0.4,
             "#fde0ef"
            ],
            [
             0.5,
             "#f7f7f7"
            ],
            [
             0.6,
             "#e6f5d0"
            ],
            [
             0.7,
             "#b8e186"
            ],
            [
             0.8,
             "#7fbc41"
            ],
            [
             0.9,
             "#4d9221"
            ],
            [
             1,
             "#276419"
            ]
           ],
           "sequential": [
            [
             0,
             "#0d0887"
            ],
            [
             0.1111111111111111,
             "#46039f"
            ],
            [
             0.2222222222222222,
             "#7201a8"
            ],
            [
             0.3333333333333333,
             "#9c179e"
            ],
            [
             0.4444444444444444,
             "#bd3786"
            ],
            [
             0.5555555555555556,
             "#d8576b"
            ],
            [
             0.6666666666666666,
             "#ed7953"
            ],
            [
             0.7777777777777778,
             "#fb9f3a"
            ],
            [
             0.8888888888888888,
             "#fdca26"
            ],
            [
             1,
             "#f0f921"
            ]
           ],
           "sequentialminus": [
            [
             0,
             "#0d0887"
            ],
            [
             0.1111111111111111,
             "#46039f"
            ],
            [
             0.2222222222222222,
             "#7201a8"
            ],
            [
             0.3333333333333333,
             "#9c179e"
            ],
            [
             0.4444444444444444,
             "#bd3786"
            ],
            [
             0.5555555555555556,
             "#d8576b"
            ],
            [
             0.6666666666666666,
             "#ed7953"
            ],
            [
             0.7777777777777778,
             "#fb9f3a"
            ],
            [
             0.8888888888888888,
             "#fdca26"
            ],
            [
             1,
             "#f0f921"
            ]
           ]
          },
          "colorway": [
           "#636efa",
           "#EF553B",
           "#00cc96",
           "#ab63fa",
           "#FFA15A",
           "#19d3f3",
           "#FF6692",
           "#B6E880",
           "#FF97FF",
           "#FECB52"
          ],
          "font": {
           "color": "#2a3f5f"
          },
          "geo": {
           "bgcolor": "white",
           "lakecolor": "white",
           "landcolor": "#E5ECF6",
           "showlakes": true,
           "showland": true,
           "subunitcolor": "white"
          },
          "hoverlabel": {
           "align": "left"
          },
          "hovermode": "closest",
          "mapbox": {
           "style": "light"
          },
          "paper_bgcolor": "white",
          "plot_bgcolor": "#E5ECF6",
          "polar": {
           "angularaxis": {
            "gridcolor": "white",
            "linecolor": "white",
            "ticks": ""
           },
           "bgcolor": "#E5ECF6",
           "radialaxis": {
            "gridcolor": "white",
            "linecolor": "white",
            "ticks": ""
           }
          },
          "scene": {
           "xaxis": {
            "backgroundcolor": "#E5ECF6",
            "gridcolor": "white",
            "gridwidth": 2,
            "linecolor": "white",
            "showbackground": true,
            "ticks": "",
            "zerolinecolor": "white"
           },
           "yaxis": {
            "backgroundcolor": "#E5ECF6",
            "gridcolor": "white",
            "gridwidth": 2,
            "linecolor": "white",
            "showbackground": true,
            "ticks": "",
            "zerolinecolor": "white"
           },
           "zaxis": {
            "backgroundcolor": "#E5ECF6",
            "gridcolor": "white",
            "gridwidth": 2,
            "linecolor": "white",
            "showbackground": true,
            "ticks": "",
            "zerolinecolor": "white"
           }
          },
          "shapedefaults": {
           "line": {
            "color": "#2a3f5f"
           }
          },
          "ternary": {
           "aaxis": {
            "gridcolor": "white",
            "linecolor": "white",
            "ticks": ""
           },
           "baxis": {
            "gridcolor": "white",
            "linecolor": "white",
            "ticks": ""
           },
           "bgcolor": "#E5ECF6",
           "caxis": {
            "gridcolor": "white",
            "linecolor": "white",
            "ticks": ""
           }
          },
          "title": {
           "x": 0.05
          },
          "xaxis": {
           "automargin": true,
           "gridcolor": "white",
           "linecolor": "white",
           "ticks": "",
           "title": {
            "standoff": 15
           },
           "zerolinecolor": "white",
           "zerolinewidth": 2
          },
          "yaxis": {
           "automargin": true,
           "gridcolor": "white",
           "linecolor": "white",
           "ticks": "",
           "title": {
            "standoff": 15
           },
           "zerolinecolor": "white",
           "zerolinewidth": 2
          }
         }
        }
       }
      },
      "text/html": [
       "<div>                            <div id=\"93e15768-97a5-44af-b4bc-5c3af61e8f84\" class=\"plotly-graph-div\" style=\"height:525px; width:100%;\"></div>            <script type=\"text/javascript\">                require([\"plotly\"], function(Plotly) {                    window.PLOTLYENV=window.PLOTLYENV || {};                                    if (document.getElementById(\"93e15768-97a5-44af-b4bc-5c3af61e8f84\")) {                    Plotly.newPlot(                        \"93e15768-97a5-44af-b4bc-5c3af61e8f84\",                        [{\"hovertemplate\":\"color=WT<br>MSV(mL/mL)=%{x}<br>VDP(%)=%{y}<br>HD=%{z}<extra></extra>\",\"legendgroup\":\"WT\",\"marker\":{\"color\":\"#636efa\",\"symbol\":\"circle\",\"size\":4},\"mode\":\"markers\",\"name\":\"WT\",\"scene\":\"scene\",\"showlegend\":true,\"x\":[0.155,0.123,0.121,0.12,0.17,0.16,0.125,0.139,0.162,0.153,0.16,0.18,0.17,0.17,0.14,0.15,0.2,0.128,0.119],\"y\":[15.2,11.0,17.1,15.7,19.8,19.0,22.1,17.7,15.9,17.3,14.7,20.3,14.2,15.1,22.6,20.2,15.1,15.1,16.7],\"z\":[0.939061579,0.656117607,0.82215097,0.753788029,1.276915197,1.129285591,1.057035247,0.925721925,1.033610288,1.004708578,0.882279954,1.463933002,0.939716575,1.026611653,1.201402971,1.198043823,1.135187107,0.760181447,0.794248457],\"type\":\"scatter3d\"},{\"hovertemplate\":\"color=KO<br>MSV(mL/mL)=%{x}<br>VDP(%)=%{y}<br>HD=%{z}<extra></extra>\",\"legendgroup\":\"KO\",\"marker\":{\"color\":\"#EF553B\",\"symbol\":\"circle\",\"size\":4},\"mode\":\"markers\",\"name\":\"KO\",\"scene\":\"scene\",\"showlegend\":true,\"x\":[0.2,0.209,0.195,0.15,0.16,0.14,0.19,0.19,0.19,0.16,0.15,0.17,0.177,0.169,0.134,0.146,0.175],\"y\":[13.4,13.5,15.3,18.3,17.6,15.1,13.1,18.5,16.5,11.5,16.1,18.2,13.3,14.1,13.7,12.3,13.7],\"z\":[1.081896612,1.133398967,1.129855438,0.956818527,1.14605677,0.936048596,1.195109439,1.322647035,1.194349644,0.764550927,0.892373446,1.185854342,0.863854909,0.900534699,0.749224015,0.749754562,0.901025946],\"type\":\"scatter3d\"},{\"hovertemplate\":\"color=CF<br>MSV(mL/mL)=%{x}<br>VDP(%)=%{y}<br>HD=%{z}<extra></extra>\",\"legendgroup\":\"CF\",\"marker\":{\"color\":\"#00cc96\",\"symbol\":\"circle\",\"size\":4},\"mode\":\"markers\",\"name\":\"CF\",\"scene\":\"scene\",\"showlegend\":true,\"x\":[0.159,0.16,0.18,0.18,0.18,0.15,0.2,0.187,0.179,0.205,0.14,0.17,0.15,0.211,0.177,0.128],\"y\":[17.0,14.8,14.0,11.8,12.0,12.6,12.6,21.4,15.4,17.8,14.4,13.4,12.9,12.7,17.7,17.4],\"z\":[1.00881213,0.92228385,1.011641714,0.932112069,0.911898884,0.809162722,1.019599918,1.391487141,1.053813648,1.45288649,0.736228889,0.869612326,0.7343425,1.099463612,1.16962681,0.868788341],\"type\":\"scatter3d\"},{\"hovertemplate\":\"color=WT<br>MSV(mL/mL)=%{x}<br>VDP(%)=%{y}<br>VH(%)=%{z}<extra></extra>\",\"legendgroup\":\"WT\",\"marker\":{\"color\":\"#636efa\",\"symbol\":\"circle\",\"size\":4},\"mode\":\"markers\",\"name\":\"WT\",\"scene\":\"scene2\",\"showlegend\":true,\"x\":[0.155,0.123,0.121,0.12,0.17,0.16,0.125,0.139,0.162,0.153,0.16,0.18,0.17,0.17,0.14,0.15,0.2,0.128,0.119],\"y\":[15.2,11.0,17.1,15.7,19.8,19.0,22.1,17.7,15.9,17.3,14.7,20.3,14.2,15.1,22.6,20.2,15.1,15.1,16.7],\"z\":[46.57,40.82,52.22,46.89,55.57,52.99,64.91,51.18,49.02,50.34,43.32,61.03,41.54,45.15,64.33,59.89,43.52,45.73,51.44],\"type\":\"scatter3d\"},{\"hovertemplate\":\"color=KO<br>MSV(mL/mL)=%{x}<br>VDP(%)=%{y}<br>VH(%)=%{z}<extra></extra>\",\"legendgroup\":\"KO\",\"marker\":{\"color\":\"#EF553B\",\"symbol\":\"circle\",\"size\":4},\"mode\":\"markers\",\"name\":\"KO\",\"scene\":\"scene2\",\"showlegend\":true,\"x\":[0.2,0.209,0.195,0.15,0.16,0.14,0.19,0.19,0.19,0.16,0.15,0.17,0.177,0.169,0.134,0.146,0.175],\"y\":[13.4,13.5,15.3,18.3,17.6,15.1,13.1,18.5,16.5,11.5,16.1,18.2,13.3,14.1,13.7,12.3,13.7],\"z\":[41.6,41.5,44.62,52.87,53.08,51.22,47.71,54.63,50.38,37.05,47.91,53.78,37.7,40.9,42.96,39.26,39.53],\"type\":\"scatter3d\"},{\"hovertemplate\":\"color=CF<br>MSV(mL/mL)=%{x}<br>VDP(%)=%{y}<br>VH(%)=%{z}<extra></extra>\",\"legendgroup\":\"CF\",\"marker\":{\"color\":\"#00cc96\",\"symbol\":\"circle\",\"size\":4},\"mode\":\"markers\",\"name\":\"CF\",\"scene\":\"scene2\",\"showlegend\":true,\"x\":[0.159,0.16,0.18,0.18,0.18,0.15,0.2,0.187,0.179,0.205,0.14,0.17,0.15,0.211,0.177,0.128],\"y\":[17.0,14.8,14.0,11.8,12.0,12.6,12.6,21.4,15.4,17.8,14.4,13.4,12.9,12.7,17.7,17.4],\"z\":[48.77,45.4,43.24,40.05,38.54,42.73,41.34,57.48,45.02,54.06,43.57,39.99,38.97,40.15,50.73,52.27],\"type\":\"scatter3d\"}],                        {\"template\":{\"data\":{\"bar\":[{\"error_x\":{\"color\":\"#2a3f5f\"},\"error_y\":{\"color\":\"#2a3f5f\"},\"marker\":{\"line\":{\"color\":\"#E5ECF6\",\"width\":0.5},\"pattern\":{\"fillmode\":\"overlay\",\"size\":10,\"solidity\":0.2}},\"type\":\"bar\"}],\"barpolar\":[{\"marker\":{\"line\":{\"color\":\"#E5ECF6\",\"width\":0.5},\"pattern\":{\"fillmode\":\"overlay\",\"size\":10,\"solidity\":0.2}},\"type\":\"barpolar\"}],\"carpet\":[{\"aaxis\":{\"endlinecolor\":\"#2a3f5f\",\"gridcolor\":\"white\",\"linecolor\":\"white\",\"minorgridcolor\":\"white\",\"startlinecolor\":\"#2a3f5f\"},\"baxis\":{\"endlinecolor\":\"#2a3f5f\",\"gridcolor\":\"white\",\"linecolor\":\"white\",\"minorgridcolor\":\"white\",\"startlinecolor\":\"#2a3f5f\"},\"type\":\"carpet\"}],\"choropleth\":[{\"colorbar\":{\"outlinewidth\":0,\"ticks\":\"\"},\"type\":\"choropleth\"}],\"contour\":[{\"colorbar\":{\"outlinewidth\":0,\"ticks\":\"\"},\"colorscale\":[[0.0,\"#0d0887\"],[0.1111111111111111,\"#46039f\"],[0.2222222222222222,\"#7201a8\"],[0.3333333333333333,\"#9c179e\"],[0.4444444444444444,\"#bd3786\"],[0.5555555555555556,\"#d8576b\"],[0.6666666666666666,\"#ed7953\"],[0.7777777777777778,\"#fb9f3a\"],[0.8888888888888888,\"#fdca26\"],[1.0,\"#f0f921\"]],\"type\":\"contour\"}],\"contourcarpet\":[{\"colorbar\":{\"outlinewidth\":0,\"ticks\":\"\"},\"type\":\"contourcarpet\"}],\"heatmap\":[{\"colorbar\":{\"outlinewidth\":0,\"ticks\":\"\"},\"colorscale\":[[0.0,\"#0d0887\"],[0.1111111111111111,\"#46039f\"],[0.2222222222222222,\"#7201a8\"],[0.3333333333333333,\"#9c179e\"],[0.4444444444444444,\"#bd3786\"],[0.5555555555555556,\"#d8576b\"],[0.6666666666666666,\"#ed7953\"],[0.7777777777777778,\"#fb9f3a\"],[0.8888888888888888,\"#fdca26\"],[1.0,\"#f0f921\"]],\"type\":\"heatmap\"}],\"heatmapgl\":[{\"colorbar\":{\"outlinewidth\":0,\"ticks\":\"\"},\"colorscale\":[[0.0,\"#0d0887\"],[0.1111111111111111,\"#46039f\"],[0.2222222222222222,\"#7201a8\"],[0.3333333333333333,\"#9c179e\"],[0.4444444444444444,\"#bd3786\"],[0.5555555555555556,\"#d8576b\"],[0.6666666666666666,\"#ed7953\"],[0.7777777777777778,\"#fb9f3a\"],[0.8888888888888888,\"#fdca26\"],[1.0,\"#f0f921\"]],\"type\":\"heatmapgl\"}],\"histogram\":[{\"marker\":{\"pattern\":{\"fillmode\":\"overlay\",\"size\":10,\"solidity\":0.2}},\"type\":\"histogram\"}],\"histogram2d\":[{\"colorbar\":{\"outlinewidth\":0,\"ticks\":\"\"},\"colorscale\":[[0.0,\"#0d0887\"],[0.1111111111111111,\"#46039f\"],[0.2222222222222222,\"#7201a8\"],[0.3333333333333333,\"#9c179e\"],[0.4444444444444444,\"#bd3786\"],[0.5555555555555556,\"#d8576b\"],[0.6666666666666666,\"#ed7953\"],[0.7777777777777778,\"#fb9f3a\"],[0.8888888888888888,\"#fdca26\"],[1.0,\"#f0f921\"]],\"type\":\"histogram2d\"}],\"histogram2dcontour\":[{\"colorbar\":{\"outlinewidth\":0,\"ticks\":\"\"},\"colorscale\":[[0.0,\"#0d0887\"],[0.1111111111111111,\"#46039f\"],[0.2222222222222222,\"#7201a8\"],[0.3333333333333333,\"#9c179e\"],[0.4444444444444444,\"#bd3786\"],[0.5555555555555556,\"#d8576b\"],[0.6666666666666666,\"#ed7953\"],[0.7777777777777778,\"#fb9f3a\"],[0.8888888888888888,\"#fdca26\"],[1.0,\"#f0f921\"]],\"type\":\"histogram2dcontour\"}],\"mesh3d\":[{\"colorbar\":{\"outlinewidth\":0,\"ticks\":\"\"},\"type\":\"mesh3d\"}],\"parcoords\":[{\"line\":{\"colorbar\":{\"outlinewidth\":0,\"ticks\":\"\"}},\"type\":\"parcoords\"}],\"pie\":[{\"automargin\":true,\"type\":\"pie\"}],\"scatter\":[{\"marker\":{\"colorbar\":{\"outlinewidth\":0,\"ticks\":\"\"}},\"type\":\"scatter\"}],\"scatter3d\":[{\"line\":{\"colorbar\":{\"outlinewidth\":0,\"ticks\":\"\"}},\"marker\":{\"colorbar\":{\"outlinewidth\":0,\"ticks\":\"\"}},\"type\":\"scatter3d\"}],\"scattercarpet\":[{\"marker\":{\"colorbar\":{\"outlinewidth\":0,\"ticks\":\"\"}},\"type\":\"scattercarpet\"}],\"scattergeo\":[{\"marker\":{\"colorbar\":{\"outlinewidth\":0,\"ticks\":\"\"}},\"type\":\"scattergeo\"}],\"scattergl\":[{\"marker\":{\"colorbar\":{\"outlinewidth\":0,\"ticks\":\"\"}},\"type\":\"scattergl\"}],\"scattermapbox\":[{\"marker\":{\"colorbar\":{\"outlinewidth\":0,\"ticks\":\"\"}},\"type\":\"scattermapbox\"}],\"scatterpolar\":[{\"marker\":{\"colorbar\":{\"outlinewidth\":0,\"ticks\":\"\"}},\"type\":\"scatterpolar\"}],\"scatterpolargl\":[{\"marker\":{\"colorbar\":{\"outlinewidth\":0,\"ticks\":\"\"}},\"type\":\"scatterpolargl\"}],\"scatterternary\":[{\"marker\":{\"colorbar\":{\"outlinewidth\":0,\"ticks\":\"\"}},\"type\":\"scatterternary\"}],\"surface\":[{\"colorbar\":{\"outlinewidth\":0,\"ticks\":\"\"},\"colorscale\":[[0.0,\"#0d0887\"],[0.1111111111111111,\"#46039f\"],[0.2222222222222222,\"#7201a8\"],[0.3333333333333333,\"#9c179e\"],[0.4444444444444444,\"#bd3786\"],[0.5555555555555556,\"#d8576b\"],[0.6666666666666666,\"#ed7953\"],[0.7777777777777778,\"#fb9f3a\"],[0.8888888888888888,\"#fdca26\"],[1.0,\"#f0f921\"]],\"type\":\"surface\"}],\"table\":[{\"cells\":{\"fill\":{\"color\":\"#EBF0F8\"},\"line\":{\"color\":\"white\"}},\"header\":{\"fill\":{\"color\":\"#C8D4E3\"},\"line\":{\"color\":\"white\"}},\"type\":\"table\"}]},\"layout\":{\"annotationdefaults\":{\"arrowcolor\":\"#2a3f5f\",\"arrowhead\":0,\"arrowwidth\":1},\"autotypenumbers\":\"strict\",\"coloraxis\":{\"colorbar\":{\"outlinewidth\":0,\"ticks\":\"\"}},\"colorscale\":{\"diverging\":[[0,\"#8e0152\"],[0.1,\"#c51b7d\"],[0.2,\"#de77ae\"],[0.3,\"#f1b6da\"],[0.4,\"#fde0ef\"],[0.5,\"#f7f7f7\"],[0.6,\"#e6f5d0\"],[0.7,\"#b8e186\"],[0.8,\"#7fbc41\"],[0.9,\"#4d9221\"],[1,\"#276419\"]],\"sequential\":[[0.0,\"#0d0887\"],[0.1111111111111111,\"#46039f\"],[0.2222222222222222,\"#7201a8\"],[0.3333333333333333,\"#9c179e\"],[0.4444444444444444,\"#bd3786\"],[0.5555555555555556,\"#d8576b\"],[0.6666666666666666,\"#ed7953\"],[0.7777777777777778,\"#fb9f3a\"],[0.8888888888888888,\"#fdca26\"],[1.0,\"#f0f921\"]],\"sequentialminus\":[[0.0,\"#0d0887\"],[0.1111111111111111,\"#46039f\"],[0.2222222222222222,\"#7201a8\"],[0.3333333333333333,\"#9c179e\"],[0.4444444444444444,\"#bd3786\"],[0.5555555555555556,\"#d8576b\"],[0.6666666666666666,\"#ed7953\"],[0.7777777777777778,\"#fb9f3a\"],[0.8888888888888888,\"#fdca26\"],[1.0,\"#f0f921\"]]},\"colorway\":[\"#636efa\",\"#EF553B\",\"#00cc96\",\"#ab63fa\",\"#FFA15A\",\"#19d3f3\",\"#FF6692\",\"#B6E880\",\"#FF97FF\",\"#FECB52\"],\"font\":{\"color\":\"#2a3f5f\"},\"geo\":{\"bgcolor\":\"white\",\"lakecolor\":\"white\",\"landcolor\":\"#E5ECF6\",\"showlakes\":true,\"showland\":true,\"subunitcolor\":\"white\"},\"hoverlabel\":{\"align\":\"left\"},\"hovermode\":\"closest\",\"mapbox\":{\"style\":\"light\"},\"paper_bgcolor\":\"white\",\"plot_bgcolor\":\"#E5ECF6\",\"polar\":{\"angularaxis\":{\"gridcolor\":\"white\",\"linecolor\":\"white\",\"ticks\":\"\"},\"bgcolor\":\"#E5ECF6\",\"radialaxis\":{\"gridcolor\":\"white\",\"linecolor\":\"white\",\"ticks\":\"\"}},\"scene\":{\"xaxis\":{\"backgroundcolor\":\"#E5ECF6\",\"gridcolor\":\"white\",\"gridwidth\":2,\"linecolor\":\"white\",\"showbackground\":true,\"ticks\":\"\",\"zerolinecolor\":\"white\"},\"yaxis\":{\"backgroundcolor\":\"#E5ECF6\",\"gridcolor\":\"white\",\"gridwidth\":2,\"linecolor\":\"white\",\"showbackground\":true,\"ticks\":\"\",\"zerolinecolor\":\"white\"},\"zaxis\":{\"backgroundcolor\":\"#E5ECF6\",\"gridcolor\":\"white\",\"gridwidth\":2,\"linecolor\":\"white\",\"showbackground\":true,\"ticks\":\"\",\"zerolinecolor\":\"white\"}},\"shapedefaults\":{\"line\":{\"color\":\"#2a3f5f\"}},\"ternary\":{\"aaxis\":{\"gridcolor\":\"white\",\"linecolor\":\"white\",\"ticks\":\"\"},\"baxis\":{\"gridcolor\":\"white\",\"linecolor\":\"white\",\"ticks\":\"\"},\"bgcolor\":\"#E5ECF6\",\"caxis\":{\"gridcolor\":\"white\",\"linecolor\":\"white\",\"ticks\":\"\"}},\"title\":{\"x\":0.05},\"xaxis\":{\"automargin\":true,\"gridcolor\":\"white\",\"linecolor\":\"white\",\"ticks\":\"\",\"title\":{\"standoff\":15},\"zerolinecolor\":\"white\",\"zerolinewidth\":2},\"yaxis\":{\"automargin\":true,\"gridcolor\":\"white\",\"linecolor\":\"white\",\"ticks\":\"\",\"title\":{\"standoff\":15},\"zerolinecolor\":\"white\",\"zerolinewidth\":2}}},\"scene\":{\"domain\":{\"x\":[0.0,0.45],\"y\":[0.0,1.0]},\"aspectmode\":\"cube\",\"xaxis\":{\"title\":{\"text\":\"MSV(mL/mL)\"}},\"yaxis\":{\"title\":{\"text\":\"VDP(%)\"}},\"zaxis\":{\"title\":{\"text\":\"HD\"}}},\"scene2\":{\"domain\":{\"x\":[0.55,1.0],\"y\":[0.0,1.0]},\"xaxis\":{\"title\":{\"text\":\"MSV(mL/mL)\"}},\"yaxis\":{\"title\":{\"text\":\"VDP(%)\"}},\"zaxis\":{\"title\":{\"text\":\"VH(%)\"}}},\"annotations\":[{\"font\":{\"size\":16},\"showarrow\":false,\"text\":\"MSV(mL/mL) vs VDP(%) vs HD\",\"x\":0.225,\"xanchor\":\"center\",\"xref\":\"paper\",\"y\":1.0,\"yanchor\":\"bottom\",\"yref\":\"paper\"},{\"font\":{\"size\":16},\"showarrow\":false,\"text\":\"MSV(mL/mL) vs VDP(%) vs VH(%)\",\"x\":0.775,\"xanchor\":\"center\",\"xref\":\"paper\",\"y\":1.0,\"yanchor\":\"bottom\",\"yref\":\"paper\"}]},                        {\"responsive\": true}                    ).then(function(){\n",
       "                            \n",
       "var gd = document.getElementById('93e15768-97a5-44af-b4bc-5c3af61e8f84');\n",
       "var x = new MutationObserver(function (mutations, observer) {{\n",
       "        var display = window.getComputedStyle(gd).display;\n",
       "        if (!display || display === 'none') {{\n",
       "            console.log([gd, 'removed!']);\n",
       "            Plotly.purge(gd);\n",
       "            observer.disconnect();\n",
       "        }}\n",
       "}});\n",
       "\n",
       "// Listen for the removal of the full notebook cells\n",
       "var notebookContainer = gd.closest('#notebook-container');\n",
       "if (notebookContainer) {{\n",
       "    x.observe(notebookContainer, {childList: true});\n",
       "}}\n",
       "\n",
       "// Listen for the clearing of the current output cell\n",
       "var outputEl = gd.closest('.output');\n",
       "if (outputEl) {{\n",
       "    x.observe(outputEl, {childList: true});\n",
       "}}\n",
       "\n",
       "                        })                };                });            </script>        </div>"
      ]
     },
     "metadata": {},
     "output_type": "display_data"
    }
   ],
   "source": [
    "corr_3D(df_rat_pa_combine_hd, pa_hd_labels, ['MSV(mL/mL)','VDP(%)','HD'], ['MSV(mL/mL)','VDP(%)','VH(%)'])"
   ]
  },
  {
   "cell_type": "code",
   "execution_count": 8,
   "id": "40e80eaa",
   "metadata": {},
   "outputs": [
    {
     "name": "stdout",
     "output_type": "stream",
     "text": [
      "The amount of variance explained by [PC1 PC2] = [0.5471799  0.23591648]\n"
     ]
    },
    {
     "data": {
      "image/png": "[encoded data removed]",
      "text/plain": [
       "<Figure size 504x360 with 1 Axes>"
      ]
     },
     "metadata": {
      "needs_background": "light"
     },
     "output_type": "display_data"
    }
   ],
   "source": [
    "pca_2D(df_rat_pa_combine_hd, 'PCA of rat PA')"
   ]
  },
  {
   "cell_type": "code",
   "execution_count": 9,
   "id": "e05b4c98",
   "metadata": {},
   "outputs": [
    {
     "name": "stdout",
     "output_type": "stream",
     "text": [
      "The amount of variance explained by [PC1 PC2 PC3] = [0.5471799  0.23591648 0.13069871]\n"
     ]
    },
    {
     "data": {
      "application/vnd.plotly.v1+json": {
       "config": {
        "plotlyServerURL": "https://plot.ly"
       },
       "data": [
        {
         "hovertemplate": "Label=WT<br>PC1=%{x}<br>PC2=%{y}<br>PC3=%{z}<extra></extra>",
         "legendgroup": "WT",
         "marker": {
          "color": "#636efa",
          "symbol": "circle"
         },
         "mode": "markers",
         "name": "WT",
         "scene": "scene",
         "showlegend": true,
         "type": "scatter3d",
         "x": [
          -0.6898668921525621,
          -2.782994337679108,
          0.5739206832270339,
          -0.29950573125434893,
          3.042824386808213,
          2.1259056355773502,
          3.6271626898242264,
          0.9364447196668009,
          0.13518484263663064,
          1.0243813895093832,
          -0.7985552418055611,
          4.079458480620161,
          -0.9505610673999204,
          -0.5140536620259131,
          4.919887845015861,
          3.187906623668559,
          -0.5652509508643998,
          -1.3888223566800737,
          0.06851102145137171
         ],
         "y": [
          -0.350504729292288,
          -1.4838474560642594,
          -2.4614587371524213,
          -2.6241777348560253,
          0.042649262452392506,
          -0.016054634251675828,
          -2.0393331040725973,
          -1.4613779223093764,
          0.2467030184514233,
          -0.7337803947385098,
          -0.527853360054115,
          1.622137796593039,
          0.19335090556910195,
          0.7601180595873862,
          -1.3032688704777116,
          0.02272076080874927,
          1.5021252639199092,
          -1.8408662476089623,
          -2.4164936361905553
         ],
         "z": [
          -0.7719695129577941,
          -0.19643860046680292,
          -0.8416207628009756,
          -0.08153136057290254,
          0.6148972250686731,
          0.8302133968504428,
          -1.3457261187429987,
          -1.0456681524193874,
          -0.8599590946612634,
          -0.7900450778486625,
          -0.29086420783951883,
          0.3759729680312359,
          1.299060563636318,
          1.2092180639921961,
          0.541048497487396,
          0.7219574649820398,
          -0.9764082782059808,
          -0.5668069555274329,
          -0.5857319933209945
         ]
        },
        {
         "hovertemplate": "Label=KO<br>PC1=%{x}<br>PC2=%{y}<br>PC3=%{z}<extra></extra>",
         "legendgroup": "KO",
         "marker": {
          "color": "#EF553B",
          "symbol": "circle"
         },
         "mode": "markers",
         "name": "KO",
         "scene": "scene",
         "showlegend": true,
         "type": "scatter3d",
         "x": [
          -1.7834323002757473,
          -1.3083120265866637,
          -0.30594413994581704,
          1.766232888043493,
          1.9933533882269083,
          0.7282149214630317,
          0.11397276866237717,
          2.4000720814434504,
          1.0895896815990307,
          -2.951155584841421,
          0.16858808677319326,
          2.091541324445075,
          -2.6614945439954263,
          -1.9651488154532442,
          -2.1426806202170554,
          -2.795326923849937,
          -2.107280530733018
         ],
         "y": [
          1.6851173796086352,
          2.1554568826374463,
          1.232190918038374,
          -0.992703398789405,
          0.27911194852443255,
          -1.0027324609221713,
          1.6790087818056456,
          1.6573088243140242,
          1.6902410962734837,
          0.13813110141225748,
          -0.4861167218163314,
          0.5265187550579942,
          0.3886837144224706,
          0.3704979631245933,
          -1.0562460115974466,
          -0.8322294897238449,
          0.3308078024812802
         ],
         "z": [
          -1.0331989572832962,
          -0.8289199100325452,
          -0.9433282868870283,
          1.0357874802898122,
          0.9136974039101395,
          1.2993357917908377,
          1.0718820426923226,
          0.6292948053492573,
          0.8555677069681692,
          1.7042996763525013,
          1.2768946427048893,
          0.7996326246468848,
          -0.660444120965085,
          -0.6950545570918378,
          -0.5632046533275058,
          -0.42464614512193455,
          -0.6477961512821239
         ]
        },
        {
         "hovertemplate": "Label=CF<br>PC1=%{x}<br>PC2=%{y}<br>PC3=%{z}<extra></extra>",
         "legendgroup": "CF",
         "marker": {
          "color": "#00cc96",
          "symbol": "circle"
         },
         "mode": "markers",
         "name": "CF",
         "scene": "scene",
         "showlegend": true,
         "type": "scatter3d",
         "x": [
          0.5254584597058257,
          -0.6828240687205642,
          -0.4551868576747866,
          -2.2563957991362638,
          -2.42493204037972,
          -1.6940023867716967,
          -1.4821063929196723,
          3.3845918382337303,
          -0.5778218093677718,
          2.023534706824332,
          -1.0246059016999156,
          -1.3792277818887853,
          -2.42868127002453,
          -1.5140709759402189,
          1.3141175851690168,
          0.609384961689074
         ],
         "y": [
          -0.591557526883598,
          -0.408604139460111,
          0.43994262467285405,
          0.5056470430369338,
          0.6562449522873072,
          -0.3519272498814473,
          1.6910955540009454,
          1.555863247738337,
          0.8495767951054775,
          2.6469254923813126,
          -1.2085056830973904,
          0.24093858928201362,
          -0.6019538891204511,
          1.9042292605259739,
          -0.04763654493652606,
          -2.174113850816574
         ],
         "z": [
          -1.061536683425964,
          -0.07102093931962589,
          -0.36461054580274543,
          -0.31790950883150315,
          -0.4355051545017226,
          1.569742730820709,
          1.2404434448868455,
          -1.4528120761236873,
          -0.9572968829947865,
          -1.130639843042956,
          1.5381420615144146,
          1.4139826227434185,
          1.6605917987517522,
          -0.9298942199654952,
          -1.1849290337867406,
          -0.5461452283189574
         ]
        }
       ],
       "layout": {
        "legend": {
         "title": {
          "text": "Label"
         },
         "tracegroupgap": 0
        },
        "scene": {
         "domain": {
          "x": [
           0,
           1
          ],
          "y": [
           0,
           1
          ]
         },
         "xaxis": {
          "title": {
           "text": "PC1"
          }
         },
         "yaxis": {
          "title": {
           "text": "PC2"
          }
         },
         "zaxis": {
          "title": {
           "text": "PC3"
          }
         }
        },
        "template": {
         "data": {
          "bar": [
           {
            "error_x": {
             "color": "#2a3f5f"
            },
            "error_y": {
             "color": "#2a3f5f"
            },
            "marker": {
             "line": {
              "color": "#E5ECF6",
              "width": 0.5
             },
             "pattern": {
              "fillmode": "overlay",
              "size": 10,
              "solidity": 0.2
             }
            },
            "type": "bar"
           }
          ],
          "barpolar": [
           {
            "marker": {
             "line": {
              "color": "#E5ECF6",
              "width": 0.5
             },
             "pattern": {
              "fillmode": "overlay",
              "size": 10,
              "solidity": 0.2
             }
            },
            "type": "barpolar"
           }
          ],
          "carpet": [
           {
            "aaxis": {
             "endlinecolor": "#2a3f5f",
             "gridcolor": "white",
             "linecolor": "white",
             "minorgridcolor": "white",
             "startlinecolor": "#2a3f5f"
            },
            "baxis": {
             "endlinecolor": "#2a3f5f",
             "gridcolor": "white",
             "linecolor": "white",
             "minorgridcolor": "white",
             "startlinecolor": "#2a3f5f"
            },
            "type": "carpet"
           }
          ],
          "choropleth": [
           {
            "colorbar": {
             "outlinewidth": 0,
             "ticks": ""
            },
            "type": "choropleth"
           }
          ],
          "contour": [
           {
            "colorbar": {
             "outlinewidth": 0,
             "ticks": ""
            },
            "colorscale": [
             [
              0,
              "#0d0887"
             ],
             [
              0.1111111111111111,
              "#46039f"
             ],
             [
              0.2222222222222222,
              "#7201a8"
             ],
             [
              0.3333333333333333,
              "#9c179e"
             ],
             [
              0.4444444444444444,
              "#bd3786"
             ],
             [
              0.5555555555555556,
              "#d8576b"
             ],
             [
              0.6666666666666666,
              "#ed7953"
             ],
             [
              0.7777777777777778,
              "#fb9f3a"
             ],
             [
              0.8888888888888888,
              "#fdca26"
             ],
             [
              1,
              "#f0f921"
             ]
            ],
            "type": "contour"
           }
          ],
          "contourcarpet": [
           {
            "colorbar": {
             "outlinewidth": 0,
             "ticks": ""
            },
            "type": "contourcarpet"
           }
          ],
          "heatmap": [
           {
            "colorbar": {
             "outlinewidth": 0,
             "ticks": ""
            },
            "colorscale": [
             [
              0,
              "#0d0887"
             ],
             [
              0.1111111111111111,
              "#46039f"
             ],
             [
              0.2222222222222222,
              "#7201a8"
             ],
             [
              0.3333333333333333,
              "#9c179e"
             ],
             [
              0.4444444444444444,
              "#bd3786"
             ],
             [
              0.5555555555555556,
              "#d8576b"
             ],
             [
              0.6666666666666666,
              "#ed7953"
             ],
             [
              0.7777777777777778,
              "#fb9f3a"
             ],
             [
              0.8888888888888888,
              "#fdca26"
             ],
             [
              1,
              "#f0f921"
             ]
            ],
            "type": "heatmap"
           }
          ],
          "heatmapgl": [
           {
            "colorbar": {
             "outlinewidth": 0,
             "ticks": ""
            },
            "colorscale": [
             [
              0,
              "#0d0887"
             ],
             [
              0.1111111111111111,
              "#46039f"
             ],
             [
              0.2222222222222222,
              "#7201a8"
             ],
             [
              0.3333333333333333,
              "#9c179e"
             ],
             [
              0.4444444444444444,
              "#bd3786"
             ],
             [
              0.5555555555555556,
              "#d8576b"
             ],
             [
              0.6666666666666666,
              "#ed7953"
             ],
             [
              0.7777777777777778,
              "#fb9f3a"
             ],
             [
              0.8888888888888888,
              "#fdca26"
             ],
             [
              1,
              "#f0f921"
             ]
            ],
            "type": "heatmapgl"
           }
          ],
          "histogram": [
           {
            "marker": {
             "pattern": {
              "fillmode": "overlay",
              "size": 10,
              "solidity": 0.2
             }
            },
            "type": "histogram"
           }
          ],
          "histogram2d": [
           {
            "colorbar": {
             "outlinewidth": 0,
             "ticks": ""
            },
            "colorscale": [
             [
              0,
              "#0d0887"
             ],
             [
              0.1111111111111111,
              "#46039f"
             ],
             [
              0.2222222222222222,
              "#7201a8"
             ],
             [
              0.3333333333333333,
              "#9c179e"
             ],
             [
              0.4444444444444444,
              "#bd3786"
             ],
             [
              0.5555555555555556,
              "#d8576b"
             ],
             [
              0.6666666666666666,
              "#ed7953"
             ],
             [
              0.7777777777777778,
              "#fb9f3a"
             ],
             [
              0.8888888888888888,
              "#fdca26"
             ],
             [
              1,
              "#f0f921"
             ]
            ],
            "type": "histogram2d"
           }
          ],
          "histogram2dcontour": [
           {
            "colorbar": {
             "outlinewidth": 0,
             "ticks": ""
            },
            "colorscale": [
             [
              0,
              "#0d0887"
             ],
             [
              0.1111111111111111,
              "#46039f"
             ],
             [
              0.2222222222222222,
              "#7201a8"
             ],
             [
              0.3333333333333333,
              "#9c179e"
             ],
             [
              0.4444444444444444,
              "#bd3786"
             ],
             [
              0.5555555555555556,
              "#d8576b"
             ],
             [
              0.6666666666666666,
              "#ed7953"
             ],
             [
              0.7777777777777778,
              "#fb9f3a"
             ],
             [
              0.8888888888888888,
              "#fdca26"
             ],
             [
              1,
              "#f0f921"
             ]
            ],
            "type": "histogram2dcontour"
           }
          ],
          "mesh3d": [
           {
            "colorbar": {
             "outlinewidth": 0,
             "ticks": ""
            },
            "type": "mesh3d"
           }
          ],
          "parcoords": [
           {
            "line": {
             "colorbar": {
              "outlinewidth": 0,
              "ticks": ""
             }
            },
            "type": "parcoords"
           }
          ],
          "pie": [
           {
            "automargin": true,
            "type": "pie"
           }
          ],
          "scatter": [
           {
            "marker": {
             "colorbar": {
              "outlinewidth": 0,
              "ticks": ""
             }
            },
            "type": "scatter"
           }
          ],
          "scatter3d": [
           {
            "line": {
             "colorbar": {
              "outlinewidth": 0,
              "ticks": ""
             }
            },
            "marker": {
             "colorbar": {
              "outlinewidth": 0,
              "ticks": ""
             }
            },
            "type": "scatter3d"
           }
          ],
          "scattercarpet": [
           {
            "marker": {
             "colorbar": {
              "outlinewidth": 0,
              "ticks": ""
             }
            },
            "type": "scattercarpet"
           }
          ],
          "scattergeo": [
           {
            "marker": {
             "colorbar": {
              "outlinewidth": 0,
              "ticks": ""
             }
            },
            "type": "scattergeo"
           }
          ],
          "scattergl": [
           {
            "marker": {
             "colorbar": {
              "outlinewidth": 0,
              "ticks": ""
             }
            },
            "type": "scattergl"
           }
          ],
          "scattermapbox": [
           {
            "marker": {
             "colorbar": {
              "outlinewidth": 0,
              "ticks": ""
             }
            },
            "type": "scattermapbox"
           }
          ],
          "scatterpolar": [
           {
            "marker": {
             "colorbar": {
              "outlinewidth": 0,
              "ticks": ""
             }
            },
            "type": "scatterpolar"
           }
          ],
          "scatterpolargl": [
           {
            "marker": {
             "colorbar": {
              "outlinewidth": 0,
              "ticks": ""
             }
            },
            "type": "scatterpolargl"
           }
          ],
          "scatterternary": [
           {
            "marker": {
             "colorbar": {
              "outlinewidth": 0,
              "ticks": ""
             }
            },
            "type": "scatterternary"
           }
          ],
          "surface": [
           {
            "colorbar": {
             "outlinewidth": 0,
             "ticks": ""
            },
            "colorscale": [
             [
              0,
              "#0d0887"
             ],
             [
              0.1111111111111111,
              "#46039f"
             ],
             [
              0.2222222222222222,
              "#7201a8"
             ],
             [
              0.3333333333333333,
              "#9c179e"
             ],
             [
              0.4444444444444444,
              "#bd3786"
             ],
             [
              0.5555555555555556,
              "#d8576b"
             ],
             [
              0.6666666666666666,
              "#ed7953"
             ],
             [
              0.7777777777777778,
              "#fb9f3a"
             ],
             [
              0.8888888888888888,
              "#fdca26"
             ],
             [
              1,
              "#f0f921"
             ]
            ],
            "type": "surface"
           }
          ],
          "table": [
           {
            "cells": {
             "fill": {
              "color": "#EBF0F8"
             },
             "line": {
              "color": "white"
             }
            },
            "header": {
             "fill": {
              "color": "#C8D4E3"
             },
             "line": {
              "color": "white"
             }
            },
            "type": "table"
           }
          ]
         },
         "layout": {
          "annotationdefaults": {
           "arrowcolor": "#2a3f5f",
           "arrowhead": 0,
           "arrowwidth": 1
          },
          "autotypenumbers": "strict",
          "coloraxis": {
           "colorbar": {
            "outlinewidth": 0,
            "ticks": ""
           }
          },
          "colorscale": {
           "diverging": [
            [
             0,
             "#8e0152"
            ],
            [
             0.1,
             "#c51b7d"
            ],
            [
             0.2,
             "#de77ae"
            ],
            [
             0.3,
             "#f1b6da"
            ],
            [
             0.4,
             "#fde0ef"
            ],
            [
             0.5,
             "#f7f7f7"
            ],
            [
             0.6,
             "#e6f5d0"
            ],
            [
             0.7,
             "#b8e186"
            ],
            [
             0.8,
             "#7fbc41"
            ],
            [
             0.9,
             "#4d9221"
            ],
            [
             1,
             "#276419"
            ]
           ],
           "sequential": [
            [
             0,
             "#0d0887"
            ],
            [
             0.1111111111111111,
             "#46039f"
            ],
            [
             0.2222222222222222,
             "#7201a8"
            ],
            [
             0.3333333333333333,
             "#9c179e"
            ],
            [
             0.4444444444444444,
             "#bd3786"
            ],
            [
             0.5555555555555556,
             "#d8576b"
            ],
            [
             0.6666666666666666,
             "#ed7953"
            ],
            [
             0.7777777777777778,
             "#fb9f3a"
            ],
            [
             0.8888888888888888,
             "#fdca26"
            ],
            [
             1,
             "#f0f921"
            ]
           ],
           "sequentialminus": [
            [
             0,
             "#0d0887"
            ],
            [
             0.1111111111111111,
             "#46039f"
            ],
            [
             0.2222222222222222,
             "#7201a8"
            ],
            [
             0.3333333333333333,
             "#9c179e"
            ],
            [
             0.4444444444444444,
             "#bd3786"
            ],
            [
             0.5555555555555556,
             "#d8576b"
            ],
            [
             0.6666666666666666,
             "#ed7953"
            ],
            [
             0.7777777777777778,
             "#fb9f3a"
            ],
            [
             0.8888888888888888,
             "#fdca26"
            ],
            [
             1,
             "#f0f921"
            ]
           ]
          },
          "colorway": [
           "#636efa",
           "#EF553B",
           "#00cc96",
           "#ab63fa",
           "#FFA15A",
           "#19d3f3",
           "#FF6692",
           "#B6E880",
           "#FF97FF",
           "#FECB52"
          ],
          "font": {
           "color": "#2a3f5f"
          },
          "geo": {
           "bgcolor": "white",
           "lakecolor": "white",
           "landcolor": "#E5ECF6",
           "showlakes": true,
           "showland": true,
           "subunitcolor": "white"
          },
          "hoverlabel": {
           "align": "left"
          },
          "hovermode": "closest",
          "mapbox": {
           "style": "light"
          },
          "paper_bgcolor": "white",
          "plot_bgcolor": "#E5ECF6",
          "polar": {
           "angularaxis": {
            "gridcolor": "white",
            "linecolor": "white",
            "ticks": ""
           },
           "bgcolor": "#E5ECF6",
           "radialaxis": {
            "gridcolor": "white",
            "linecolor": "white",
            "ticks": ""
           }
          },
          "scene": {
           "xaxis": {
            "backgroundcolor": "#E5ECF6",
            "gridcolor": "white",
            "gridwidth": 2,
            "linecolor": "white",
            "showbackground": true,
            "ticks": "",
            "zerolinecolor": "white"
           },
           "yaxis": {
            "backgroundcolor": "#E5ECF6",
            "gridcolor": "white",
            "gridwidth": 2,
            "linecolor": "white",
            "showbackground": true,
            "ticks": "",
            "zerolinecolor": "white"
           },
           "zaxis": {
            "backgroundcolor": "#E5ECF6",
            "gridcolor": "white",
            "gridwidth": 2,
            "linecolor": "white",
            "showbackground": true,
            "ticks": "",
            "zerolinecolor": "white"
           }
          },
          "shapedefaults": {
           "line": {
            "color": "#2a3f5f"
           }
          },
          "ternary": {
           "aaxis": {
            "gridcolor": "white",
            "linecolor": "white",
            "ticks": ""
           },
           "baxis": {
            "gridcolor": "white",
            "linecolor": "white",
            "ticks": ""
           },
           "bgcolor": "#E5ECF6",
           "caxis": {
            "gridcolor": "white",
            "linecolor": "white",
            "ticks": ""
           }
          },
          "title": {
           "x": 0.05
          },
          "xaxis": {
           "automargin": true,
           "gridcolor": "white",
           "linecolor": "white",
           "ticks": "",
           "title": {
            "standoff": 15
           },
           "zerolinecolor": "white",
           "zerolinewidth": 2
          },
          "yaxis": {
           "automargin": true,
           "gridcolor": "white",
           "linecolor": "white",
           "ticks": "",
           "title": {
            "standoff": 15
           },
           "zerolinecolor": "white",
           "zerolinewidth": 2
          }
         }
        },
        "title": {
         "text": "PCA of rat PA"
        }
       }
      },
      "text/html": [
       "<div>                            <div id=\"d9beee3f-8be0-451a-9181-23077939784c\" class=\"plotly-graph-div\" style=\"height:525px; width:100%;\"></div>            <script type=\"text/javascript\">                require([\"plotly\"], function(Plotly) {                    window.PLOTLYENV=window.PLOTLYENV || {};                                    if (document.getElementById(\"d9beee3f-8be0-451a-9181-23077939784c\")) {                    Plotly.newPlot(                        \"d9beee3f-8be0-451a-9181-23077939784c\",                        [{\"hovertemplate\":\"Label=WT<br>PC1=%{x}<br>PC2=%{y}<br>PC3=%{z}<extra></extra>\",\"legendgroup\":\"WT\",\"marker\":{\"color\":\"#636efa\",\"symbol\":\"circle\"},\"mode\":\"markers\",\"name\":\"WT\",\"scene\":\"scene\",\"showlegend\":true,\"x\":[-0.6898668921525621,-2.782994337679108,0.5739206832270339,-0.29950573125434893,3.042824386808213,2.1259056355773502,3.6271626898242264,0.9364447196668009,0.13518484263663064,1.0243813895093832,-0.7985552418055611,4.079458480620161,-0.9505610673999204,-0.5140536620259131,4.919887845015861,3.187906623668559,-0.5652509508643998,-1.3888223566800737,0.06851102145137171],\"y\":[-0.350504729292288,-1.4838474560642594,-2.4614587371524213,-2.6241777348560253,0.042649262452392506,-0.016054634251675828,-2.0393331040725973,-1.4613779223093764,0.2467030184514233,-0.7337803947385098,-0.527853360054115,1.622137796593039,0.19335090556910195,0.7601180595873862,-1.3032688704777116,0.02272076080874927,1.5021252639199092,-1.8408662476089623,-2.4164936361905553],\"z\":[-0.7719695129577941,-0.19643860046680292,-0.8416207628009756,-0.08153136057290254,0.6148972250686731,0.8302133968504428,-1.3457261187429987,-1.0456681524193874,-0.8599590946612634,-0.7900450778486625,-0.29086420783951883,0.3759729680312359,1.299060563636318,1.2092180639921961,0.541048497487396,0.7219574649820398,-0.9764082782059808,-0.5668069555274329,-0.5857319933209945],\"type\":\"scatter3d\"},{\"hovertemplate\":\"Label=KO<br>PC1=%{x}<br>PC2=%{y}<br>PC3=%{z}<extra></extra>\",\"legendgroup\":\"KO\",\"marker\":{\"color\":\"#EF553B\",\"symbol\":\"circle\"},\"mode\":\"markers\",\"name\":\"KO\",\"scene\":\"scene\",\"showlegend\":true,\"x\":[-1.7834323002757473,-1.3083120265866637,-0.30594413994581704,1.766232888043493,1.9933533882269083,0.7282149214630317,0.11397276866237717,2.4000720814434504,1.0895896815990307,-2.951155584841421,0.16858808677319326,2.091541324445075,-2.6614945439954263,-1.9651488154532442,-2.1426806202170554,-2.795326923849937,-2.107280530733018],\"y\":[1.6851173796086352,2.1554568826374463,1.232190918038374,-0.992703398789405,0.27911194852443255,-1.0027324609221713,1.6790087818056456,1.6573088243140242,1.6902410962734837,0.13813110141225748,-0.4861167218163314,0.5265187550579942,0.3886837144224706,0.3704979631245933,-1.0562460115974466,-0.8322294897238449,0.3308078024812802],\"z\":[-1.0331989572832962,-0.8289199100325452,-0.9433282868870283,1.0357874802898122,0.9136974039101395,1.2993357917908377,1.0718820426923226,0.6292948053492573,0.8555677069681692,1.7042996763525013,1.2768946427048893,0.7996326246468848,-0.660444120965085,-0.6950545570918378,-0.5632046533275058,-0.42464614512193455,-0.6477961512821239],\"type\":\"scatter3d\"},{\"hovertemplate\":\"Label=CF<br>PC1=%{x}<br>PC2=%{y}<br>PC3=%{z}<extra></extra>\",\"legendgroup\":\"CF\",\"marker\":{\"color\":\"#00cc96\",\"symbol\":\"circle\"},\"mode\":\"markers\",\"name\":\"CF\",\"scene\":\"scene\",\"showlegend\":true,\"x\":[0.5254584597058257,-0.6828240687205642,-0.4551868576747866,-2.2563957991362638,-2.42493204037972,-1.6940023867716967,-1.4821063929196723,3.3845918382337303,-0.5778218093677718,2.023534706824332,-1.0246059016999156,-1.3792277818887853,-2.42868127002453,-1.5140709759402189,1.3141175851690168,0.609384961689074],\"y\":[-0.591557526883598,-0.408604139460111,0.43994262467285405,0.5056470430369338,0.6562449522873072,-0.3519272498814473,1.6910955540009454,1.555863247738337,0.8495767951054775,2.6469254923813126,-1.2085056830973904,0.24093858928201362,-0.6019538891204511,1.9042292605259739,-0.04763654493652606,-2.174113850816574],\"z\":[-1.061536683425964,-0.07102093931962589,-0.36461054580274543,-0.31790950883150315,-0.4355051545017226,1.569742730820709,1.2404434448868455,-1.4528120761236873,-0.9572968829947865,-1.130639843042956,1.5381420615144146,1.4139826227434185,1.6605917987517522,-0.9298942199654952,-1.1849290337867406,-0.5461452283189574],\"type\":\"scatter3d\"}],                        {\"template\":{\"data\":{\"bar\":[{\"error_x\":{\"color\":\"#2a3f5f\"},\"error_y\":{\"color\":\"#2a3f5f\"},\"marker\":{\"line\":{\"color\":\"#E5ECF6\",\"width\":0.5},\"pattern\":{\"fillmode\":\"overlay\",\"size\":10,\"solidity\":0.2}},\"type\":\"bar\"}],\"barpolar\":[{\"marker\":{\"line\":{\"color\":\"#E5ECF6\",\"width\":0.5},\"pattern\":{\"fillmode\":\"overlay\",\"size\":10,\"solidity\":0.2}},\"type\":\"barpolar\"}],\"carpet\":[{\"aaxis\":{\"endlinecolor\":\"#2a3f5f\",\"gridcolor\":\"white\",\"linecolor\":\"white\",\"minorgridcolor\":\"white\",\"startlinecolor\":\"#2a3f5f\"},\"baxis\":{\"endlinecolor\":\"#2a3f5f\",\"gridcolor\":\"white\",\"linecolor\":\"white\",\"minorgridcolor\":\"white\",\"startlinecolor\":\"#2a3f5f\"},\"type\":\"carpet\"}],\"choropleth\":[{\"colorbar\":{\"outlinewidth\":0,\"ticks\":\"\"},\"type\":\"choropleth\"}],\"contour\":[{\"colorbar\":{\"outlinewidth\":0,\"ticks\":\"\"},\"colorscale\":[[0.0,\"#0d0887\"],[0.1111111111111111,\"#46039f\"],[0.2222222222222222,\"#7201a8\"],[0.3333333333333333,\"#9c179e\"],[0.4444444444444444,\"#bd3786\"],[0.5555555555555556,\"#d8576b\"],[0.6666666666666666,\"#ed7953\"],[0.7777777777777778,\"#fb9f3a\"],[0.8888888888888888,\"#fdca26\"],[1.0,\"#f0f921\"]],\"type\":\"contour\"}],\"contourcarpet\":[{\"colorbar\":{\"outlinewidth\":0,\"ticks\":\"\"},\"type\":\"contourcarpet\"}],\"heatmap\":[{\"colorbar\":{\"outlinewidth\":0,\"ticks\":\"\"},\"colorscale\":[[0.0,\"#0d0887\"],[0.1111111111111111,\"#46039f\"],[0.2222222222222222,\"#7201a8\"],[0.3333333333333333,\"#9c179e\"],[0.4444444444444444,\"#bd3786\"],[0.5555555555555556,\"#d8576b\"],[0.6666666666666666,\"#ed7953\"],[0.7777777777777778,\"#fb9f3a\"],[0.8888888888888888,\"#fdca26\"],[1.0,\"#f0f921\"]],\"type\":\"heatmap\"}],\"heatmapgl\":[{\"colorbar\":{\"outlinewidth\":0,\"ticks\":\"\"},\"colorscale\":[[0.0,\"#0d0887\"],[0.1111111111111111,\"#46039f\"],[0.2222222222222222,\"#7201a8\"],[0.3333333333333333,\"#9c179e\"],[0.4444444444444444,\"#bd3786\"],[0.5555555555555556,\"#d8576b\"],[0.6666666666666666,\"#ed7953\"],[0.7777777777777778,\"#fb9f3a\"],[0.8888888888888888,\"#fdca26\"],[1.0,\"#f0f921\"]],\"type\":\"heatmapgl\"}],\"histogram\":[{\"marker\":{\"pattern\":{\"fillmode\":\"overlay\",\"size\":10,\"solidity\":0.2}},\"type\":\"histogram\"}],\"histogram2d\":[{\"colorbar\":{\"outlinewidth\":0,\"ticks\":\"\"},\"colorscale\":[[0.0,\"#0d0887\"],[0.1111111111111111,\"#46039f\"],[0.2222222222222222,\"#7201a8\"],[0.3333333333333333,\"#9c179e\"],[0.4444444444444444,\"#bd3786\"],[0.5555555555555556,\"#d8576b\"],[0.6666666666666666,\"#ed7953\"],[0.7777777777777778,\"#fb9f3a\"],[0.8888888888888888,\"#fdca26\"],[1.0,\"#f0f921\"]],\"type\":\"histogram2d\"}],\"histogram2dcontour\":[{\"colorbar\":{\"outlinewidth\":0,\"ticks\":\"\"},\"colorscale\":[[0.0,\"#0d0887\"],[0.1111111111111111,\"#46039f\"],[0.2222222222222222,\"#7201a8\"],[0.3333333333333333,\"#9c179e\"],[0.4444444444444444,\"#bd3786\"],[0.5555555555555556,\"#d8576b\"],[0.6666666666666666,\"#ed7953\"],[0.7777777777777778,\"#fb9f3a\"],[0.8888888888888888,\"#fdca26\"],[1.0,\"#f0f921\"]],\"type\":\"histogram2dcontour\"}],\"mesh3d\":[{\"colorbar\":{\"outlinewidth\":0,\"ticks\":\"\"},\"type\":\"mesh3d\"}],\"parcoords\":[{\"line\":{\"colorbar\":{\"outlinewidth\":0,\"ticks\":\"\"}},\"type\":\"parcoords\"}],\"pie\":[{\"automargin\":true,\"type\":\"pie\"}],\"scatter\":[{\"marker\":{\"colorbar\":{\"outlinewidth\":0,\"ticks\":\"\"}},\"type\":\"scatter\"}],\"scatter3d\":[{\"line\":{\"colorbar\":{\"outlinewidth\":0,\"ticks\":\"\"}},\"marker\":{\"colorbar\":{\"outlinewidth\":0,\"ticks\":\"\"}},\"type\":\"scatter3d\"}],\"scattercarpet\":[{\"marker\":{\"colorbar\":{\"outlinewidth\":0,\"ticks\":\"\"}},\"type\":\"scattercarpet\"}],\"scattergeo\":[{\"marker\":{\"colorbar\":{\"outlinewidth\":0,\"ticks\":\"\"}},\"type\":\"scattergeo\"}],\"scattergl\":[{\"marker\":{\"colorbar\":{\"outlinewidth\":0,\"ticks\":\"\"}},\"type\":\"scattergl\"}],\"scattermapbox\":[{\"marker\":{\"colorbar\":{\"outlinewidth\":0,\"ticks\":\"\"}},\"type\":\"scattermapbox\"}],\"scatterpolar\":[{\"marker\":{\"colorbar\":{\"outlinewidth\":0,\"ticks\":\"\"}},\"type\":\"scatterpolar\"}],\"scatterpolargl\":[{\"marker\":{\"colorbar\":{\"outlinewidth\":0,\"ticks\":\"\"}},\"type\":\"scatterpolargl\"}],\"scatterternary\":[{\"marker\":{\"colorbar\":{\"outlinewidth\":0,\"ticks\":\"\"}},\"type\":\"scatterternary\"}],\"surface\":[{\"colorbar\":{\"outlinewidth\":0,\"ticks\":\"\"},\"colorscale\":[[0.0,\"#0d0887\"],[0.1111111111111111,\"#46039f\"],[0.2222222222222222,\"#7201a8\"],[0.3333333333333333,\"#9c179e\"],[0.4444444444444444,\"#bd3786\"],[0.5555555555555556,\"#d8576b\"],[0.6666666666666666,\"#ed7953\"],[0.7777777777777778,\"#fb9f3a\"],[0.8888888888888888,\"#fdca26\"],[1.0,\"#f0f921\"]],\"type\":\"surface\"}],\"table\":[{\"cells\":{\"fill\":{\"color\":\"#EBF0F8\"},\"line\":{\"color\":\"white\"}},\"header\":{\"fill\":{\"color\":\"#C8D4E3\"},\"line\":{\"color\":\"white\"}},\"type\":\"table\"}]},\"layout\":{\"annotationdefaults\":{\"arrowcolor\":\"#2a3f5f\",\"arrowhead\":0,\"arrowwidth\":1},\"autotypenumbers\":\"strict\",\"coloraxis\":{\"colorbar\":{\"outlinewidth\":0,\"ticks\":\"\"}},\"colorscale\":{\"diverging\":[[0,\"#8e0152\"],[0.1,\"#c51b7d\"],[0.2,\"#de77ae\"],[0.3,\"#f1b6da\"],[0.4,\"#fde0ef\"],[0.5,\"#f7f7f7\"],[0.6,\"#e6f5d0\"],[0.7,\"#b8e186\"],[0.8,\"#7fbc41\"],[0.9,\"#4d9221\"],[1,\"#276419\"]],\"sequential\":[[0.0,\"#0d0887\"],[0.1111111111111111,\"#46039f\"],[0.2222222222222222,\"#7201a8\"],[0.3333333333333333,\"#9c179e\"],[0.4444444444444444,\"#bd3786\"],[0.5555555555555556,\"#d8576b\"],[0.6666666666666666,\"#ed7953\"],[0.7777777777777778,\"#fb9f3a\"],[0.8888888888888888,\"#fdca26\"],[1.0,\"#f0f921\"]],\"sequentialminus\":[[0.0,\"#0d0887\"],[0.1111111111111111,\"#46039f\"],[0.2222222222222222,\"#7201a8\"],[0.3333333333333333,\"#9c179e\"],[0.4444444444444444,\"#bd3786\"],[0.5555555555555556,\"#d8576b\"],[0.6666666666666666,\"#ed7953\"],[0.7777777777777778,\"#fb9f3a\"],[0.8888888888888888,\"#fdca26\"],[1.0,\"#f0f921\"]]},\"colorway\":[\"#636efa\",\"#EF553B\",\"#00cc96\",\"#ab63fa\",\"#FFA15A\",\"#19d3f3\",\"#FF6692\",\"#B6E880\",\"#FF97FF\",\"#FECB52\"],\"font\":{\"color\":\"#2a3f5f\"},\"geo\":{\"bgcolor\":\"white\",\"lakecolor\":\"white\",\"landcolor\":\"#E5ECF6\",\"showlakes\":true,\"showland\":true,\"subunitcolor\":\"white\"},\"hoverlabel\":{\"align\":\"left\"},\"hovermode\":\"closest\",\"mapbox\":{\"style\":\"light\"},\"paper_bgcolor\":\"white\",\"plot_bgcolor\":\"#E5ECF6\",\"polar\":{\"angularaxis\":{\"gridcolor\":\"white\",\"linecolor\":\"white\",\"ticks\":\"\"},\"bgcolor\":\"#E5ECF6\",\"radialaxis\":{\"gridcolor\":\"white\",\"linecolor\":\"white\",\"ticks\":\"\"}},\"scene\":{\"xaxis\":{\"backgroundcolor\":\"#E5ECF6\",\"gridcolor\":\"white\",\"gridwidth\":2,\"linecolor\":\"white\",\"showbackground\":true,\"ticks\":\"\",\"zerolinecolor\":\"white\"},\"yaxis\":{\"backgroundcolor\":\"#E5ECF6\",\"gridcolor\":\"white\",\"gridwidth\":2,\"linecolor\":\"white\",\"showbackground\":true,\"ticks\":\"\",\"zerolinecolor\":\"white\"},\"zaxis\":{\"backgroundcolor\":\"#E5ECF6\",\"gridcolor\":\"white\",\"gridwidth\":2,\"linecolor\":\"white\",\"showbackground\":true,\"ticks\":\"\",\"zerolinecolor\":\"white\"}},\"shapedefaults\":{\"line\":{\"color\":\"#2a3f5f\"}},\"ternary\":{\"aaxis\":{\"gridcolor\":\"white\",\"linecolor\":\"white\",\"ticks\":\"\"},\"baxis\":{\"gridcolor\":\"white\",\"linecolor\":\"white\",\"ticks\":\"\"},\"bgcolor\":\"#E5ECF6\",\"caxis\":{\"gridcolor\":\"white\",\"linecolor\":\"white\",\"ticks\":\"\"}},\"title\":{\"x\":0.05},\"xaxis\":{\"automargin\":true,\"gridcolor\":\"white\",\"linecolor\":\"white\",\"ticks\":\"\",\"title\":{\"standoff\":15},\"zerolinecolor\":\"white\",\"zerolinewidth\":2},\"yaxis\":{\"automargin\":true,\"gridcolor\":\"white\",\"linecolor\":\"white\",\"ticks\":\"\",\"title\":{\"standoff\":15},\"zerolinecolor\":\"white\",\"zerolinewidth\":2}}},\"scene\":{\"domain\":{\"x\":[0.0,1.0],\"y\":[0.0,1.0]},\"xaxis\":{\"title\":{\"text\":\"PC1\"}},\"yaxis\":{\"title\":{\"text\":\"PC2\"}},\"zaxis\":{\"title\":{\"text\":\"PC3\"}}},\"legend\":{\"title\":{\"text\":\"Label\"},\"tracegroupgap\":0},\"title\":{\"text\":\"PCA of rat PA\"}},                        {\"responsive\": true}                    ).then(function(){\n",
       "                            \n",
       "var gd = document.getElementById('d9beee3f-8be0-451a-9181-23077939784c');\n",
       "var x = new MutationObserver(function (mutations, observer) {{\n",
       "        var display = window.getComputedStyle(gd).display;\n",
       "        if (!display || display === 'none') {{\n",
       "            console.log([gd, 'removed!']);\n",
       "            Plotly.purge(gd);\n",
       "            observer.disconnect();\n",
       "        }}\n",
       "}});\n",
       "\n",
       "// Listen for the removal of the full notebook cells\n",
       "var notebookContainer = gd.closest('#notebook-container');\n",
       "if (notebookContainer) {{\n",
       "    x.observe(notebookContainer, {childList: true});\n",
       "}}\n",
       "\n",
       "// Listen for the clearing of the current output cell\n",
       "var outputEl = gd.closest('.output');\n",
       "if (outputEl) {{\n",
       "    x.observe(outputEl, {childList: true});\n",
       "}}\n",
       "\n",
       "                        })                };                });            </script>        </div>"
      ]
     },
     "metadata": {},
     "output_type": "display_data"
    }
   ],
   "source": [
    "pca_3D(df_rat_pa_combine_hd, 'PCA of rat PA')"
   ]
  },
  {
   "cell_type": "markdown",
   "id": "0d74a6ef",
   "metadata": {},
   "source": [
    "# Rat Sterile beads"
   ]
  },
  {
   "cell_type": "code",
   "execution_count": 10,
   "id": "bbb9437e",
   "metadata": {},
   "outputs": [
    {
     "data": {
      "application/vnd.plotly.v1+json": {
       "config": {
        "plotlyServerURL": "https://plot.ly"
       },
       "data": [
        {
         "hovertemplate": "color=Baseline<br>MSV(mL/mL)=%{x}<br>VDP(%)=%{y}<br>HD=%{z}<extra></extra>",
         "legendgroup": "Baseline",
         "marker": {
          "color": "#636efa",
          "size": 4,
          "symbol": "circle"
         },
         "mode": "markers",
         "name": "Baseline",
         "scene": "scene",
         "showlegend": true,
         "type": "scatter3d",
         "x": [
          0.2,
          0.2,
          0.18,
          0.17,
          0.16,
          0.14,
          0.18,
          0.2,
          0.2,
          0.209,
          0.204,
          0.19,
          0.208,
          0.145,
          0.141,
          0.158,
          0.167,
          0.212,
          0.182,
          0.252,
          0.21
         ],
         "y": [
          15.8,
          19.2,
          15.2,
          17.3,
          22,
          17.9,
          20.2,
          17.1,
          19.3,
          13.8,
          16.4,
          13.8,
          13,
          13.8,
          17.7,
          19.8,
          16.2,
          14.8,
          13.8,
          14,
          14.5
         ],
         "z": [
          1.073080078,
          1.181295343,
          0.857011681,
          0.932626567,
          1.017127477,
          0.763915552,
          1.196441914,
          1.192389843,
          1.182170503,
          1.031338532,
          1.090920713,
          0.830394759,
          0.928228821,
          0.676983948,
          0.724582753,
          0.918100015,
          0.870545105,
          1.074136305,
          0.90623735,
          1.167759176,
          0.942966618
         ]
        },
        {
         "hovertemplate": "color=Post_beads<br>MSV(mL/mL)=%{x}<br>VDP(%)=%{y}<br>HD=%{z}<extra></extra>",
         "legendgroup": "Post_beads",
         "marker": {
          "color": "#EF553B",
          "size": 4,
          "symbol": "circle"
         },
         "mode": "markers",
         "name": "Post_beads",
         "scene": "scene",
         "showlegend": true,
         "type": "scatter3d",
         "x": [
          0.2,
          0.19,
          0.17,
          0.17,
          0.16,
          0.14,
          0.17,
          0.19,
          0.18,
          0.201,
          0.188,
          0.15,
          0.199,
          0.132,
          0.139,
          0.147,
          0.16,
          0.186,
          0.138,
          0.243,
          0.188
         ],
         "y": [
          30.3,
          27.8,
          28.2,
          23.5,
          21.5,
          25.7,
          23.5,
          29,
          30.1,
          23.9,
          18.4,
          45.5,
          16.4,
          24,
          22.3,
          25.8,
          19.5,
          31.1,
          44.6,
          13.5,
          24.2
         ],
         "z": [
          1.808414399,
          1.589372106,
          1.605659951,
          1.40567364,
          1.011234553,
          1.085150695,
          1.387421488,
          1.631281002,
          1.798779413,
          1.569910093,
          1.116909386,
          2.162658148,
          1.074608177,
          1.022659363,
          1.001039904,
          1.257898967,
          0.962381992,
          1.996013772,
          1.885018571,
          1.158623497,
          1.481935979
         ]
        },
        {
         "hovertemplate": "color=Baseline<br>MSV(mL/mL)=%{x}<br>VDP(%)=%{y}<br>VH(%)=%{z}<extra></extra>",
         "legendgroup": "Baseline",
         "marker": {
          "color": "#636efa",
          "size": 4,
          "symbol": "circle"
         },
         "mode": "markers",
         "name": "Baseline",
         "scene": "scene2",
         "showlegend": true,
         "type": "scatter3d",
         "x": [
          0.2,
          0.2,
          0.18,
          0.17,
          0.16,
          0.14,
          0.18,
          0.2,
          0.2,
          0.209,
          0.204,
          0.19,
          0.208,
          0.145,
          0.141,
          0.158,
          0.167,
          0.212,
          0.182,
          0.252,
          0.21
         ],
         "y": [
          15.8,
          19.2,
          15.2,
          17.3,
          22,
          17.9,
          20.2,
          17.1,
          19.3,
          13.8,
          16.4,
          13.8,
          13,
          13.8,
          17.7,
          19.8,
          16.2,
          14.8,
          13.8,
          14,
          14.5
         ],
         "z": [
          47.7,
          51.35,
          44.54,
          49.89,
          57.89,
          49.52,
          61.38,
          51.64,
          54.22,
          44.95,
          48.98,
          39.89,
          40.72,
          42.85,
          47.54,
          53.12,
          48.18,
          46.75,
          45.52,
          42.6,
          41.13
         ]
        },
        {
         "hovertemplate": "color=Post_beads<br>MSV(mL/mL)=%{x}<br>VDP(%)=%{y}<br>VH(%)=%{z}<extra></extra>",
         "legendgroup": "Post_beads",
         "marker": {
          "color": "#EF553B",
          "size": 4,
          "symbol": "circle"
         },
         "mode": "markers",
         "name": "Post_beads",
         "scene": "scene2",
         "showlegend": true,
         "type": "scatter3d",
         "x": [
          0.2,
          0.19,
          0.17,
          0.17,
          0.16,
          0.14,
          0.17,
          0.19,
          0.18,
          0.201,
          0.188,
          0.15,
          0.199,
          0.132,
          0.139,
          0.147,
          0.16,
          0.186,
          0.138,
          0.243,
          0.188
         ],
         "y": [
          30.3,
          27.8,
          28.2,
          23.5,
          21.5,
          25.7,
          23.5,
          29,
          30.1,
          23.9,
          18.4,
          45.5,
          16.4,
          24,
          22.3,
          25.8,
          19.5,
          31.1,
          44.6,
          13.5,
          24.2
         ],
         "z": [
          82.34,
          76.13,
          81.49,
          72.33,
          58.4,
          72.94,
          71.43,
          77.71,
          84.97,
          71.28,
          54.35,
          131.25,
          49.53,
          70.86,
          66.04,
          78.32,
          55.36,
          98.96,
          125.16,
          43.77,
          72.26
         ]
        }
       ],
       "layout": {
        "annotations": [
         {
          "font": {
           "size": 16
          },
          "showarrow": false,
          "text": "MSV(mL/mL) vs VDP(%) vs HD",
          "x": 0.225,
          "xanchor": "center",
          "xref": "paper",
          "y": 1,
          "yanchor": "bottom",
          "yref": "paper"
         },
         {
          "font": {
           "size": 16
          },
          "showarrow": false,
          "text": "MSV(mL/mL) vs VDP(%) vs VH(%)",
          "x": 0.775,
          "xanchor": "center",
          "xref": "paper",
          "y": 1,
          "yanchor": "bottom",
          "yref": "paper"
         }
        ],
        "scene": {
         "aspectmode": "cube",
         "domain": {
          "x": [
           0,
           0.45
          ],
          "y": [
           0,
           1
          ]
         },
         "xaxis": {
          "title": {
           "text": "MSV(mL/mL)"
          }
         },
         "yaxis": {
          "title": {
           "text": "VDP(%)"
          }
         },
         "zaxis": {
          "title": {
           "text": "HD"
          }
         }
        },
        "scene2": {
         "domain": {
          "x": [
           0.55,
           1
          ],
          "y": [
           0,
           1
          ]
         },
         "xaxis": {
          "title": {
           "text": "MSV(mL/mL)"
          }
         },
         "yaxis": {
          "title": {
           "text": "VDP(%)"
          }
         },
         "zaxis": {
          "title": {
           "text": "VH(%)"
          }
         }
        },
        "template": {
         "data": {
          "bar": [
           {
            "error_x": {
             "color": "#2a3f5f"
            },
            "error_y": {
             "color": "#2a3f5f"
            },
            "marker": {
             "line": {
              "color": "#E5ECF6",
              "width": 0.5
             },
             "pattern": {
              "fillmode": "overlay",
              "size": 10,
              "solidity": 0.2
             }
            },
            "type": "bar"
           }
          ],
          "barpolar": [
           {
            "marker": {
             "line": {
              "color": "#E5ECF6",
              "width": 0.5
             },
             "pattern": {
              "fillmode": "overlay",
              "size": 10,
              "solidity": 0.2
             }
            },
            "type": "barpolar"
           }
          ],
          "carpet": [
           {
            "aaxis": {
             "endlinecolor": "#2a3f5f",
             "gridcolor": "white",
             "linecolor": "white",
             "minorgridcolor": "white",
             "startlinecolor": "#2a3f5f"
            },
            "baxis": {
             "endlinecolor": "#2a3f5f",
             "gridcolor": "white",
             "linecolor": "white",
             "minorgridcolor": "white",
             "startlinecolor": "#2a3f5f"
            },
            "type": "carpet"
           }
          ],
          "choropleth": [
           {
            "colorbar": {
             "outlinewidth": 0,
             "ticks": ""
            },
            "type": "choropleth"
           }
          ],
          "contour": [
           {
            "colorbar": {
             "outlinewidth": 0,
             "ticks": ""
            },
            "colorscale": [
             [
              0,
              "#0d0887"
             ],
             [
              0.1111111111111111,
              "#46039f"
             ],
             [
              0.2222222222222222,
              "#7201a8"
             ],
             [
              0.3333333333333333,
              "#9c179e"
             ],
             [
              0.4444444444444444,
              "#bd3786"
             ],
             [
              0.5555555555555556,
              "#d8576b"
             ],
             [
              0.6666666666666666,
              "#ed7953"
             ],
             [
              0.7777777777777778,
              "#fb9f3a"
             ],
             [
              0.8888888888888888,
              "#fdca26"
             ],
             [
              1,
              "#f0f921"
             ]
            ],
            "type": "contour"
           }
          ],
          "contourcarpet": [
           {
            "colorbar": {
             "outlinewidth": 0,
             "ticks": ""
            },
            "type": "contourcarpet"
           }
          ],
          "heatmap": [
           {
            "colorbar": {
             "outlinewidth": 0,
             "ticks": ""
            },
            "colorscale": [
             [
              0,
              "#0d0887"
             ],
             [
              0.1111111111111111,
              "#46039f"
             ],
             [
              0.2222222222222222,
              "#7201a8"
             ],
             [
              0.3333333333333333,
              "#9c179e"
             ],
             [
              0.4444444444444444,
              "#bd3786"
             ],
             [
              0.5555555555555556,
              "#d8576b"
             ],
             [
              0.6666666666666666,
              "#ed7953"
             ],
             [
              0.7777777777777778,
              "#fb9f3a"
             ],
             [
              0.8888888888888888,
              "#fdca26"
             ],
             [
              1,
              "#f0f921"
             ]
            ],
            "type": "heatmap"
           }
          ],
          "heatmapgl": [
           {
            "colorbar": {
             "outlinewidth": 0,
             "ticks": ""
            },
            "colorscale": [
             [
              0,
              "#0d0887"
             ],
             [
              0.1111111111111111,
              "#46039f"
             ],
             [
              0.2222222222222222,
              "#7201a8"
             ],
             [
              0.3333333333333333,
              "#9c179e"
             ],
             [
              0.4444444444444444,
              "#bd3786"
             ],
             [
              0.5555555555555556,
              "#d8576b"
             ],
             [
              0.6666666666666666,
              "#ed7953"
             ],
             [
              0.7777777777777778,
              "#fb9f3a"
             ],
             [
              0.8888888888888888,
              "#fdca26"
             ],
             [
              1,
              "#f0f921"
             ]
            ],
            "type": "heatmapgl"
           }
          ],
          "histogram": [
           {
            "marker": {
             "pattern": {
              "fillmode": "overlay",
              "size": 10,
              "solidity": 0.2
             }
            },
            "type": "histogram"
           }
          ],
          "histogram2d": [
           {
            "colorbar": {
             "outlinewidth": 0,
             "ticks": ""
            },
            "colorscale": [
             [
              0,
              "#0d0887"
             ],
             [
              0.1111111111111111,
              "#46039f"
             ],
             [
              0.2222222222222222,
              "#7201a8"
             ],
             [
              0.3333333333333333,
              "#9c179e"
             ],
             [
              0.4444444444444444,
              "#bd3786"
             ],
             [
              0.5555555555555556,
              "#d8576b"
             ],
             [
              0.6666666666666666,
              "#ed7953"
             ],
             [
              0.7777777777777778,
              "#fb9f3a"
             ],
             [
              0.8888888888888888,
              "#fdca26"
             ],
             [
              1,
              "#f0f921"
             ]
            ],
            "type": "histogram2d"
           }
          ],
          "histogram2dcontour": [
           {
            "colorbar": {
             "outlinewidth": 0,
             "ticks": ""
            },
            "colorscale": [
             [
              0,
              "#0d0887"
             ],
             [
              0.1111111111111111,
              "#46039f"
             ],
             [
              0.2222222222222222,
              "#7201a8"
             ],
             [
              0.3333333333333333,
              "#9c179e"
             ],
             [
              0.4444444444444444,
              "#bd3786"
             ],
             [
              0.5555555555555556,
              "#d8576b"
             ],
             [
              0.6666666666666666,
              "#ed7953"
             ],
             [
              0.7777777777777778,
              "#fb9f3a"
             ],
             [
              0.8888888888888888,
              "#fdca26"
             ],
             [
              1,
              "#f0f921"
             ]
            ],
            "type": "histogram2dcontour"
           }
          ],
          "mesh3d": [
           {
            "colorbar": {
             "outlinewidth": 0,
             "ticks": ""
            },
            "type": "mesh3d"
           }
          ],
          "parcoords": [
           {
            "line": {
             "colorbar": {
              "outlinewidth": 0,
              "ticks": ""
             }
            },
            "type": "parcoords"
           }
          ],
          "pie": [
           {
            "automargin": true,
            "type": "pie"
           }
          ],
          "scatter": [
           {
            "marker": {
             "colorbar": {
              "outlinewidth": 0,
              "ticks": ""
             }
            },
            "type": "scatter"
           }
          ],
          "scatter3d": [
           {
            "line": {
             "colorbar": {
              "outlinewidth": 0,
              "ticks": ""
             }
            },
            "marker": {
             "colorbar": {
              "outlinewidth": 0,
              "ticks": ""
             }
            },
            "type": "scatter3d"
           }
          ],
          "scattercarpet": [
           {
            "marker": {
             "colorbar": {
              "outlinewidth": 0,
              "ticks": ""
             }
            },
            "type": "scattercarpet"
           }
          ],
          "scattergeo": [
           {
            "marker": {
             "colorbar": {
              "outlinewidth": 0,
              "ticks": ""
             }
            },
            "type": "scattergeo"
           }
          ],
          "scattergl": [
           {
            "marker": {
             "colorbar": {
              "outlinewidth": 0,
              "ticks": ""
             }
            },
            "type": "scattergl"
           }
          ],
          "scattermapbox": [
           {
            "marker": {
             "colorbar": {
              "outlinewidth": 0,
              "ticks": ""
             }
            },
            "type": "scattermapbox"
           }
          ],
          "scatterpolar": [
           {
            "marker": {
             "colorbar": {
              "outlinewidth": 0,
              "ticks": ""
             }
            },
            "type": "scatterpolar"
           }
          ],
          "scatterpolargl": [
           {
            "marker": {
             "colorbar": {
              "outlinewidth": 0,
              "ticks": ""
             }
            },
            "type": "scatterpolargl"
           }
          ],
          "scatterternary": [
           {
            "marker": {
             "colorbar": {
              "outlinewidth": 0,
              "ticks": ""
             }
            },
            "type": "scatterternary"
           }
          ],
          "surface": [
           {
            "colorbar": {
             "outlinewidth": 0,
             "ticks": ""
            },
            "colorscale": [
             [
              0,
              "#0d0887"
             ],
             [
              0.1111111111111111,
              "#46039f"
             ],
             [
              0.2222222222222222,
              "#7201a8"
             ],
             [
              0.3333333333333333,
              "#9c179e"
             ],
             [
              0.4444444444444444,
              "#bd3786"
             ],
             [
              0.5555555555555556,
              "#d8576b"
             ],
             [
              0.6666666666666666,
              "#ed7953"
             ],
             [
              0.7777777777777778,
              "#fb9f3a"
             ],
             [
              0.8888888888888888,
              "#fdca26"
             ],
             [
              1,
              "#f0f921"
             ]
            ],
            "type": "surface"
           }
          ],
          "table": [
           {
            "cells": {
             "fill": {
              "color": "#EBF0F8"
             },
             "line": {
              "color": "white"
             }
            },
            "header": {
             "fill": {
              "color": "#C8D4E3"
             },
             "line": {
              "color": "white"
             }
            },
            "type": "table"
           }
          ]
         },
         "layout": {
          "annotationdefaults": {
           "arrowcolor": "#2a3f5f",
           "arrowhead": 0,
           "arrowwidth": 1
          },
          "autotypenumbers": "strict",
          "coloraxis": {
           "colorbar": {
            "outlinewidth": 0,
            "ticks": ""
           }
          },
          "colorscale": {
           "diverging": [
            [
             0,
             "#8e0152"
            ],
            [
             0.1,
             "#c51b7d"
            ],
            [
             0.2,
             "#de77ae"
            ],
            [
             0.3,
             "#f1b6da"
            ],
            [
             0.4,
             "#fde0ef"
            ],
            [
             0.5,
             "#f7f7f7"
            ],
            [
             0.6,
             "#e6f5d0"
            ],
            [
             0.7,
             "#b8e186"
            ],
            [
             0.8,
             "#7fbc41"
            ],
            [
             0.9,
             "#4d9221"
            ],
            [
             1,
             "#276419"
            ]
           ],
           "sequential": [
            [
             0,
             "#0d0887"
            ],
            [
             0.1111111111111111,
             "#46039f"
            ],
            [
             0.2222222222222222,
             "#7201a8"
            ],
            [
             0.3333333333333333,
             "#9c179e"
            ],
            [
             0.4444444444444444,
             "#bd3786"
            ],
            [
             0.5555555555555556,
             "#d8576b"
            ],
            [
             0.6666666666666666,
             "#ed7953"
            ],
            [
             0.7777777777777778,
             "#fb9f3a"
            ],
            [
             0.8888888888888888,
             "#fdca26"
            ],
            [
             1,
             "#f0f921"
            ]
           ],
           "sequentialminus": [
            [
             0,
             "#0d0887"
            ],
            [
             0.1111111111111111,
             "#46039f"
            ],
            [
             0.2222222222222222,
             "#7201a8"
            ],
            [
             0.3333333333333333,
             "#9c179e"
            ],
            [
             0.4444444444444444,
             "#bd3786"
            ],
            [
             0.5555555555555556,
             "#d8576b"
            ],
            [
             0.6666666666666666,
             "#ed7953"
            ],
            [
             0.7777777777777778,
             "#fb9f3a"
            ],
            [
             0.8888888888888888,
             "#fdca26"
            ],
            [
             1,
             "#f0f921"
            ]
           ]
          },
          "colorway": [
           "#636efa",
           "#EF553B",
           "#00cc96",
           "#ab63fa",
           "#FFA15A",
           "#19d3f3",
           "#FF6692",
           "#B6E880",
           "#FF97FF",
           "#FECB52"
          ],
          "font": {
           "color": "#2a3f5f"
          },
          "geo": {
           "bgcolor": "white",
           "lakecolor": "white",
           "landcolor": "#E5ECF6",
           "showlakes": true,
           "showland": true,
           "subunitcolor": "white"
          },
          "hoverlabel": {
           "align": "left"
          },
          "hovermode": "closest",
          "mapbox": {
           "style": "light"
          },
          "paper_bgcolor": "white",
          "plot_bgcolor": "#E5ECF6",
          "polar": {
           "angularaxis": {
            "gridcolor": "white",
            "linecolor": "white",
            "ticks": ""
           },
           "bgcolor": "#E5ECF6",
           "radialaxis": {
            "gridcolor": "white",
            "linecolor": "white",
            "ticks": ""
           }
          },
          "scene": {
           "xaxis": {
            "backgroundcolor": "#E5ECF6",
            "gridcolor": "white",
            "gridwidth": 2,
            "linecolor": "white",
            "showbackground": true,
            "ticks": "",
            "zerolinecolor": "white"
           },
           "yaxis": {
            "backgroundcolor": "#E5ECF6",
            "gridcolor": "white",
            "gridwidth": 2,
            "linecolor": "white",
            "showbackground": true,
            "ticks": "",
            "zerolinecolor": "white"
           },
           "zaxis": {
            "backgroundcolor": "#E5ECF6",
            "gridcolor": "white",
            "gridwidth": 2,
            "linecolor": "white",
            "showbackground": true,
            "ticks": "",
            "zerolinecolor": "white"
           }
          },
          "shapedefaults": {
           "line": {
            "color": "#2a3f5f"
           }
          },
          "ternary": {
           "aaxis": {
            "gridcolor": "white",
            "linecolor": "white",
            "ticks": ""
           },
           "baxis": {
            "gridcolor": "white",
            "linecolor": "white",
            "ticks": ""
           },
           "bgcolor": "#E5ECF6",
           "caxis": {
            "gridcolor": "white",
            "linecolor": "white",
            "ticks": ""
           }
          },
          "title": {
           "x": 0.05
          },
          "xaxis": {
           "automargin": true,
           "gridcolor": "white",
           "linecolor": "white",
           "ticks": "",
           "title": {
            "standoff": 15
           },
           "zerolinecolor": "white",
           "zerolinewidth": 2
          },
          "yaxis": {
           "automargin": true,
           "gridcolor": "white",
           "linecolor": "white",
           "ticks": "",
           "title": {
            "standoff": 15
           },
           "zerolinecolor": "white",
           "zerolinewidth": 2
          }
         }
        }
       }
      },
      "text/html": [
       "<div>                            <div id=\"abaa10b8-03bc-4a9e-87ad-b97d724d5d36\" class=\"plotly-graph-div\" style=\"height:525px; width:100%;\"></div>            <script type=\"text/javascript\">                require([\"plotly\"], function(Plotly) {                    window.PLOTLYENV=window.PLOTLYENV || {};                                    if (document.getElementById(\"abaa10b8-03bc-4a9e-87ad-b97d724d5d36\")) {                    Plotly.newPlot(                        \"abaa10b8-03bc-4a9e-87ad-b97d724d5d36\",                        [{\"hovertemplate\":\"color=Baseline<br>MSV(mL/mL)=%{x}<br>VDP(%)=%{y}<br>HD=%{z}<extra></extra>\",\"legendgroup\":\"Baseline\",\"marker\":{\"color\":\"#636efa\",\"symbol\":\"circle\",\"size\":4},\"mode\":\"markers\",\"name\":\"Baseline\",\"scene\":\"scene\",\"showlegend\":true,\"x\":[0.2,0.2,0.18,0.17,0.16,0.14,0.18,0.2,0.2,0.209,0.204,0.19,0.208,0.145,0.141,0.158,0.167,0.212,0.182,0.252,0.21],\"y\":[15.8,19.2,15.2,17.3,22.0,17.9,20.2,17.1,19.3,13.8,16.4,13.8,13.0,13.8,17.7,19.8,16.2,14.8,13.8,14.0,14.5],\"z\":[1.073080078,1.181295343,0.857011681,0.932626567,1.017127477,0.763915552,1.196441914,1.192389843,1.182170503,1.031338532,1.090920713,0.830394759,0.928228821,0.676983948,0.724582753,0.918100015,0.870545105,1.074136305,0.90623735,1.167759176,0.942966618],\"type\":\"scatter3d\"},{\"hovertemplate\":\"color=Post_beads<br>MSV(mL/mL)=%{x}<br>VDP(%)=%{y}<br>HD=%{z}<extra></extra>\",\"legendgroup\":\"Post_beads\",\"marker\":{\"color\":\"#EF553B\",\"symbol\":\"circle\",\"size\":4},\"mode\":\"markers\",\"name\":\"Post_beads\",\"scene\":\"scene\",\"showlegend\":true,\"x\":[0.2,0.19,0.17,0.17,0.16,0.14,0.17,0.19,0.18,0.201,0.188,0.15,0.199,0.132,0.139,0.147,0.16,0.186,0.138,0.243,0.188],\"y\":[30.3,27.8,28.2,23.5,21.5,25.7,23.5,29.0,30.1,23.9,18.4,45.5,16.4,24.0,22.3,25.8,19.5,31.1,44.6,13.5,24.2],\"z\":[1.808414399,1.589372106,1.605659951,1.40567364,1.011234553,1.085150695,1.387421488,1.631281002,1.798779413,1.569910093,1.116909386,2.162658148,1.074608177,1.022659363,1.001039904,1.257898967,0.962381992,1.996013772,1.885018571,1.158623497,1.481935979],\"type\":\"scatter3d\"},{\"hovertemplate\":\"color=Baseline<br>MSV(mL/mL)=%{x}<br>VDP(%)=%{y}<br>VH(%)=%{z}<extra></extra>\",\"legendgroup\":\"Baseline\",\"marker\":{\"color\":\"#636efa\",\"symbol\":\"circle\",\"size\":4},\"mode\":\"markers\",\"name\":\"Baseline\",\"scene\":\"scene2\",\"showlegend\":true,\"x\":[0.2,0.2,0.18,0.17,0.16,0.14,0.18,0.2,0.2,0.209,0.204,0.19,0.208,0.145,0.141,0.158,0.167,0.212,0.182,0.252,0.21],\"y\":[15.8,19.2,15.2,17.3,22.0,17.9,20.2,17.1,19.3,13.8,16.4,13.8,13.0,13.8,17.7,19.8,16.2,14.8,13.8,14.0,14.5],\"z\":[47.7,51.35,44.54,49.89,57.89,49.52,61.38,51.64,54.22,44.95,48.98,39.89,40.72,42.85,47.54,53.12,48.18,46.75,45.52,42.6,41.13],\"type\":\"scatter3d\"},{\"hovertemplate\":\"color=Post_beads<br>MSV(mL/mL)=%{x}<br>VDP(%)=%{y}<br>VH(%)=%{z}<extra></extra>\",\"legendgroup\":\"Post_beads\",\"marker\":{\"color\":\"#EF553B\",\"symbol\":\"circle\",\"size\":4},\"mode\":\"markers\",\"name\":\"Post_beads\",\"scene\":\"scene2\",\"showlegend\":true,\"x\":[0.2,0.19,0.17,0.17,0.16,0.14,0.17,0.19,0.18,0.201,0.188,0.15,0.199,0.132,0.139,0.147,0.16,0.186,0.138,0.243,0.188],\"y\":[30.3,27.8,28.2,23.5,21.5,25.7,23.5,29.0,30.1,23.9,18.4,45.5,16.4,24.0,22.3,25.8,19.5,31.1,44.6,13.5,24.2],\"z\":[82.34,76.13,81.49,72.33,58.4,72.94,71.43,77.71,84.97,71.28,54.35,131.25,49.53,70.86,66.04,78.32,55.36,98.96,125.16,43.77,72.26],\"type\":\"scatter3d\"}],                        {\"template\":{\"data\":{\"bar\":[{\"error_x\":{\"color\":\"#2a3f5f\"},\"error_y\":{\"color\":\"#2a3f5f\"},\"marker\":{\"line\":{\"color\":\"#E5ECF6\",\"width\":0.5},\"pattern\":{\"fillmode\":\"overlay\",\"size\":10,\"solidity\":0.2}},\"type\":\"bar\"}],\"barpolar\":[{\"marker\":{\"line\":{\"color\":\"#E5ECF6\",\"width\":0.5},\"pattern\":{\"fillmode\":\"overlay\",\"size\":10,\"solidity\":0.2}},\"type\":\"barpolar\"}],\"carpet\":[{\"aaxis\":{\"endlinecolor\":\"#2a3f5f\",\"gridcolor\":\"white\",\"linecolor\":\"white\",\"minorgridcolor\":\"white\",\"startlinecolor\":\"#2a3f5f\"},\"baxis\":{\"endlinecolor\":\"#2a3f5f\",\"gridcolor\":\"white\",\"linecolor\":\"white\",\"minorgridcolor\":\"white\",\"startlinecolor\":\"#2a3f5f\"},\"type\":\"carpet\"}],\"choropleth\":[{\"colorbar\":{\"outlinewidth\":0,\"ticks\":\"\"},\"type\":\"choropleth\"}],\"contour\":[{\"colorbar\":{\"outlinewidth\":0,\"ticks\":\"\"},\"colorscale\":[[0.0,\"#0d0887\"],[0.1111111111111111,\"#46039f\"],[0.2222222222222222,\"#7201a8\"],[0.3333333333333333,\"#9c179e\"],[0.4444444444444444,\"#bd3786\"],[0.5555555555555556,\"#d8576b\"],[0.6666666666666666,\"#ed7953\"],[0.7777777777777778,\"#fb9f3a\"],[0.8888888888888888,\"#fdca26\"],[1.0,\"#f0f921\"]],\"type\":\"contour\"}],\"contourcarpet\":[{\"colorbar\":{\"outlinewidth\":0,\"ticks\":\"\"},\"type\":\"contourcarpet\"}],\"heatmap\":[{\"colorbar\":{\"outlinewidth\":0,\"ticks\":\"\"},\"colorscale\":[[0.0,\"#0d0887\"],[0.1111111111111111,\"#46039f\"],[0.2222222222222222,\"#7201a8\"],[0.3333333333333333,\"#9c179e\"],[0.4444444444444444,\"#bd3786\"],[0.5555555555555556,\"#d8576b\"],[0.6666666666666666,\"#ed7953\"],[0.7777777777777778,\"#fb9f3a\"],[0.8888888888888888,\"#fdca26\"],[1.0,\"#f0f921\"]],\"type\":\"heatmap\"}],\"heatmapgl\":[{\"colorbar\":{\"outlinewidth\":0,\"ticks\":\"\"},\"colorscale\":[[0.0,\"#0d0887\"],[0.1111111111111111,\"#46039f\"],[0.2222222222222222,\"#7201a8\"],[0.3333333333333333,\"#9c179e\"],[0.4444444444444444,\"#bd3786\"],[0.5555555555555556,\"#d8576b\"],[0.6666666666666666,\"#ed7953\"],[0.7777777777777778,\"#fb9f3a\"],[0.8888888888888888,\"#fdca26\"],[1.0,\"#f0f921\"]],\"type\":\"heatmapgl\"}],\"histogram\":[{\"marker\":{\"pattern\":{\"fillmode\":\"overlay\",\"size\":10,\"solidity\":0.2}},\"type\":\"histogram\"}],\"histogram2d\":[{\"colorbar\":{\"outlinewidth\":0,\"ticks\":\"\"},\"colorscale\":[[0.0,\"#0d0887\"],[0.1111111111111111,\"#46039f\"],[0.2222222222222222,\"#7201a8\"],[0.3333333333333333,\"#9c179e\"],[0.4444444444444444,\"#bd3786\"],[0.5555555555555556,\"#d8576b\"],[0.6666666666666666,\"#ed7953\"],[0.7777777777777778,\"#fb9f3a\"],[0.8888888888888888,\"#fdca26\"],[1.0,\"#f0f921\"]],\"type\":\"histogram2d\"}],\"histogram2dcontour\":[{\"colorbar\":{\"outlinewidth\":0,\"ticks\":\"\"},\"colorscale\":[[0.0,\"#0d0887\"],[0.1111111111111111,\"#46039f\"],[0.2222222222222222,\"#7201a8\"],[0.3333333333333333,\"#9c179e\"],[0.4444444444444444,\"#bd3786\"],[0.5555555555555556,\"#d8576b\"],[0.6666666666666666,\"#ed7953\"],[0.7777777777777778,\"#fb9f3a\"],[0.8888888888888888,\"#fdca26\"],[1.0,\"#f0f921\"]],\"type\":\"histogram2dcontour\"}],\"mesh3d\":[{\"colorbar\":{\"outlinewidth\":0,\"ticks\":\"\"},\"type\":\"mesh3d\"}],\"parcoords\":[{\"line\":{\"colorbar\":{\"outlinewidth\":0,\"ticks\":\"\"}},\"type\":\"parcoords\"}],\"pie\":[{\"automargin\":true,\"type\":\"pie\"}],\"scatter\":[{\"marker\":{\"colorbar\":{\"outlinewidth\":0,\"ticks\":\"\"}},\"type\":\"scatter\"}],\"scatter3d\":[{\"line\":{\"colorbar\":{\"outlinewidth\":0,\"ticks\":\"\"}},\"marker\":{\"colorbar\":{\"outlinewidth\":0,\"ticks\":\"\"}},\"type\":\"scatter3d\"}],\"scattercarpet\":[{\"marker\":{\"colorbar\":{\"outlinewidth\":0,\"ticks\":\"\"}},\"type\":\"scattercarpet\"}],\"scattergeo\":[{\"marker\":{\"colorbar\":{\"outlinewidth\":0,\"ticks\":\"\"}},\"type\":\"scattergeo\"}],\"scattergl\":[{\"marker\":{\"colorbar\":{\"outlinewidth\":0,\"ticks\":\"\"}},\"type\":\"scattergl\"}],\"scattermapbox\":[{\"marker\":{\"colorbar\":{\"outlinewidth\":0,\"ticks\":\"\"}},\"type\":\"scattermapbox\"}],\"scatterpolar\":[{\"marker\":{\"colorbar\":{\"outlinewidth\":0,\"ticks\":\"\"}},\"type\":\"scatterpolar\"}],\"scatterpolargl\":[{\"marker\":{\"colorbar\":{\"outlinewidth\":0,\"ticks\":\"\"}},\"type\":\"scatterpolargl\"}],\"scatterternary\":[{\"marker\":{\"colorbar\":{\"outlinewidth\":0,\"ticks\":\"\"}},\"type\":\"scatterternary\"}],\"surface\":[{\"colorbar\":{\"outlinewidth\":0,\"ticks\":\"\"},\"colorscale\":[[0.0,\"#0d0887\"],[0.1111111111111111,\"#46039f\"],[0.2222222222222222,\"#7201a8\"],[0.3333333333333333,\"#9c179e\"],[0.4444444444444444,\"#bd3786\"],[0.5555555555555556,\"#d8576b\"],[0.6666666666666666,\"#ed7953\"],[0.7777777777777778,\"#fb9f3a\"],[0.8888888888888888,\"#fdca26\"],[1.0,\"#f0f921\"]],\"type\":\"surface\"}],\"table\":[{\"cells\":{\"fill\":{\"color\":\"#EBF0F8\"},\"line\":{\"color\":\"white\"}},\"header\":{\"fill\":{\"color\":\"#C8D4E3\"},\"line\":{\"color\":\"white\"}},\"type\":\"table\"}]},\"layout\":{\"annotationdefaults\":{\"arrowcolor\":\"#2a3f5f\",\"arrowhead\":0,\"arrowwidth\":1},\"autotypenumbers\":\"strict\",\"coloraxis\":{\"colorbar\":{\"outlinewidth\":0,\"ticks\":\"\"}},\"colorscale\":{\"diverging\":[[0,\"#8e0152\"],[0.1,\"#c51b7d\"],[0.2,\"#de77ae\"],[0.3,\"#f1b6da\"],[0.4,\"#fde0ef\"],[0.5,\"#f7f7f7\"],[0.6,\"#e6f5d0\"],[0.7,\"#b8e186\"],[0.8,\"#7fbc41\"],[0.9,\"#4d9221\"],[1,\"#276419\"]],\"sequential\":[[0.0,\"#0d0887\"],[0.1111111111111111,\"#46039f\"],[0.2222222222222222,\"#7201a8\"],[0.3333333333333333,\"#9c179e\"],[0.4444444444444444,\"#bd3786\"],[0.5555555555555556,\"#d8576b\"],[0.6666666666666666,\"#ed7953\"],[0.7777777777777778,\"#fb9f3a\"],[0.8888888888888888,\"#fdca26\"],[1.0,\"#f0f921\"]],\"sequentialminus\":[[0.0,\"#0d0887\"],[0.1111111111111111,\"#46039f\"],[0.2222222222222222,\"#7201a8\"],[0.3333333333333333,\"#9c179e\"],[0.4444444444444444,\"#bd3786\"],[0.5555555555555556,\"#d8576b\"],[0.6666666666666666,\"#ed7953\"],[0.7777777777777778,\"#fb9f3a\"],[0.8888888888888888,\"#fdca26\"],[1.0,\"#f0f921\"]]},\"colorway\":[\"#636efa\",\"#EF553B\",\"#00cc96\",\"#ab63fa\",\"#FFA15A\",\"#19d3f3\",\"#FF6692\",\"#B6E880\",\"#FF97FF\",\"#FECB52\"],\"font\":{\"color\":\"#2a3f5f\"},\"geo\":{\"bgcolor\":\"white\",\"lakecolor\":\"white\",\"landcolor\":\"#E5ECF6\",\"showlakes\":true,\"showland\":true,\"subunitcolor\":\"white\"},\"hoverlabel\":{\"align\":\"left\"},\"hovermode\":\"closest\",\"mapbox\":{\"style\":\"light\"},\"paper_bgcolor\":\"white\",\"plot_bgcolor\":\"#E5ECF6\",\"polar\":{\"angularaxis\":{\"gridcolor\":\"white\",\"linecolor\":\"white\",\"ticks\":\"\"},\"bgcolor\":\"#E5ECF6\",\"radialaxis\":{\"gridcolor\":\"white\",\"linecolor\":\"white\",\"ticks\":\"\"}},\"scene\":{\"xaxis\":{\"backgroundcolor\":\"#E5ECF6\",\"gridcolor\":\"white\",\"gridwidth\":2,\"linecolor\":\"white\",\"showbackground\":true,\"ticks\":\"\",\"zerolinecolor\":\"white\"},\"yaxis\":{\"backgroundcolor\":\"#E5ECF6\",\"gridcolor\":\"white\",\"gridwidth\":2,\"linecolor\":\"white\",\"showbackground\":true,\"ticks\":\"\",\"zerolinecolor\":\"white\"},\"zaxis\":{\"backgroundcolor\":\"#E5ECF6\",\"gridcolor\":\"white\",\"gridwidth\":2,\"linecolor\":\"white\",\"showbackground\":true,\"ticks\":\"\",\"zerolinecolor\":\"white\"}},\"shapedefaults\":{\"line\":{\"color\":\"#2a3f5f\"}},\"ternary\":{\"aaxis\":{\"gridcolor\":\"white\",\"linecolor\":\"white\",\"ticks\":\"\"},\"baxis\":{\"gridcolor\":\"white\",\"linecolor\":\"white\",\"ticks\":\"\"},\"bgcolor\":\"#E5ECF6\",\"caxis\":{\"gridcolor\":\"white\",\"linecolor\":\"white\",\"ticks\":\"\"}},\"title\":{\"x\":0.05},\"xaxis\":{\"automargin\":true,\"gridcolor\":\"white\",\"linecolor\":\"white\",\"ticks\":\"\",\"title\":{\"standoff\":15},\"zerolinecolor\":\"white\",\"zerolinewidth\":2},\"yaxis\":{\"automargin\":true,\"gridcolor\":\"white\",\"linecolor\":\"white\",\"ticks\":\"\",\"title\":{\"standoff\":15},\"zerolinecolor\":\"white\",\"zerolinewidth\":2}}},\"scene\":{\"domain\":{\"x\":[0.0,0.45],\"y\":[0.0,1.0]},\"aspectmode\":\"cube\",\"xaxis\":{\"title\":{\"text\":\"MSV(mL/mL)\"}},\"yaxis\":{\"title\":{\"text\":\"VDP(%)\"}},\"zaxis\":{\"title\":{\"text\":\"HD\"}}},\"scene2\":{\"domain\":{\"x\":[0.55,1.0],\"y\":[0.0,1.0]},\"xaxis\":{\"title\":{\"text\":\"MSV(mL/mL)\"}},\"yaxis\":{\"title\":{\"text\":\"VDP(%)\"}},\"zaxis\":{\"title\":{\"text\":\"VH(%)\"}}},\"annotations\":[{\"font\":{\"size\":16},\"showarrow\":false,\"text\":\"MSV(mL/mL) vs VDP(%) vs HD\",\"x\":0.225,\"xanchor\":\"center\",\"xref\":\"paper\",\"y\":1.0,\"yanchor\":\"bottom\",\"yref\":\"paper\"},{\"font\":{\"size\":16},\"showarrow\":false,\"text\":\"MSV(mL/mL) vs VDP(%) vs VH(%)\",\"x\":0.775,\"xanchor\":\"center\",\"xref\":\"paper\",\"y\":1.0,\"yanchor\":\"bottom\",\"yref\":\"paper\"}]},                        {\"responsive\": true}                    ).then(function(){\n",
       "                            \n",
       "var gd = document.getElementById('abaa10b8-03bc-4a9e-87ad-b97d724d5d36');\n",
       "var x = new MutationObserver(function (mutations, observer) {{\n",
       "        var display = window.getComputedStyle(gd).display;\n",
       "        if (!display || display === 'none') {{\n",
       "            console.log([gd, 'removed!']);\n",
       "            Plotly.purge(gd);\n",
       "            observer.disconnect();\n",
       "        }}\n",
       "}});\n",
       "\n",
       "// Listen for the removal of the full notebook cells\n",
       "var notebookContainer = gd.closest('#notebook-container');\n",
       "if (notebookContainer) {{\n",
       "    x.observe(notebookContainer, {childList: true});\n",
       "}}\n",
       "\n",
       "// Listen for the clearing of the current output cell\n",
       "var outputEl = gd.closest('.output');\n",
       "if (outputEl) {{\n",
       "    x.observe(outputEl, {childList: true});\n",
       "}}\n",
       "\n",
       "                        })                };                });            </script>        </div>"
      ]
     },
     "metadata": {},
     "output_type": "display_data"
    }
   ],
   "source": [
    "corr_3D(df_rat_bead_combine_hd, bead_hd_labels, ['MSV(mL/mL)','VDP(%)','HD'], ['MSV(mL/mL)','VDP(%)','VH(%)'])"
   ]
  },
  {
   "cell_type": "code",
   "execution_count": 11,
   "id": "c1487d2a",
   "metadata": {},
   "outputs": [
    {
     "name": "stdout",
     "output_type": "stream",
     "text": [
      "The amount of variance explained by [PC1 PC2] = [0.65522117 0.16983393]\n"
     ]
    },
    {
     "data": {
      "image/png": "[encoded data removed]",
      "text/plain": [
       "<Figure size 504x360 with 1 Axes>"
      ]
     },
     "metadata": {
      "needs_background": "light"
     },
     "output_type": "display_data"
    }
   ],
   "source": [
    "pca_2D(df_rat_bead_combine_hd, 'PCA of rat sterile beads')"
   ]
  },
  {
   "cell_type": "code",
   "execution_count": 12,
   "id": "c9dc46ea",
   "metadata": {},
   "outputs": [
    {
     "name": "stdout",
     "output_type": "stream",
     "text": [
      "The amount of variance explained by [PC1 PC2 PC3] = [0.65522117 0.16983393 0.13847583]\n"
     ]
    },
    {
     "data": {
      "application/vnd.plotly.v1+json": {
       "config": {
        "plotlyServerURL": "https://plot.ly"
       },
       "data": [
        {
         "hovertemplate": "Label=Baseline<br>PC1=%{x}<br>PC2=%{y}<br>PC3=%{z}<extra></extra>",
         "legendgroup": "Baseline",
         "marker": {
          "color": "#636efa",
          "symbol": "circle"
         },
         "mode": "markers",
         "name": "Baseline",
         "scene": "scene",
         "showlegend": true,
         "type": "scatter3d",
         "x": [
          -0.9721742465359599,
          -0.13190879679468076,
          -1.4433920564532174,
          -1.2158975409202397,
          -0.04189777295101601,
          -0.5747852822987845,
          -0.08545924138213781,
          -0.6057379933019938,
          -0.4362532068814184,
          -2.1779979752029712,
          -1.5424886916567848,
          -2.2607545409550265,
          -2.662690719737435,
          -2.2023920604038008,
          -0.8957306287197255,
          -0.7034757350307528,
          -1.2346055472593223,
          -1.6423960083643574,
          -2.19466655970861,
          -2.4811787385278077,
          -2.4777863697903335
         ],
         "y": [
          -0.12604368506941424,
          -0.11700243891375345,
          -0.8044704147079973,
          -0.7573853269377754,
          -1.0415366762817788,
          -2.321577191906138,
          -0.0881790634983682,
          0.09677176780301186,
          -0.01006905718044165,
          0.9230623920025567,
          0.8076104952754216,
          0.04473037181501451,
          0.9702537117308926,
          -1.4125387625111072,
          -2.155662563528733,
          -1.0368974249336562,
          -0.9616653506023576,
          0.6575670045854498,
          0.1494040419236059,
          2.439166421942157,
          1.0074238320594024
         ],
         "z": [
          -1.4225401663215589,
          -1.398200650960738,
          -1.1673437288791917,
          -1.0066783087015831,
          -0.8097114143882931,
          -0.6971853755156718,
          -1.056635946975847,
          -1.4191206885926688,
          -1.3942369934689407,
          0.3346332184278053,
          0.39262152716532556,
          1.074955860953018,
          0.39998203099646473,
          1.0592817075497547,
          0.8596613659867757,
          0.8779043625929139,
          0.6376322023378226,
          -0.013828591030713044,
          1.1453379878838728,
          -0.025075158610996136,
          0.6011682316269309
         ]
        },
        {
         "hovertemplate": "Label=Post_beads<br>PC1=%{x}<br>PC2=%{y}<br>PC3=%{z}<extra></extra>",
         "legendgroup": "Post_beads",
         "marker": {
          "color": "#EF553B",
          "symbol": "circle"
         },
         "mode": "markers",
         "name": "Post_beads",
         "scene": "scene",
         "showlegend": true,
         "type": "scatter3d",
         "x": [
          2.531768401398736,
          1.7878479347503993,
          2.1335895954490818,
          1.074369147402441,
          -0.16578222949785823,
          1.3265570100597168,
          1.2398474797949497,
          2.0684934745351495,
          2.643881178695759,
          0.49107415518948455,
          -0.9466848772676149,
          6.768532033548402,
          -1.7544380743203358,
          0.47284681792033834,
          0.20280188991756642,
          1.2655590839009971,
          -0.8947229490263342,
          3.243214507136515,
          6.376828941598473,
          -2.498839997870571,
          0.6169261895610794
         ],
         "y": [
          1.056617373677582,
          0.4586795429558174,
          0.15713158837982547,
          -0.14961353349318895,
          -1.007592504939679,
          -1.8245114773110442,
          -0.2358109348069956,
          0.48329670865068647,
          0.5859048136121491,
          1.5231151633365128,
          0.3134044277892176,
          0.6770738764083271,
          0.9062398116847916,
          -1.4248412135065827,
          -1.3076926358218857,
          -0.7223659303824411,
          -0.6052905889798716,
          1.6277032430104084,
          -0.08162166348771555,
          2.3163743488839605,
          0.9908375012741375
         ],
         "z": [
          -1.233676286718041,
          -1.1207279120066789,
          -0.8784893304239749,
          -0.920699114451179,
          -0.7942231040994197,
          -0.5537476831446795,
          -0.931719242091261,
          -1.1754957615494575,
          -1.0044569535947714,
          0.6451703449028513,
          0.7798785376898966,
          1.3992322586582626,
          0.6274650658375105,
          1.3839526842719567,
          1.3523320026677297,
          1.2181392539609128,
          1.0707747220013777,
          0.6683609646527983,
          1.5487400713077526,
          0.14952109744904274,
          0.7970469126048904
         ]
        }
       ],
       "layout": {
        "legend": {
         "title": {
          "text": "Label"
         },
         "tracegroupgap": 0
        },
        "scene": {
         "domain": {
          "x": [
           0,
           1
          ],
          "y": [
           0,
           1
          ]
         },
         "xaxis": {
          "title": {
           "text": "PC1"
          }
         },
         "yaxis": {
          "title": {
           "text": "PC2"
          }
         },
         "zaxis": {
          "title": {
           "text": "PC3"
          }
         }
        },
        "template": {
         "data": {
          "bar": [
           {
            "error_x": {
             "color": "#2a3f5f"
            },
            "error_y": {
             "color": "#2a3f5f"
            },
            "marker": {
             "line": {
              "color": "#E5ECF6",
              "width": 0.5
             },
             "pattern": {
              "fillmode": "overlay",
              "size": 10,
              "solidity": 0.2
             }
            },
            "type": "bar"
           }
          ],
          "barpolar": [
           {
            "marker": {
             "line": {
              "color": "#E5ECF6",
              "width": 0.5
             },
             "pattern": {
              "fillmode": "overlay",
              "size": 10,
              "solidity": 0.2
             }
            },
            "type": "barpolar"
           }
          ],
          "carpet": [
           {
            "aaxis": {
             "endlinecolor": "#2a3f5f",
             "gridcolor": "white",
             "linecolor": "white",
             "minorgridcolor": "white",
             "startlinecolor": "#2a3f5f"
            },
            "baxis": {
             "endlinecolor": "#2a3f5f",
             "gridcolor": "white",
             "linecolor": "white",
             "minorgridcolor": "white",
             "startlinecolor": "#2a3f5f"
            },
            "type": "carpet"
           }
          ],
          "choropleth": [
           {
            "colorbar": {
             "outlinewidth": 0,
             "ticks": ""
            },
            "type": "choropleth"
           }
          ],
          "contour": [
           {
            "colorbar": {
             "outlinewidth": 0,
             "ticks": ""
            },
            "colorscale": [
             [
              0,
              "#0d0887"
             ],
             [
              0.1111111111111111,
              "#46039f"
             ],
             [
              0.2222222222222222,
              "#7201a8"
             ],
             [
              0.3333333333333333,
              "#9c179e"
             ],
             [
              0.4444444444444444,
              "#bd3786"
             ],
             [
              0.5555555555555556,
              "#d8576b"
             ],
             [
              0.6666666666666666,
              "#ed7953"
             ],
             [
              0.7777777777777778,
              "#fb9f3a"
             ],
             [
              0.8888888888888888,
              "#fdca26"
             ],
             [
              1,
              "#f0f921"
             ]
            ],
            "type": "contour"
           }
          ],
          "contourcarpet": [
           {
            "colorbar": {
             "outlinewidth": 0,
             "ticks": ""
            },
            "type": "contourcarpet"
           }
          ],
          "heatmap": [
           {
            "colorbar": {
             "outlinewidth": 0,
             "ticks": ""
            },
            "colorscale": [
             [
              0,
              "#0d0887"
             ],
             [
              0.1111111111111111,
              "#46039f"
             ],
             [
              0.2222222222222222,
              "#7201a8"
             ],
             [
              0.3333333333333333,
              "#9c179e"
             ],
             [
              0.4444444444444444,
              "#bd3786"
             ],
             [
              0.5555555555555556,
              "#d8576b"
             ],
             [
              0.6666666666666666,
              "#ed7953"
             ],
             [
              0.7777777777777778,
              "#fb9f3a"
             ],
             [
              0.8888888888888888,
              "#fdca26"
             ],
             [
              1,
              "#f0f921"
             ]
            ],
            "type": "heatmap"
           }
          ],
          "heatmapgl": [
           {
            "colorbar": {
             "outlinewidth": 0,
             "ticks": ""
            },
            "colorscale": [
             [
              0,
              "#0d0887"
             ],
             [
              0.1111111111111111,
              "#46039f"
             ],
             [
              0.2222222222222222,
              "#7201a8"
             ],
             [
              0.3333333333333333,
              "#9c179e"
             ],
             [
              0.4444444444444444,
              "#bd3786"
             ],
             [
              0.5555555555555556,
              "#d8576b"
             ],
             [
              0.6666666666666666,
              "#ed7953"
             ],
             [
              0.7777777777777778,
              "#fb9f3a"
             ],
             [
              0.8888888888888888,
              "#fdca26"
             ],
             [
              1,
              "#f0f921"
             ]
            ],
            "type": "heatmapgl"
           }
          ],
          "histogram": [
           {
            "marker": {
             "pattern": {
              "fillmode": "overlay",
              "size": 10,
              "solidity": 0.2
             }
            },
            "type": "histogram"
           }
          ],
          "histogram2d": [
           {
            "colorbar": {
             "outlinewidth": 0,
             "ticks": ""
            },
            "colorscale": [
             [
              0,
              "#0d0887"
             ],
             [
              0.1111111111111111,
              "#46039f"
             ],
             [
              0.2222222222222222,
              "#7201a8"
             ],
             [
              0.3333333333333333,
              "#9c179e"
             ],
             [
              0.4444444444444444,
              "#bd3786"
             ],
             [
              0.5555555555555556,
              "#d8576b"
             ],
             [
              0.6666666666666666,
              "#ed7953"
             ],
             [
              0.7777777777777778,
              "#fb9f3a"
             ],
             [
              0.8888888888888888,
              "#fdca26"
             ],
             [
              1,
              "#f0f921"
             ]
            ],
            "type": "histogram2d"
           }
          ],
          "histogram2dcontour": [
           {
            "colorbar": {
             "outlinewidth": 0,
             "ticks": ""
            },
            "colorscale": [
             [
              0,
              "#0d0887"
             ],
             [
              0.1111111111111111,
              "#46039f"
             ],
             [
              0.2222222222222222,
              "#7201a8"
             ],
             [
              0.3333333333333333,
              "#9c179e"
             ],
             [
              0.4444444444444444,
              "#bd3786"
             ],
             [
              0.5555555555555556,
              "#d8576b"
             ],
             [
              0.6666666666666666,
              "#ed7953"
             ],
             [
              0.7777777777777778,
              "#fb9f3a"
             ],
             [
              0.8888888888888888,
              "#fdca26"
             ],
             [
              1,
              "#f0f921"
             ]
            ],
            "type": "histogram2dcontour"
           }
          ],
          "mesh3d": [
           {
            "colorbar": {
             "outlinewidth": 0,
             "ticks": ""
            },
            "type": "mesh3d"
           }
          ],
          "parcoords": [
           {
            "line": {
             "colorbar": {
              "outlinewidth": 0,
              "ticks": ""
             }
            },
            "type": "parcoords"
           }
          ],
          "pie": [
           {
            "automargin": true,
            "type": "pie"
           }
          ],
          "scatter": [
           {
            "marker": {
             "colorbar": {
              "outlinewidth": 0,
              "ticks": ""
             }
            },
            "type": "scatter"
           }
          ],
          "scatter3d": [
           {
            "line": {
             "colorbar": {
              "outlinewidth": 0,
              "ticks": ""
             }
            },
            "marker": {
             "colorbar": {
              "outlinewidth": 0,
              "ticks": ""
             }
            },
            "type": "scatter3d"
           }
          ],
          "scattercarpet": [
           {
            "marker": {
             "colorbar": {
              "outlinewidth": 0,
              "ticks": ""
             }
            },
            "type": "scattercarpet"
           }
          ],
          "scattergeo": [
           {
            "marker": {
             "colorbar": {
              "outlinewidth": 0,
              "ticks": ""
             }
            },
            "type": "scattergeo"
           }
          ],
          "scattergl": [
           {
            "marker": {
             "colorbar": {
              "outlinewidth": 0,
              "ticks": ""
             }
            },
            "type": "scattergl"
           }
          ],
          "scattermapbox": [
           {
            "marker": {
             "colorbar": {
              "outlinewidth": 0,
              "ticks": ""
             }
            },
            "type": "scattermapbox"
           }
          ],
          "scatterpolar": [
           {
            "marker": {
             "colorbar": {
              "outlinewidth": 0,
              "ticks": ""
             }
            },
            "type": "scatterpolar"
           }
          ],
          "scatterpolargl": [
           {
            "marker": {
             "colorbar": {
              "outlinewidth": 0,
              "ticks": ""
             }
            },
            "type": "scatterpolargl"
           }
          ],
          "scatterternary": [
           {
            "marker": {
             "colorbar": {
              "outlinewidth": 0,
              "ticks": ""
             }
            },
            "type": "scatterternary"
           }
          ],
          "surface": [
           {
            "colorbar": {
             "outlinewidth": 0,
             "ticks": ""
            },
            "colorscale": [
             [
              0,
              "#0d0887"
             ],
             [
              0.1111111111111111,
              "#46039f"
             ],
             [
              0.2222222222222222,
              "#7201a8"
             ],
             [
              0.3333333333333333,
              "#9c179e"
             ],
             [
              0.4444444444444444,
              "#bd3786"
             ],
             [
              0.5555555555555556,
              "#d8576b"
             ],
             [
              0.6666666666666666,
              "#ed7953"
             ],
             [
              0.7777777777777778,
              "#fb9f3a"
             ],
             [
              0.8888888888888888,
              "#fdca26"
             ],
             [
              1,
              "#f0f921"
             ]
            ],
            "type": "surface"
           }
          ],
          "table": [
           {
            "cells": {
             "fill": {
              "color": "#EBF0F8"
             },
             "line": {
              "color": "white"
             }
            },
            "header": {
             "fill": {
              "color": "#C8D4E3"
             },
             "line": {
              "color": "white"
             }
            },
            "type": "table"
           }
          ]
         },
         "layout": {
          "annotationdefaults": {
           "arrowcolor": "#2a3f5f",
           "arrowhead": 0,
           "arrowwidth": 1
          },
          "autotypenumbers": "strict",
          "coloraxis": {
           "colorbar": {
            "outlinewidth": 0,
            "ticks": ""
           }
          },
          "colorscale": {
           "diverging": [
            [
             0,
             "#8e0152"
            ],
            [
             0.1,
             "#c51b7d"
            ],
            [
             0.2,
             "#de77ae"
            ],
            [
             0.3,
             "#f1b6da"
            ],
            [
             0.4,
             "#fde0ef"
            ],
            [
             0.5,
             "#f7f7f7"
            ],
            [
             0.6,
             "#e6f5d0"
            ],
            [
             0.7,
             "#b8e186"
            ],
            [
             0.8,
             "#7fbc41"
            ],
            [
             0.9,
             "#4d9221"
            ],
            [
             1,
             "#276419"
            ]
           ],
           "sequential": [
            [
             0,
             "#0d0887"
            ],
            [
             0.1111111111111111,
             "#46039f"
            ],
            [
             0.2222222222222222,
             "#7201a8"
            ],
            [
             0.3333333333333333,
             "#9c179e"
            ],
            [
             0.4444444444444444,
             "#bd3786"
            ],
            [
             0.5555555555555556,
             "#d8576b"
            ],
            [
             0.6666666666666666,
             "#ed7953"
            ],
            [
             0.7777777777777778,
             "#fb9f3a"
            ],
            [
             0.8888888888888888,
             "#fdca26"
            ],
            [
             1,
             "#f0f921"
            ]
           ],
           "sequentialminus": [
            [
             0,
             "#0d0887"
            ],
            [
             0.1111111111111111,
             "#46039f"
            ],
            [
             0.2222222222222222,
             "#7201a8"
            ],
            [
             0.3333333333333333,
             "#9c179e"
            ],
            [
             0.4444444444444444,
             "#bd3786"
            ],
            [
             0.5555555555555556,
             "#d8576b"
            ],
            [
             0.6666666666666666,
             "#ed7953"
            ],
            [
             0.7777777777777778,
             "#fb9f3a"
            ],
            [
             0.8888888888888888,
             "#fdca26"
            ],
            [
             1,
             "#f0f921"
            ]
           ]
          },
          "colorway": [
           "#636efa",
           "#EF553B",
           "#00cc96",
           "#ab63fa",
           "#FFA15A",
           "#19d3f3",
           "#FF6692",
           "#B6E880",
           "#FF97FF",
           "#FECB52"
          ],
          "font": {
           "color": "#2a3f5f"
          },
          "geo": {
           "bgcolor": "white",
           "lakecolor": "white",
           "landcolor": "#E5ECF6",
           "showlakes": true,
           "showland": true,
           "subunitcolor": "white"
          },
          "hoverlabel": {
           "align": "left"
          },
          "hovermode": "closest",
          "mapbox": {
           "style": "light"
          },
          "paper_bgcolor": "white",
          "plot_bgcolor": "#E5ECF6",
          "polar": {
           "angularaxis": {
            "gridcolor": "white",
            "linecolor": "white",
            "ticks": ""
           },
           "bgcolor": "#E5ECF6",
           "radialaxis": {
            "gridcolor": "white",
            "linecolor": "white",
            "ticks": ""
           }
          },
          "scene": {
           "xaxis": {
            "backgroundcolor": "#E5ECF6",
            "gridcolor": "white",
            "gridwidth": 2,
            "linecolor": "white",
            "showbackground": true,
            "ticks": "",
            "zerolinecolor": "white"
           },
           "yaxis": {
            "backgroundcolor": "#E5ECF6",
            "gridcolor": "white",
            "gridwidth": 2,
            "linecolor": "white",
            "showbackground": true,
            "ticks": "",
            "zerolinecolor": "white"
           },
           "zaxis": {
            "backgroundcolor": "#E5ECF6",
            "gridcolor": "white",
            "gridwidth": 2,
            "linecolor": "white",
            "showbackground": true,
            "ticks": "",
            "zerolinecolor": "white"
           }
          },
          "shapedefaults": {
           "line": {
            "color": "#2a3f5f"
           }
          },
          "ternary": {
           "aaxis": {
            "gridcolor": "white",
            "linecolor": "white",
            "ticks": ""
           },
           "baxis": {
            "gridcolor": "white",
            "linecolor": "white",
            "ticks": ""
           },
           "bgcolor": "#E5ECF6",
           "caxis": {
            "gridcolor": "white",
            "linecolor": "white",
            "ticks": ""
           }
          },
          "title": {
           "x": 0.05
          },
          "xaxis": {
           "automargin": true,
           "gridcolor": "white",
           "linecolor": "white",
           "ticks": "",
           "title": {
            "standoff": 15
           },
           "zerolinecolor": "white",
           "zerolinewidth": 2
          },
          "yaxis": {
           "automargin": true,
           "gridcolor": "white",
           "linecolor": "white",
           "ticks": "",
           "title": {
            "standoff": 15
           },
           "zerolinecolor": "white",
           "zerolinewidth": 2
          }
         }
        },
        "title": {
         "text": "PCA of rat sterile beads"
        }
       }
      },
      "text/html": [
       "<div>                            <div id=\"6047c679-4f41-429f-9d4b-c51c485631f7\" class=\"plotly-graph-div\" style=\"height:525px; width:100%;\"></div>            <script type=\"text/javascript\">                require([\"plotly\"], function(Plotly) {                    window.PLOTLYENV=window.PLOTLYENV || {};                                    if (document.getElementById(\"6047c679-4f41-429f-9d4b-c51c485631f7\")) {                    Plotly.newPlot(                        \"6047c679-4f41-429f-9d4b-c51c485631f7\",                        [{\"hovertemplate\":\"Label=Baseline<br>PC1=%{x}<br>PC2=%{y}<br>PC3=%{z}<extra></extra>\",\"legendgroup\":\"Baseline\",\"marker\":{\"color\":\"#636efa\",\"symbol\":\"circle\"},\"mode\":\"markers\",\"name\":\"Baseline\",\"scene\":\"scene\",\"showlegend\":true,\"x\":[-0.9721742465359599,-0.13190879679468076,-1.4433920564532174,-1.2158975409202397,-0.04189777295101601,-0.5747852822987845,-0.08545924138213781,-0.6057379933019938,-0.4362532068814184,-2.1779979752029712,-1.5424886916567848,-2.2607545409550265,-2.662690719737435,-2.2023920604038008,-0.8957306287197255,-0.7034757350307528,-1.2346055472593223,-1.6423960083643574,-2.19466655970861,-2.4811787385278077,-2.4777863697903335],\"y\":[-0.12604368506941424,-0.11700243891375345,-0.8044704147079973,-0.7573853269377754,-1.0415366762817788,-2.321577191906138,-0.0881790634983682,0.09677176780301186,-0.01006905718044165,0.9230623920025567,0.8076104952754216,0.04473037181501451,0.9702537117308926,-1.4125387625111072,-2.155662563528733,-1.0368974249336562,-0.9616653506023576,0.6575670045854498,0.1494040419236059,2.439166421942157,1.0074238320594024],\"z\":[-1.4225401663215589,-1.398200650960738,-1.1673437288791917,-1.0066783087015831,-0.8097114143882931,-0.6971853755156718,-1.056635946975847,-1.4191206885926688,-1.3942369934689407,0.3346332184278053,0.39262152716532556,1.074955860953018,0.39998203099646473,1.0592817075497547,0.8596613659867757,0.8779043625929139,0.6376322023378226,-0.013828591030713044,1.1453379878838728,-0.025075158610996136,0.6011682316269309],\"type\":\"scatter3d\"},{\"hovertemplate\":\"Label=Post_beads<br>PC1=%{x}<br>PC2=%{y}<br>PC3=%{z}<extra></extra>\",\"legendgroup\":\"Post_beads\",\"marker\":{\"color\":\"#EF553B\",\"symbol\":\"circle\"},\"mode\":\"markers\",\"name\":\"Post_beads\",\"scene\":\"scene\",\"showlegend\":true,\"x\":[2.531768401398736,1.7878479347503993,2.1335895954490818,1.074369147402441,-0.16578222949785823,1.3265570100597168,1.2398474797949497,2.0684934745351495,2.643881178695759,0.49107415518948455,-0.9466848772676149,6.768532033548402,-1.7544380743203358,0.47284681792033834,0.20280188991756642,1.2655590839009971,-0.8947229490263342,3.243214507136515,6.376828941598473,-2.498839997870571,0.6169261895610794],\"y\":[1.056617373677582,0.4586795429558174,0.15713158837982547,-0.14961353349318895,-1.007592504939679,-1.8245114773110442,-0.2358109348069956,0.48329670865068647,0.5859048136121491,1.5231151633365128,0.3134044277892176,0.6770738764083271,0.9062398116847916,-1.4248412135065827,-1.3076926358218857,-0.7223659303824411,-0.6052905889798716,1.6277032430104084,-0.08162166348771555,2.3163743488839605,0.9908375012741375],\"z\":[-1.233676286718041,-1.1207279120066789,-0.8784893304239749,-0.920699114451179,-0.7942231040994197,-0.5537476831446795,-0.931719242091261,-1.1754957615494575,-1.0044569535947714,0.6451703449028513,0.7798785376898966,1.3992322586582626,0.6274650658375105,1.3839526842719567,1.3523320026677297,1.2181392539609128,1.0707747220013777,0.6683609646527983,1.5487400713077526,0.14952109744904274,0.7970469126048904],\"type\":\"scatter3d\"}],                        {\"template\":{\"data\":{\"bar\":[{\"error_x\":{\"color\":\"#2a3f5f\"},\"error_y\":{\"color\":\"#2a3f5f\"},\"marker\":{\"line\":{\"color\":\"#E5ECF6\",\"width\":0.5},\"pattern\":{\"fillmode\":\"overlay\",\"size\":10,\"solidity\":0.2}},\"type\":\"bar\"}],\"barpolar\":[{\"marker\":{\"line\":{\"color\":\"#E5ECF6\",\"width\":0.5},\"pattern\":{\"fillmode\":\"overlay\",\"size\":10,\"solidity\":0.2}},\"type\":\"barpolar\"}],\"carpet\":[{\"aaxis\":{\"endlinecolor\":\"#2a3f5f\",\"gridcolor\":\"white\",\"linecolor\":\"white\",\"minorgridcolor\":\"white\",\"startlinecolor\":\"#2a3f5f\"},\"baxis\":{\"endlinecolor\":\"#2a3f5f\",\"gridcolor\":\"white\",\"linecolor\":\"white\",\"minorgridcolor\":\"white\",\"startlinecolor\":\"#2a3f5f\"},\"type\":\"carpet\"}],\"choropleth\":[{\"colorbar\":{\"outlinewidth\":0,\"ticks\":\"\"},\"type\":\"choropleth\"}],\"contour\":[{\"colorbar\":{\"outlinewidth\":0,\"ticks\":\"\"},\"colorscale\":[[0.0,\"#0d0887\"],[0.1111111111111111,\"#46039f\"],[0.2222222222222222,\"#7201a8\"],[0.3333333333333333,\"#9c179e\"],[0.4444444444444444,\"#bd3786\"],[0.5555555555555556,\"#d8576b\"],[0.6666666666666666,\"#ed7953\"],[0.7777777777777778,\"#fb9f3a\"],[0.8888888888888888,\"#fdca26\"],[1.0,\"#f0f921\"]],\"type\":\"contour\"}],\"contourcarpet\":[{\"colorbar\":{\"outlinewidth\":0,\"ticks\":\"\"},\"type\":\"contourcarpet\"}],\"heatmap\":[{\"colorbar\":{\"outlinewidth\":0,\"ticks\":\"\"},\"colorscale\":[[0.0,\"#0d0887\"],[0.1111111111111111,\"#46039f\"],[0.2222222222222222,\"#7201a8\"],[0.3333333333333333,\"#9c179e\"],[0.4444444444444444,\"#bd3786\"],[0.5555555555555556,\"#d8576b\"],[0.6666666666666666,\"#ed7953\"],[0.7777777777777778,\"#fb9f3a\"],[0.8888888888888888,\"#fdca26\"],[1.0,\"#f0f921\"]],\"type\":\"heatmap\"}],\"heatmapgl\":[{\"colorbar\":{\"outlinewidth\":0,\"ticks\":\"\"},\"colorscale\":[[0.0,\"#0d0887\"],[0.1111111111111111,\"#46039f\"],[0.2222222222222222,\"#7201a8\"],[0.3333333333333333,\"#9c179e\"],[0.4444444444444444,\"#bd3786\"],[0.5555555555555556,\"#d8576b\"],[0.6666666666666666,\"#ed7953\"],[0.7777777777777778,\"#fb9f3a\"],[0.8888888888888888,\"#fdca26\"],[1.0,\"#f0f921\"]],\"type\":\"heatmapgl\"}],\"histogram\":[{\"marker\":{\"pattern\":{\"fillmode\":\"overlay\",\"size\":10,\"solidity\":0.2}},\"type\":\"histogram\"}],\"histogram2d\":[{\"colorbar\":{\"outlinewidth\":0,\"ticks\":\"\"},\"colorscale\":[[0.0,\"#0d0887\"],[0.1111111111111111,\"#46039f\"],[0.2222222222222222,\"#7201a8\"],[0.3333333333333333,\"#9c179e\"],[0.4444444444444444,\"#bd3786\"],[0.5555555555555556,\"#d8576b\"],[0.6666666666666666,\"#ed7953\"],[0.7777777777777778,\"#fb9f3a\"],[0.8888888888888888,\"#fdca26\"],[1.0,\"#f0f921\"]],\"type\":\"histogram2d\"}],\"histogram2dcontour\":[{\"colorbar\":{\"outlinewidth\":0,\"ticks\":\"\"},\"colorscale\":[[0.0,\"#0d0887\"],[0.1111111111111111,\"#46039f\"],[0.2222222222222222,\"#7201a8\"],[0.3333333333333333,\"#9c179e\"],[0.4444444444444444,\"#bd3786\"],[0.5555555555555556,\"#d8576b\"],[0.6666666666666666,\"#ed7953\"],[0.7777777777777778,\"#fb9f3a\"],[0.8888888888888888,\"#fdca26\"],[1.0,\"#f0f921\"]],\"type\":\"histogram2dcontour\"}],\"mesh3d\":[{\"colorbar\":{\"outlinewidth\":0,\"ticks\":\"\"},\"type\":\"mesh3d\"}],\"parcoords\":[{\"line\":{\"colorbar\":{\"outlinewidth\":0,\"ticks\":\"\"}},\"type\":\"parcoords\"}],\"pie\":[{\"automargin\":true,\"type\":\"pie\"}],\"scatter\":[{\"marker\":{\"colorbar\":{\"outlinewidth\":0,\"ticks\":\"\"}},\"type\":\"scatter\"}],\"scatter3d\":[{\"line\":{\"colorbar\":{\"outlinewidth\":0,\"ticks\":\"\"}},\"marker\":{\"colorbar\":{\"outlinewidth\":0,\"ticks\":\"\"}},\"type\":\"scatter3d\"}],\"scattercarpet\":[{\"marker\":{\"colorbar\":{\"outlinewidth\":0,\"ticks\":\"\"}},\"type\":\"scattercarpet\"}],\"scattergeo\":[{\"marker\":{\"colorbar\":{\"outlinewidth\":0,\"ticks\":\"\"}},\"type\":\"scattergeo\"}],\"scattergl\":[{\"marker\":{\"colorbar\":{\"outlinewidth\":0,\"ticks\":\"\"}},\"type\":\"scattergl\"}],\"scattermapbox\":[{\"marker\":{\"colorbar\":{\"outlinewidth\":0,\"ticks\":\"\"}},\"type\":\"scattermapbox\"}],\"scatterpolar\":[{\"marker\":{\"colorbar\":{\"outlinewidth\":0,\"ticks\":\"\"}},\"type\":\"scatterpolar\"}],\"scatterpolargl\":[{\"marker\":{\"colorbar\":{\"outlinewidth\":0,\"ticks\":\"\"}},\"type\":\"scatterpolargl\"}],\"scatterternary\":[{\"marker\":{\"colorbar\":{\"outlinewidth\":0,\"ticks\":\"\"}},\"type\":\"scatterternary\"}],\"surface\":[{\"colorbar\":{\"outlinewidth\":0,\"ticks\":\"\"},\"colorscale\":[[0.0,\"#0d0887\"],[0.1111111111111111,\"#46039f\"],[0.2222222222222222,\"#7201a8\"],[0.3333333333333333,\"#9c179e\"],[0.4444444444444444,\"#bd3786\"],[0.5555555555555556,\"#d8576b\"],[0.6666666666666666,\"#ed7953\"],[0.7777777777777778,\"#fb9f3a\"],[0.8888888888888888,\"#fdca26\"],[1.0,\"#f0f921\"]],\"type\":\"surface\"}],\"table\":[{\"cells\":{\"fill\":{\"color\":\"#EBF0F8\"},\"line\":{\"color\":\"white\"}},\"header\":{\"fill\":{\"color\":\"#C8D4E3\"},\"line\":{\"color\":\"white\"}},\"type\":\"table\"}]},\"layout\":{\"annotationdefaults\":{\"arrowcolor\":\"#2a3f5f\",\"arrowhead\":0,\"arrowwidth\":1},\"autotypenumbers\":\"strict\",\"coloraxis\":{\"colorbar\":{\"outlinewidth\":0,\"ticks\":\"\"}},\"colorscale\":{\"diverging\":[[0,\"#8e0152\"],[0.1,\"#c51b7d\"],[0.2,\"#de77ae\"],[0.3,\"#f1b6da\"],[0.4,\"#fde0ef\"],[0.5,\"#f7f7f7\"],[0.6,\"#e6f5d0\"],[0.7,\"#b8e186\"],[0.8,\"#7fbc41\"],[0.9,\"#4d9221\"],[1,\"#276419\"]],\"sequential\":[[0.0,\"#0d0887\"],[0.1111111111111111,\"#46039f\"],[0.2222222222222222,\"#7201a8\"],[0.3333333333333333,\"#9c179e\"],[0.4444444444444444,\"#bd3786\"],[0.5555555555555556,\"#d8576b\"],[0.6666666666666666,\"#ed7953\"],[0.7777777777777778,\"#fb9f3a\"],[0.8888888888888888,\"#fdca26\"],[1.0,\"#f0f921\"]],\"sequentialminus\":[[0.0,\"#0d0887\"],[0.1111111111111111,\"#46039f\"],[0.2222222222222222,\"#7201a8\"],[0.3333333333333333,\"#9c179e\"],[0.4444444444444444,\"#bd3786\"],[0.5555555555555556,\"#d8576b\"],[0.6666666666666666,\"#ed7953\"],[0.7777777777777778,\"#fb9f3a\"],[0.8888888888888888,\"#fdca26\"],[1.0,\"#f0f921\"]]},\"colorway\":[\"#636efa\",\"#EF553B\",\"#00cc96\",\"#ab63fa\",\"#FFA15A\",\"#19d3f3\",\"#FF6692\",\"#B6E880\",\"#FF97FF\",\"#FECB52\"],\"font\":{\"color\":\"#2a3f5f\"},\"geo\":{\"bgcolor\":\"white\",\"lakecolor\":\"white\",\"landcolor\":\"#E5ECF6\",\"showlakes\":true,\"showland\":true,\"subunitcolor\":\"white\"},\"hoverlabel\":{\"align\":\"left\"},\"hovermode\":\"closest\",\"mapbox\":{\"style\":\"light\"},\"paper_bgcolor\":\"white\",\"plot_bgcolor\":\"#E5ECF6\",\"polar\":{\"angularaxis\":{\"gridcolor\":\"white\",\"linecolor\":\"white\",\"ticks\":\"\"},\"bgcolor\":\"#E5ECF6\",\"radialaxis\":{\"gridcolor\":\"white\",\"linecolor\":\"white\",\"ticks\":\"\"}},\"scene\":{\"xaxis\":{\"backgroundcolor\":\"#E5ECF6\",\"gridcolor\":\"white\",\"gridwidth\":2,\"linecolor\":\"white\",\"showbackground\":true,\"ticks\":\"\",\"zerolinecolor\":\"white\"},\"yaxis\":{\"backgroundcolor\":\"#E5ECF6\",\"gridcolor\":\"white\",\"gridwidth\":2,\"linecolor\":\"white\",\"showbackground\":true,\"ticks\":\"\",\"zerolinecolor\":\"white\"},\"zaxis\":{\"backgroundcolor\":\"#E5ECF6\",\"gridcolor\":\"white\",\"gridwidth\":2,\"linecolor\":\"white\",\"showbackground\":true,\"ticks\":\"\",\"zerolinecolor\":\"white\"}},\"shapedefaults\":{\"line\":{\"color\":\"#2a3f5f\"}},\"ternary\":{\"aaxis\":{\"gridcolor\":\"white\",\"linecolor\":\"white\",\"ticks\":\"\"},\"baxis\":{\"gridcolor\":\"white\",\"linecolor\":\"white\",\"ticks\":\"\"},\"bgcolor\":\"#E5ECF6\",\"caxis\":{\"gridcolor\":\"white\",\"linecolor\":\"white\",\"ticks\":\"\"}},\"title\":{\"x\":0.05},\"xaxis\":{\"automargin\":true,\"gridcolor\":\"white\",\"linecolor\":\"white\",\"ticks\":\"\",\"title\":{\"standoff\":15},\"zerolinecolor\":\"white\",\"zerolinewidth\":2},\"yaxis\":{\"automargin\":true,\"gridcolor\":\"white\",\"linecolor\":\"white\",\"ticks\":\"\",\"title\":{\"standoff\":15},\"zerolinecolor\":\"white\",\"zerolinewidth\":2}}},\"scene\":{\"domain\":{\"x\":[0.0,1.0],\"y\":[0.0,1.0]},\"xaxis\":{\"title\":{\"text\":\"PC1\"}},\"yaxis\":{\"title\":{\"text\":\"PC2\"}},\"zaxis\":{\"title\":{\"text\":\"PC3\"}}},\"legend\":{\"title\":{\"text\":\"Label\"},\"tracegroupgap\":0},\"title\":{\"text\":\"PCA of rat sterile beads\"}},                        {\"responsive\": true}                    ).then(function(){\n",
       "                            \n",
       "var gd = document.getElementById('6047c679-4f41-429f-9d4b-c51c485631f7');\n",
       "var x = new MutationObserver(function (mutations, observer) {{\n",
       "        var display = window.getComputedStyle(gd).display;\n",
       "        if (!display || display === 'none') {{\n",
       "            console.log([gd, 'removed!']);\n",
       "            Plotly.purge(gd);\n",
       "            observer.disconnect();\n",
       "        }}\n",
       "}});\n",
       "\n",
       "// Listen for the removal of the full notebook cells\n",
       "var notebookContainer = gd.closest('#notebook-container');\n",
       "if (notebookContainer) {{\n",
       "    x.observe(notebookContainer, {childList: true});\n",
       "}}\n",
       "\n",
       "// Listen for the clearing of the current output cell\n",
       "var outputEl = gd.closest('.output');\n",
       "if (outputEl) {{\n",
       "    x.observe(outputEl, {childList: true});\n",
       "}}\n",
       "\n",
       "                        })                };                });            </script>        </div>"
      ]
     },
     "metadata": {},
     "output_type": "display_data"
    }
   ],
   "source": [
    "pca_3D(df_rat_bead_combine_hd, 'PCA of rat sterile beads')"
   ]
  },
  {
   "cell_type": "code",
   "execution_count": null,
   "id": "138e8a5a",
   "metadata": {},
   "outputs": [],
   "source": []
  }
 ],
 "metadata": {
  "kernelspec": {
   "display_name": "Python 3 (ipykernel)",
   "language": "python",
   "name": "python3"
  },
  "language_info": {
   "codemirror_mode": {
    "name": "ipython",
    "version": 3
   },
   "file_extension": ".py",
   "mimetype": "text/x-python",
   "name": "python",
   "nbconvert_exporter": "python",
   "pygments_lexer": "ipython3",
   "version": "3.9.12"
  }
 },
 "nbformat": 4,
 "nbformat_minor": 5
}
