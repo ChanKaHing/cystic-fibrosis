{
 "cells": [
  {
   "cell_type": "code",
   "execution_count": 4,
   "id": "6af420d8",
   "metadata": {},
   "outputs": [],
   "source": [
    "import matplotlib.pyplot as plt\n",
    "import numpy as np\n",
    "import pandas as pd\n",
    "from sklearn.model_selection import train_test_split\n",
    "from sklearn.pipeline import Pipeline\n",
    "from sklearn.impute import SimpleImputer\n",
    "from sklearn.preprocessing import StandardScaler\n",
    "from sklearn.metrics import accuracy_score\n",
    "from sklearn.svm import SVC\n",
    "import pandas as pd\n",
    "from correlation_map import corr_map\n",
    "from correlation_3D import corr_3D, rat_bead_study_data, rat_pa_study_data, mouse_b_enac_study_data, mouse_mps_study_data\n",
    "from Principle_Component_Analysis import pca_2D, pca_3D\n",
    "from Simple_Classifiers import data_split, svm"
   ]
  },
  {
   "cell_type": "code",
   "execution_count": 5,
   "id": "1c217c52",
   "metadata": {},
   "outputs": [],
   "source": [
    "# Loading the data\n",
    "df_rat_sterile_baseline = pd.read_csv('rat_sterile_baseline_summary.csv')\n",
    "df_rat_sterile_post_beads = pd.read_csv('rat_sterile_post_beads_summary.csv')\n",
    "df_rat_bead_combine, bead_labels = rat_bead_study_data(df_rat_sterile_baseline, df_rat_sterile_post_beads)\n",
    "\n",
    "df_rat_pa = pd.read_csv('rat_pa_summary.csv')\n",
    "df_rat_pa_combine, pa_labels = rat_pa_study_data(df_rat_pa)\n",
    "\n",
    "df_mouse_b_enac = pd.read_csv('mouse_b_enac_summary.csv')\n",
    "df_mouse_enac_combine, b_enac_labels = mouse_b_enac_study_data(df_mouse_b_enac)\n",
    "\n",
    "df_mouse_mps = pd.read_csv('mouse_mps_summary.csv')\n",
    "df_mouse_mps_combine, mps_labels = mouse_mps_study_data(df_mouse_mps)\n",
    "\n",
    "df_rat_sterile_baseline_hd = pd.read_csv('rat_sterile_baseline_summary_HD.csv')\n",
    "df_rat_sterile_post_beads_hd = pd.read_csv('rat_sterile_post_beads_summary_HD.csv')\n",
    "df_rat_bead_combine_hd, bead_hd_labels = rat_bead_study_data(df_rat_sterile_baseline_hd, df_rat_sterile_post_beads_hd)\n",
    "\n",
    "df_rat_pa_hd = pd.read_csv('rat_pa_summary_HD.csv')\n",
    "df_rat_pa_combine_hd, pa_hd_labels = rat_pa_study_data(df_rat_pa_hd)\n",
    "\n",
    "df_mouse_enac_combine_sel = df_mouse_enac_combine[['VDP(%)','MSV(mL/mL)','TV(L)','VH(%)','VHSS(%)','VHLS(%)','Genotype','IQR','HD']]\n",
    "df_mouse_mps_combine_sel = df_mouse_mps_combine[['VDP(%)','MSV(mL/mL)','TV(L)','VH(%)','VHSS(%)','VHLS(%)','Genotype','IQR','HD']]\n",
    "df_mouse_all = pd.concat([df_mouse_enac_combine_sel, df_mouse_mps_combine_sel], ignore_index=True)\n",
    "\n",
    "df_rat_pa_combine_hd_sel = df_rat_pa_combine_hd[['VDP(%)','MSV(mL/mL)','TV(L)','VH(%)','VHSS(%)','VHLS(%)','Genotype','IQR','HD']]\n",
    "df_rat_sterile_baseline_hd_sel = df_rat_sterile_baseline_hd[['VDP(%)','MSV(mL/mL)','TV(L)','VH(%)','VHSS(%)','VHLS(%)','Genotype','IQR','HD']]\n",
    "df_rat_sterile_post_beads_hd_sel = df_rat_sterile_post_beads_hd[['VDP(%)','MSV(mL/mL)','TV(L)','VH(%)','VHSS(%)','VHLS(%)','Genotype','IQR','HD']]\n",
    "df_rat_all = pd.concat([df_rat_pa_combine_hd_sel, df_rat_sterile_baseline_hd_sel], ignore_index=True)\n",
    "\n",
    "\n"
   ]
  },
  {
   "cell_type": "markdown",
   "id": "7f04fe1b",
   "metadata": {},
   "source": [
    "# SVM"
   ]
  },
  {
   "cell_type": "markdown",
   "id": "5b137a16",
   "metadata": {},
   "source": [
    "# Rat bead study (baseline vs post beads)"
   ]
  },
  {
   "cell_type": "code",
   "execution_count": 6,
   "id": "96bea762",
   "metadata": {},
   "outputs": [],
   "source": [
    "# df_rat_sterile_baseline['target'] = 'baseline'\n",
    "# df_rat_sterile_post_beads['target'] = 'post_beads'\n",
    "# df_rat_combine = pd.concat([df_rat_sterile_baseline, df_rat_sterile_post_beads], ignore_index=True)"
   ]
  },
  {
   "cell_type": "code",
   "execution_count": 190,
   "id": "26210892",
   "metadata": {},
   "outputs": [
    {
     "data": {
      "text/plain": [
       "(104, 4)"
      ]
     },
     "execution_count": 190,
     "metadata": {},
     "output_type": "execute_result"
    }
   ],
   "source": [
    "# def features(df):\n",
    "#     df = df.drop('ScanName', axis=1)\n",
    "#     df = df.drop('Date Prepared', axis=1)\n",
    "#     df = df.drop('VDP(%)', axis=1)\n",
    "#     df = df.drop('VHSS(%)', axis=1)\n",
    "#     df = df.drop('VHLS(%)', axis=1)\n",
    "#     if 'Genotype' in df.columns:\n",
    "#         df['target'] = df['Genotype']   # copy 'Genotype' column at the end with coolumn name target\n",
    "#         df = df.drop(columns=['Genotype']) # remove 'Genotype' column\n",
    "#     return df\n",
    "\n",
    "# df_rat_combine = features(df_rat_combine) \n",
    "# df_rat_combine.shape"
   ]
  },
  {
   "cell_type": "code",
   "execution_count": 9,
   "id": "3ecebb96",
   "metadata": {},
   "outputs": [
    {
     "data": {
      "text/html": [
       "<div>\n",
       "<style scoped>\n",
       "    .dataframe tbody tr th:only-of-type {\n",
       "        vertical-align: middle;\n",
       "    }\n",
       "\n",
       "    .dataframe tbody tr th {\n",
       "        vertical-align: top;\n",
       "    }\n",
       "\n",
       "    .dataframe thead th {\n",
       "        text-align: right;\n",
       "    }\n",
       "</style>\n",
       "<table border=\"1\" class=\"dataframe\">\n",
       "  <thead>\n",
       "    <tr style=\"text-align: right;\">\n",
       "      <th></th>\n",
       "      <th>VDP(%)</th>\n",
       "      <th>MSV(mL/mL)</th>\n",
       "      <th>TV(L)</th>\n",
       "      <th>VH(%)</th>\n",
       "      <th>VHSS(%)</th>\n",
       "      <th>VHLS(%)</th>\n",
       "      <th>HD</th>\n",
       "      <th>Genotype</th>\n",
       "    </tr>\n",
       "  </thead>\n",
       "  <tbody>\n",
       "    <tr>\n",
       "      <th>0</th>\n",
       "      <td>10.40</td>\n",
       "      <td>0.355</td>\n",
       "      <td>0.197</td>\n",
       "      <td>32.91</td>\n",
       "      <td>15.81</td>\n",
       "      <td>22.39</td>\n",
       "      <td>0.896879</td>\n",
       "      <td>WT</td>\n",
       "    </tr>\n",
       "    <tr>\n",
       "      <th>1</th>\n",
       "      <td>13.30</td>\n",
       "      <td>0.356</td>\n",
       "      <td>0.251</td>\n",
       "      <td>38.23</td>\n",
       "      <td>20.18</td>\n",
       "      <td>24.30</td>\n",
       "      <td>1.038735</td>\n",
       "      <td>WT</td>\n",
       "    </tr>\n",
       "    <tr>\n",
       "      <th>2</th>\n",
       "      <td>11.20</td>\n",
       "      <td>0.333</td>\n",
       "      <td>0.239</td>\n",
       "      <td>30.29</td>\n",
       "      <td>17.12</td>\n",
       "      <td>18.41</td>\n",
       "      <td>0.775494</td>\n",
       "      <td>WT</td>\n",
       "    </tr>\n",
       "    <tr>\n",
       "      <th>3</th>\n",
       "      <td>12.10</td>\n",
       "      <td>0.363</td>\n",
       "      <td>0.240</td>\n",
       "      <td>36.05</td>\n",
       "      <td>17.88</td>\n",
       "      <td>23.80</td>\n",
       "      <td>1.004333</td>\n",
       "      <td>WT</td>\n",
       "    </tr>\n",
       "    <tr>\n",
       "      <th>4</th>\n",
       "      <td>14.40</td>\n",
       "      <td>0.381</td>\n",
       "      <td>0.210</td>\n",
       "      <td>36.94</td>\n",
       "      <td>20.32</td>\n",
       "      <td>23.81</td>\n",
       "      <td>1.063833</td>\n",
       "      <td>WT</td>\n",
       "    </tr>\n",
       "    <tr>\n",
       "      <th>...</th>\n",
       "      <td>...</td>\n",
       "      <td>...</td>\n",
       "      <td>...</td>\n",
       "      <td>...</td>\n",
       "      <td>...</td>\n",
       "      <td>...</td>\n",
       "      <td>...</td>\n",
       "      <td>...</td>\n",
       "    </tr>\n",
       "    <tr>\n",
       "      <th>56</th>\n",
       "      <td>12.10</td>\n",
       "      <td>0.340</td>\n",
       "      <td>0.155</td>\n",
       "      <td>41.64</td>\n",
       "      <td>16.84</td>\n",
       "      <td>29.73</td>\n",
       "      <td>0.929657</td>\n",
       "      <td>MPS I</td>\n",
       "    </tr>\n",
       "    <tr>\n",
       "      <th>57</th>\n",
       "      <td>11.00</td>\n",
       "      <td>0.330</td>\n",
       "      <td>0.186</td>\n",
       "      <td>36.08</td>\n",
       "      <td>17.59</td>\n",
       "      <td>25.01</td>\n",
       "      <td>0.800212</td>\n",
       "      <td>MPS I</td>\n",
       "    </tr>\n",
       "    <tr>\n",
       "      <th>58</th>\n",
       "      <td>8.46</td>\n",
       "      <td>0.390</td>\n",
       "      <td>0.208</td>\n",
       "      <td>31.27</td>\n",
       "      <td>15.68</td>\n",
       "      <td>24.24</td>\n",
       "      <td>0.817827</td>\n",
       "      <td>MPS I</td>\n",
       "    </tr>\n",
       "    <tr>\n",
       "      <th>59</th>\n",
       "      <td>11.20</td>\n",
       "      <td>0.380</td>\n",
       "      <td>0.181</td>\n",
       "      <td>41.08</td>\n",
       "      <td>16.81</td>\n",
       "      <td>29.39</td>\n",
       "      <td>1.031144</td>\n",
       "      <td>MPS I</td>\n",
       "    </tr>\n",
       "    <tr>\n",
       "      <th>60</th>\n",
       "      <td>8.33</td>\n",
       "      <td>0.360</td>\n",
       "      <td>0.190</td>\n",
       "      <td>30.88</td>\n",
       "      <td>13.00</td>\n",
       "      <td>22.20</td>\n",
       "      <td>0.736226</td>\n",
       "      <td>MPS I</td>\n",
       "    </tr>\n",
       "  </tbody>\n",
       "</table>\n",
       "<p>61 rows × 8 columns</p>\n",
       "</div>"
      ],
      "text/plain": [
       "    VDP(%)  MSV(mL/mL)  TV(L)  VH(%)  VHSS(%)  VHLS(%)        HD Genotype\n",
       "0    10.40       0.355  0.197  32.91    15.81    22.39  0.896879       WT\n",
       "1    13.30       0.356  0.251  38.23    20.18    24.30  1.038735       WT\n",
       "2    11.20       0.333  0.239  30.29    17.12    18.41  0.775494       WT\n",
       "3    12.10       0.363  0.240  36.05    17.88    23.80  1.004333       WT\n",
       "4    14.40       0.381  0.210  36.94    20.32    23.81  1.063833       WT\n",
       "..     ...         ...    ...    ...      ...      ...       ...      ...\n",
       "56   12.10       0.340  0.155  41.64    16.84    29.73  0.929657    MPS I\n",
       "57   11.00       0.330  0.186  36.08    17.59    25.01  0.800212    MPS I\n",
       "58    8.46       0.390  0.208  31.27    15.68    24.24  0.817827    MPS I\n",
       "59   11.20       0.380  0.181  41.08    16.81    29.39  1.031144    MPS I\n",
       "60    8.33       0.360  0.190  30.88    13.00    22.20  0.736226    MPS I\n",
       "\n",
       "[61 rows x 8 columns]"
      ]
     },
     "execution_count": 9,
     "metadata": {},
     "output_type": "execute_result"
    }
   ],
   "source": [
    "df_mouse_features = df_mouse_all[['VDP(%)','MSV(mL/mL)','TV(L)','VH(%)','VHSS(%)','VHLS(%)','HD','Genotype']]\n",
    "\n",
    "df_mouse_features"
   ]
  },
  {
   "cell_type": "code",
   "execution_count": 49,
   "id": "a6098588",
   "metadata": {},
   "outputs": [
    {
     "name": "stdout",
     "output_type": "stream",
     "text": [
      "Shapes are [(33, 7), (33,), (9, 7), (9,), (42, 7), (42,), (19, 7), (19,)]\n"
     ]
    }
   ],
   "source": [
    "def data_split(df, test_size, val_size):\n",
    "    np_df = df.values\n",
    "\n",
    "    bigtrain_set, test_set = train_test_split(np_df, test_size=test_size, random_state=42, stratify=np_df[:,-1])\n",
    "    train_set, val_set = train_test_split(bigtrain_set, test_size=val_size, random_state=42, stratify=bigtrain_set[:,-1])\n",
    "\n",
    "    # Get the X and y for train, val and test\n",
    "    X_train = train_set[:,:-1]\n",
    "    y_train = train_set[:,-1]\n",
    "    X_test = test_set[:,:-1]\n",
    "    y_test = test_set[:,-1]\n",
    "    X_val = val_set[:,:-1]\n",
    "    y_val = val_set[:,-1]\n",
    "    X_bigtrain = bigtrain_set[:,:-1]\n",
    "    y_bigtrain = bigtrain_set[:,-1]\n",
    "    \n",
    "    print(f'Shapes are {[X_train.shape,y_train.shape,X_val.shape,y_val.shape,X_bigtrain.shape,y_bigtrain.shape,X_test.shape,y_test.shape]}')\n",
    "    \n",
    "    return X_train,y_train,X_test,y_test,X_val,y_val,X_bigtrain,y_bigtrain\n",
    "\n",
    "X_train,y_train,X_test,y_test,X_val,y_val,X_bigtrain,y_bigtrain = data_split(df_mouse_features, 0.3, 0.2)\n",
    "\n"
   ]
  },
  {
   "cell_type": "code",
   "execution_count": 50,
   "id": "96fbcabb",
   "metadata": {},
   "outputs": [
    {
     "name": "stdout",
     "output_type": "stream",
     "text": [
      "Validation accuracy score = 0.6666666666666666 for kernel rbf and C=1\n",
      "Validation accuracy score = 0.3333333333333333 for kernel rbf and C=10\n",
      "Validation accuracy score = 0.2222222222222222 for kernel rbf and C=100\n",
      "Validation accuracy score = 0.5555555555555556 for kernel linear and C=1\n",
      "Validation accuracy score = 0.6666666666666666 for kernel linear and C=10\n",
      "Validation accuracy score = 0.7777777777777778 for kernel linear and C=100\n",
      "Validation accuracy score = 0.4444444444444444 for kernel poly and C=1\n",
      "Validation accuracy score = 0.3333333333333333 for kernel poly and C=10\n",
      "Validation accuracy score = 0.3333333333333333 for kernel poly and C=100\n"
     ]
    }
   ],
   "source": [
    "# Create SVM classifier and optimize the hyperparameters\n",
    "def svm_hyper_tune(X_train, y_train, X_val, y_val):\n",
    "    \n",
    "    preproc_pl = Pipeline([ ('imputer', SimpleImputer(strategy=\"median\")),\n",
    "                        ('std_scaler', StandardScaler())])\n",
    "    \n",
    "    for kerneltype in ['rbf','linear','poly']:\n",
    "        for c_choice in [1, 10, 100]:\n",
    "            svm_pl = Pipeline([('preproc',preproc_pl),\n",
    "                               ('svc',SVC(kernel=kerneltype, C=c_choice, random_state=42))])\n",
    "            svm_pl.fit(X_train,y_train)\n",
    "            y_pred_svm = svm_pl.predict(X_val)\n",
    "            acc = accuracy_score(y_val,y_pred_svm)\n",
    "            print(f'Validation accuracy score = {acc} for kernel {kerneltype} and C={c_choice}')\n",
    "            \n",
    "svm_hyper_tune(X_train, y_train, X_val, y_val)"
   ]
  },
  {
   "cell_type": "code",
   "execution_count": 52,
   "id": "b54bbecc",
   "metadata": {},
   "outputs": [
    {
     "name": "stdout",
     "output_type": "stream",
     "text": [
      "\u001b[1mMouse all\u001b[0m\n",
      "\n",
      "Training accuracy score = 0.9761904761904762\n",
      "Testing accuracy score = 0.7894736842105263\n"
     ]
    }
   ],
   "source": [
    "# Rat bead study (baseline vs post beads)\n",
    "def svm(X_bigtrain,y_bigtrain,X_test,y_test,name,kernel,c):\n",
    "    \n",
    "    preproc_pl = Pipeline([ ('imputer', SimpleImputer(strategy=\"median\")),\n",
    "                        ('std_scaler', StandardScaler())])\n",
    "    \n",
    "    svm_pl = Pipeline([('preproc',preproc_pl),\n",
    "                       ('svc',SVC(kernel=kernel, C=c, random_state=42))])\n",
    "    \n",
    "    svm_pl.fit(X_bigtrain,y_bigtrain)\n",
    "\n",
    "    y_train_pred_svm = svm_pl.predict(X_bigtrain)\n",
    "    y_test_pred_svm = svm_pl.predict(X_test)\n",
    "\n",
    "    acc_train = accuracy_score(y_bigtrain,y_train_pred_svm)\n",
    "    acc_test = accuracy_score(y_test,y_test_pred_svm)\n",
    "    \n",
    "    print('\\033[1m' + name + '\\033[0m')\n",
    "    print()\n",
    "    print(f'Training accuracy score = {acc_train}')\n",
    "    print(f'Testing accuracy score = {acc_test}')\n",
    "    \n",
    "svm(X_bigtrain,y_bigtrain,X_test,y_test,'Mouse all','linear',100)"
   ]
  },
  {
   "cell_type": "markdown",
   "id": "2d75a6ed",
   "metadata": {},
   "source": [
    "# Rat_PA study (WT, KO, CF)"
   ]
  },
  {
   "cell_type": "code",
   "execution_count": 195,
   "id": "b9972c31",
   "metadata": {},
   "outputs": [
    {
     "data": {
      "text/plain": [
       "(82, 4)"
      ]
     },
     "execution_count": 195,
     "metadata": {},
     "output_type": "execute_result"
    }
   ],
   "source": [
    "df_rat_pa = pd.read_csv('rat_pa_summary.csv')\n",
    "df_rat_WT = df_rat_pa[df_rat_pa['Genotype'] == 'WT']\n",
    "df_rat_KO = df_rat_pa[df_rat_pa['Genotype'] == 'KO']\n",
    "df_rat_CF = df_rat_pa[df_rat_pa['Genotype'] == 'CF']\n",
    "\n",
    "df_rat_combine = pd.concat([df_rat_WT, df_rat_KO, df_rat_CF], ignore_index=True)\n",
    "df_rat_combine = features(df_rat_combine) \n",
    "df_rat_combine.shape"
   ]
  },
  {
   "cell_type": "code",
   "execution_count": 197,
   "id": "59fc0c1a",
   "metadata": {},
   "outputs": [
    {
     "name": "stdout",
     "output_type": "stream",
     "text": [
      "Shapes are [(56, 3), (56,), (13, 3), (13,), (13, 3), (13,), (69, 3), (69,)]\n"
     ]
    }
   ],
   "source": [
    "X_train,y_train,X_test,y_test,X_val,y_val,X_bigtrain,y_bigtrain = data_split(df_rat_combine)"
   ]
  },
  {
   "cell_type": "code",
   "execution_count": 198,
   "id": "43305e9e",
   "metadata": {},
   "outputs": [
    {
     "name": "stdout",
     "output_type": "stream",
     "text": [
      "Validation accuracy score = 0.5384615384615384 for kernel rbf and C=1\n",
      "Validation accuracy score = 0.5384615384615384 for kernel rbf and C=10\n",
      "Validation accuracy score = 0.46153846153846156 for kernel rbf and C=100\n",
      "Validation accuracy score = 0.6153846153846154 for kernel linear and C=1\n",
      "Validation accuracy score = 0.6153846153846154 for kernel linear and C=10\n",
      "Validation accuracy score = 0.6153846153846154 for kernel linear and C=100\n",
      "Validation accuracy score = 0.6923076923076923 for kernel poly and C=1\n",
      "Validation accuracy score = 0.6923076923076923 for kernel poly and C=10\n",
      "Validation accuracy score = 0.6153846153846154 for kernel poly and C=100\n"
     ]
    }
   ],
   "source": [
    "svm_hyper_tune(X_train, y_train, X_val, y_val)"
   ]
  },
  {
   "cell_type": "code",
   "execution_count": 207,
   "id": "af04a5cf",
   "metadata": {},
   "outputs": [
    {
     "name": "stdout",
     "output_type": "stream",
     "text": [
      "\u001b[1mRat_PA study (WT, KO, CF)\u001b[0m\n",
      "\n",
      "Training accuracy score = 0.6376811594202898\n",
      "Testing accuracy score = 0.46153846153846156\n"
     ]
    }
   ],
   "source": [
    "svm(X_bigtrain,y_bigtrain,X_test,y_test,'Rat_PA study (WT, KO, CF)','poly',1)"
   ]
  },
  {
   "cell_type": "markdown",
   "id": "00aa2cc3",
   "metadata": {},
   "source": [
    "# Mouse B-Enac study (B-Enac vs WT)"
   ]
  },
  {
   "cell_type": "code",
   "execution_count": 208,
   "id": "edb107f0",
   "metadata": {},
   "outputs": [
    {
     "data": {
      "text/plain": [
       "(28, 4)"
      ]
     },
     "execution_count": 208,
     "metadata": {},
     "output_type": "execute_result"
    }
   ],
   "source": [
    "df_mouse_b_enac = pd.read_csv('mouse_b_enac_summary_new.csv')\n",
    "df_WT = df_mouse_b_enac[df_mouse_b_enac['Genotype'] == 'WT']\n",
    "df_b_enac = df_mouse_b_enac[df_mouse_b_enac['Genotype'] == 'B_Enac']\n",
    "\n",
    "df_mouse_combine = pd.concat([df_WT, df_b_enac], ignore_index=True)\n",
    "df_mouse_combine = features(df_mouse_combine) \n",
    "df_mouse_combine.shape"
   ]
  },
  {
   "cell_type": "code",
   "execution_count": 210,
   "id": "37ef3971",
   "metadata": {},
   "outputs": [
    {
     "name": "stdout",
     "output_type": "stream",
     "text": [
      "Shapes are [(18, 3), (18,), (5, 3), (5,), (5, 3), (5,), (23, 3), (23,)]\n"
     ]
    }
   ],
   "source": [
    "X_train,y_train,X_test,y_test,X_val,y_val,X_bigtrain,y_bigtrain = data_split(df_mouse_combine)"
   ]
  },
  {
   "cell_type": "code",
   "execution_count": 211,
   "id": "7d07d228",
   "metadata": {},
   "outputs": [
    {
     "name": "stdout",
     "output_type": "stream",
     "text": [
      "Validation accuracy score = 0.8 for kernel rbf and C=1\n",
      "Validation accuracy score = 0.8 for kernel rbf and C=10\n",
      "Validation accuracy score = 0.8 for kernel rbf and C=100\n",
      "Validation accuracy score = 1.0 for kernel linear and C=1\n",
      "Validation accuracy score = 1.0 for kernel linear and C=10\n",
      "Validation accuracy score = 1.0 for kernel linear and C=100\n",
      "Validation accuracy score = 0.8 for kernel poly and C=1\n",
      "Validation accuracy score = 0.8 for kernel poly and C=10\n",
      "Validation accuracy score = 0.8 for kernel poly and C=100\n"
     ]
    }
   ],
   "source": [
    "svm_hyper_tune(X_train, y_train, X_val, y_val)"
   ]
  },
  {
   "cell_type": "code",
   "execution_count": 212,
   "id": "6744e1c4",
   "metadata": {},
   "outputs": [
    {
     "name": "stdout",
     "output_type": "stream",
     "text": [
      "\u001b[1mMouse B-Enac study (B-Enac vs WT)\u001b[0m\n",
      "\n",
      "Training accuracy score = 1.0\n",
      "Testing accuracy score = 1.0\n"
     ]
    }
   ],
   "source": [
    "svm(X_bigtrain,y_bigtrain,X_test,y_test,'Mouse B-Enac study (B-Enac vs WT)','linear',1)"
   ]
  },
  {
   "cell_type": "markdown",
   "id": "e66c643f",
   "metadata": {},
   "source": [
    "# Mouse MPS study (MPS_I vs WT vs Het)"
   ]
  },
  {
   "cell_type": "code",
   "execution_count": 213,
   "id": "46a779ff",
   "metadata": {},
   "outputs": [
    {
     "data": {
      "text/plain": [
       "(33, 4)"
      ]
     },
     "execution_count": 213,
     "metadata": {},
     "output_type": "execute_result"
    }
   ],
   "source": [
    "df_mouse_mps = pd.read_csv('mouse_mps_summary.csv')\n",
    "df_WT = df_mouse_mps[df_mouse_mps['Genotype'] == 'WT']\n",
    "df_MPS_I = df_mouse_mps[df_mouse_mps['Genotype'] == 'MPS I']\n",
    "df_Het = df_mouse_mps[df_mouse_mps['Genotype'] == 'Het']\n",
    "\n",
    "df_mouse_combine = pd.concat([df_WT, df_MPS_I, df_Het], ignore_index=True)\n",
    "df_mouse_combine = features(df_mouse_combine) \n",
    "df_mouse_combine.shape"
   ]
  },
  {
   "cell_type": "code",
   "execution_count": 214,
   "id": "a18121b0",
   "metadata": {},
   "outputs": [
    {
     "name": "stdout",
     "output_type": "stream",
     "text": [
      "Shapes are [(23, 3), (23,), (5, 3), (5,), (5, 3), (5,), (28, 3), (28,)]\n"
     ]
    }
   ],
   "source": [
    "X_train,y_train,X_test,y_test,X_val,y_val,X_bigtrain,y_bigtrain = data_split(df_mouse_combine)"
   ]
  },
  {
   "cell_type": "code",
   "execution_count": 215,
   "id": "01732bc8",
   "metadata": {},
   "outputs": [
    {
     "name": "stdout",
     "output_type": "stream",
     "text": [
      "Validation accuracy score = 0.6 for kernel rbf and C=1\n",
      "Validation accuracy score = 0.6 for kernel rbf and C=10\n",
      "Validation accuracy score = 0.6 for kernel rbf and C=100\n",
      "Validation accuracy score = 0.6 for kernel linear and C=1\n",
      "Validation accuracy score = 0.4 for kernel linear and C=10\n",
      "Validation accuracy score = 0.4 for kernel linear and C=100\n",
      "Validation accuracy score = 0.6 for kernel poly and C=1\n",
      "Validation accuracy score = 0.6 for kernel poly and C=10\n",
      "Validation accuracy score = 0.4 for kernel poly and C=100\n"
     ]
    }
   ],
   "source": [
    "svm_hyper_tune(X_train, y_train, X_val, y_val)"
   ]
  },
  {
   "cell_type": "code",
   "execution_count": 218,
   "id": "e6ef5689",
   "metadata": {},
   "outputs": [
    {
     "name": "stdout",
     "output_type": "stream",
     "text": [
      "\u001b[1mMouse MPS study (MPS_I vs WT vs Het)\u001b[0m\n",
      "\n",
      "Training accuracy score = 0.6071428571428571\n",
      "Testing accuracy score = 0.4\n"
     ]
    }
   ],
   "source": [
    "svm(X_bigtrain,y_bigtrain,X_test,y_test,'Mouse MPS study (MPS_I vs WT vs Het)','linear',1)"
   ]
  },
  {
   "cell_type": "code",
   "execution_count": null,
   "id": "cf57e4ea",
   "metadata": {},
   "outputs": [],
   "source": []
  }
 ],
 "metadata": {
  "kernelspec": {
   "display_name": "Python 3 (ipykernel)",
   "language": "python",
   "name": "python3"
  },
  "language_info": {
   "codemirror_mode": {
    "name": "ipython",
    "version": 3
   },
   "file_extension": ".py",
   "mimetype": "text/x-python",
   "name": "python",
   "nbconvert_exporter": "python",
   "pygments_lexer": "ipython3",
   "version": "3.9.12"
  }
 },
 "nbformat": 4,
 "nbformat_minor": 5
}
