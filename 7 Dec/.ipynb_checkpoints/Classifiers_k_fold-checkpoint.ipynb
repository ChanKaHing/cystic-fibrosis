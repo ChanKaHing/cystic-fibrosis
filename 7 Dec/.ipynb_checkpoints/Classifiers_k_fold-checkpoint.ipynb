{
 "cells": [
  {
   "cell_type": "code",
   "execution_count": 74,
   "id": "6911cd0c",
   "metadata": {},
   "outputs": [],
   "source": [
    "import matplotlib.pyplot as plt\n",
    "import numpy as np\n",
    "import pandas as pd\n",
    "from sklearn.model_selection import train_test_split\n",
    "from sklearn.pipeline import Pipeline\n",
    "from sklearn.impute import SimpleImputer\n",
    "from sklearn.preprocessing import StandardScaler\n",
    "from sklearn.metrics import accuracy_score\n",
    "from sklearn.svm import SVC\n",
    "import pandas as pd\n",
    "from correlation_map import corr_map\n",
    "from correlation_3D import corr_3D, rat_bead_study_data, rat_pa_study_data, mouse_b_enac_study_data, mouse_mps_study_data\n",
    "from Principle_Component_Analysis import pca_2D, pca_3D\n",
    "from sklearn.tree import DecisionTreeClassifier, plot_tree\n",
    "from sklearn.neighbors import KNeighborsClassifier\n",
    "from sklearn.ensemble import RandomForestClassifier\n",
    "from sklearn.ensemble import GradientBoostingClassifier\n",
    "from sklearn.linear_model import SGDClassifier\n",
    "from sklearn.model_selection import cross_validate, GridSearchCV\n",
    "\n",
    "#     cv_scores_svm = cross_validate(svm_pl, X_train, y_train, cv=10, scoring='accuracy', return_train_score=True)\n",
    "#     print(\"Cross-Validation Accuracy:\", np.round(cv_scores_svm['test_score'], decimals=3))\n",
    "#     average_accuracy = cv_scores_svm['test_score'].mean()\n",
    "#     print(\"Average Validation Accuracy:\", round(average_accuracy,3))\n",
    "\n",
    "# (0.778+0.667+0.778+0.444+0.667)/5\n"
   ]
  },
  {
   "cell_type": "code",
   "execution_count": 75,
   "id": "e5b8f0cc",
   "metadata": {},
   "outputs": [],
   "source": [
    "df_mouse_b_enac = pd.read_csv('mouse_b_enac_summary.csv')\n",
    "df_mouse_enac_combine, b_enac_labels = mouse_b_enac_study_data(df_mouse_b_enac)\n",
    "\n",
    "df_mouse_mps = pd.read_csv('mouse_mps_summary.csv')\n",
    "df_mouse_mps_combine, mps_labels = mouse_mps_study_data(df_mouse_mps)\n",
    "\n",
    "df_mouse_enac_combine_sel = df_mouse_enac_combine[['VDP(%)','MSV(mL/mL)','TV(L)','VH(%)','VHSS(%)','VHLS(%)','Genotype','IQR','HD']]\n",
    "df_mouse_mps_combine_sel = df_mouse_mps_combine[['VDP(%)','MSV(mL/mL)','TV(L)','VH(%)','VHSS(%)','VHLS(%)','Genotype','IQR','HD']]\n",
    "df_mouse_all = pd.concat([df_mouse_enac_combine_sel, df_mouse_mps_combine_sel], ignore_index=True)\n"
   ]
  },
  {
   "cell_type": "code",
   "execution_count": 117,
   "id": "565067bb",
   "metadata": {},
   "outputs": [],
   "source": [
    "def data_split(df, test_size):\n",
    "    np_df = df.values\n",
    "\n",
    "    train_set, test_set = train_test_split(np_df, test_size=test_size, random_state=42, stratify=np_df[:,-1])\n",
    "\n",
    "    # Get the X and y for train, val and test\n",
    "    X_train = train_set[:,:-1]\n",
    "    y_train = train_set[:,-1]\n",
    "    X_test = test_set[:,:-1]\n",
    "    y_test = test_set[:,-1]\n",
    "    \n",
    "    print(f'Shapes are {[X_train.shape,y_train.shape,X_test.shape,y_test.shape]}')\n",
    "    \n",
    "    return X_train,y_train,X_test,y_test"
   ]
  },
  {
   "cell_type": "code",
   "execution_count": 174,
   "id": "05c15dcf",
   "metadata": {},
   "outputs": [],
   "source": [
    "def grid(clr, X_train, y_train):\n",
    "    \n",
    "    preproc_pl = Pipeline([ ('imputer', SimpleImputer(strategy=\"median\")),\n",
    "                        ('std_scaler', StandardScaler())])\n",
    "    \n",
    "    if clr == 'svm':\n",
    "        model = Pipeline([('preproc',preproc_pl), ('svc', SVC(decision_function_shape='ovr'))])\n",
    "        param_grid = {'kernel': ['linear', 'rbf', 'poly'], 'C': [1, 10, 100],}\n",
    "        grid_search = GridSearchCV(model['svc'], param_grid, cv=3, scoring='accuracy')\n",
    "        \n",
    "    if clr == 'decision tree':\n",
    "        model = Pipeline([('preproc',preproc_pl), ('dt', DecisionTreeClassifier(random_state=42))])\n",
    "        param_grid = {'criterion': ['gini', 'entropy'], 'max_depth': [5, 10, 15],}\n",
    "        grid_search = GridSearchCV(model['dt'], param_grid, cv=3, scoring='accuracy')\n",
    "        \n",
    "    if clr == 'knn':\n",
    "        model = Pipeline([('preproc',preproc_pl), ('knn', KNeighborsClassifier())])\n",
    "        param_grid = {'n_neighbors': [3, 5, 7, 9], 'weights': ['uniform', 'distance'],}\n",
    "        grid_search = GridSearchCV(model['knn'], param_grid, cv=3, scoring='accuracy')\n",
    "        \n",
    "        \n",
    "    grid_search.fit(X_train, y_train)\n",
    "    \n",
    "    best_params = grid_search.best_params_\n",
    "    print(\"Best Hyperparameters:\", best_params)\n",
    "    print()\n",
    "\n",
    "    grid_results = grid_search.cv_results_\n",
    "    \n",
    "    # Print all accuracy scores for each fold\n",
    "    for fold_idx in range(grid_search.cv):\n",
    "        fold_key = f\"split{fold_idx}_test_score\"\n",
    "        fold_scores = grid_results[fold_key]\n",
    "        print(f\"Accuracy scores for Fold {fold_idx + 1}: {np.round(fold_scores, decimals=3)}\")\n",
    "    \n",
    "    \n",
    "    print()\n",
    "    mean_test_scores = np.round(grid_results['mean_test_score'], decimals=3)\n",
    "    std_test_scores = np.round(grid_results['std_test_score'], decimals=3)\n",
    "\n",
    "    for params, mean_score, std_score in zip(grid_results['params'], mean_test_scores, std_test_scores):\n",
    "        print(f\"Hyperparameters: {params}, Mean Accuracy: {mean_score}, Std: {std_score}\")\n",
    "        print()\n",
    "    "
   ]
  },
  {
   "cell_type": "code",
   "execution_count": 175,
   "id": "1ce75eab",
   "metadata": {},
   "outputs": [],
   "source": [
    "# Create SVM classifier and optimize the hyperparameters\n",
    "def classier(clr, X_train, y_train, p1, p2):\n",
    "    \n",
    "    preproc_pl = Pipeline([ ('imputer', SimpleImputer(strategy=\"median\")),\n",
    "                        ('std_scaler', StandardScaler())])\n",
    "    \n",
    "    if clr == 'svm':\n",
    "        model = Pipeline([('preproc',preproc_pl),\n",
    "                           ('svc',SVC(kernel=p1, C=p2, random_state=42, decision_function_shape='ovr'))])\n",
    "        \n",
    "    if clr == 'decision tree':\n",
    "        model = Pipeline([('preproc',preproc_pl),\n",
    "                           ('dt',DecisionTreeClassifier(criterion=p1, max_depth=p2, random_state=42))])\n",
    "        \n",
    "    if clr == 'knn':\n",
    "        model = Pipeline([('preproc',preproc_pl),\n",
    "                           ('knn', KNeighborsClassifier(n_neighbors=p1,weights=p2))])\n",
    "         \n",
    "    model.fit(X_train,y_train)\n",
    "    \n",
    "    y_train_pred_svm = model.predict(X_train)\n",
    "    y_test_pred_svm = model.predict(X_test)\n",
    "\n",
    "    acc_train = accuracy_score(y_train,y_train_pred_svm)\n",
    "    acc_test = accuracy_score(y_test,y_test_pred_svm)\n",
    "    \n",
    "    print('\\033[1m' + clr + '\\033[0m')\n",
    "    print()\n",
    "    print(f'Training accuracy score = {acc_train}')\n",
    "    print(f'Testing accuracy score = {acc_test}')\n",
    "\n",
    "            "
   ]
  },
  {
   "cell_type": "code",
   "execution_count": 176,
   "id": "c9241620",
   "metadata": {
    "scrolled": false
   },
   "outputs": [
    {
     "name": "stdout",
     "output_type": "stream",
     "text": [
      "Shapes are [(45, 7), (45,), (16, 7), (16,)]\n",
      "Best Hyperparameters: {'C': 10, 'kernel': 'linear'}\n",
      "\n",
      "Accuracy scores for Fold 1: [0.733 0.533 0.533 0.733 0.667 0.667 0.667 0.8   0.733]\n",
      "Accuracy scores for Fold 2: [0.533 0.533 0.6   0.733 0.667 0.533 0.667 0.6   0.667]\n",
      "Accuracy scores for Fold 3: [0.667 0.4   0.467 0.6   0.533 0.333 0.6   0.533 0.533]\n",
      "\n",
      "Hyperparameters: {'C': 1, 'kernel': 'linear'}, Mean Accuracy: 0.644, Std: 0.083\n",
      "\n",
      "Hyperparameters: {'C': 1, 'kernel': 'rbf'}, Mean Accuracy: 0.489, Std: 0.063\n",
      "\n",
      "Hyperparameters: {'C': 1, 'kernel': 'poly'}, Mean Accuracy: 0.533, Std: 0.054\n",
      "\n",
      "Hyperparameters: {'C': 10, 'kernel': 'linear'}, Mean Accuracy: 0.689, Std: 0.063\n",
      "\n",
      "Hyperparameters: {'C': 10, 'kernel': 'rbf'}, Mean Accuracy: 0.622, Std: 0.063\n",
      "\n",
      "Hyperparameters: {'C': 10, 'kernel': 'poly'}, Mean Accuracy: 0.511, Std: 0.137\n",
      "\n",
      "Hyperparameters: {'C': 100, 'kernel': 'linear'}, Mean Accuracy: 0.644, Std: 0.031\n",
      "\n",
      "Hyperparameters: {'C': 100, 'kernel': 'rbf'}, Mean Accuracy: 0.644, Std: 0.113\n",
      "\n",
      "Hyperparameters: {'C': 100, 'kernel': 'poly'}, Mean Accuracy: 0.644, Std: 0.083\n",
      "\n"
     ]
    }
   ],
   "source": [
    "# SVM\n",
    "df_mouse_features = df_mouse_all[['VDP(%)','MSV(mL/mL)','TV(L)','VH(%)','VHSS(%)','VHLS(%)','HD','Genotype']]\n",
    "X_train,y_train,X_test,y_test = data_split(df_mouse_features,0.25)\n",
    "grid('svm',X_train, y_train)"
   ]
  },
  {
   "cell_type": "code",
   "execution_count": 178,
   "id": "209da049",
   "metadata": {},
   "outputs": [
    {
     "name": "stdout",
     "output_type": "stream",
     "text": [
      "\u001b[1msvm\u001b[0m\n",
      "\n",
      "Training accuracy score = 0.9333333333333333\n",
      "Testing accuracy score = 0.75\n"
     ]
    }
   ],
   "source": [
    "classier('svm', X_train, y_train, 'linear', 10)"
   ]
  },
  {
   "cell_type": "code",
   "execution_count": 163,
   "id": "f9cc606e",
   "metadata": {},
   "outputs": [
    {
     "name": "stdout",
     "output_type": "stream",
     "text": [
      "Best Hyperparameters: {'criterion': 'gini', 'max_depth': 5}\n",
      "\n",
      "Accuracy scores for Fold 1: [0.778 0.778 0.778 0.778 0.778 0.778]\n",
      "Accuracy scores for Fold 2: [0.333 0.333 0.333 0.333 0.333 0.333]\n",
      "Accuracy scores for Fold 3: [0.889 0.778 0.778 0.889 0.889 0.889]\n",
      "Accuracy scores for Fold 4: [0.667 0.667 0.667 0.444 0.556 0.556]\n",
      "Accuracy scores for Fold 5: [0.556 0.556 0.556 0.556 0.556 0.556]\n",
      "\n",
      "Hyperparameters: {'criterion': 'gini', 'max_depth': 5}, Mean Accuracy: 0.644, Std: 0.191\n",
      "\n",
      "Hyperparameters: {'criterion': 'gini', 'max_depth': 10}, Mean Accuracy: 0.622, Std: 0.166\n",
      "\n",
      "Hyperparameters: {'criterion': 'gini', 'max_depth': 15}, Mean Accuracy: 0.622, Std: 0.166\n",
      "\n",
      "Hyperparameters: {'criterion': 'entropy', 'max_depth': 5}, Mean Accuracy: 0.6, Std: 0.206\n",
      "\n",
      "Hyperparameters: {'criterion': 'entropy', 'max_depth': 10}, Mean Accuracy: 0.622, Std: 0.194\n",
      "\n",
      "Hyperparameters: {'criterion': 'entropy', 'max_depth': 15}, Mean Accuracy: 0.622, Std: 0.194\n",
      "\n"
     ]
    }
   ],
   "source": [
    "# decision tree\n",
    "grid('decision tree',X_train, y_train)"
   ]
  },
  {
   "cell_type": "code",
   "execution_count": 164,
   "id": "51e225bd",
   "metadata": {},
   "outputs": [
    {
     "name": "stdout",
     "output_type": "stream",
     "text": [
      "\u001b[1mdecision tree\u001b[0m\n",
      "\n",
      "Training accuracy score = 0.9777777777777777\n",
      "Testing accuracy score = 0.625\n"
     ]
    }
   ],
   "source": [
    "classier('decision tree', X_train, y_train, 'gini', 5)"
   ]
  },
  {
   "cell_type": "code",
   "execution_count": 172,
   "id": "98b6cca1",
   "metadata": {
    "scrolled": false
   },
   "outputs": [
    {
     "name": "stdout",
     "output_type": "stream",
     "text": [
      "Best Hyperparameters: {'n_neighbors': 3, 'weights': 'distance'}\n",
      "\n",
      "Accuracy scores for Fold 1: [0.778 0.889 0.778 0.889 0.889 0.889 0.889 0.889]\n",
      "Accuracy scores for Fold 2: [0.667 0.556 0.667 0.556 0.667 0.667 0.667 0.667]\n",
      "Accuracy scores for Fold 3: [0.667 0.667 0.778 0.778 0.778 0.667 0.667 0.667]\n",
      "Accuracy scores for Fold 4: [0.556 0.556 0.444 0.556 0.444 0.556 0.333 0.556]\n",
      "Accuracy scores for Fold 5: [0.556 0.778 0.333 0.556 0.333 0.444 0.333 0.444]\n",
      "\n",
      "Hyperparameters: {'n_neighbors': 3, 'weights': 'uniform'}, Mean Accuracy: 0.644, Std: 0.083\n",
      "\n",
      "Hyperparameters: {'n_neighbors': 3, 'weights': 'distance'}, Mean Accuracy: 0.689, Std: 0.13\n",
      "\n",
      "Hyperparameters: {'n_neighbors': 5, 'weights': 'uniform'}, Mean Accuracy: 0.6, Std: 0.181\n",
      "\n",
      "Hyperparameters: {'n_neighbors': 5, 'weights': 'distance'}, Mean Accuracy: 0.667, Std: 0.141\n",
      "\n",
      "Hyperparameters: {'n_neighbors': 7, 'weights': 'uniform'}, Mean Accuracy: 0.622, Std: 0.206\n",
      "\n",
      "Hyperparameters: {'n_neighbors': 7, 'weights': 'distance'}, Mean Accuracy: 0.644, Std: 0.147\n",
      "\n",
      "Hyperparameters: {'n_neighbors': 9, 'weights': 'uniform'}, Mean Accuracy: 0.578, Std: 0.215\n",
      "\n",
      "Hyperparameters: {'n_neighbors': 9, 'weights': 'distance'}, Mean Accuracy: 0.644, Std: 0.147\n",
      "\n"
     ]
    }
   ],
   "source": [
    "# KNN\n",
    "grid('knn',X_train, y_train)"
   ]
  },
  {
   "cell_type": "code",
   "execution_count": 173,
   "id": "5e93806a",
   "metadata": {},
   "outputs": [
    {
     "name": "stdout",
     "output_type": "stream",
     "text": [
      "\u001b[1mknn\u001b[0m\n",
      "\n",
      "Training accuracy score = 1.0\n",
      "Testing accuracy score = 0.625\n"
     ]
    }
   ],
   "source": [
    "classier('knn', X_train, y_train, 3, 'distance')"
   ]
  },
  {
   "cell_type": "code",
   "execution_count": null,
   "id": "5d8c7579",
   "metadata": {},
   "outputs": [],
   "source": []
  }
 ],
 "metadata": {
  "kernelspec": {
   "display_name": "Python 3 (ipykernel)",
   "language": "python",
   "name": "python3"
  },
  "language_info": {
   "codemirror_mode": {
    "name": "ipython",
    "version": 3
   },
   "file_extension": ".py",
   "mimetype": "text/x-python",
   "name": "python",
   "nbconvert_exporter": "python",
   "pygments_lexer": "ipython3",
   "version": "3.9.12"
  }
 },
 "nbformat": 4,
 "nbformat_minor": 5
}
