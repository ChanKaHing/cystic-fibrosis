{
 "cells": [
  {
   "cell_type": "code",
   "execution_count": 1,
   "id": "e6a02ef6",
   "metadata": {},
   "outputs": [],
   "source": [
    "import pandas as pd\n",
    "from correlation_map import corr_map\n",
    "from correlation_3D import corr_3D, rat_bead_study_data, rat_pa_study_data, mouse_b_enac_study_data, mouse_mps_study_data\n",
    "from Principle_Component_Analysis import pca_2D, pca_3D\n",
    "from Simple_Classifiers_xval import data_split,svm_hyper_tune,svm,decision_tree_hyper_tune,decision_tree\n",
    "from Simple_Classifiers_xval import knn_hyper_tune,knn,rf_hyper_tune,rf,gbc_hyper_tune,gbc,sgd_hyper_tune,sgd\n"
   ]
  },
  {
   "cell_type": "code",
   "execution_count": 2,
   "id": "7de64d4e",
   "metadata": {},
   "outputs": [],
   "source": [
    "# Loading the data\n",
    "df_rat_sterile_baseline = pd.read_csv('rat_sterile_baseline_summary.csv')\n",
    "df_rat_sterile_post_beads = pd.read_csv('rat_sterile_post_beads_summary.csv')\n",
    "df_rat_bead_combine, bead_labels = rat_bead_study_data(df_rat_sterile_baseline, df_rat_sterile_post_beads)\n",
    "\n",
    "df_rat_pa = pd.read_csv('rat_pa_summary.csv')\n",
    "df_rat_pa_combine, pa_labels = rat_pa_study_data(df_rat_pa)\n",
    "\n",
    "df_mouse_b_enac = pd.read_csv('mouse_b_enac_summary.csv')\n",
    "df_mouse_enac_combine, b_enac_labels = mouse_b_enac_study_data(df_mouse_b_enac)\n",
    "\n",
    "df_mouse_mps = pd.read_csv('mouse_mps_summary.csv')\n",
    "df_mouse_mps_combine, mps_labels = mouse_mps_study_data(df_mouse_mps)\n",
    "\n",
    "df_rat_sterile_baseline_hd = pd.read_csv('rat_sterile_baseline_summary_HD.csv')\n",
    "df_rat_sterile_post_beads_hd = pd.read_csv('rat_sterile_post_beads_summary_HD.csv')\n",
    "df_rat_bead_combine_hd, bead_hd_labels = rat_bead_study_data(df_rat_sterile_baseline_hd, df_rat_sterile_post_beads_hd)\n",
    "\n",
    "df_rat_pa_hd = pd.read_csv('rat_pa_summary_HD.csv')\n",
    "df_rat_pa_combine_hd, pa_hd_labels = rat_pa_study_data(df_rat_pa_hd)\n",
    "\n",
    "df_mouse_enac_combine_sel = df_mouse_enac_combine[['VDP(%)','MSV(mL/mL)','TV(L)','VH(%)','VHSS(%)','VHLS(%)','Genotype','IQR','HD']]\n",
    "df_mouse_mps_combine_sel = df_mouse_mps_combine[['VDP(%)','MSV(mL/mL)','TV(L)','VH(%)','VHSS(%)','VHLS(%)','Genotype','IQR','HD']]\n",
    "df_mouse_all = pd.concat([df_mouse_enac_combine_sel, df_mouse_mps_combine_sel], ignore_index=True)\n",
    "\n",
    "df_rat_pa_combine_hd_sel = df_rat_pa_combine_hd[['VDP(%)','MSV(mL/mL)','TV(L)','VH(%)','VHSS(%)','VHLS(%)','Genotype','IQR','HD']]\n",
    "df_rat_sterile_baseline_hd_sel = df_rat_sterile_baseline_hd[['VDP(%)','MSV(mL/mL)','TV(L)','VH(%)','VHSS(%)','VHLS(%)','Genotype','IQR','HD']]\n",
    "df_rat_sterile_post_beads_hd_sel = df_rat_sterile_post_beads_hd[['VDP(%)','MSV(mL/mL)','TV(L)','VH(%)','VHSS(%)','VHLS(%)','Genotype','IQR','HD']]\n",
    "df_rat_all = pd.concat([df_rat_pa_combine_hd_sel, df_rat_sterile_baseline_hd_sel], ignore_index=True)\n",
    "\n"
   ]
  },
  {
   "cell_type": "markdown",
   "id": "c73735c4",
   "metadata": {},
   "source": [
    "# Mouse all study"
   ]
  },
  {
   "cell_type": "code",
   "execution_count": 329,
   "id": "6f59d40d",
   "metadata": {},
   "outputs": [
    {
     "name": "stdout",
     "output_type": "stream",
     "text": [
      "Shapes are [(33, 7), (33,), (12, 7), (12,), (45, 7), (45,), (16, 7), (16,)]\n",
      "\n",
      "Validation accuracy score = 0.6666666666666666 for kernel rbf and C=1\n",
      "Validation accuracy score = 0.75 for kernel rbf and C=10\n",
      "Validation accuracy score = 0.5 for kernel rbf and C=100\n",
      "Validation accuracy score = 0.75 for kernel linear and C=1\n",
      "Validation accuracy score = 0.8333333333333334 for kernel linear and C=10\n",
      "Validation accuracy score = 0.75 for kernel linear and C=100\n",
      "Validation accuracy score = 0.75 for kernel poly and C=1\n",
      "Validation accuracy score = 0.75 for kernel poly and C=10\n",
      "Validation accuracy score = 0.8333333333333334 for kernel poly and C=100\n"
     ]
    }
   ],
   "source": [
    "# SVM\n",
    "df_mouse_features = df_mouse_all[['VDP(%)','MSV(mL/mL)','TV(L)','VH(%)','VHSS(%)','VHLS(%)','HD','Genotype']]\n",
    "X_train,y_train,X_test,y_test,X_val,y_val,X_bigtrain,y_bigtrain = data_split(df_mouse_features, 0.25, 0.25)\n",
    "print()\n",
    "svm_hyper_tune(X_train, y_train, X_val, y_val)\n"
   ]
  },
  {
   "cell_type": "code",
   "execution_count": 330,
   "id": "69f50404",
   "metadata": {},
   "outputs": [
    {
     "name": "stdout",
     "output_type": "stream",
     "text": [
      "\u001b[1mMouse all\u001b[0m\n",
      "\n",
      "Training accuracy score = 0.9333333333333333\n",
      "Testing accuracy score = 0.75\n"
     ]
    }
   ],
   "source": [
    "svm(X_bigtrain,y_bigtrain,X_test,y_test,'Mouse all','linear',10)"
   ]
  },
  {
   "cell_type": "code",
   "execution_count": 331,
   "id": "3e8d2d98",
   "metadata": {},
   "outputs": [
    {
     "name": "stdout",
     "output_type": "stream",
     "text": [
      "Shapes are [(33, 7), (33,), (12, 7), (12,), (45, 7), (45,), (16, 7), (16,)]\n",
      "\n",
      "Validation accuracy score = 0.75 for criterion gini and max_depth = 5\n",
      "Validation accuracy score = 0.75 for criterion gini and max_depth = 15\n",
      "Validation accuracy score = 0.75 for criterion gini and max_depth = 20\n",
      "Validation accuracy score = 0.6666666666666666 for criterion entropy and max_depth = 5\n",
      "Validation accuracy score = 0.6666666666666666 for criterion entropy and max_depth = 15\n",
      "Validation accuracy score = 0.6666666666666666 for criterion entropy and max_depth = 20\n"
     ]
    }
   ],
   "source": [
    "# decision tree\n",
    "df_mouse_features = df_mouse_all[['VDP(%)','MSV(mL/mL)','TV(L)','VH(%)','VHSS(%)','VHLS(%)','HD','Genotype']]\n",
    "X_train,y_train,X_test,y_test,X_val,y_val,X_bigtrain,y_bigtrain = data_split(df_mouse_features, 0.25, 0.25)\n",
    "print()\n",
    "decision_tree_hyper_tune(X_train, y_train, X_val, y_val)\n"
   ]
  },
  {
   "cell_type": "code",
   "execution_count": 332,
   "id": "935f5657",
   "metadata": {},
   "outputs": [
    {
     "name": "stdout",
     "output_type": "stream",
     "text": [
      "\u001b[1mMouse all\u001b[0m\n",
      "\n",
      "Training accuracy score = 1.0\n",
      "Testing accuracy score = 0.75\n"
     ]
    }
   ],
   "source": [
    "decision_tree(X_bigtrain,y_bigtrain,X_test,y_test,'Mouse all','gini',15)"
   ]
  },
  {
   "cell_type": "code",
   "execution_count": 333,
   "id": "e89f9534",
   "metadata": {},
   "outputs": [
    {
     "name": "stdout",
     "output_type": "stream",
     "text": [
      "Shapes are [(33, 7), (33,), (12, 7), (12,), (45, 7), (45,), (16, 7), (16,)]\n",
      "\n",
      "Validation recall score = 0.6666666666666666 for n_neighbors = 3 and weights uniform\n",
      "Validation recall score = 0.6666666666666666 for n_neighbors = 3 and weights distance\n",
      "Validation recall score = 0.75 for n_neighbors = 5 and weights uniform\n",
      "Validation recall score = 0.6666666666666666 for n_neighbors = 5 and weights distance\n",
      "Validation recall score = 0.75 for n_neighbors = 7 and weights uniform\n",
      "Validation recall score = 0.6666666666666666 for n_neighbors = 7 and weights distance\n",
      "Validation recall score = 0.75 for n_neighbors = 9 and weights uniform\n",
      "Validation recall score = 0.6666666666666666 for n_neighbors = 9 and weights distance\n",
      "Validation recall score = 0.6666666666666666 for n_neighbors = 11 and weights uniform\n",
      "Validation recall score = 0.6666666666666666 for n_neighbors = 11 and weights distance\n"
     ]
    }
   ],
   "source": [
    "# KNN\n",
    "df_mouse_features = df_mouse_all[['VDP(%)','MSV(mL/mL)','TV(L)','VH(%)','VHSS(%)','VHLS(%)','HD','Genotype']]\n",
    "X_train,y_train,X_test,y_test,X_val,y_val,X_bigtrain,y_bigtrain = data_split(df_mouse_features, 0.25, 0.25)\n",
    "print()\n",
    "knn_hyper_tune(X_train, y_train, X_val, y_val)\n"
   ]
  },
  {
   "cell_type": "code",
   "execution_count": 334,
   "id": "1076eb7a",
   "metadata": {},
   "outputs": [
    {
     "name": "stdout",
     "output_type": "stream",
     "text": [
      "\u001b[1mMouse all\u001b[0m\n",
      "\n",
      "Training accuracy score = 0.8\n",
      "Testing accuracy score = 0.6875\n"
     ]
    }
   ],
   "source": [
    "knn(X_bigtrain,y_bigtrain,X_test,y_test,'Mouse all',5,'uniform')"
   ]
  },
  {
   "cell_type": "code",
   "execution_count": 335,
   "id": "f06b17d4",
   "metadata": {},
   "outputs": [
    {
     "name": "stdout",
     "output_type": "stream",
     "text": [
      "Shapes are [(33, 7), (33,), (12, 7), (12,), (45, 7), (45,), (16, 7), (16,)]\n",
      "\n",
      "Validation recall score = 0.75 for criterion = gini and max_depth 5\n",
      "Validation recall score = 0.75 for criterion = gini and max_depth 15\n",
      "Validation recall score = 0.75 for criterion = gini and max_depth 20\n",
      "Validation recall score = 0.75 for criterion = entropy and max_depth 5\n",
      "Validation recall score = 0.75 for criterion = entropy and max_depth 15\n",
      "Validation recall score = 0.75 for criterion = entropy and max_depth 20\n"
     ]
    }
   ],
   "source": [
    "# Random Forest\n",
    "df_mouse_features = df_mouse_all[['VDP(%)','MSV(mL/mL)','TV(L)','VH(%)','VHSS(%)','VHLS(%)','HD','Genotype']]\n",
    "X_train,y_train,X_test,y_test,X_val,y_val,X_bigtrain,y_bigtrain = data_split(df_mouse_features, 0.25, 0.25)\n",
    "print()\n",
    "rf_hyper_tune(X_train, y_train, X_val, y_val)\n"
   ]
  },
  {
   "cell_type": "code",
   "execution_count": 336,
   "id": "f8d6f379",
   "metadata": {},
   "outputs": [
    {
     "name": "stdout",
     "output_type": "stream",
     "text": [
      "\u001b[1mMouse all\u001b[0m\n",
      "\n",
      "Training accuracy score = 1.0\n",
      "Testing accuracy score = 0.625\n"
     ]
    }
   ],
   "source": [
    "rf(X_bigtrain,y_bigtrain,X_test,y_test,'Mouse all','gini',20)"
   ]
  },
  {
   "cell_type": "code",
   "execution_count": 337,
   "id": "2d01bed9",
   "metadata": {},
   "outputs": [
    {
     "name": "stdout",
     "output_type": "stream",
     "text": [
      "Shapes are [(33, 7), (33,), (12, 7), (12,), (45, 7), (45,), (16, 7), (16,)]\n",
      "\n",
      "Validation recall score = 0.6666666666666666 for max_depth = 3 and learning_rate 0.01\n",
      "Validation recall score = 0.75 for max_depth = 3 and learning_rate 0.1\n",
      "Validation recall score = 0.6666666666666666 for max_depth = 3 and learning_rate 1\n",
      "Validation recall score = 0.6666666666666666 for max_depth = 5 and learning_rate 0.01\n",
      "Validation recall score = 0.75 for max_depth = 5 and learning_rate 0.1\n",
      "Validation recall score = 0.6666666666666666 for max_depth = 5 and learning_rate 1\n",
      "Validation recall score = 0.6666666666666666 for max_depth = 7 and learning_rate 0.01\n",
      "Validation recall score = 0.75 for max_depth = 7 and learning_rate 0.1\n",
      "Validation recall score = 0.6666666666666666 for max_depth = 7 and learning_rate 1\n",
      "Validation recall score = 0.6666666666666666 for max_depth = 9 and learning_rate 0.01\n",
      "Validation recall score = 0.75 for max_depth = 9 and learning_rate 0.1\n",
      "Validation recall score = 0.6666666666666666 for max_depth = 9 and learning_rate 1\n",
      "Validation recall score = 0.6666666666666666 for max_depth = 11 and learning_rate 0.01\n",
      "Validation recall score = 0.75 for max_depth = 11 and learning_rate 0.1\n",
      "Validation recall score = 0.6666666666666666 for max_depth = 11 and learning_rate 1\n"
     ]
    }
   ],
   "source": [
    "# Gradient Boost Classifier\n",
    "df_mouse_features = df_mouse_all[['VDP(%)','MSV(mL/mL)','TV(L)','VH(%)','VHSS(%)','VHLS(%)','HD','Genotype']]\n",
    "X_train,y_train,X_test,y_test,X_val,y_val,X_bigtrain,y_bigtrain = data_split(df_mouse_features, 0.25, 0.25)\n",
    "print()\n",
    "gbc_hyper_tune(X_train, y_train, X_val, y_val)\n"
   ]
  },
  {
   "cell_type": "code",
   "execution_count": 338,
   "id": "7e2325e6",
   "metadata": {},
   "outputs": [
    {
     "name": "stdout",
     "output_type": "stream",
     "text": [
      "\u001b[1mMouse all\u001b[0m\n",
      "\n",
      "Training accuracy score = 1.0\n",
      "Testing accuracy score = 0.75\n"
     ]
    }
   ],
   "source": [
    "gbc(X_bigtrain,y_bigtrain,X_test,y_test,'Mouse all',11,0.1)"
   ]
  },
  {
   "cell_type": "code",
   "execution_count": 339,
   "id": "88914a9e",
   "metadata": {},
   "outputs": [
    {
     "name": "stdout",
     "output_type": "stream",
     "text": [
      "Shapes are [(33, 7), (33,), (12, 7), (12,), (45, 7), (45,), (16, 7), (16,)]\n",
      "\n",
      "Validation recall score = 0.8333333333333334 for loss hinge and penalty l2\n",
      "Validation recall score = 0.9166666666666666 for loss hinge and penalty l1\n",
      "Validation recall score = 0.8333333333333334 for loss hinge and penalty elasticnet\n",
      "Validation recall score = 0.5833333333333334 for loss squared_hinge and penalty l2\n",
      "Validation recall score = 0.8333333333333334 for loss squared_hinge and penalty l1\n",
      "Validation recall score = 0.5833333333333334 for loss squared_hinge and penalty elasticnet\n",
      "Validation recall score = 0.8333333333333334 for loss perceptron and penalty l2\n",
      "Validation recall score = 0.9166666666666666 for loss perceptron and penalty l1\n",
      "Validation recall score = 0.5833333333333334 for loss perceptron and penalty elasticnet\n"
     ]
    }
   ],
   "source": [
    "# SGD\n",
    "df_mouse_features = df_mouse_all[['VDP(%)','MSV(mL/mL)','TV(L)','VH(%)','VHSS(%)','VHLS(%)','HD','Genotype']]\n",
    "X_train,y_train,X_test,y_test,X_val,y_val,X_bigtrain,y_bigtrain = data_split(df_mouse_features, 0.25, 0.25)\n",
    "print()\n",
    "sgd_hyper_tune(X_train, y_train, X_val, y_val)\n"
   ]
  },
  {
   "cell_type": "code",
   "execution_count": 340,
   "id": "1e564b09",
   "metadata": {},
   "outputs": [
    {
     "name": "stdout",
     "output_type": "stream",
     "text": [
      "\u001b[1mMouse all\u001b[0m\n",
      "\n",
      "Training accuracy score = 0.8\n",
      "Testing accuracy score = 0.75\n"
     ]
    }
   ],
   "source": [
    "sgd(X_bigtrain,y_bigtrain,X_test,y_test,'Mouse all','hinge','l1')"
   ]
  },
  {
   "cell_type": "markdown",
   "id": "65d7cd26",
   "metadata": {},
   "source": [
    "# Rat all Study"
   ]
  },
  {
   "cell_type": "code",
   "execution_count": 347,
   "id": "148584d1",
   "metadata": {},
   "outputs": [
    {
     "name": "stdout",
     "output_type": "stream",
     "text": [
      "Shapes are [(40, 7), (40,), (14, 7), (14,), (54, 7), (54,), (19, 7), (19,)]\n",
      "\n",
      "Validation accuracy score = 0.6428571428571429 for kernel rbf and C=1\n",
      "Validation accuracy score = 0.35714285714285715 for kernel rbf and C=10\n",
      "Validation accuracy score = 0.2857142857142857 for kernel rbf and C=100\n",
      "Validation accuracy score = 0.6428571428571429 for kernel linear and C=1\n",
      "Validation accuracy score = 0.6428571428571429 for kernel linear and C=10\n",
      "Validation accuracy score = 0.6428571428571429 for kernel linear and C=100\n",
      "Validation accuracy score = 0.42857142857142855 for kernel poly and C=1\n",
      "Validation accuracy score = 0.2857142857142857 for kernel poly and C=10\n",
      "Validation accuracy score = 0.14285714285714285 for kernel poly and C=100\n"
     ]
    }
   ],
   "source": [
    "# SVM\n",
    "df_rat_features = df_rat_all[['VDP(%)','MSV(mL/mL)','TV(L)','VH(%)','VHSS(%)','VHLS(%)','HD','Genotype']]\n",
    "X_train,y_train,X_test,y_test,X_val,y_val,X_bigtrain,y_bigtrain = data_split(df_rat_features, 0.25, 0.25)\n",
    "print()\n",
    "svm_hyper_tune(X_train, y_train, X_val, y_val)\n"
   ]
  },
  {
   "cell_type": "code",
   "execution_count": 348,
   "id": "cd81142e",
   "metadata": {},
   "outputs": [
    {
     "name": "stdout",
     "output_type": "stream",
     "text": [
      "\u001b[1mRat all\u001b[0m\n",
      "\n",
      "Training accuracy score = 0.7222222222222222\n",
      "Testing accuracy score = 0.5789473684210527\n"
     ]
    }
   ],
   "source": [
    "svm(X_bigtrain,y_bigtrain,X_test,y_test,'Rat all','rbf',1)"
   ]
  },
  {
   "cell_type": "code",
   "execution_count": 69,
   "id": "bfd43147",
   "metadata": {},
   "outputs": [
    {
     "name": "stdout",
     "output_type": "stream",
     "text": [
      "Shapes are [(40, 7), (40,), (14, 7), (14,), (54, 7), (54,), (19, 7), (19,)]\n",
      "\n",
      "Validation accuracy score = 0.2857142857142857 for criterion gini and max_depth = 5\n",
      "Validation accuracy score = 0.14285714285714285 for criterion gini and max_depth = 15\n",
      "Validation accuracy score = 0.14285714285714285 for criterion gini and max_depth = 20\n",
      "Validation accuracy score = 0.21428571428571427 for criterion entropy and max_depth = 5\n",
      "Validation accuracy score = 0.14285714285714285 for criterion entropy and max_depth = 15\n",
      "Validation accuracy score = 0.14285714285714285 for criterion entropy and max_depth = 20\n"
     ]
    }
   ],
   "source": [
    "# decision tree\n",
    "df_rat_features = df_rat_all[['VDP(%)','MSV(mL/mL)','TV(L)','VH(%)','VHSS(%)','VHLS(%)','HD','Genotype']]\n",
    "X_train,y_train,X_test,y_test,X_val,y_val,X_bigtrain,y_bigtrain = data_split(df_rat_features, 0.25, 0.25)\n",
    "print()\n",
    "decision_tree_hyper_tune(X_train, y_train, X_val, y_val)\n"
   ]
  },
  {
   "cell_type": "code",
   "execution_count": 70,
   "id": "7764b99c",
   "metadata": {},
   "outputs": [
    {
     "name": "stdout",
     "output_type": "stream",
     "text": [
      "\u001b[1mRat all\u001b[0m\n",
      "\n",
      "Training accuracy score = 0.8518518518518519\n",
      "Testing accuracy score = 0.5263157894736842\n"
     ]
    }
   ],
   "source": [
    "decision_tree(X_bigtrain,y_bigtrain,X_test,y_test,'Rat all','gini',5)"
   ]
  },
  {
   "cell_type": "code",
   "execution_count": 71,
   "id": "d6b15947",
   "metadata": {},
   "outputs": [
    {
     "name": "stdout",
     "output_type": "stream",
     "text": [
      "Shapes are [(40, 7), (40,), (14, 7), (14,), (54, 7), (54,), (19, 7), (19,)]\n",
      "\n",
      "Validation recall score = 0.5 for n_neighbors = 3 and weights uniform\n",
      "Validation recall score = 0.42857142857142855 for n_neighbors = 3 and weights distance\n",
      "Validation recall score = 0.35714285714285715 for n_neighbors = 5 and weights uniform\n",
      "Validation recall score = 0.2857142857142857 for n_neighbors = 5 and weights distance\n",
      "Validation recall score = 0.2857142857142857 for n_neighbors = 7 and weights uniform\n",
      "Validation recall score = 0.2857142857142857 for n_neighbors = 7 and weights distance\n",
      "Validation recall score = 0.6428571428571429 for n_neighbors = 9 and weights uniform\n",
      "Validation recall score = 0.5 for n_neighbors = 9 and weights distance\n",
      "Validation recall score = 0.5714285714285714 for n_neighbors = 11 and weights uniform\n",
      "Validation recall score = 0.5 for n_neighbors = 11 and weights distance\n"
     ]
    }
   ],
   "source": [
    "# KNN\n",
    "df_rat_features = df_rat_all[['VDP(%)','MSV(mL/mL)','TV(L)','VH(%)','VHSS(%)','VHLS(%)','HD','Genotype']]\n",
    "X_train,y_train,X_test,y_test,X_val,y_val,X_bigtrain,y_bigtrain = data_split(df_rat_features, 0.25, 0.25)\n",
    "print()\n",
    "knn_hyper_tune(X_train, y_train, X_val, y_val)\n"
   ]
  },
  {
   "cell_type": "code",
   "execution_count": 72,
   "id": "2a595f2b",
   "metadata": {},
   "outputs": [
    {
     "name": "stdout",
     "output_type": "stream",
     "text": [
      "\u001b[1mRat all\u001b[0m\n",
      "\n",
      "Training accuracy score = 0.5370370370370371\n",
      "Testing accuracy score = 0.6842105263157895\n"
     ]
    }
   ],
   "source": [
    "knn(X_bigtrain,y_bigtrain,X_test,y_test,'Rat all',9,'uniform')"
   ]
  },
  {
   "cell_type": "code",
   "execution_count": 27,
   "id": "9829a1c7",
   "metadata": {},
   "outputs": [
    {
     "name": "stdout",
     "output_type": "stream",
     "text": [
      "Shapes are [(40, 7), (40,), (14, 7), (14,), (54, 7), (54,), (19, 7), (19,)]\n",
      "\n",
      "Validation recall score = 0.2857142857142857 for criterion = gini and max_depth 5\n",
      "Validation recall score = 0.21428571428571427 for criterion = gini and max_depth 15\n",
      "Validation recall score = 0.21428571428571427 for criterion = gini and max_depth 20\n",
      "Validation recall score = 0.42857142857142855 for criterion = entropy and max_depth 5\n",
      "Validation recall score = 0.42857142857142855 for criterion = entropy and max_depth 15\n",
      "Validation recall score = 0.42857142857142855 for criterion = entropy and max_depth 20\n"
     ]
    }
   ],
   "source": [
    "# Random Forest\n",
    "df_rat_features = df_rat_all[['VDP(%)','MSV(mL/mL)','TV(L)','VH(%)','VHSS(%)','VHLS(%)','HD','Genotype']]\n",
    "X_train,y_train,X_test,y_test,X_val,y_val,X_bigtrain,y_bigtrain = data_split(df_rat_features, 0.25, 0.25)\n",
    "print()\n",
    "rf_hyper_tune(X_train, y_train, X_val, y_val)\n"
   ]
  },
  {
   "cell_type": "code",
   "execution_count": 31,
   "id": "916a6074",
   "metadata": {},
   "outputs": [
    {
     "name": "stdout",
     "output_type": "stream",
     "text": [
      "\u001b[1mRat all\u001b[0m\n",
      "\n",
      "Training accuracy score = 1.0\n",
      "Testing accuracy score = 0.5789473684210527\n"
     ]
    }
   ],
   "source": [
    "rf(X_bigtrain,y_bigtrain,X_test,y_test,'Rat all','entropy',20)"
   ]
  },
  {
   "cell_type": "code",
   "execution_count": 32,
   "id": "7bf7fdb4",
   "metadata": {},
   "outputs": [
    {
     "name": "stdout",
     "output_type": "stream",
     "text": [
      "Shapes are [(40, 7), (40,), (14, 7), (14,), (54, 7), (54,), (19, 7), (19,)]\n",
      "\n",
      "Validation recall score = 0.5 for max_depth = 3 and learning_rate 0.01\n",
      "Validation recall score = 0.5 for max_depth = 3 and learning_rate 0.1\n",
      "Validation recall score = 0.5 for max_depth = 3 and learning_rate 1\n",
      "Validation recall score = 0.5 for max_depth = 5 and learning_rate 0.01\n",
      "Validation recall score = 0.5 for max_depth = 5 and learning_rate 0.1\n",
      "Validation recall score = 0.5 for max_depth = 5 and learning_rate 1\n",
      "Validation recall score = 0.5 for max_depth = 7 and learning_rate 0.01\n",
      "Validation recall score = 0.5 for max_depth = 7 and learning_rate 0.1\n",
      "Validation recall score = 0.5 for max_depth = 7 and learning_rate 1\n",
      "Validation recall score = 0.5 for max_depth = 9 and learning_rate 0.01\n",
      "Validation recall score = 0.5 for max_depth = 9 and learning_rate 0.1\n",
      "Validation recall score = 0.5 for max_depth = 9 and learning_rate 1\n",
      "Validation recall score = 0.5 for max_depth = 11 and learning_rate 0.01\n",
      "Validation recall score = 0.5 for max_depth = 11 and learning_rate 0.1\n",
      "Validation recall score = 0.5 for max_depth = 11 and learning_rate 1\n"
     ]
    }
   ],
   "source": [
    "# Gradient Boost Classifier\n",
    "df_rat_features = df_rat_all[['VDP(%)','MSV(mL/mL)','TV(L)','VH(%)','VHSS(%)','VHLS(%)','HD','Genotype']]\n",
    "X_train,y_train,X_test,y_test,X_val,y_val,X_bigtrain,y_bigtrain = data_split(df_rat_features, 0.25, 0.25)\n",
    "print()\n",
    "gbc_hyper_tune(X_train, y_train, X_val, y_val)\n"
   ]
  },
  {
   "cell_type": "code",
   "execution_count": 48,
   "id": "774e80af",
   "metadata": {},
   "outputs": [
    {
     "name": "stdout",
     "output_type": "stream",
     "text": [
      "\u001b[1mRat all\u001b[0m\n",
      "\n",
      "Training accuracy score = 1.0\n",
      "Testing accuracy score = 0.6842105263157895\n"
     ]
    }
   ],
   "source": [
    "gbc(X_bigtrain,y_bigtrain,X_test,y_test,'Rat all',11,0.01)"
   ]
  },
  {
   "cell_type": "code",
   "execution_count": 49,
   "id": "fe1ab973",
   "metadata": {},
   "outputs": [
    {
     "name": "stdout",
     "output_type": "stream",
     "text": [
      "Shapes are [(40, 7), (40,), (14, 7), (14,), (54, 7), (54,), (19, 7), (19,)]\n",
      "\n",
      "Validation recall score = 0.5714285714285714 for loss hinge and penalty l2\n",
      "Validation recall score = 0.5 for loss hinge and penalty l1\n",
      "Validation recall score = 0.7142857142857143 for loss hinge and penalty elasticnet\n",
      "Validation recall score = 0.35714285714285715 for loss squared_hinge and penalty l2\n",
      "Validation recall score = 0.35714285714285715 for loss squared_hinge and penalty l1\n",
      "Validation recall score = 0.5 for loss squared_hinge and penalty elasticnet\n",
      "Validation recall score = 0.7857142857142857 for loss perceptron and penalty l2\n",
      "Validation recall score = 0.7142857142857143 for loss perceptron and penalty l1\n",
      "Validation recall score = 0.5 for loss perceptron and penalty elasticnet\n"
     ]
    }
   ],
   "source": [
    "# SGD\n",
    "df_rat_features = df_rat_all[['VDP(%)','MSV(mL/mL)','TV(L)','VH(%)','VHSS(%)','VHLS(%)','HD','Genotype']]\n",
    "X_train,y_train,X_test,y_test,X_val,y_val,X_bigtrain,y_bigtrain = data_split(df_rat_features, 0.25, 0.25)\n",
    "print()\n",
    "sgd_hyper_tune(X_train, y_train, X_val, y_val)\n"
   ]
  },
  {
   "cell_type": "code",
   "execution_count": 52,
   "id": "311158b5",
   "metadata": {},
   "outputs": [
    {
     "name": "stdout",
     "output_type": "stream",
     "text": [
      "\u001b[1mRat all\u001b[0m\n",
      "\n",
      "Training accuracy score = 0.6296296296296297\n",
      "Testing accuracy score = 0.5263157894736842\n"
     ]
    }
   ],
   "source": [
    "sgd(X_bigtrain,y_bigtrain,X_test,y_test,'Rat all','hinge','elasticnet')"
   ]
  },
  {
   "cell_type": "markdown",
   "id": "c68c14ca",
   "metadata": {},
   "source": [
    "# Rat Sterile Study"
   ]
  },
  {
   "cell_type": "code",
   "execution_count": 241,
   "id": "b63c714e",
   "metadata": {},
   "outputs": [
    {
     "name": "stdout",
     "output_type": "stream",
     "text": [
      "Shapes are [(17, 7), (17,), (8, 7), (8,), (25, 7), (25,), (17, 7), (17,)]\n",
      "\n",
      "Validation accuracy score = 0.75 for kernel rbf and C=1\n",
      "Validation accuracy score = 0.75 for kernel rbf and C=10\n",
      "Validation accuracy score = 0.75 for kernel rbf and C=100\n",
      "Validation accuracy score = 0.75 for kernel linear and C=1\n",
      "Validation accuracy score = 0.75 for kernel linear and C=10\n",
      "Validation accuracy score = 0.75 for kernel linear and C=100\n",
      "Validation accuracy score = 0.625 for kernel poly and C=1\n",
      "Validation accuracy score = 0.75 for kernel poly and C=10\n",
      "Validation accuracy score = 0.75 for kernel poly and C=100\n"
     ]
    }
   ],
   "source": [
    "# SVM\n",
    "df_rat_beads_features = df_rat_bead_combine_hd[['VDP(%)','MSV(mL/mL)','TV(L)','VH(%)','VHSS(%)','VHLS(%)','HD','Beads']]\n",
    "X_train,y_train,X_test,y_test,X_val,y_val,X_bigtrain,y_bigtrain = data_split(df_rat_beads_features, 0.4, 0.3)\n",
    "print()\n",
    "svm_hyper_tune(X_train, y_train, X_val, y_val)\n"
   ]
  },
  {
   "cell_type": "code",
   "execution_count": 253,
   "id": "11b3b88a",
   "metadata": {},
   "outputs": [
    {
     "name": "stdout",
     "output_type": "stream",
     "text": [
      "\u001b[1mRat Sterile\u001b[0m\n",
      "\n",
      "Training accuracy score = 0.96\n",
      "Testing accuracy score = 0.9411764705882353\n"
     ]
    }
   ],
   "source": [
    "svm(X_bigtrain,y_bigtrain,X_test,y_test,'Rat Sterile','linear',1)"
   ]
  },
  {
   "cell_type": "code",
   "execution_count": 254,
   "id": "23f82a79",
   "metadata": {},
   "outputs": [
    {
     "name": "stdout",
     "output_type": "stream",
     "text": [
      "Shapes are [(17, 7), (17,), (8, 7), (8,), (25, 7), (25,), (17, 7), (17,)]\n",
      "\n",
      "Validation accuracy score = 0.75 for criterion gini and max_depth = 5\n",
      "Validation accuracy score = 0.75 for criterion gini and max_depth = 15\n",
      "Validation accuracy score = 0.75 for criterion gini and max_depth = 20\n",
      "Validation accuracy score = 0.75 for criterion entropy and max_depth = 5\n",
      "Validation accuracy score = 0.75 for criterion entropy and max_depth = 15\n",
      "Validation accuracy score = 0.75 for criterion entropy and max_depth = 20\n"
     ]
    }
   ],
   "source": [
    "# decision tree\n",
    "df_rat_beads_features = df_rat_bead_combine_hd[['VDP(%)','MSV(mL/mL)','TV(L)','VH(%)','VHSS(%)','VHLS(%)','HD','Beads']]\n",
    "X_train,y_train,X_test,y_test,X_val,y_val,X_bigtrain,y_bigtrain = data_split(df_rat_beads_features, 0.4, 0.3)\n",
    "print()\n",
    "decision_tree_hyper_tune(X_train, y_train, X_val, y_val)\n"
   ]
  },
  {
   "cell_type": "code",
   "execution_count": 263,
   "id": "b1e1098a",
   "metadata": {},
   "outputs": [
    {
     "name": "stdout",
     "output_type": "stream",
     "text": [
      "\u001b[1mRat Sterile\u001b[0m\n",
      "\n",
      "Training accuracy score = 1.0\n",
      "Testing accuracy score = 0.8235294117647058\n"
     ]
    }
   ],
   "source": [
    "decision_tree(X_bigtrain,y_bigtrain,X_test,y_test,'Rat Sterile','gini',20)"
   ]
  },
  {
   "cell_type": "code",
   "execution_count": 268,
   "id": "97e98c39",
   "metadata": {},
   "outputs": [
    {
     "name": "stdout",
     "output_type": "stream",
     "text": [
      "Shapes are [(17, 7), (17,), (8, 7), (8,), (25, 7), (25,), (17, 7), (17,)]\n",
      "\n",
      "Validation recall score = 0.625 for n_neighbors = 3 and weights uniform\n",
      "Validation recall score = 0.75 for n_neighbors = 3 and weights distance\n",
      "Validation recall score = 0.75 for n_neighbors = 5 and weights uniform\n",
      "Validation recall score = 0.75 for n_neighbors = 5 and weights distance\n",
      "Validation recall score = 0.75 for n_neighbors = 7 and weights uniform\n",
      "Validation recall score = 0.75 for n_neighbors = 7 and weights distance\n",
      "Validation recall score = 0.75 for n_neighbors = 9 and weights uniform\n",
      "Validation recall score = 0.75 for n_neighbors = 9 and weights distance\n",
      "Validation recall score = 0.625 for n_neighbors = 11 and weights uniform\n",
      "Validation recall score = 0.75 for n_neighbors = 11 and weights distance\n"
     ]
    }
   ],
   "source": [
    "# KNN\n",
    "df_rat_beads_features = df_rat_bead_combine_hd[['VDP(%)','MSV(mL/mL)','TV(L)','VH(%)','VHSS(%)','VHLS(%)','HD','Beads']]\n",
    "X_train,y_train,X_test,y_test,X_val,y_val,X_bigtrain,y_bigtrain = data_split(df_rat_beads_features, 0.4, 0.3)\n",
    "print()\n",
    "knn_hyper_tune(X_train, y_train, X_val, y_val)\n"
   ]
  },
  {
   "cell_type": "code",
   "execution_count": 269,
   "id": "8d404aa6",
   "metadata": {},
   "outputs": [
    {
     "name": "stdout",
     "output_type": "stream",
     "text": [
      "\u001b[1mRat Sterile\u001b[0m\n",
      "\n",
      "Training accuracy score = 1.0\n",
      "Testing accuracy score = 0.8823529411764706\n"
     ]
    }
   ],
   "source": [
    "knn(X_bigtrain,y_bigtrain,X_test,y_test,'Rat Sterile',11,'distance')"
   ]
  },
  {
   "cell_type": "code",
   "execution_count": 270,
   "id": "12bf3621",
   "metadata": {},
   "outputs": [
    {
     "name": "stdout",
     "output_type": "stream",
     "text": [
      "Shapes are [(17, 7), (17,), (8, 7), (8,), (25, 7), (25,), (17, 7), (17,)]\n",
      "\n",
      "Validation recall score = 0.75 for criterion = gini and max_depth 5\n",
      "Validation recall score = 0.75 for criterion = gini and max_depth 15\n",
      "Validation recall score = 0.75 for criterion = gini and max_depth 20\n",
      "Validation recall score = 0.75 for criterion = entropy and max_depth 5\n",
      "Validation recall score = 0.75 for criterion = entropy and max_depth 15\n",
      "Validation recall score = 0.75 for criterion = entropy and max_depth 20\n"
     ]
    }
   ],
   "source": [
    "# Random Forest\n",
    "df_rat_beads_features = df_rat_bead_combine_hd[['VDP(%)','MSV(mL/mL)','TV(L)','VH(%)','VHSS(%)','VHLS(%)','HD','Beads']]\n",
    "X_train,y_train,X_test,y_test,X_val,y_val,X_bigtrain,y_bigtrain = data_split(df_rat_beads_features, 0.4, 0.3)\n",
    "print()\n",
    "rf_hyper_tune(X_train, y_train, X_val, y_val)\n"
   ]
  },
  {
   "cell_type": "code",
   "execution_count": 277,
   "id": "c8d95c45",
   "metadata": {},
   "outputs": [
    {
     "name": "stdout",
     "output_type": "stream",
     "text": [
      "\u001b[1mRat Sterile\u001b[0m\n",
      "\n",
      "Training accuracy score = 1.0\n",
      "Testing accuracy score = 0.8235294117647058\n"
     ]
    }
   ],
   "source": [
    "rf(X_bigtrain,y_bigtrain,X_test,y_test,'Rat Sterile','gini',20)"
   ]
  },
  {
   "cell_type": "code",
   "execution_count": 282,
   "id": "77d73daf",
   "metadata": {},
   "outputs": [
    {
     "name": "stdout",
     "output_type": "stream",
     "text": [
      "Shapes are [(17, 7), (17,), (8, 7), (8,), (25, 7), (25,), (17, 7), (17,)]\n",
      "\n",
      "Validation recall score = 0.75 for max_depth = 3 and learning_rate 0.01\n",
      "Validation recall score = 0.75 for max_depth = 3 and learning_rate 0.1\n",
      "Validation recall score = 0.75 for max_depth = 3 and learning_rate 1\n",
      "Validation recall score = 0.75 for max_depth = 5 and learning_rate 0.01\n",
      "Validation recall score = 0.75 for max_depth = 5 and learning_rate 0.1\n",
      "Validation recall score = 0.75 for max_depth = 5 and learning_rate 1\n",
      "Validation recall score = 0.75 for max_depth = 7 and learning_rate 0.01\n",
      "Validation recall score = 0.75 for max_depth = 7 and learning_rate 0.1\n",
      "Validation recall score = 0.75 for max_depth = 7 and learning_rate 1\n",
      "Validation recall score = 0.75 for max_depth = 9 and learning_rate 0.01\n",
      "Validation recall score = 0.75 for max_depth = 9 and learning_rate 0.1\n",
      "Validation recall score = 0.75 for max_depth = 9 and learning_rate 1\n",
      "Validation recall score = 0.75 for max_depth = 11 and learning_rate 0.01\n",
      "Validation recall score = 0.75 for max_depth = 11 and learning_rate 0.1\n",
      "Validation recall score = 0.75 for max_depth = 11 and learning_rate 1\n"
     ]
    }
   ],
   "source": [
    "# Gradient Boost Classifier\n",
    "df_rat_beads_features = df_rat_bead_combine_hd[['VDP(%)','MSV(mL/mL)','TV(L)','VH(%)','VHSS(%)','VHLS(%)','HD','Beads']]\n",
    "X_train,y_train,X_test,y_test,X_val,y_val,X_bigtrain,y_bigtrain = data_split(df_rat_beads_features, 0.4, 0.3)\n",
    "print()\n",
    "gbc_hyper_tune(X_train, y_train, X_val, y_val)\n"
   ]
  },
  {
   "cell_type": "code",
   "execution_count": 291,
   "id": "4e83bd77",
   "metadata": {},
   "outputs": [
    {
     "name": "stdout",
     "output_type": "stream",
     "text": [
      "\u001b[1mRat Sterile\u001b[0m\n",
      "\n",
      "Training accuracy score = 1.0\n",
      "Testing accuracy score = 0.8235294117647058\n"
     ]
    }
   ],
   "source": [
    "gbc(X_bigtrain,y_bigtrain,X_test,y_test,'Rat Sterile',3,1)"
   ]
  },
  {
   "cell_type": "code",
   "execution_count": 292,
   "id": "d0b09b40",
   "metadata": {},
   "outputs": [
    {
     "name": "stdout",
     "output_type": "stream",
     "text": [
      "Shapes are [(17, 7), (17,), (8, 7), (8,), (25, 7), (25,), (17, 7), (17,)]\n",
      "\n",
      "Validation recall score = 0.75 for loss hinge and penalty l2\n",
      "Validation recall score = 0.75 for loss hinge and penalty l1\n",
      "Validation recall score = 0.75 for loss hinge and penalty elasticnet\n",
      "Validation recall score = 0.625 for loss squared_hinge and penalty l2\n",
      "Validation recall score = 0.625 for loss squared_hinge and penalty l1\n",
      "Validation recall score = 0.625 for loss squared_hinge and penalty elasticnet\n",
      "Validation recall score = 0.75 for loss perceptron and penalty l2\n",
      "Validation recall score = 0.75 for loss perceptron and penalty l1\n",
      "Validation recall score = 0.75 for loss perceptron and penalty elasticnet\n"
     ]
    }
   ],
   "source": [
    "# SGD\n",
    "df_rat_beads_features = df_rat_bead_combine_hd[['VDP(%)','MSV(mL/mL)','TV(L)','VH(%)','VHSS(%)','VHLS(%)','HD','Beads']]\n",
    "X_train,y_train,X_test,y_test,X_val,y_val,X_bigtrain,y_bigtrain = data_split(df_rat_beads_features, 0.4, 0.3)\n",
    "print()\n",
    "sgd_hyper_tune(X_train, y_train, X_val, y_val)\n"
   ]
  },
  {
   "cell_type": "code",
   "execution_count": 294,
   "id": "7670a1d7",
   "metadata": {},
   "outputs": [
    {
     "name": "stdout",
     "output_type": "stream",
     "text": [
      "\u001b[1mRat all\u001b[0m\n",
      "\n",
      "Training accuracy score = 0.96\n",
      "Testing accuracy score = 0.9411764705882353\n"
     ]
    }
   ],
   "source": [
    "sgd(X_bigtrain,y_bigtrain,X_test,y_test,'Rat all','hinge','l1')"
   ]
  },
  {
   "cell_type": "markdown",
   "id": "4856fc1c",
   "metadata": {},
   "source": [
    "# Rat PA Study"
   ]
  },
  {
   "cell_type": "code",
   "execution_count": 407,
   "id": "ec1da292",
   "metadata": {},
   "outputs": [
    {
     "name": "stdout",
     "output_type": "stream",
     "text": [
      "Shapes are [(23, 7), (23,), (10, 7), (10,), (33, 7), (33,), (19, 7), (19,)]\n",
      "\n",
      "Validation accuracy score = 0.1 for kernel rbf and C=1\n",
      "Validation accuracy score = 0.4 for kernel rbf and C=10\n",
      "Validation accuracy score = 0.4 for kernel rbf and C=100\n",
      "Validation accuracy score = 0.3 for kernel linear and C=1\n",
      "Validation accuracy score = 0.2 for kernel linear and C=10\n",
      "Validation accuracy score = 0.2 for kernel linear and C=100\n",
      "Validation accuracy score = 0.2 for kernel poly and C=1\n",
      "Validation accuracy score = 0.3 for kernel poly and C=10\n",
      "Validation accuracy score = 0.1 for kernel poly and C=100\n"
     ]
    }
   ],
   "source": [
    "# SVM\n",
    "df_rat_pa_features = df_rat_pa_combine_hd[['VDP(%)','MSV(mL/mL)','TV(L)','VH(%)','VHSS(%)','VHLS(%)','HD','Genotype']]\n",
    "X_train,y_train,X_test,y_test,X_val,y_val,X_bigtrain,y_bigtrain = data_split(df_rat_pa_features, 0.35, 0.3)\n",
    "print()\n",
    "svm_hyper_tune(X_train, y_train, X_val, y_val)\n"
   ]
  },
  {
   "cell_type": "code",
   "execution_count": 431,
   "id": "152d8ef4",
   "metadata": {},
   "outputs": [
    {
     "name": "stdout",
     "output_type": "stream",
     "text": [
      "\u001b[1mRat PA\u001b[0m\n",
      "\n",
      "Training accuracy score = 0.9696969696969697\n",
      "Testing accuracy score = 0.631578947368421\n"
     ]
    }
   ],
   "source": [
    "svm(X_bigtrain,y_bigtrain,X_test,y_test,'Rat PA','rbf',10)"
   ]
  },
  {
   "cell_type": "code",
   "execution_count": 409,
   "id": "52226ad0",
   "metadata": {},
   "outputs": [
    {
     "name": "stdout",
     "output_type": "stream",
     "text": [
      "Shapes are [(23, 7), (23,), (10, 7), (10,), (33, 7), (33,), (19, 7), (19,)]\n",
      "\n",
      "Validation accuracy score = 0.5 for criterion gini and max_depth = 5\n",
      "Validation accuracy score = 0.5 for criterion gini and max_depth = 15\n",
      "Validation accuracy score = 0.5 for criterion gini and max_depth = 20\n",
      "Validation accuracy score = 0.5 for criterion entropy and max_depth = 5\n",
      "Validation accuracy score = 0.5 for criterion entropy and max_depth = 15\n",
      "Validation accuracy score = 0.5 for criterion entropy and max_depth = 20\n"
     ]
    }
   ],
   "source": [
    "# decision tree\n",
    "df_rat_pa_features = df_rat_pa_combine_hd[['VDP(%)','MSV(mL/mL)','TV(L)','VH(%)','VHSS(%)','VHLS(%)','HD','Genotype']]\n",
    "X_train,y_train,X_test,y_test,X_val,y_val,X_bigtrain,y_bigtrain = data_split(df_rat_pa_features, 0.35, 0.3)\n",
    "print()\n",
    "decision_tree_hyper_tune(X_train, y_train, X_val, y_val)\n"
   ]
  },
  {
   "cell_type": "code",
   "execution_count": 410,
   "id": "c6b7088a",
   "metadata": {},
   "outputs": [
    {
     "name": "stdout",
     "output_type": "stream",
     "text": [
      "\u001b[1mRat PA\u001b[0m\n",
      "\n",
      "Training accuracy score = 1.0\n",
      "Testing accuracy score = 0.7368421052631579\n"
     ]
    }
   ],
   "source": [
    "decision_tree(X_bigtrain,y_bigtrain,X_test,y_test,'Rat PA','entropy',20)"
   ]
  },
  {
   "cell_type": "code",
   "execution_count": 411,
   "id": "4915a9f7",
   "metadata": {},
   "outputs": [
    {
     "name": "stdout",
     "output_type": "stream",
     "text": [
      "Shapes are [(23, 7), (23,), (10, 7), (10,), (33, 7), (33,), (19, 7), (19,)]\n",
      "\n",
      "Validation recall score = 0.2 for n_neighbors = 3 and weights uniform\n",
      "Validation recall score = 0.2 for n_neighbors = 3 and weights distance\n",
      "Validation recall score = 0.3 for n_neighbors = 5 and weights uniform\n",
      "Validation recall score = 0.3 for n_neighbors = 5 and weights distance\n",
      "Validation recall score = 0.3 for n_neighbors = 7 and weights uniform\n",
      "Validation recall score = 0.2 for n_neighbors = 7 and weights distance\n",
      "Validation recall score = 0.4 for n_neighbors = 9 and weights uniform\n",
      "Validation recall score = 0.2 for n_neighbors = 9 and weights distance\n",
      "Validation recall score = 0.1 for n_neighbors = 11 and weights uniform\n",
      "Validation recall score = 0.1 for n_neighbors = 11 and weights distance\n"
     ]
    }
   ],
   "source": [
    "# KNN\n",
    "df_rat_pa_features = df_rat_pa_combine_hd[['VDP(%)','MSV(mL/mL)','TV(L)','VH(%)','VHSS(%)','VHLS(%)','HD','Genotype']]\n",
    "X_train,y_train,X_test,y_test,X_val,y_val,X_bigtrain,y_bigtrain = data_split(df_rat_pa_features, 0.35, 0.3)\n",
    "print()\n",
    "knn_hyper_tune(X_train, y_train, X_val, y_val)\n"
   ]
  },
  {
   "cell_type": "code",
   "execution_count": 418,
   "id": "2b769138",
   "metadata": {},
   "outputs": [
    {
     "name": "stdout",
     "output_type": "stream",
     "text": [
      "\u001b[1mRat PA\u001b[0m\n",
      "\n",
      "Training accuracy score = 1.0\n",
      "Testing accuracy score = 0.8421052631578947\n"
     ]
    }
   ],
   "source": [
    "knn(X_bigtrain,y_bigtrain,X_test,y_test,'Rat PA',3,'distance')"
   ]
  },
  {
   "cell_type": "code",
   "execution_count": 432,
   "id": "fe9e4119",
   "metadata": {},
   "outputs": [
    {
     "name": "stdout",
     "output_type": "stream",
     "text": [
      "Shapes are [(23, 7), (23,), (10, 7), (10,), (33, 7), (33,), (19, 7), (19,)]\n",
      "\n",
      "Validation recall score = 0.4 for criterion = gini and max_depth 5\n",
      "Validation recall score = 0.4 for criterion = gini and max_depth 15\n",
      "Validation recall score = 0.4 for criterion = gini and max_depth 20\n",
      "Validation recall score = 0.4 for criterion = entropy and max_depth 5\n",
      "Validation recall score = 0.4 for criterion = entropy and max_depth 15\n",
      "Validation recall score = 0.4 for criterion = entropy and max_depth 20\n"
     ]
    }
   ],
   "source": [
    "# Random Forest\n",
    "df_rat_pa_features = df_rat_pa_combine_hd[['VDP(%)','MSV(mL/mL)','TV(L)','VH(%)','VHSS(%)','VHLS(%)','HD','Genotype']]\n",
    "X_train,y_train,X_test,y_test,X_val,y_val,X_bigtrain,y_bigtrain = data_split(df_rat_pa_features, 0.35, 0.3)\n",
    "print()\n",
    "rf_hyper_tune(X_train, y_train, X_val, y_val)\n"
   ]
  },
  {
   "cell_type": "code",
   "execution_count": 442,
   "id": "d96c2af4",
   "metadata": {},
   "outputs": [
    {
     "name": "stdout",
     "output_type": "stream",
     "text": [
      "\u001b[1mRat PA\u001b[0m\n",
      "\n",
      "Training accuracy score = 1.0\n",
      "Testing accuracy score = 0.631578947368421\n"
     ]
    }
   ],
   "source": [
    "rf(X_bigtrain,y_bigtrain,X_test,y_test,'Rat PA','gini',20)"
   ]
  },
  {
   "cell_type": "code",
   "execution_count": 441,
   "id": "5ce51c5f",
   "metadata": {},
   "outputs": [
    {
     "name": "stdout",
     "output_type": "stream",
     "text": [
      "Shapes are [(23, 7), (23,), (10, 7), (10,), (33, 7), (33,), (19, 7), (19,)]\n",
      "\n",
      "Validation recall score = 0.7 for max_depth = 3 and learning_rate 0.01\n",
      "Validation recall score = 0.7 for max_depth = 3 and learning_rate 0.1\n",
      "Validation recall score = 0.6 for max_depth = 3 and learning_rate 1\n",
      "Validation recall score = 0.7 for max_depth = 5 and learning_rate 0.01\n",
      "Validation recall score = 0.7 for max_depth = 5 and learning_rate 0.1\n",
      "Validation recall score = 0.6 for max_depth = 5 and learning_rate 1\n",
      "Validation recall score = 0.7 for max_depth = 7 and learning_rate 0.01\n",
      "Validation recall score = 0.7 for max_depth = 7 and learning_rate 0.1\n",
      "Validation recall score = 0.6 for max_depth = 7 and learning_rate 1\n",
      "Validation recall score = 0.7 for max_depth = 9 and learning_rate 0.01\n",
      "Validation recall score = 0.7 for max_depth = 9 and learning_rate 0.1\n",
      "Validation recall score = 0.6 for max_depth = 9 and learning_rate 1\n",
      "Validation recall score = 0.7 for max_depth = 11 and learning_rate 0.01\n",
      "Validation recall score = 0.7 for max_depth = 11 and learning_rate 0.1\n",
      "Validation recall score = 0.6 for max_depth = 11 and learning_rate 1\n"
     ]
    }
   ],
   "source": [
    "# Gradient Boost Classifier\n",
    "df_rat_pa_features = df_rat_pa_combine_hd[['VDP(%)','MSV(mL/mL)','TV(L)','VH(%)','VHSS(%)','VHLS(%)','HD','Genotype']]\n",
    "X_train,y_train,X_test,y_test,X_val,y_val,X_bigtrain,y_bigtrain = data_split(df_rat_pa_features, 0.35, 0.3)\n",
    "print()\n",
    "gbc_hyper_tune(X_train, y_train, X_val, y_val)\n"
   ]
  },
  {
   "cell_type": "code",
   "execution_count": 467,
   "id": "f9b4a565",
   "metadata": {},
   "outputs": [
    {
     "name": "stdout",
     "output_type": "stream",
     "text": [
      "\u001b[1mRat PA\u001b[0m\n",
      "\n",
      "Training accuracy score = 1.0\n",
      "Testing accuracy score = 0.47368421052631576\n"
     ]
    }
   ],
   "source": [
    "gbc(X_bigtrain,y_bigtrain,X_test,y_test,'Rat PA',7,1)"
   ]
  },
  {
   "cell_type": "code",
   "execution_count": 468,
   "id": "bb30a183",
   "metadata": {},
   "outputs": [
    {
     "name": "stdout",
     "output_type": "stream",
     "text": [
      "Shapes are [(23, 7), (23,), (10, 7), (10,), (33, 7), (33,), (19, 7), (19,)]\n",
      "\n",
      "Validation recall score = 0.3 for loss hinge and penalty l2\n",
      "Validation recall score = 0.2 for loss hinge and penalty l1\n",
      "Validation recall score = 0.1 for loss hinge and penalty elasticnet\n",
      "Validation recall score = 0.3 for loss squared_hinge and penalty l2\n",
      "Validation recall score = 0.4 for loss squared_hinge and penalty l1\n",
      "Validation recall score = 0.4 for loss squared_hinge and penalty elasticnet\n",
      "Validation recall score = 0.2 for loss perceptron and penalty l2\n",
      "Validation recall score = 0.3 for loss perceptron and penalty l1\n",
      "Validation recall score = 0.2 for loss perceptron and penalty elasticnet\n"
     ]
    }
   ],
   "source": [
    "# SGD\n",
    "df_rat_pa_features = df_rat_pa_combine_hd[['VDP(%)','MSV(mL/mL)','TV(L)','VH(%)','VHSS(%)','VHLS(%)','HD','Genotype']]\n",
    "X_train,y_train,X_test,y_test,X_val,y_val,X_bigtrain,y_bigtrain = data_split(df_rat_pa_features, 0.35, 0.3)\n",
    "print()\n",
    "sgd_hyper_tune(X_train, y_train, X_val, y_val)\n"
   ]
  },
  {
   "cell_type": "code",
   "execution_count": 478,
   "id": "4ad1f713",
   "metadata": {},
   "outputs": [
    {
     "name": "stdout",
     "output_type": "stream",
     "text": [
      "\u001b[1mRat PA\u001b[0m\n",
      "\n",
      "Training accuracy score = 0.6060606060606061\n",
      "Testing accuracy score = 0.5263157894736842\n"
     ]
    }
   ],
   "source": [
    "sgd(X_bigtrain,y_bigtrain,X_test,y_test,'Rat PA','perceptron','l2')"
   ]
  },
  {
   "cell_type": "code",
   "execution_count": null,
   "id": "d9d68cbd",
   "metadata": {},
   "outputs": [],
   "source": []
  },
  {
   "cell_type": "code",
   "execution_count": null,
   "id": "7258c3a9",
   "metadata": {},
   "outputs": [],
   "source": []
  }
 ],
 "metadata": {
  "kernelspec": {
   "display_name": "Python 3 (ipykernel)",
   "language": "python",
   "name": "python3"
  },
  "language_info": {
   "codemirror_mode": {
    "name": "ipython",
    "version": 3
   },
   "file_extension": ".py",
   "mimetype": "text/x-python",
   "name": "python",
   "nbconvert_exporter": "python",
   "pygments_lexer": "ipython3",
   "version": "3.9.12"
  }
 },
 "nbformat": 4,
 "nbformat_minor": 5
}
